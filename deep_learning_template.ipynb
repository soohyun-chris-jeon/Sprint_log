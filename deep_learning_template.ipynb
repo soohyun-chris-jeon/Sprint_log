{
 "cells": [
  {
   "cell_type": "markdown",
   "id": "6f29bd0f",
   "metadata": {},
   "source": [
    "## 스프린트 미션 #8\n",
    "#### 3팀 전수현 \n",
    "#### 제출일자: 25.07.11"
   ]
  },
  {
   "cell_type": "markdown",
   "id": "df5558ac",
   "metadata": {},
   "source": [
    "## 0. Import Libraries"
   ]
  },
  {
   "cell_type": "code",
   "execution_count": null,
   "id": "a530e834",
   "metadata": {},
   "outputs": [],
   "source": [
    "# ====================================================================\n",
    "# STEP 0: Import Libraries\n",
    "# ====================================================================\n",
    "# 과제에 사용할 library들을 import\n",
    "\n",
    "# 시스템 및 입출력 관련\n",
    "import os  # 디렉토리, 파일 경로 조작 등\n",
    "from PIL import Image  # 이미지 열기 및 처리 (Pillow)\n",
    "from tqdm import tqdm  # 반복문의 진행 상태 시각화\n",
    "from pathlib import Path  # payhon path\n",
    "\n",
    "\n",
    "# 시각화 도구\n",
    "import matplotlib.pyplot as plt  # 기본 시각화 라이브러리\n",
    "import seaborn as sns  # 고급 시각화 (히트맵, 스타일 등)\n",
    "\n",
    "# 이미지 처리\n",
    "import cv2  # OpenCV - 고급 이미지/비디오 처리\n",
    "\n",
    "# 수치 연산\n",
    "import numpy as np  # 배열, 벡터 계산 등\n",
    "\n",
    "# PyTorch 기본 구성\n",
    "import torch  # 텐서, 연산 등\n",
    "import torch.nn as nn  # 모델 정의 (layer, loss 등)\n",
    "import torch.nn.functional as F\n",
    "import torch.optim as optim  # Optimizer (SGD, Adam 등)\n",
    "\n",
    "# PyTorch 데이터 처리\n",
    "from torch.utils.data import Dataset, DataLoader  # 커스텀 데이터셋, 배치 로딩\n",
    "\n",
    "# PyTorch 이미지 전처리\n",
    "import torchvision\n",
    "from torchvision import transforms  # 기본 이미지 transform\n",
    "from torchvision import datasets  # torchvision 내장 데이터셋\n",
    "import torchvision.models as models\n",
    "\n",
    "from torchvision.transforms import v2  # torchvision v2 transforms (최신 API)\n",
    "\n",
    "# 싸이킷런 평가 지표\n",
    "from sklearn.metrics import precision_score, recall_score, f1_score, confusion_matrix\n",
    "from torchvision.models.detection.ssd import SSD300_VGG16_Weights\n",
    "\n",
    "# 싸이킷런 데이터 나누기\n",
    "from sklearn.model_selection import train_test_split\n",
    "\n",
    "# 통계 tool\n",
    "import pandas as pd\n",
    "\n",
    "# 실험 추적 및 하이퍼파라미터 관리\n",
    "import wandb  # Weights & Biases - 실험 로깅, 시각화, 하이퍼파라미터 튜닝\n",
    "\n",
    "# Garbage Collector 모듈\n",
    "import gc\n",
    "\n",
    "# Data Augmentation 패키지: Albumentations\n",
    "import albumentations as A"
   ]
  },
  {
   "cell_type": "code",
   "execution_count": null,
   "id": "e00443c9",
   "metadata": {},
   "outputs": [],
   "source": [
    "# ====================================================================\n",
    "# STEP 0: Import Libraries\n",
    "# ====================================================================\n",
    "# 실험에서 사용될 util 정의\n",
    "# 데이터셋 전체의 고유한 색상 수집\n",
    "def get_unique_colors(image_folder, mask_files, max_classes=11):\n",
    "    color_set = set()\n",
    "\n",
    "    for mask_file in mask_files:\n",
    "        mask_path = os.path.join(image_folder, mask_file)\n",
    "        mask = cv2.imread(mask_path, cv2.IMREAD_COLOR)\n",
    "        mask = cv2.cvtColor(mask, cv2.COLOR_BGR2RGB)\n",
    "        unique_colors = np.unique(mask.reshape(-1, 3), axis=0)\n",
    "\n",
    "        for color in unique_colors:\n",
    "            color_set.add(tuple(color))  # 고유한 색상 저장\n",
    "\n",
    "            # 클래스 개수가 max_classes개가 되면 중단\n",
    "            if len(color_set) >= max_classes:\n",
    "                return list(color_set)  # 최대 max_classes개까지만 반환\n",
    "\n",
    "    return list(color_set)  # 모든 마스크를 순회 후 반환\n",
    "\n",
    "\n",
    "# 모든 마스크에서 등장하는 색상 수집\n",
    "unique_colors = get_unique_colors(image_folder, fuse_files)\n",
    "color_to_label = {color: idx for idx, color in enumerate(unique_colors)}"
   ]
  },
  {
   "cell_type": "markdown",
   "id": "d3c1e946",
   "metadata": {},
   "source": [
    "## 1. Set configuration"
   ]
  },
  {
   "cell_type": "code",
   "execution_count": null,
   "id": "568cfd78",
   "metadata": {},
   "outputs": [],
   "source": [
    "# ====================================================================\n",
    "# STEP 1: Configuration 설정\n",
    "# ====================================================================\n",
    "# 하이퍼파라미터 및 경로 등 실험에 필요한 설정들을 모아둠\n",
    "# 실험 추적 및 재현성을 위해 모든 값은 여기에서 수정하고자 함\n",
    "\n",
    "# 디바이스 설정\n",
    "device = \"cuda\" if torch.cuda.is_available() else \"cpu\"\n",
    "print(f\"Using device: {device}\")\n",
    "\n",
    "# 주요 하이퍼파라미터\n",
    "LEARNING_RATE = 1e-4  # 학습률 (optimizer용)\n",
    "BATCH_SIZE = 16  # 배치 크기\n",
    "NUM_EPOCHS = 100  # 학습 epoch 수\n",
    "SEED = 42  # 재현성을 위한 random seed\n",
    "\n",
    "# 데이터 경로 설정\n",
    "# DATA_ROOT = path\n",
    "# train_dir = os.path.join(DATA_ROOT, \"train\")\n",
    "# val_dir = os.path.join(DATA_ROOT, \"val\")\n",
    "# test_dir = os.path.join(DATA_ROOT, \"test\")\n",
    "\n",
    "# 모델 설정\n",
    "MODEL_NAME = \"SSD_with_augmentation_v\"  # 또는 \"EfficientNet\", 등등\n",
    "USE_PRETRAINED = True  # torchvision 모델 사용 여부\n",
    "\n",
    "# 학습 고도화 설정 (Optional)\n",
    "USE_SCHEDULER = True  # Learning rate scheduler 사용 여부\n",
    "EARLY_STOPPING = True  # Early stopping 적용 여부\n",
    "AUGMENTATION = True  # 데이터 증강 사용 여부\n",
    "\n",
    "# 실험 로깅용 설정\n",
    "USE_WANDB = True\n",
    "WANDB_PROJECT = \"cats-and-dogs-breeds-classification-oxford-dataset\"\n",
    "RUN_NAME = f\"{MODEL_NAME}_bs{BATCH_SIZE}_lr{LEARNING_RATE}\""
   ]
  },
  {
   "cell_type": "markdown",
   "id": "1cd4a45e",
   "metadata": {},
   "source": [
    "## 2. Data pre-processing\n",
    "\n",
    "먼저 데이터를 EDA해보면서 데이터를 파악하는 것이 우선이다. 코드잇에서 제공한 baseline코드를 바탕으로 데이터를 이해해보는 과정을 먼저 해당 노트북에 기록했다."
   ]
  },
  {
   "cell_type": "code",
   "execution_count": null,
   "id": "9243e18c",
   "metadata": {},
   "outputs": [],
   "source": [
    "# 데이터셋 클래스 정의 (RGB 마스크 변환 포함)\n",
    "class FootballDataset(Dataset):\n",
    "    def __init__(self, image_files, mask_files, image_folder, color_to_label):\n",
    "        self.image_files = image_files\n",
    "        self.mask_files = mask_files\n",
    "        self.image_folder = image_folder\n",
    "        self.color_to_label = color_to_label  # 고정된 클래스 매핑\n",
    "\n",
    "    def __len__(self):\n",
    "        return len(self.image_files)\n",
    "\n",
    "    def __getitem__(self, idx):\n",
    "        img_path = os.path.join(self.image_folder, self.image_files[idx])\n",
    "        mask_path = os.path.join(self.image_folder, self.mask_files[idx])\n",
    "\n",
    "        # 원본 이미지 로드\n",
    "        img = cv2.imread(img_path)\n",
    "        img = cv2.cvtColor(img, cv2.COLOR_BGR2RGB)\n",
    "        img = cv2.resize(img, (256, 256)) / 255.0  # 정규화\n",
    "\n",
    "        # 마스크 로드 (RGB 모드)\n",
    "        mask = cv2.imread(mask_path, cv2.IMREAD_COLOR)\n",
    "        mask = cv2.cvtColor(mask, cv2.COLOR_BGR2RGB)\n",
    "        mask = cv2.resize(mask, (256, 256), interpolation=cv2.INTER_NEAREST)\n",
    "\n",
    "        # 고정된 color_to_label을 사용하여 클래스 변환\n",
    "        mask_class = np.zeros(mask.shape[:2], dtype=np.uint8)\n",
    "        for color, label in self.color_to_label.items():\n",
    "            mask_class[(mask == color).all(axis=-1)] = label  # 고정된 ID 사용\n",
    "\n",
    "        # PyTorch 텐서 변환\n",
    "        img = torch.tensor(img, dtype=torch.float32).permute(\n",
    "            2, 0, 1\n",
    "        )  # (H, W, C) → (C, H, W)\n",
    "        mask = torch.tensor(mask_class, dtype=torch.long)  # (H, W)\n",
    "\n",
    "        return img, mask"
   ]
  },
  {
   "cell_type": "markdown",
   "id": "9f00121d",
   "metadata": {},
   "source": [
    "## 3. Model implementation"
   ]
  },
  {
   "cell_type": "markdown",
   "id": "181139b2",
   "metadata": {},
   "source": [
    "## 4. Train and Evaluate models"
   ]
  },
  {
   "cell_type": "markdown",
   "id": "416e704f",
   "metadata": {},
   "source": [
    "## 5. Train and Evaluate a model"
   ]
  },
  {
   "cell_type": "markdown",
   "id": "9d8d677d",
   "metadata": {},
   "source": [
    "## 6. Results & Disscussion"
   ]
  },
  {
   "cell_type": "markdown",
   "id": "4e5bfd1b",
   "metadata": {},
   "source": [
    "## 7. Conclusion"
   ]
  }
 ],
 "metadata": {
  "kernelspec": {
   "display_name": "JSH",
   "language": "python",
   "name": "python3"
  },
  "language_info": {
   "codemirror_mode": {
    "name": "ipython",
    "version": 3
   },
   "file_extension": ".py",
   "mimetype": "text/x-python",
   "name": "python",
   "nbconvert_exporter": "python",
   "pygments_lexer": "ipython3",
   "version": "3.12.8"
  }
 },
 "nbformat": 4,
 "nbformat_minor": 5
}
