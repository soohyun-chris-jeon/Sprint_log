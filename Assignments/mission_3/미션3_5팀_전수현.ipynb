{
 "cells": [
  {
   "cell_type": "markdown",
   "id": "87d45688",
   "metadata": {},
   "source": [
    "# 미션3_5팀_전수현"
   ]
  },
  {
   "cell_type": "markdown",
   "id": "00d35439",
   "metadata": {},
   "source": [
    "### 1. Data 분석 및 preprocessing\n",
    "\n",
    "이번 과제는 RMSLE라는 특정 Loss를 낮추는 것이다. 지난 과제가 EDA에서 끝났다면 이번 과제는 데이터의 분석과 모델링을 통한 문제 해결을 하는 것이 목표이다.\n",
    "\n",
    "일단 이번 과제에서 MSE가 아닌 RMSLE라는 특이한 loss를 사용하는데 그건 결과를 보면서 고찰해보면 좋을것 같다. 따라서 먼저 RMSLE를 정의해보았다."
   ]
  },
  {
   "cell_type": "code",
   "execution_count": 1,
   "id": "32efe3d4",
   "metadata": {},
   "outputs": [],
   "source": [
    "import numpy as np\n",
    "\n",
    "\n",
    "# 그러나 안정적인 결과를 위해서 싸이킷런의 메서드를 사용\n",
    "def RMSLE(x, y):\n",
    "    x = np.asarray(x)\n",
    "    y = np.asarray(y)\n",
    "\n",
    "    return np.sqrt(np.mean((np.log(x + 1) - np.log(y + 1)) ** 2))\n",
    "\n",
    "\n",
    "# RMSLE(model_lr.predict(X_train), Y_train_count)\n",
    "# model_lr.predict(X_train)\n",
    "# np.asarray(Y_train_count)"
   ]
  },
  {
   "cell_type": "markdown",
   "id": "a06f663b",
   "metadata": {},
   "source": [
    "RMSLE는 큰 값보다 **작은 값**의 오차를 더 중요시하는 경우 좋다고 하는데 한번 기존 MSE과 같은 loss랑 비교해보는 것도 의미 있는 과제가 될것 같다\n"
   ]
  },
  {
   "cell_type": "code",
   "execution_count": 2,
   "id": "a173fe6b",
   "metadata": {},
   "outputs": [],
   "source": [
    "import pandas as pd\n",
    "\n",
    "train_set = pd.read_csv(\"train.csv\")\n",
    "test_set = pd.read_csv(\"test.csv\")"
   ]
  },
  {
   "cell_type": "code",
   "execution_count": 3,
   "id": "58e9eed7",
   "metadata": {},
   "outputs": [
    {
     "name": "stdout",
     "output_type": "stream",
     "text": [
      "<class 'pandas.core.frame.DataFrame'>\n",
      "RangeIndex: 10886 entries, 0 to 10885\n",
      "Data columns (total 12 columns):\n",
      " #   Column      Non-Null Count  Dtype  \n",
      "---  ------      --------------  -----  \n",
      " 0   datetime    10886 non-null  object \n",
      " 1   season      10886 non-null  int64  \n",
      " 2   holiday     10886 non-null  int64  \n",
      " 3   workingday  10886 non-null  int64  \n",
      " 4   weather     10886 non-null  int64  \n",
      " 5   temp        10886 non-null  float64\n",
      " 6   atemp       10886 non-null  float64\n",
      " 7   humidity    10886 non-null  int64  \n",
      " 8   windspeed   10886 non-null  float64\n",
      " 9   casual      10886 non-null  int64  \n",
      " 10  registered  10886 non-null  int64  \n",
      " 11  count       10886 non-null  int64  \n",
      "dtypes: float64(3), int64(8), object(1)\n",
      "memory usage: 1020.7+ KB\n"
     ]
    }
   ],
   "source": [
    "train_set.info()"
   ]
  },
  {
   "cell_type": "code",
   "execution_count": 4,
   "id": "08c85b27",
   "metadata": {},
   "outputs": [
    {
     "name": "stdout",
     "output_type": "stream",
     "text": [
      "<class 'pandas.core.frame.DataFrame'>\n",
      "RangeIndex: 6493 entries, 0 to 6492\n",
      "Data columns (total 9 columns):\n",
      " #   Column      Non-Null Count  Dtype  \n",
      "---  ------      --------------  -----  \n",
      " 0   datetime    6493 non-null   object \n",
      " 1   season      6493 non-null   int64  \n",
      " 2   holiday     6493 non-null   int64  \n",
      " 3   workingday  6493 non-null   int64  \n",
      " 4   weather     6493 non-null   int64  \n",
      " 5   temp        6493 non-null   float64\n",
      " 6   atemp       6493 non-null   float64\n",
      " 7   humidity    6493 non-null   int64  \n",
      " 8   windspeed   6493 non-null   float64\n",
      "dtypes: float64(3), int64(5), object(1)\n",
      "memory usage: 456.7+ KB\n"
     ]
    }
   ],
   "source": [
    "test_set.info()"
   ]
  },
  {
   "cell_type": "markdown",
   "id": "a23f3eb3",
   "metadata": {},
   "source": [
    "주어진 데이터의 특징은 datetime 빼고 대부분 다루기 수월한 int나 float형 데이터임을 알 수 있었다.\n",
    "\n",
    "대체적으로 데이터를 살펴보기 위해"
   ]
  },
  {
   "cell_type": "code",
   "execution_count": 5,
   "id": "7e1edeab",
   "metadata": {},
   "outputs": [
    {
     "data": {
      "text/html": [
       "<div>\n",
       "<style scoped>\n",
       "    .dataframe tbody tr th:only-of-type {\n",
       "        vertical-align: middle;\n",
       "    }\n",
       "\n",
       "    .dataframe tbody tr th {\n",
       "        vertical-align: top;\n",
       "    }\n",
       "\n",
       "    .dataframe thead th {\n",
       "        text-align: right;\n",
       "    }\n",
       "</style>\n",
       "<table border=\"1\" class=\"dataframe\">\n",
       "  <thead>\n",
       "    <tr style=\"text-align: right;\">\n",
       "      <th></th>\n",
       "      <th>datetime</th>\n",
       "      <th>season</th>\n",
       "      <th>holiday</th>\n",
       "      <th>workingday</th>\n",
       "      <th>weather</th>\n",
       "      <th>temp</th>\n",
       "      <th>atemp</th>\n",
       "      <th>humidity</th>\n",
       "      <th>windspeed</th>\n",
       "      <th>casual</th>\n",
       "      <th>registered</th>\n",
       "      <th>count</th>\n",
       "    </tr>\n",
       "  </thead>\n",
       "  <tbody>\n",
       "    <tr>\n",
       "      <th>0</th>\n",
       "      <td>2011-01-01 00:00:00</td>\n",
       "      <td>1</td>\n",
       "      <td>0</td>\n",
       "      <td>0</td>\n",
       "      <td>1</td>\n",
       "      <td>9.84</td>\n",
       "      <td>14.395</td>\n",
       "      <td>81</td>\n",
       "      <td>0.0</td>\n",
       "      <td>3</td>\n",
       "      <td>13</td>\n",
       "      <td>16</td>\n",
       "    </tr>\n",
       "    <tr>\n",
       "      <th>1</th>\n",
       "      <td>2011-01-01 01:00:00</td>\n",
       "      <td>1</td>\n",
       "      <td>0</td>\n",
       "      <td>0</td>\n",
       "      <td>1</td>\n",
       "      <td>9.02</td>\n",
       "      <td>13.635</td>\n",
       "      <td>80</td>\n",
       "      <td>0.0</td>\n",
       "      <td>8</td>\n",
       "      <td>32</td>\n",
       "      <td>40</td>\n",
       "    </tr>\n",
       "    <tr>\n",
       "      <th>2</th>\n",
       "      <td>2011-01-01 02:00:00</td>\n",
       "      <td>1</td>\n",
       "      <td>0</td>\n",
       "      <td>0</td>\n",
       "      <td>1</td>\n",
       "      <td>9.02</td>\n",
       "      <td>13.635</td>\n",
       "      <td>80</td>\n",
       "      <td>0.0</td>\n",
       "      <td>5</td>\n",
       "      <td>27</td>\n",
       "      <td>32</td>\n",
       "    </tr>\n",
       "    <tr>\n",
       "      <th>3</th>\n",
       "      <td>2011-01-01 03:00:00</td>\n",
       "      <td>1</td>\n",
       "      <td>0</td>\n",
       "      <td>0</td>\n",
       "      <td>1</td>\n",
       "      <td>9.84</td>\n",
       "      <td>14.395</td>\n",
       "      <td>75</td>\n",
       "      <td>0.0</td>\n",
       "      <td>3</td>\n",
       "      <td>10</td>\n",
       "      <td>13</td>\n",
       "    </tr>\n",
       "    <tr>\n",
       "      <th>4</th>\n",
       "      <td>2011-01-01 04:00:00</td>\n",
       "      <td>1</td>\n",
       "      <td>0</td>\n",
       "      <td>0</td>\n",
       "      <td>1</td>\n",
       "      <td>9.84</td>\n",
       "      <td>14.395</td>\n",
       "      <td>75</td>\n",
       "      <td>0.0</td>\n",
       "      <td>0</td>\n",
       "      <td>1</td>\n",
       "      <td>1</td>\n",
       "    </tr>\n",
       "  </tbody>\n",
       "</table>\n",
       "</div>"
      ],
      "text/plain": [
       "              datetime  season  holiday  workingday  weather  temp   atemp  \\\n",
       "0  2011-01-01 00:00:00       1        0           0        1  9.84  14.395   \n",
       "1  2011-01-01 01:00:00       1        0           0        1  9.02  13.635   \n",
       "2  2011-01-01 02:00:00       1        0           0        1  9.02  13.635   \n",
       "3  2011-01-01 03:00:00       1        0           0        1  9.84  14.395   \n",
       "4  2011-01-01 04:00:00       1        0           0        1  9.84  14.395   \n",
       "\n",
       "   humidity  windspeed  casual  registered  count  \n",
       "0        81        0.0       3          13     16  \n",
       "1        80        0.0       8          32     40  \n",
       "2        80        0.0       5          27     32  \n",
       "3        75        0.0       3          10     13  \n",
       "4        75        0.0       0           1      1  "
      ]
     },
     "execution_count": 5,
     "metadata": {},
     "output_type": "execute_result"
    }
   ],
   "source": [
    "train_set.head()"
   ]
  },
  {
   "cell_type": "markdown",
   "id": "79c16679",
   "metadata": {},
   "source": [
    "해당 데이터는 각 시간단위로 자전거가 몇대씩 빌렸는지 count하고 있었기 때문에 label은 count 칼럼임을 알 수 있다.  \n",
    "\n",
    "test_set에 해당 컬럼들이 없는것을 보고 다시 한번 확신했다."
   ]
  },
  {
   "cell_type": "code",
   "execution_count": 6,
   "id": "06711455",
   "metadata": {},
   "outputs": [
    {
     "data": {
      "text/plain": [
       "datetime      0\n",
       "season        0\n",
       "holiday       0\n",
       "workingday    0\n",
       "weather       0\n",
       "temp          0\n",
       "atemp         0\n",
       "humidity      0\n",
       "windspeed     0\n",
       "dtype: int64"
      ]
     },
     "execution_count": 6,
     "metadata": {},
     "output_type": "execute_result"
    }
   ],
   "source": [
    "# 중복 row 검사\n",
    "train_set.duplicated().sum()\n",
    "test_set.duplicated().sum()\n",
    "\n",
    "# 결측치\n",
    "train_set.isnull().sum().sort_values(ascending=False)\n",
    "test_set.isnull().sum().sort_values(ascending=False)"
   ]
  },
  {
   "cell_type": "markdown",
   "id": "4e702d6f",
   "metadata": {},
   "source": [
    "해당 데이터는 잘 정제된 데이터임을 알 수 있었다.  \n",
    "\n",
    "이제 모델링을 위한 pre-processing을 진행하면"
   ]
  },
  {
   "cell_type": "code",
   "execution_count": 7,
   "id": "b6883bb0",
   "metadata": {},
   "outputs": [
    {
     "data": {
      "text/html": [
       "<div>\n",
       "<style scoped>\n",
       "    .dataframe tbody tr th:only-of-type {\n",
       "        vertical-align: middle;\n",
       "    }\n",
       "\n",
       "    .dataframe tbody tr th {\n",
       "        vertical-align: top;\n",
       "    }\n",
       "\n",
       "    .dataframe thead th {\n",
       "        text-align: right;\n",
       "    }\n",
       "</style>\n",
       "<table border=\"1\" class=\"dataframe\">\n",
       "  <thead>\n",
       "    <tr style=\"text-align: right;\">\n",
       "      <th></th>\n",
       "      <th>season</th>\n",
       "      <th>holiday</th>\n",
       "      <th>workingday</th>\n",
       "      <th>weather</th>\n",
       "      <th>temp</th>\n",
       "      <th>atemp</th>\n",
       "      <th>humidity</th>\n",
       "      <th>windspeed</th>\n",
       "      <th>casual</th>\n",
       "      <th>registered</th>\n",
       "      <th>count</th>\n",
       "    </tr>\n",
       "  </thead>\n",
       "  <tbody>\n",
       "    <tr>\n",
       "      <th>count</th>\n",
       "      <td>10886.000000</td>\n",
       "      <td>10886.000000</td>\n",
       "      <td>10886.000000</td>\n",
       "      <td>10886.000000</td>\n",
       "      <td>10886.00000</td>\n",
       "      <td>10886.000000</td>\n",
       "      <td>10886.000000</td>\n",
       "      <td>10886.000000</td>\n",
       "      <td>10886.000000</td>\n",
       "      <td>10886.000000</td>\n",
       "      <td>10886.000000</td>\n",
       "    </tr>\n",
       "    <tr>\n",
       "      <th>mean</th>\n",
       "      <td>2.506614</td>\n",
       "      <td>0.028569</td>\n",
       "      <td>0.680875</td>\n",
       "      <td>1.418427</td>\n",
       "      <td>20.23086</td>\n",
       "      <td>23.655084</td>\n",
       "      <td>61.886460</td>\n",
       "      <td>12.799395</td>\n",
       "      <td>36.021955</td>\n",
       "      <td>155.552177</td>\n",
       "      <td>191.574132</td>\n",
       "    </tr>\n",
       "    <tr>\n",
       "      <th>std</th>\n",
       "      <td>1.116174</td>\n",
       "      <td>0.166599</td>\n",
       "      <td>0.466159</td>\n",
       "      <td>0.633839</td>\n",
       "      <td>7.79159</td>\n",
       "      <td>8.474601</td>\n",
       "      <td>19.245033</td>\n",
       "      <td>8.164537</td>\n",
       "      <td>49.960477</td>\n",
       "      <td>151.039033</td>\n",
       "      <td>181.144454</td>\n",
       "    </tr>\n",
       "    <tr>\n",
       "      <th>min</th>\n",
       "      <td>1.000000</td>\n",
       "      <td>0.000000</td>\n",
       "      <td>0.000000</td>\n",
       "      <td>1.000000</td>\n",
       "      <td>0.82000</td>\n",
       "      <td>0.760000</td>\n",
       "      <td>0.000000</td>\n",
       "      <td>0.000000</td>\n",
       "      <td>0.000000</td>\n",
       "      <td>0.000000</td>\n",
       "      <td>1.000000</td>\n",
       "    </tr>\n",
       "    <tr>\n",
       "      <th>25%</th>\n",
       "      <td>2.000000</td>\n",
       "      <td>0.000000</td>\n",
       "      <td>0.000000</td>\n",
       "      <td>1.000000</td>\n",
       "      <td>13.94000</td>\n",
       "      <td>16.665000</td>\n",
       "      <td>47.000000</td>\n",
       "      <td>7.001500</td>\n",
       "      <td>4.000000</td>\n",
       "      <td>36.000000</td>\n",
       "      <td>42.000000</td>\n",
       "    </tr>\n",
       "    <tr>\n",
       "      <th>50%</th>\n",
       "      <td>3.000000</td>\n",
       "      <td>0.000000</td>\n",
       "      <td>1.000000</td>\n",
       "      <td>1.000000</td>\n",
       "      <td>20.50000</td>\n",
       "      <td>24.240000</td>\n",
       "      <td>62.000000</td>\n",
       "      <td>12.998000</td>\n",
       "      <td>17.000000</td>\n",
       "      <td>118.000000</td>\n",
       "      <td>145.000000</td>\n",
       "    </tr>\n",
       "    <tr>\n",
       "      <th>75%</th>\n",
       "      <td>4.000000</td>\n",
       "      <td>0.000000</td>\n",
       "      <td>1.000000</td>\n",
       "      <td>2.000000</td>\n",
       "      <td>26.24000</td>\n",
       "      <td>31.060000</td>\n",
       "      <td>77.000000</td>\n",
       "      <td>16.997900</td>\n",
       "      <td>49.000000</td>\n",
       "      <td>222.000000</td>\n",
       "      <td>284.000000</td>\n",
       "    </tr>\n",
       "    <tr>\n",
       "      <th>max</th>\n",
       "      <td>4.000000</td>\n",
       "      <td>1.000000</td>\n",
       "      <td>1.000000</td>\n",
       "      <td>4.000000</td>\n",
       "      <td>41.00000</td>\n",
       "      <td>45.455000</td>\n",
       "      <td>100.000000</td>\n",
       "      <td>56.996900</td>\n",
       "      <td>367.000000</td>\n",
       "      <td>886.000000</td>\n",
       "      <td>977.000000</td>\n",
       "    </tr>\n",
       "  </tbody>\n",
       "</table>\n",
       "</div>"
      ],
      "text/plain": [
       "             season       holiday    workingday       weather         temp  \\\n",
       "count  10886.000000  10886.000000  10886.000000  10886.000000  10886.00000   \n",
       "mean       2.506614      0.028569      0.680875      1.418427     20.23086   \n",
       "std        1.116174      0.166599      0.466159      0.633839      7.79159   \n",
       "min        1.000000      0.000000      0.000000      1.000000      0.82000   \n",
       "25%        2.000000      0.000000      0.000000      1.000000     13.94000   \n",
       "50%        3.000000      0.000000      1.000000      1.000000     20.50000   \n",
       "75%        4.000000      0.000000      1.000000      2.000000     26.24000   \n",
       "max        4.000000      1.000000      1.000000      4.000000     41.00000   \n",
       "\n",
       "              atemp      humidity     windspeed        casual    registered  \\\n",
       "count  10886.000000  10886.000000  10886.000000  10886.000000  10886.000000   \n",
       "mean      23.655084     61.886460     12.799395     36.021955    155.552177   \n",
       "std        8.474601     19.245033      8.164537     49.960477    151.039033   \n",
       "min        0.760000      0.000000      0.000000      0.000000      0.000000   \n",
       "25%       16.665000     47.000000      7.001500      4.000000     36.000000   \n",
       "50%       24.240000     62.000000     12.998000     17.000000    118.000000   \n",
       "75%       31.060000     77.000000     16.997900     49.000000    222.000000   \n",
       "max       45.455000    100.000000     56.996900    367.000000    886.000000   \n",
       "\n",
       "              count  \n",
       "count  10886.000000  \n",
       "mean     191.574132  \n",
       "std      181.144454  \n",
       "min        1.000000  \n",
       "25%       42.000000  \n",
       "50%      145.000000  \n",
       "75%      284.000000  \n",
       "max      977.000000  "
      ]
     },
     "execution_count": 7,
     "metadata": {},
     "output_type": "execute_result"
    }
   ],
   "source": [
    "train_set.describe()"
   ]
  },
  {
   "cell_type": "markdown",
   "id": "ef8a1891",
   "metadata": {},
   "source": [
    "또한 datetime을 유의미하게 처리하려면 year, month, day, time으로 나눌 필요가 있어 보인다."
   ]
  },
  {
   "cell_type": "code",
   "execution_count": 8,
   "id": "716d6402",
   "metadata": {},
   "outputs": [
    {
     "data": {
      "text/plain": [
       "dtype('<M8[ns]')"
      ]
     },
     "execution_count": 8,
     "metadata": {},
     "output_type": "execute_result"
    }
   ],
   "source": [
    "train_set[\"datetime\"] = pd.to_datetime(train_set[\"datetime\"])\n",
    "train_set[\"datetime\"].dtypes"
   ]
  },
  {
   "cell_type": "code",
   "execution_count": 9,
   "id": "81c8fe52",
   "metadata": {},
   "outputs": [
    {
     "name": "stdout",
     "output_type": "stream",
     "text": [
      "<class 'pandas.core.frame.DataFrame'>\n",
      "RangeIndex: 10886 entries, 0 to 10885\n",
      "Data columns (total 12 columns):\n",
      " #   Column      Non-Null Count  Dtype         \n",
      "---  ------      --------------  -----         \n",
      " 0   datetime    10886 non-null  datetime64[ns]\n",
      " 1   season      10886 non-null  int64         \n",
      " 2   holiday     10886 non-null  int64         \n",
      " 3   workingday  10886 non-null  int64         \n",
      " 4   weather     10886 non-null  int64         \n",
      " 5   temp        10886 non-null  float64       \n",
      " 6   atemp       10886 non-null  float64       \n",
      " 7   humidity    10886 non-null  int64         \n",
      " 8   windspeed   10886 non-null  float64       \n",
      " 9   casual      10886 non-null  int64         \n",
      " 10  registered  10886 non-null  int64         \n",
      " 11  count       10886 non-null  int64         \n",
      "dtypes: datetime64[ns](1), float64(3), int64(8)\n",
      "memory usage: 1020.7 KB\n"
     ]
    }
   ],
   "source": [
    "train_set.info()"
   ]
  },
  {
   "cell_type": "code",
   "execution_count": 10,
   "id": "03dd98b5",
   "metadata": {},
   "outputs": [],
   "source": [
    "train_set[\"year\"] = train_set[\"datetime\"].dt.year\n",
    "train_set[\"month\"] = train_set[\"datetime\"].dt.month\n",
    "train_set[\"day\"] = train_set[\"datetime\"].dt.day\n",
    "train_set[\"hour\"] = train_set[\"datetime\"].dt.hour\n",
    "\n",
    "test_set[\"year\"] = train_set[\"datetime\"].dt.year\n",
    "test_set[\"month\"] = train_set[\"datetime\"].dt.month\n",
    "test_set[\"day\"] = train_set[\"datetime\"].dt.day\n",
    "test_set[\"hour\"] = train_set[\"datetime\"].dt.hour"
   ]
  },
  {
   "cell_type": "code",
   "execution_count": 11,
   "id": "20ee7e14",
   "metadata": {},
   "outputs": [
    {
     "data": {
      "text/html": [
       "<div>\n",
       "<style scoped>\n",
       "    .dataframe tbody tr th:only-of-type {\n",
       "        vertical-align: middle;\n",
       "    }\n",
       "\n",
       "    .dataframe tbody tr th {\n",
       "        vertical-align: top;\n",
       "    }\n",
       "\n",
       "    .dataframe thead th {\n",
       "        text-align: right;\n",
       "    }\n",
       "</style>\n",
       "<table border=\"1\" class=\"dataframe\">\n",
       "  <thead>\n",
       "    <tr style=\"text-align: right;\">\n",
       "      <th></th>\n",
       "      <th>datetime</th>\n",
       "      <th>season</th>\n",
       "      <th>holiday</th>\n",
       "      <th>workingday</th>\n",
       "      <th>weather</th>\n",
       "      <th>temp</th>\n",
       "      <th>atemp</th>\n",
       "      <th>humidity</th>\n",
       "      <th>windspeed</th>\n",
       "      <th>casual</th>\n",
       "      <th>registered</th>\n",
       "      <th>count</th>\n",
       "      <th>year</th>\n",
       "      <th>month</th>\n",
       "      <th>day</th>\n",
       "      <th>hour</th>\n",
       "    </tr>\n",
       "  </thead>\n",
       "  <tbody>\n",
       "    <tr>\n",
       "      <th>0</th>\n",
       "      <td>2011-01-01 00:00:00</td>\n",
       "      <td>1</td>\n",
       "      <td>0</td>\n",
       "      <td>0</td>\n",
       "      <td>1</td>\n",
       "      <td>9.84</td>\n",
       "      <td>14.395</td>\n",
       "      <td>81</td>\n",
       "      <td>0.0</td>\n",
       "      <td>3</td>\n",
       "      <td>13</td>\n",
       "      <td>16</td>\n",
       "      <td>2011</td>\n",
       "      <td>1</td>\n",
       "      <td>1</td>\n",
       "      <td>0</td>\n",
       "    </tr>\n",
       "    <tr>\n",
       "      <th>1</th>\n",
       "      <td>2011-01-01 01:00:00</td>\n",
       "      <td>1</td>\n",
       "      <td>0</td>\n",
       "      <td>0</td>\n",
       "      <td>1</td>\n",
       "      <td>9.02</td>\n",
       "      <td>13.635</td>\n",
       "      <td>80</td>\n",
       "      <td>0.0</td>\n",
       "      <td>8</td>\n",
       "      <td>32</td>\n",
       "      <td>40</td>\n",
       "      <td>2011</td>\n",
       "      <td>1</td>\n",
       "      <td>1</td>\n",
       "      <td>1</td>\n",
       "    </tr>\n",
       "    <tr>\n",
       "      <th>2</th>\n",
       "      <td>2011-01-01 02:00:00</td>\n",
       "      <td>1</td>\n",
       "      <td>0</td>\n",
       "      <td>0</td>\n",
       "      <td>1</td>\n",
       "      <td>9.02</td>\n",
       "      <td>13.635</td>\n",
       "      <td>80</td>\n",
       "      <td>0.0</td>\n",
       "      <td>5</td>\n",
       "      <td>27</td>\n",
       "      <td>32</td>\n",
       "      <td>2011</td>\n",
       "      <td>1</td>\n",
       "      <td>1</td>\n",
       "      <td>2</td>\n",
       "    </tr>\n",
       "    <tr>\n",
       "      <th>3</th>\n",
       "      <td>2011-01-01 03:00:00</td>\n",
       "      <td>1</td>\n",
       "      <td>0</td>\n",
       "      <td>0</td>\n",
       "      <td>1</td>\n",
       "      <td>9.84</td>\n",
       "      <td>14.395</td>\n",
       "      <td>75</td>\n",
       "      <td>0.0</td>\n",
       "      <td>3</td>\n",
       "      <td>10</td>\n",
       "      <td>13</td>\n",
       "      <td>2011</td>\n",
       "      <td>1</td>\n",
       "      <td>1</td>\n",
       "      <td>3</td>\n",
       "    </tr>\n",
       "    <tr>\n",
       "      <th>4</th>\n",
       "      <td>2011-01-01 04:00:00</td>\n",
       "      <td>1</td>\n",
       "      <td>0</td>\n",
       "      <td>0</td>\n",
       "      <td>1</td>\n",
       "      <td>9.84</td>\n",
       "      <td>14.395</td>\n",
       "      <td>75</td>\n",
       "      <td>0.0</td>\n",
       "      <td>0</td>\n",
       "      <td>1</td>\n",
       "      <td>1</td>\n",
       "      <td>2011</td>\n",
       "      <td>1</td>\n",
       "      <td>1</td>\n",
       "      <td>4</td>\n",
       "    </tr>\n",
       "  </tbody>\n",
       "</table>\n",
       "</div>"
      ],
      "text/plain": [
       "             datetime  season  holiday  workingday  weather  temp   atemp  \\\n",
       "0 2011-01-01 00:00:00       1        0           0        1  9.84  14.395   \n",
       "1 2011-01-01 01:00:00       1        0           0        1  9.02  13.635   \n",
       "2 2011-01-01 02:00:00       1        0           0        1  9.02  13.635   \n",
       "3 2011-01-01 03:00:00       1        0           0        1  9.84  14.395   \n",
       "4 2011-01-01 04:00:00       1        0           0        1  9.84  14.395   \n",
       "\n",
       "   humidity  windspeed  casual  registered  count  year  month  day  hour  \n",
       "0        81        0.0       3          13     16  2011      1    1     0  \n",
       "1        80        0.0       8          32     40  2011      1    1     1  \n",
       "2        80        0.0       5          27     32  2011      1    1     2  \n",
       "3        75        0.0       3          10     13  2011      1    1     3  \n",
       "4        75        0.0       0           1      1  2011      1    1     4  "
      ]
     },
     "execution_count": 11,
     "metadata": {},
     "output_type": "execute_result"
    }
   ],
   "source": [
    "train_set.head()"
   ]
  },
  {
   "cell_type": "markdown",
   "id": "34d9afce",
   "metadata": {},
   "source": [
    "이제 각 column의 correlation을 알아보기 위해서 heatmap을 그려보면"
   ]
  },
  {
   "cell_type": "code",
   "execution_count": 12,
   "id": "3f9cfaf7",
   "metadata": {},
   "outputs": [
    {
     "data": {
      "image/png": "[encoded data removed]",
      "text/plain": [
       "<Figure size 1000x800 with 2 Axes>"
      ]
     },
     "metadata": {},
     "output_type": "display_data"
    }
   ],
   "source": [
    "import seaborn as sns\n",
    "import matplotlib.pyplot as plt\n",
    "\n",
    "plt.figure(figsize=(10, 8))\n",
    "sns.heatmap(data=train_set.drop(columns=\"datetime\").corr())\n",
    "plt.show()"
   ]
  },
  {
   "cell_type": "markdown",
   "id": "9e3f1228",
   "metadata": {},
   "source": [
    "heatmap 결과에서 유추해볼 수 있는 것은 다음과 같다.\n",
    "1) count와 registered는 correlation이 casual에 비해 높았다. 이것은 회원일수록 더 자전거 이용율이 높다는 뜻.\n",
    "2) temp(온도) atemp(체감온도)는 거의 특성이 같게 나타났다. 두개를 구분하는 것이 그렇게까지 중요한 일은 아니다.\n",
    "3) season과 month가 유독 튀는 상관관계가 나타나는데 이건 한번 들여다볼 지점인듯.\n",
    "4) 또한 day의 경우 모든 변수와 거의 관계가 없음을 볼 수 었다. 날짜에 따른 이용 패턴의 변화는 거의 없을듯.\n",
    "5) 그리고 종속변수의 경우 count와 registered의 경우 모든 변수에 대해서 비슷한 경향을 보였지만 유일하게 workingday에서 차이가 있었다. 이것의 의미는 평일에 회원들의 자전거 사용 패턴이 높다는 것이다.\n"
   ]
  },
  {
   "cell_type": "markdown",
   "id": "562ac8a2",
   "metadata": {},
   "source": [
    "이제 target data를 *count*와 *casual*과 *registered* 셋 중에 어느것을 사용하느냐도 분석에 중요한 요소일 수 있다.  \n",
    "\n",
    "대략적으로 2가지 방식으로 나뉠것 같은데\n",
    "\n",
    "1) 가장 단순한 방법으로 *count*만 고려하는 방법\n",
    "2) *registered* 여부에 따른 방법  \n",
    "\n",
    "\n",
    "으로 생각해볼 수 있다.\n",
    "\n",
    "일단 전체적인 흐름을 파악하기위해서 *count*를 label로 하는 단순한 방식으로 접근해보았다."
   ]
  },
  {
   "cell_type": "markdown",
   "id": "4019b002",
   "metadata": {},
   "source": [
    "따라서 최종적으로 dataset을 만들어보면 다음과 같다"
   ]
  },
  {
   "cell_type": "code",
   "execution_count": 13,
   "id": "0f450d4d",
   "metadata": {},
   "outputs": [],
   "source": [
    "# Train data set\n",
    "X_train = train_set.drop(columns=[\"datetime\", \"registered\", \"casual\", \"count\"])\n",
    "\n",
    "# Label\n",
    "Y_train_count = train_set[\"count\"]\n",
    "Y_train_register = train_set[\"registered\"]\n",
    "\n",
    "Test_set = test_set.drop(columns=\"datetime\")"
   ]
  },
  {
   "cell_type": "code",
   "execution_count": 14,
   "id": "53ed1f2c",
   "metadata": {},
   "outputs": [
    {
     "name": "stdout",
     "output_type": "stream",
     "text": [
      "<class 'pandas.core.frame.DataFrame'>\n",
      "RangeIndex: 10886 entries, 0 to 10885\n",
      "Data columns (total 12 columns):\n",
      " #   Column      Non-Null Count  Dtype  \n",
      "---  ------      --------------  -----  \n",
      " 0   season      10886 non-null  int64  \n",
      " 1   holiday     10886 non-null  int64  \n",
      " 2   workingday  10886 non-null  int64  \n",
      " 3   weather     10886 non-null  int64  \n",
      " 4   temp        10886 non-null  float64\n",
      " 5   atemp       10886 non-null  float64\n",
      " 6   humidity    10886 non-null  int64  \n",
      " 7   windspeed   10886 non-null  float64\n",
      " 8   year        10886 non-null  int32  \n",
      " 9   month       10886 non-null  int32  \n",
      " 10  day         10886 non-null  int32  \n",
      " 11  hour        10886 non-null  int32  \n",
      "dtypes: float64(3), int32(4), int64(5)\n",
      "memory usage: 850.6 KB\n"
     ]
    }
   ],
   "source": [
    "X_train.info()"
   ]
  },
  {
   "cell_type": "code",
   "execution_count": 15,
   "id": "c7b7b19a",
   "metadata": {},
   "outputs": [
    {
     "name": "stdout",
     "output_type": "stream",
     "text": [
      "<class 'pandas.core.frame.DataFrame'>\n",
      "RangeIndex: 6493 entries, 0 to 6492\n",
      "Data columns (total 12 columns):\n",
      " #   Column      Non-Null Count  Dtype  \n",
      "---  ------      --------------  -----  \n",
      " 0   season      6493 non-null   int64  \n",
      " 1   holiday     6493 non-null   int64  \n",
      " 2   workingday  6493 non-null   int64  \n",
      " 3   weather     6493 non-null   int64  \n",
      " 4   temp        6493 non-null   float64\n",
      " 5   atemp       6493 non-null   float64\n",
      " 6   humidity    6493 non-null   int64  \n",
      " 7   windspeed   6493 non-null   float64\n",
      " 8   year        6493 non-null   int32  \n",
      " 9   month       6493 non-null   int32  \n",
      " 10  day         6493 non-null   int32  \n",
      " 11  hour        6493 non-null   int32  \n",
      "dtypes: float64(3), int32(4), int64(5)\n",
      "memory usage: 507.4 KB\n"
     ]
    }
   ],
   "source": [
    "Test_set.info()"
   ]
  },
  {
   "cell_type": "markdown",
   "id": "ebe508c5",
   "metadata": {},
   "source": [
    "### 2. Model Selection"
   ]
  },
  {
   "cell_type": "markdown",
   "id": "afdaa217",
   "metadata": {},
   "source": [
    "먼저 대표적인 선형회귀 3가지 모델에 대해서 간단하게 학습시키고 결과를 살펴보았다."
   ]
  },
  {
   "cell_type": "code",
   "execution_count": 16,
   "id": "fc1e3c26",
   "metadata": {},
   "outputs": [
    {
     "data": {
      "text/plain": [
       "0.38930312463366035"
      ]
     },
     "execution_count": 16,
     "metadata": {},
     "output_type": "execute_result"
    }
   ],
   "source": [
    "# (1) Linear regression\n",
    "from sklearn.linear_model import LinearRegression\n",
    "\n",
    "model_lr = LinearRegression()\n",
    "\n",
    "model_lr.fit(X_train, Y_train_count)\n",
    "model_lr.score(X_train, Y_train_count)"
   ]
  },
  {
   "cell_type": "markdown",
   "id": "cfde88a7",
   "metadata": {},
   "source": [
    "과제에서 제시한 RMSLE를 포함한 간단한 evaluation 함수를 정의해보았다."
   ]
  },
  {
   "cell_type": "code",
   "execution_count": 17,
   "id": "a6308df7",
   "metadata": {},
   "outputs": [],
   "source": [
    "from sklearn.metrics import *\n",
    "\n",
    "\n",
    "def eval_train(model, X_train, Y_train):\n",
    "    score = model.score(X_train, Y_train)\n",
    "    y_pred = model.predict(X_train)\n",
    "    RMSE_err = root_mean_squared_error(y_pred, Y_train)\n",
    "    MAE_err = mean_absolute_error(y_pred, Y_train)\n",
    "    # MLSE_err = mean_squared_log_error(model.predict(X_train), Y_train)\n",
    "\n",
    "    print(\"학습 평가\")\n",
    "    print(f\"score   : {score:.5f}\")\n",
    "    print(f\"RMSE_err: {RMSE_err:.5f}\")\n",
    "    print(f\"MAE_err : {MAE_err:.5f}\")\n",
    "    if (y_pred > -1).all():\n",
    "        rmsle = root_mean_squared_log_error(y_pred, Y_train)\n",
    "        print(f\"RMSLE_err: {rmsle:.5f}\")\n",
    "    else:\n",
    "        print(f\"RMSLE_err: Nan\")"
   ]
  },
  {
   "cell_type": "code",
   "execution_count": 18,
   "id": "b7fbb0db",
   "metadata": {},
   "outputs": [
    {
     "name": "stdout",
     "output_type": "stream",
     "text": [
      "학습 평가\n",
      "score   : 0.38930\n",
      "RMSE_err: 141.55263\n",
      "MAE_err : 106.17592\n",
      "RMSLE_err: Nan\n"
     ]
    }
   ],
   "source": [
    "eval_train(model_lr, X_train, Y_train_count)"
   ]
  },
  {
   "cell_type": "markdown",
   "id": "16c874dc",
   "metadata": {},
   "source": [
    "학습된 모델의 경우 전체적으로 학습데이터에 대한 학습도 잘 안되는 모습을 볼 수 있었다.  \n",
    "\n",
    "이제 본격적으로 Test set에 대한 성능을 평가하기 위해 함수 하나를 정의하면"
   ]
  },
  {
   "cell_type": "code",
   "execution_count": 19,
   "id": "4251a669",
   "metadata": {},
   "outputs": [],
   "source": [
    "# test set을 *통계적*으로 평가하기 위한 함수 정의\n",
    "Test_model = list()\n",
    "\n",
    "\n",
    "def test_model(model, Test_set, log_transformed: bool):\n",
    "\n",
    "    predictions = model.predict(Test_set)\n",
    "\n",
    "    if log_transformed == True:\n",
    "        predictions = np.expm1(predictions)\n",
    "\n",
    "    # 통계량 계산\n",
    "    mean_test = predictions.mean()\n",
    "    std_test = predictions.std()\n",
    "    max_test = predictions.max()\n",
    "    min_test = predictions.min()\n",
    "    median_test = np.median(predictions)\n",
    "\n",
    "    print(\"** Test set 결과 **\")\n",
    "    print(f\"mean   : {mean_test:.5f}\")\n",
    "    print(f\"std    : {std_test:.5f}\")\n",
    "    print(f\"max    : {max_test:.5f}\")\n",
    "    print(f\"min    : {min_test:.5f}\")\n",
    "    print(f\"median : {median_test:.5f}\")\n",
    "\n",
    "    return mean_test, std_test, max_test, min_test, median_test"
   ]
  },
  {
   "cell_type": "code",
   "execution_count": 20,
   "id": "d533b32c",
   "metadata": {},
   "outputs": [
    {
     "name": "stdout",
     "output_type": "stream",
     "text": [
      "** Test set 결과 **\n",
      "mean   : 153.69684\n",
      "std    : 100.25131\n",
      "max    : 478.47649\n",
      "min    : -108.90277\n",
      "median : 145.69809\n"
     ]
    }
   ],
   "source": [
    "Test_model.append(test_model(model_lr, Test_set, log_transformed=False))"
   ]
  },
  {
   "cell_type": "markdown",
   "id": "ee5840e4",
   "metadata": {},
   "source": [
    "일단 특징적으로 볼 수 있는것은 \n",
    "\n",
    "1) std값이 너무 크다는 것\n",
    "2) 그리고 결과값이 음수가 나온다는 것\n",
    "\n",
    "따라서 해당 데이터는 선형 모델로 fitting이 적합하지 않다고 생각할 수 있다. 혹시 regulation을 해서 음수 값을 조금 줄여볼 수 있지 않을까? 해서 Ridge와 Lasso를 한번 실험해보았다."
   ]
  },
  {
   "cell_type": "code",
   "execution_count": 21,
   "id": "b710925d",
   "metadata": {},
   "outputs": [
    {
     "name": "stdout",
     "output_type": "stream",
     "text": [
      "학습 평가\n",
      "score   : 0.35686\n",
      "RMSE_err: 145.26415\n",
      "MAE_err : 107.17869\n",
      "RMSLE_err: Nan\n"
     ]
    }
   ],
   "source": [
    "# (2) Ridge regression\n",
    "from sklearn.linear_model import Ridge\n",
    "\n",
    "model_ridge = Ridge(alpha=10000)\n",
    "\n",
    "model_ridge.fit(X_train, Y_train_count)\n",
    "eval_train(model_ridge, X_train, Y_train_count)"
   ]
  },
  {
   "cell_type": "code",
   "execution_count": 22,
   "id": "d794a0fa",
   "metadata": {},
   "outputs": [
    {
     "name": "stdout",
     "output_type": "stream",
     "text": [
      "** Test set 결과 **\n",
      "mean   : 178.01165\n",
      "std    : 100.38219\n",
      "max    : 505.65143\n",
      "min    : -76.29944\n",
      "median : 165.69395\n"
     ]
    }
   ],
   "source": [
    "Test_model.append(test_model(model_ridge, Test_set, log_transformed=False))"
   ]
  },
  {
   "cell_type": "code",
   "execution_count": 23,
   "id": "ab482439",
   "metadata": {},
   "outputs": [
    {
     "name": "stdout",
     "output_type": "stream",
     "text": [
      "학습 평가\n",
      "score   : 0.37608\n",
      "RMSE_err: 143.07747\n",
      "MAE_err : 105.93304\n",
      "RMSLE_err: Nan\n"
     ]
    }
   ],
   "source": [
    "# (3) Lasso regression\n",
    "from sklearn.linear_model import Lasso\n",
    "\n",
    "model_lasso = Lasso(alpha=10, max_iter=1000)\n",
    "\n",
    "model_lasso.fit(X_train, Y_train_count)\n",
    "eval_train(model_lasso, X_train, Y_train_count)"
   ]
  },
  {
   "cell_type": "code",
   "execution_count": 24,
   "id": "7e2982dd",
   "metadata": {},
   "outputs": [
    {
     "name": "stdout",
     "output_type": "stream",
     "text": [
      "** Test set 결과 **\n",
      "mean   : 169.76771\n",
      "std    : 97.65147\n",
      "max    : 487.95126\n",
      "min    : -82.75898\n",
      "median : 159.79501\n"
     ]
    }
   ],
   "source": [
    "Test_model.append(test_model(model_lasso, Test_set, log_transformed=False))"
   ]
  },
  {
   "cell_type": "markdown",
   "id": "4b2ad18b",
   "metadata": {},
   "source": [
    "대표적인 선형 모델 3가지에 대해서 score 값과 테스트데이터 prediction을 해보았지만 모든 모델이 underfitting되는 현상이 나타나고 있다. 따라서 지금 해볼 수 있는 문제는\n",
    "1) data 전처리를 통해서 학습 능력을 더 끌어올리는 것\n",
    "2) 더 복잡한 모델, 예를 들면 polynomial,을 사용하는 것.  \n",
    "\n",
    "일단 모델의 복잡도를 올려서 더 다양한 모델에 학습을 시켜보겠다."
   ]
  },
  {
   "cell_type": "code",
   "execution_count": 25,
   "id": "920a4e53",
   "metadata": {},
   "outputs": [
    {
     "name": "stdout",
     "output_type": "stream",
     "text": [
      "학습 평가\n",
      "score   : 0.55479\n",
      "RMSE_err: 120.86122\n",
      "MAE_err : 90.65990\n",
      "RMSLE_err: Nan\n"
     ]
    }
   ],
   "source": [
    "# polynomial 2차 모델\n",
    "from sklearn.preprocessing import PolynomialFeatures\n",
    "\n",
    "poly = PolynomialFeatures(degree=2)\n",
    "X2 = poly.fit_transform(X_train)\n",
    "TEST_2 = poly.fit_transform(Test_set)\n",
    "\n",
    "model_poly = LinearRegression()\n",
    "\n",
    "model_poly.fit(X2, Y_train_count)\n",
    "eval_train(model_poly, X2, Y_train_count)"
   ]
  },
  {
   "cell_type": "code",
   "execution_count": 26,
   "id": "9b65a829",
   "metadata": {},
   "outputs": [
    {
     "name": "stdout",
     "output_type": "stream",
     "text": [
      "** Test set 결과 **\n",
      "mean   : 128.00877\n",
      "std    : 119.12968\n",
      "max    : 552.92737\n",
      "min    : -282.45103\n",
      "median : 134.28657\n"
     ]
    }
   ],
   "source": [
    "Test_model.append(test_model(model_poly, TEST_2, log_transformed=False))"
   ]
  },
  {
   "cell_type": "code",
   "execution_count": 27,
   "id": "efa453cf",
   "metadata": {},
   "outputs": [
    {
     "name": "stdout",
     "output_type": "stream",
     "text": [
      "학습 평가\n",
      "score   : 0.64861\n",
      "RMSE_err: 107.37392\n",
      "MAE_err : 76.44132\n",
      "RMSLE_err: Nan\n"
     ]
    }
   ],
   "source": [
    "# polynomial 3차 모델\n",
    "from sklearn.preprocessing import PolynomialFeatures\n",
    "\n",
    "poly = PolynomialFeatures(degree=3)\n",
    "X3 = poly.fit_transform(X_train)\n",
    "TEST_3 = poly.fit_transform(Test_set)\n",
    "\n",
    "model_poly = LinearRegression()\n",
    "\n",
    "model_poly.fit(X3, Y_train_count)\n",
    "eval_train(model_poly, X3, Y_train_count)"
   ]
  },
  {
   "cell_type": "code",
   "execution_count": 28,
   "id": "2ddb39ef",
   "metadata": {},
   "outputs": [
    {
     "name": "stdout",
     "output_type": "stream",
     "text": [
      "** Test set 결과 **\n",
      "mean   : 126.71702\n",
      "std    : 454.95047\n",
      "max    : 3564.28027\n",
      "min    : -4051.85525\n",
      "median : 131.66761\n"
     ]
    }
   ],
   "source": [
    "Test_model.append(test_model(model_poly, TEST_3, log_transformed=False))"
   ]
  },
  {
   "cell_type": "markdown",
   "id": "157a3f47",
   "metadata": {},
   "source": [
    "poly 모델의 경우 차수를 높이면 성능이 좋아지는 것으로 보아 비선형 모델이 적합하다는 결론을 내릴 수 있었다.  \n",
    "\n",
    "따라서 지금 회귀 모델에서 비선형으로 많이 쓰이는 `RandomForestRegressor`와 `GradientBoostingRegressor`으로 학습을 해보겠다."
   ]
  },
  {
   "cell_type": "code",
   "execution_count": 29,
   "id": "56bdbabe",
   "metadata": {},
   "outputs": [
    {
     "name": "stdout",
     "output_type": "stream",
     "text": [
      "학습 평가\n",
      "score   : 0.99245\n",
      "RMSE_err: 15.74193\n",
      "MAE_err : 9.75972\n",
      "RMSLE_err: 0.15400\n"
     ]
    }
   ],
   "source": [
    "# 앙상블 트리 모델\n",
    "from sklearn.ensemble import RandomForestRegressor\n",
    "\n",
    "model_Ens = RandomForestRegressor(n_estimators=100, max_depth=None, random_state=42)\n",
    "model_Ens.fit(X_train, Y_train_count)\n",
    "eval_train(model_Ens, X_train, Y_train_count)"
   ]
  },
  {
   "cell_type": "code",
   "execution_count": 30,
   "id": "9a4aa9c6",
   "metadata": {},
   "outputs": [
    {
     "name": "stdout",
     "output_type": "stream",
     "text": [
      "** Test set 결과 **\n",
      "mean   : 151.66683\n",
      "std    : 125.22628\n",
      "max    : 656.21000\n",
      "min    : 1.28000\n",
      "median : 128.65000\n"
     ]
    }
   ],
   "source": [
    "Test_model.append(test_model(model_Ens, Test_set, log_transformed=False))"
   ]
  },
  {
   "cell_type": "code",
   "execution_count": 31,
   "id": "d385c113",
   "metadata": {},
   "outputs": [
    {
     "name": "stdout",
     "output_type": "stream",
     "text": [
      "학습 평가\n",
      "score   : 1.00000\n",
      "RMSE_err: 0.00481\n",
      "MAE_err : 0.00379\n",
      "RMSLE_err: 0.00041\n"
     ]
    }
   ],
   "source": [
    "# 부스팅 기반 고성능 모델\n",
    "from sklearn.ensemble import GradientBoostingRegressor\n",
    "\n",
    "model_Boost = GradientBoostingRegressor(\n",
    "    n_estimators=100, learning_rate=0.1, max_depth=100, random_state=42\n",
    ")\n",
    "model_Boost.fit(X_train, Y_train_count)\n",
    "eval_train(model_Boost, X_train, Y_train_count)"
   ]
  },
  {
   "cell_type": "code",
   "execution_count": 32,
   "id": "d1a8262b",
   "metadata": {},
   "outputs": [
    {
     "name": "stdout",
     "output_type": "stream",
     "text": [
      "** Test set 결과 **\n",
      "mean   : 150.35557\n",
      "std    : 131.64004\n",
      "max    : 717.20513\n",
      "min    : 1.00506\n",
      "median : 121.88262\n"
     ]
    }
   ],
   "source": [
    "Test_model.append(test_model(model_Boost, Test_set, log_transformed=False))"
   ]
  },
  {
   "cell_type": "markdown",
   "id": "1ec5b497",
   "metadata": {},
   "source": [
    "머신러닝에서 기본적인 모델링에 대한 실험의 결과 각 모델마다 성능의 추이를 확인할 수 있었다. 앙상블 트리모델과 부스팅 기반 고성능 모델의 경우 매우 좋은 성능을 보였고 나머지 모델은 음수값을 test 결과 음수값을 예측하는 것으로 보아 적합하지 않은 데이터라고 생각할 수 있다.\n",
    "\n",
    "그리고 결과값을 살펴보다가 문제를 발견했는데 이 과제의 목표가 `RMSLE`를 최소화하는 것이 목표였기 때문에 이 부분에 조금 더 집중하기로 했다.  "
   ]
  },
  {
   "cell_type": "code",
   "execution_count": 33,
   "id": "bfeb68e7",
   "metadata": {},
   "outputs": [
    {
     "data": {
      "image/png": "[encoded data removed]",
      "text/plain": [
       "<Figure size 800x600 with 1 Axes>"
      ]
     },
     "metadata": {},
     "output_type": "display_data"
    }
   ],
   "source": [
    "# Trainset의 label 데이터의 분포를 알아보기 위해서\n",
    "\n",
    "plt.figure(figsize=(8, 6))\n",
    "sns.histplot(Y_train_count)\n",
    "\n",
    "plt.title(\"Histogram Y\")\n",
    "plt.xlabel(\"Count\")\n",
    "plt.ylabel(\"num of Count\")\n",
    "plt.tight_layout()\n",
    "plt.show()"
   ]
  },
  {
   "cell_type": "code",
   "execution_count": 34,
   "id": "c126b029",
   "metadata": {},
   "outputs": [
    {
     "data": {
      "image/png": "[encoded data removed]",
      "text/plain": [
       "<Figure size 1600x800 with 2 Axes>"
      ]
     },
     "metadata": {},
     "output_type": "display_data"
    }
   ],
   "source": [
    "# Trainset의 label 데이터의 분포를 알아보기 위해서\n",
    "\n",
    "# 원래 Y label 데이터\n",
    "plt.figure(figsize=(16, 8))\n",
    "\n",
    "plt.subplot(1, 2, 1)\n",
    "sns.histplot(Y_train_count)\n",
    "\n",
    "plt.title(\"Y: Count\")\n",
    "plt.xlabel(\"Count)\")\n",
    "plt.ylabel(\"num of Count\")\n",
    "\n",
    "# log_transformed(오른쪽쪽)\n",
    "plt.subplot(1, 2, 2)\n",
    "sns.histplot(np.log1p(Y_train_count))\n",
    "\n",
    "plt.title(\"Y: log(Count+1)\")\n",
    "plt.xlabel(\"log(Count+1)\")\n",
    "plt.ylabel(\"num of Count\")\n",
    "plt.tight_layout()\n",
    "plt.show()"
   ]
  },
  {
   "cell_type": "markdown",
   "id": "78d2e73b",
   "metadata": {},
   "source": [
    "오른쪽의 np.log1p()의 결과 학습데이터의 분포가 훨씬 고르게 분포함을 볼 수 있었다. 학습 결과도 살펴보면"
   ]
  },
  {
   "cell_type": "code",
   "execution_count": 35,
   "id": "b4b9aec1",
   "metadata": {},
   "outputs": [
    {
     "name": "stdout",
     "output_type": "stream",
     "text": [
      "학습 평가\n",
      "score   : 0.48733\n",
      "RMSE_err: 1.01629\n",
      "MAE_err : 0.80024\n",
      "RMSLE_err: 0.23135\n"
     ]
    }
   ],
   "source": [
    "# log(y+1)으로 전환\n",
    "log_Y_train = np.log1p(Y_train_count)\n",
    "\n",
    "model_lr = LinearRegression()\n",
    "\n",
    "\n",
    "model_lr.fit(X_train, log_Y_train)\n",
    "eval_train(model_lr, X_train, log_Y_train)"
   ]
  },
  {
   "cell_type": "code",
   "execution_count": 36,
   "id": "3720af04",
   "metadata": {},
   "outputs": [
    {
     "name": "stdout",
     "output_type": "stream",
     "text": [
      "** Test set 결과 **\n",
      "mean   : 122.63038\n",
      "std    : 142.33983\n",
      "max    : 1279.62102\n",
      "min    : 6.96550\n",
      "median : 71.89648\n"
     ]
    }
   ],
   "source": [
    "Test_model.append(test_model(model_lr, Test_set, log_transformed=True))"
   ]
  },
  {
   "cell_type": "code",
   "execution_count": 37,
   "id": "21968920",
   "metadata": {},
   "outputs": [
    {
     "name": "stdout",
     "output_type": "stream",
     "text": [
      "학습 평가\n",
      "score   : 0.48730\n",
      "RMSE_err: 1.01633\n",
      "MAE_err : 0.80025\n",
      "RMSLE_err: 0.23138\n"
     ]
    }
   ],
   "source": [
    "# (2) Ridge regression\n",
    "from sklearn.linear_model import Ridge\n",
    "\n",
    "model_ridge = Ridge(alpha=100)\n",
    "\n",
    "model_ridge.fit(X_train, log_Y_train)\n",
    "eval_train(model_ridge, X_train, log_Y_train)"
   ]
  },
  {
   "cell_type": "code",
   "execution_count": 38,
   "id": "7e971c66",
   "metadata": {},
   "outputs": [
    {
     "name": "stdout",
     "output_type": "stream",
     "text": [
      "** Test set 결과 **\n",
      "mean   : 123.26082\n",
      "std    : 142.47252\n",
      "max    : 1283.47362\n",
      "min    : 7.00848\n",
      "median : 72.32002\n"
     ]
    }
   ],
   "source": [
    "Test_model.append(test_model(model_ridge, Test_set, log_transformed=True))"
   ]
  },
  {
   "cell_type": "markdown",
   "id": "0a3d3a6d",
   "metadata": {},
   "source": [
    "log_transform된 데이터셋으로 학습한 결과는 놀랍게도 linear 모델에서도 충분히 동작할 수 있을만큼 성능이 나온다는 것이다.  \n",
    "\n",
    "위에서 결과는 아예 음수값을 예측해버리는 틀린 prediction을 했지만 log_transformed 결과는 합리적인 범위 내에서 모델이 prediction을 하는 것을 볼 수 있었다.\n",
    "\n",
    "**결과적으로** 학습데이터에 log_transform을 적용시키는 것은 합리적인 판단이라는 것이다."
   ]
  },
  {
   "cell_type": "markdown",
   "id": "c3dae31f",
   "metadata": {},
   "source": [
    "## 3. 파라미터 튜닝 및 최적화"
   ]
  },
  {
   "cell_type": "markdown",
   "id": "04322067",
   "metadata": {},
   "source": [
    "학습데이터 처리, 여러 모델링 결과를 확인했고 이제 최적의 결과값을 위해서 모델 튜닝을 진행해보았다."
   ]
  },
  {
   "cell_type": "markdown",
   "id": "fdd7b3b8",
   "metadata": {},
   "source": [
    "### (1) train_test_split 적용"
   ]
  },
  {
   "cell_type": "code",
   "execution_count": 39,
   "id": "8c34750c",
   "metadata": {},
   "outputs": [
    {
     "name": "stdout",
     "output_type": "stream",
     "text": [
      "학습 평가\n",
      "score   : 0.51140\n",
      "RMSE_err: 1.00934\n",
      "MAE_err : 0.79868\n",
      "RMSLE_err: 0.23557\n"
     ]
    }
   ],
   "source": [
    "from sklearn.model_selection import train_test_split\n",
    "\n",
    "x_train, x_test, y_train, y_test = train_test_split(\n",
    "    X_train, Y_train_count, test_size=0.2, random_state=100\n",
    ")\n",
    "y_train_log = np.log1p(y_train)\n",
    "y_test_log = np.log1p(y_test)\n",
    "\n",
    "\n",
    "model_lr_2 = LinearRegression()\n",
    "\n",
    "model_lr_2.fit(x_train, y_train_log)\n",
    "eval_train(model_lr_2, x_test, y_test_log)"
   ]
  },
  {
   "cell_type": "code",
   "execution_count": 40,
   "id": "2c73eb0e",
   "metadata": {},
   "outputs": [
    {
     "name": "stdout",
     "output_type": "stream",
     "text": [
      "** Test set 결과 **\n",
      "mean   : 122.73384\n",
      "std    : 141.33534\n",
      "max    : 1270.69176\n",
      "min    : 7.12984\n",
      "median : 72.68846\n"
     ]
    }
   ],
   "source": [
    "Test_model.append(test_model(model_lr_2, Test_set, log_transformed=True))"
   ]
  },
  {
   "cell_type": "markdown",
   "id": "ec1fb15f",
   "metadata": {},
   "source": [
    "train-test split을 적용하면 어느정도 성능 향상을 확인할 수 있었기 때문에 computing power가 가장 많이 소모되는 `GridSearchCV`를 사용하여 튜닝을 진행해보겠다."
   ]
  },
  {
   "cell_type": "code",
   "execution_count": 41,
   "id": "b65d6489",
   "metadata": {},
   "outputs": [
    {
     "name": "stdout",
     "output_type": "stream",
     "text": [
      "\n",
      "** Model name: LinearRegression\n",
      "Best Params : {'fit_intercept': True}\n",
      "Best RMSLE  : 0.2324691509958099\n",
      "\n",
      "** Model name: Ridge\n",
      "Best Params : {'alpha': 0.001, 'fit_intercept': True, 'solver': 'svd'}\n",
      "Best RMSLE  : 0.23246915131182772\n",
      "\n",
      "** Model name: Lasso\n",
      "Best Params : {'alpha': 0.001, 'fit_intercept': True, 'selection': 'random'}\n",
      "Best RMSLE  : 0.232473057743514\n",
      "\n",
      "** Model name: RandomForestRegressor\n"
     ]
    },
    {
     "name": "stderr",
     "output_type": "stream",
     "text": [
      "/home/soohyun/ls/envs/JSH/lib/python3.12/site-packages/joblib/externals/loky/process_executor.py:782: UserWarning: A worker stopped while some jobs were given to the executor. This can be caused by a too short worker timeout or by a memory leak.\n",
      "  warnings.warn(\n"
     ]
    },
    {
     "name": "stdout",
     "output_type": "stream",
     "text": [
      "Best Params : {'bootstrap': True, 'max_depth': 30, 'min_samples_leaf': 2, 'min_samples_split': 2, 'n_estimators': 300}\n",
      "Best RMSLE  : 0.10760170096106937\n",
      "\n",
      "** Model name: GradientBoostingRegressor\n",
      "Best Params : {'learning_rate': 0.1, 'max_depth': 3, 'min_samples_leaf': 1, 'min_samples_split': 5, 'n_estimators': 300, 'subsample': 0.8}\n",
      "Best RMSLE  : 0.09189330306463472\n"
     ]
    }
   ],
   "source": [
    "from sklearn.model_selection import GridSearchCV\n",
    "\n",
    "rmsle_scorer = make_scorer(root_mean_squared_log_error, greater_is_better=False)\n",
    "\n",
    "\n",
    "models_and_params = {\n",
    "    \"LinearRegression\": {\n",
    "        \"model\": LinearRegression(),\n",
    "        \"params\": {\"fit_intercept\": [True, False]},\n",
    "    },\n",
    "    \"Ridge\": {\n",
    "        \"model\": Ridge(),\n",
    "        \"params\": {\n",
    "            \"alpha\": [0.001, 0.01, 0.1, 1, 10, 100, 1000],\n",
    "            \"fit_intercept\": [True, False],\n",
    "            \"solver\": [\"auto\", \"svd\", \"cholesky\", \"lsqr\"],\n",
    "        },\n",
    "    },\n",
    "    \"Lasso\": {\n",
    "        \"model\": Lasso(max_iter=10000),\n",
    "        \"params\": {\n",
    "            \"alpha\": [0.001, 0.01, 0.1, 1, 10, 100, 1000],\n",
    "            \"fit_intercept\": [True, False],\n",
    "            \"selection\": [\"cyclic\", \"random\"],\n",
    "        },\n",
    "    },\n",
    "    \"RandomForestRegressor\": {\n",
    "        \"model\": RandomForestRegressor(random_state=42),\n",
    "        \"params\": {\n",
    "            \"n_estimators\": [100, 200, 300],\n",
    "            \"max_depth\": [None, 10, 20, 30],\n",
    "            \"min_samples_split\": [2, 5, 10],\n",
    "            \"min_samples_leaf\": [1, 2, 4],\n",
    "            \"bootstrap\": [True, False],\n",
    "        },\n",
    "    },\n",
    "    \"GradientBoostingRegressor\": {\n",
    "        \"model\": GradientBoostingRegressor(),\n",
    "        \"params\": {\n",
    "            \"n_estimators\": [100, 200, 300],\n",
    "            \"learning_rate\": [0.01, 0.05, 0.1],\n",
    "            \"max_depth\": [3, 5, 7],\n",
    "            \"min_samples_split\": [2, 5, 10],\n",
    "            \"min_samples_leaf\": [1, 2, 4],\n",
    "            \"subsample\": [0.8, 1.0],\n",
    "        },\n",
    "    },\n",
    "}\n",
    "\n",
    "results = {}\n",
    "\n",
    "for name, mp in models_and_params.items():\n",
    "    print(f\"\\n** Model name: {name}\")\n",
    "\n",
    "    grid = GridSearchCV(\n",
    "        estimator=mp[\"model\"],\n",
    "        param_grid=mp[\"params\"],\n",
    "        cv=8,\n",
    "        scoring=rmsle_scorer,  # RMSLE 기준으로 최적화\n",
    "        n_jobs=6,\n",
    "        verbose=0,\n",
    "    )\n",
    "\n",
    "    grid.fit(X_train, log_Y_train)  # log_transformed 데이터\n",
    "\n",
    "    print(\"Best Params :\", grid.best_params_)\n",
    "    print(\"Best RMSLE  :\", -grid.best_score_)  # 음수로 계산되므로 양수로 출력\n",
    "\n",
    "    results[name] = {\n",
    "        \"best_estimator\": grid.best_estimator_,\n",
    "        \"best_params\": grid.best_params_,\n",
    "        \"best_score\": -grid.best_score_,\n",
    "    }"
   ]
  },
  {
   "cell_type": "code",
   "execution_count": 42,
   "id": "496fe832",
   "metadata": {},
   "outputs": [
    {
     "data": {
      "text/plain": [
       "{'LinearRegression': {'best_estimator': LinearRegression(),\n",
       "  'best_params': {'fit_intercept': True},\n",
       "  'best_score': np.float64(0.2324691509958099)},\n",
       " 'Ridge': {'best_estimator': Ridge(alpha=0.001, solver='svd'),\n",
       "  'best_params': {'alpha': 0.001, 'fit_intercept': True, 'solver': 'svd'},\n",
       "  'best_score': np.float64(0.23246915131182772)},\n",
       " 'Lasso': {'best_estimator': Lasso(alpha=0.001, max_iter=10000, selection='random'),\n",
       "  'best_params': {'alpha': 0.001,\n",
       "   'fit_intercept': True,\n",
       "   'selection': 'random'},\n",
       "  'best_score': np.float64(0.232473057743514)},\n",
       " 'RandomForestRegressor': {'best_estimator': RandomForestRegressor(max_depth=30, min_samples_leaf=2, n_estimators=300,\n",
       "                        random_state=42),\n",
       "  'best_params': {'bootstrap': True,\n",
       "   'max_depth': 30,\n",
       "   'min_samples_leaf': 2,\n",
       "   'min_samples_split': 2,\n",
       "   'n_estimators': 300},\n",
       "  'best_score': np.float64(0.10760170096106937)},\n",
       " 'GradientBoostingRegressor': {'best_estimator': GradientBoostingRegressor(min_samples_split=5, n_estimators=300, subsample=0.8),\n",
       "  'best_params': {'learning_rate': 0.1,\n",
       "   'max_depth': 3,\n",
       "   'min_samples_leaf': 1,\n",
       "   'min_samples_split': 5,\n",
       "   'n_estimators': 300,\n",
       "   'subsample': 0.8},\n",
       "  'best_score': np.float64(0.09189330306463472)}}"
      ]
     },
     "execution_count": 42,
     "metadata": {},
     "output_type": "execute_result"
    }
   ],
   "source": [
    "results"
   ]
  },
  {
   "cell_type": "markdown",
   "id": "7025810e",
   "metadata": {},
   "source": [
    "## Conclusion & Discussion\n",
    "1) 데이터 처리 기법: 주어진 데이터를 log_transformed 기법을 통해 정규화시켜 학습을 시켜 RMSLE 성능을 향상\n",
    "2) 적절한 회귀 모델을 찾기 위해 하이퍼파라미터 튜닝을 grid search를 통해 찾고 비교함\n",
    "3) 결과적으로 RMSLE 성능은 부스팅 모델과 앙상블 모델이 좋게 나왔지만 overfitting에 대한 위험성이 높다. 따라서 해당 모델의 예측을 100% 신뢰하면 안됨.\n",
    "4) linear한 모델의 예측력이 부스팅과 앙상블 모델보다 낮게 나왔지만 오히려 regularization을 통해서 overfitting을 방지하는 모델이 더 실제 상황에서는 유용할 수 있다.\n",
    "5) 또한 label로 사용된 count를 registered와 casual로 나누어 분석함으로써 더 심도깊은 결과를 만들어낼 수 있을것으로 보임."
   ]
  }
 ],
 "metadata": {
  "kernelspec": {
   "display_name": "JSH",
   "language": "python",
   "name": "python3"
  },
  "language_info": {
   "codemirror_mode": {
    "name": "ipython",
    "version": 3
   },
   "file_extension": ".py",
   "mimetype": "text/x-python",
   "name": "python",
   "nbconvert_exporter": "python",
   "pygments_lexer": "ipython3",
   "version": "3.12.8"
  }
 },
 "nbformat": 4,
 "nbformat_minor": 5
}
