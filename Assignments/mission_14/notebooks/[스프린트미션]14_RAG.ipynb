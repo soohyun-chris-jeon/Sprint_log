{
  "cells": [
    {
      "cell_type": "markdown",
      "metadata": {
        "id": "5S3K0F2CZ-ht"
      },
      "source": [
        "# 구글 드라이브 마운트"
      ]
    },
    {
      "cell_type": "code",
      "execution_count": null,
      "metadata": {
        "colab": {
          "base_uri": "https://localhost:8080/"
        },
        "id": "E46xvJqaQskU",
        "outputId": "7ff440ad-ee5b-486a-d510-99b3b65f6f63"
      },
      "outputs": [
        {
          "output_type": "stream",
          "name": "stdout",
          "text": [
            "Mounted at /content/drive\n"
          ]
        }
      ],
      "source": [
        "from google.colab import drive\n",
        "drive.mount('/content/drive', force_remount=True)"
      ]
    },
    {
      "cell_type": "markdown",
      "metadata": {
        "id": "0rhKBpCvaA7R"
      },
      "source": [
        "# 라이브러리 설치"
      ]
    },
    {
      "cell_type": "code",
      "execution_count": null,
      "metadata": {
        "collapsed": true,
        "id": "zkPKnzmLnLYV"
      },
      "outputs": [],
      "source": [
        "!pip install -qU langchain-text-splitters langchain-community langgraph langchain-huggingface faiss-cpu bitsandbytes accelerate pypdf"
      ]
    },
    {
      "cell_type": "markdown",
      "metadata": {
        "id": "gQej9NUKaGMP"
      },
      "source": [
        "# 문서 파일 불러오기"
      ]
    },
    {
      "cell_type": "code",
      "execution_count": null,
      "metadata": {
        "id": "Y_MHR8-EfRPl"
      },
      "outputs": [],
      "source": [
        "from langchain_community.document_loaders import PyPDFLoader\n",
        "\n",
        "file_path = \"/content/drive/Shareddrives/스프린트(AI) 드라이브/트랙 Master 폴더/스프린트 미션 및 모범답안/data/rag_files/year-end-tax.pdf\"\n",
        "loader = PyPDFLoader(file_path)\n",
        "pages = []\n",
        "async for page in loader.alazy_load():\n",
        "    pages.append(page)"
      ]
    },
    {
      "cell_type": "markdown",
      "metadata": {
        "id": "KzxlO81YdBRX"
      },
      "source": [
        "# 문서 청킹"
      ]
    },
    {
      "cell_type": "code",
      "execution_count": null,
      "metadata": {
        "id": "S-r3FIWhBvyX"
      },
      "outputs": [],
      "source": [
        "from langchain_text_splitters import RecursiveCharacterTextSplitter\n",
        "\n",
        "text_splitter = RecursiveCharacterTextSplitter(\n",
        "    chunk_size=500,\n",
        "    chunk_overlap=100,\n",
        "    length_function=len,\n",
        ")\n",
        "all_splits = text_splitter.split_documents(pages)"
      ]
    },
    {
      "cell_type": "markdown",
      "metadata": {
        "id": "-4WUocGudQ5a"
      },
      "source": [
        "# Vector DB에 저장"
      ]
    },
    {
      "cell_type": "code",
      "execution_count": null,
      "metadata": {
        "id": "R2cA9ZcYglt6",
        "colab": {
          "base_uri": "https://localhost:8080/"
        },
        "outputId": "0ee3b1ac-ff0e-4cf4-ce64-50e8d940a101"
      },
      "outputs": [
        {
          "output_type": "stream",
          "name": "stderr",
          "text": [
            "/usr/local/lib/python3.11/dist-packages/huggingface_hub/utils/_auth.py:94: UserWarning: \n",
            "The secret `HF_TOKEN` does not exist in your Colab secrets.\n",
            "To authenticate with the Hugging Face Hub, create a token in your settings tab (https://huggingface.co/settings/tokens), set it as secret in your Google Colab and restart your session.\n",
            "You will be able to reuse this secret in all of your notebooks.\n",
            "Please note that authentication is recommended but still optional to access public models or datasets.\n",
            "  warnings.warn(\n"
          ]
        }
      ],
      "source": [
        "import faiss\n",
        "from langchain_huggingface import HuggingFaceEmbeddings\n",
        "from langchain_community.docstore.in_memory import InMemoryDocstore\n",
        "from langchain_community.vectorstores import FAISS\n",
        "\n",
        "\n",
        "# embedding_model_name = \"nlpai-lab/KURE-v1\"\n",
        "embedding_model_name = \"nlpai-lab/KoE5\"\n",
        "\n",
        "embeddings = HuggingFaceEmbeddings(\n",
        "    model_name=embedding_model_name,\n",
        ")\n",
        "\n",
        "embedding_dim = len(embeddings.embed_query(\"hello world\"))\n",
        "index = faiss.IndexFlatL2(embedding_dim)\n",
        "\n",
        "vector_store = FAISS(\n",
        "    embedding_function=embeddings,\n",
        "    index=index,\n",
        "    docstore=InMemoryDocstore(),\n",
        "    index_to_docstore_id={},\n",
        ")\n",
        "ids = vector_store.add_documents(documents=all_splits)\n",
        "\n",
        "retriever = vector_store.as_retriever()"
      ]
    },
    {
      "cell_type": "markdown",
      "metadata": {
        "id": "1pLNW-kEBRGQ"
      },
      "source": [
        "# 모델 및 토크나이저 세팅"
      ]
    },
    {
      "cell_type": "code",
      "execution_count": null,
      "metadata": {
        "colab": {
          "base_uri": "https://localhost:8080/",
          "height": 49,
          "referenced_widgets": [
            "f60472a205c24083a24bd9e9d5f632f2",
            "4c8a3b2f224b480b961684955d7b9719",
            "d142da05f62347448bcbc9e7b36da3a0",
            "26fe3d0b32ca416992f0d15310ffd4f3",
            "ea8c24e3022c42e08d7c6b3b46db0f1a",
            "97da6c093793443dabfcaf537fbb6011",
            "e79873ca46024db7bcedf8760813f3f8",
            "28529f8f567943e9bdd22b9e547a8607",
            "4bafc3b0ed27498595e0676839f7f8f6",
            "a28f0b0bb778472abf5567aeeb4d6e13",
            "d2aa873c9507437694a3f06b7900a21e"
          ]
        },
        "id": "vKtt61s96w3A",
        "outputId": "7ae069d3-5ec2-4009-a9cb-6d902aa663bd"
      },
      "outputs": [
        {
          "output_type": "display_data",
          "data": {
            "text/plain": [
              "Loading checkpoint shards:   0%|          | 0/5 [00:00<?, ?it/s]"
            ],
            "application/vnd.jupyter.widget-view+json": {
              "version_major": 2,
              "version_minor": 0,
              "model_id": "f60472a205c24083a24bd9e9d5f632f2"
            }
          },
          "metadata": {}
        }
      ],
      "source": [
        "from langchain_huggingface import ChatHuggingFace, HuggingFacePipeline\n",
        "from langchain.schema.runnable import RunnablePassthrough\n",
        "from langchain.schema.output_parser import StrOutputParser\n",
        "from transformers import AutoTokenizer, AutoModelForCausalLM, BitsAndBytesConfig, pipeline\n",
        "import torch\n",
        "\n",
        "\n",
        "language_model_name = \"nlpai-lab/KULLM3\"\n",
        "# language_model_name = \"Bllossom/llama-3.2-Korean-Bllossom-AICA-5B\"\n",
        "\n",
        "bnb_config = BitsAndBytesConfig(\n",
        "    load_in_4bit=True,\n",
        "    bnb_4bit_use_double_quant=True,\n",
        "    bnb_4bit_quant_type=\"nf4\",\n",
        "    bnb_4bit_compute_dtype=torch.float16,\n",
        "    llm_int8_enable_fp32_cpu_offload=True,\n",
        ")\n",
        "model = AutoModelForCausalLM.from_pretrained(\n",
        "    language_model_name,\n",
        "    quantization_config=bnb_config,\n",
        "    trust_remote_code=True,\n",
        ")\n",
        "tokenizer = AutoTokenizer.from_pretrained(language_model_name)"
      ]
    },
    {
      "cell_type": "code",
      "execution_count": null,
      "metadata": {
        "id": "Ri32yGmjCJTX",
        "colab": {
          "base_uri": "https://localhost:8080/"
        },
        "outputId": "145345b7-152c-4403-cd4f-c0cf787def64"
      },
      "outputs": [
        {
          "output_type": "stream",
          "name": "stderr",
          "text": [
            "Device set to use cuda:0\n"
          ]
        }
      ],
      "source": [
        "from transformers import pipeline\n",
        "\n",
        "llm_pipeline = pipeline(\n",
        "    model=model,\n",
        "    tokenizer=tokenizer,\n",
        "    task=\"text-generation\",\n",
        "    do_sample=True,\n",
        "    temperature=0.2,\n",
        "    repetition_penalty=1.2,\n",
        "    return_full_text=False,\n",
        "    max_new_tokens=1000,\n",
        ")\n",
        "llm = HuggingFacePipeline(pipeline=llm_pipeline)\n",
        "chat_model = ChatHuggingFace(llm=llm)"
      ]
    },
    {
      "cell_type": "markdown",
      "source": [
        "# RAG"
      ],
      "metadata": {
        "id": "rnwRCr_OFTOb"
      }
    },
    {
      "cell_type": "code",
      "source": [
        "from langchain_core.prompts import PromptTemplate\n",
        "\n",
        "\n",
        "template = \"\"\"\n",
        "아래에 주어진 맥락을 이용해 질문에 대해 답변해 줘.\n",
        "주어진 맥락으로 답변이 어려운 상황이라면, 그냥 모른다고 답하면 되고 억지로 답변을 꾸며 내지 마.\n",
        "최대한 자세하게 답변해 줘.\n",
        "반드시 한국어로 답변해야 해.\n",
        "\n",
        "맥락:\n",
        "{context}\n",
        "\n",
        "질문:\n",
        "{question}\n",
        "\"\"\"\n",
        "\n",
        "prompt = PromptTemplate.from_template(template)"
      ],
      "metadata": {
        "id": "MlI5OnriFUaI"
      },
      "execution_count": null,
      "outputs": []
    },
    {
      "cell_type": "code",
      "source": [
        "from langchain.schema.runnable import RunnablePassthrough\n",
        "from langchain.schema.output_parser import StrOutputParser\n",
        "\n",
        "def format_docs(docs):\n",
        "    print(docs)\n",
        "    return \"\\n\\n\".join(doc.page_content for doc in docs)\n",
        "\n",
        "retrieval_chain = (\n",
        "    {\"context\": retriever | format_docs, \"question\": RunnablePassthrough()}\n",
        "    | prompt\n",
        "    | llm\n",
        "    | StrOutputParser()\n",
        ")"
      ],
      "metadata": {
        "id": "zYIsh4a-Fc4F"
      },
      "execution_count": null,
      "outputs": []
    },
    {
      "cell_type": "code",
      "source": [
        "question = \"연말 정산 때 비거주자가 주의할 점을 알려 줘.\"\n",
        "\n",
        "result = retrieval_chain.invoke(question)\n",
        "print(result)"
      ],
      "metadata": {
        "id": "qMppgPmWFfNC",
        "colab": {
          "base_uri": "https://localhost:8080/"
        },
        "outputId": "e6552d22-7fd0-4a4b-9ec9-b4ca208e9588"
      },
      "execution_count": null,
      "outputs": [
        {
          "output_type": "stream",
          "name": "stdout",
          "text": [
            "[Document(id='a9b89cbb-aadb-49f9-ae12-7fcd4fa97fdf', metadata={'producer': 'ezPDF Builder Supreme', 'creator': 'PyPDF', 'creationdate': '2024-12-22T23:44:00+09:00', 'moddate': '2025-01-09T17:28:20+09:00', 'source': '/content/drive/Shareddrives/스프린트(AI) 드라이브/트랙 Master 폴더/스프린트 미션 및 모범답안/data/rag_files/year-end-tax.pdf', 'total_pages': 426, 'page': 102, 'page_label': '103'}, page_content='확정신고기한까지 신고납부한 것으로 본다.(소령 §134④)\\n05 비거주자의 연말정산\\n가. 거주자와 비거주자\\n1) 거주자와 비거주자 (소법 §1의2)\\n  거주자는 국내에 주소를 두거나 183일 이상의 거소를 둔 개인을 말하며, 비거주자는 거주자가\\n아닌 개인을 말한다.\\n2) 주소와 거소의 판정 (소령 §2)\\n○ 주소는 국내에서 생계를 같이 하는 가족 및 국내에 소재하는 자산의 유무 등 생활관계의 \\n객관적 사실에 따라 판정하며, 거소는 주소지 외의 장소 중 상당기간에 걸쳐 거주하는 \\n장소로서 주소와 같이 밀접한 일반적 생활관계가 형성되지 아니한 장소이다.\\n○ 국내에 거주하는 개인이 국내에 주소를 가진 것으로 보는 경우\\n   - 계속하여 183일 이상 국내에 거주할 것을 통상 필요로 하는 직업을 가진 때\\n   - 국내에 생계를 같이하는 가족이 있고, 그 직업 및 자산 상태에 비추어 계속하여 183일 이상 \\n국내에 거주할 것으로 인정되는 때'), Document(id='37eac7a8-7d70-4dcb-b136-2f0e07db9539', metadata={'producer': 'ezPDF Builder Supreme', 'creator': 'PyPDF', 'creationdate': '2024-12-22T23:44:00+09:00', 'moddate': '2025-01-09T17:28:20+09:00', 'source': '/content/drive/Shareddrives/스프린트(AI) 드라이브/트랙 Master 폴더/스프린트 미션 및 모범답안/data/rag_files/year-end-tax.pdf', 'total_pages': 426, 'page': 105, 'page_label': '106'}, page_content='원천징수의무자를 위한 \\n2024년 연말정산 신고안내\\n90\\n나. 비거주자의 연말정산\\n1) 비거주자의 국내원천소득 (소법 §119, 소령 §179)\\n○ 국내에서 제공하는 근로의 대가로서 받는 급여\\n○ 거주자 또는 내국법인이 운용하는 외국항행선박·원양어업선박 및 항공기의 승무원이 받는 \\n급여\\n○ 내국법인의 임원 자격으로서 받는 급여\\n○ 법인세법에 따라 상여로 처분된 금액\\n2) 연말정산 방법 (소법 §122)\\n  비거주자의 국내원천소득에 해당하는 근로소득에 대한 소득세의 과세표준과 세액의 계산에 \\n관하여는 거주자에 대한 소득세의 과세표준과 세액의 계산에 관한 규정을 준용한다. 다만, \\n｢소득세법｣ 제51조 제3항에 따른 인적공제 중 비거주자 본인 외의 자에 대한 공제와 같은 법 \\n제52조에 따른 특별소득공제, 제59조의2에 따른 자녀세액공제 및 제59조의4에 따른 특별\\n세액공제는 하지 아니한다.\\n예규'), Document(id='7dd2edff-3e90-4679-a8f5-bb6f933fbe0a', metadata={'producer': 'ezPDF Builder Supreme', 'creator': 'PyPDF', 'creationdate': '2024-12-22T23:44:00+09:00', 'moddate': '2025-01-09T17:28:20+09:00', 'source': '/content/drive/Shareddrives/스프린트(AI) 드라이브/트랙 Master 폴더/스프린트 미션 및 모범답안/data/rag_files/year-end-tax.pdf', 'total_pages': 426, 'page': 51, 'page_label': '52'}, page_content='원천징수의무자를 위한 \\n2024년 연말정산 신고안내\\n36\\n02 소득·세액공제 증명서류 중점 확인사항 (연말정산 시)\\n  원천징수의무자는 소속 근로자의 연말정산 과다공제에 따른 가산세 부담을 사전에 방지하기 \\n위하여 회사에 제출된 증명서류에 대해 아래의 항목을 중점적으로 확인하여야 함\\n※ 특히, 수동발급 공제 증명서류의 경우 중복공제, 과다공제의 사례가 많음\\n구분 중점 확인사항\\n인적공제\\n￮ 해당 과세기간에 기본공제대상 부양가족을 새로이 추가하는 경우 중복공제 및 연간 소득금액 \\n100만원(근로소득만 있는 자는 총급여 500만원) 초과 여부를 근로자에게 직접 확인\\n￮ 해당 과세기간 개시일(1.1.) 전 사망자·국외이주자는 기본공제 대상자가 아님\\n주택자금공제\\n￮ 거주자(개인)간 주택임차차입금 원리금상환액 공제\\n  - 주민등록표등본을 통해 과세기간 종료일 현재 세대주 여부 확인\\n  - 임대차계약서 사본 및 금전소비대차계약서 사본을 통해 임대차계약서의 입주일과 주민등록표'), Document(id='d1677be0-5ff3-4af1-9735-ce848c5bc771', metadata={'producer': 'ezPDF Builder Supreme', 'creator': 'PyPDF', 'creationdate': '2024-12-22T23:44:00+09:00', 'moddate': '2025-01-09T17:28:20+09:00', 'source': '/content/drive/Shareddrives/스프린트(AI) 드라이브/트랙 Master 폴더/스프린트 미션 및 모범답안/data/rag_files/year-end-tax.pdf', 'total_pages': 426, 'page': 11, 'page_label': '12'}, page_content='ii\\nCONTENTS\\n근로소득 원천징수 및 연말정산 ·········································78\\n1. 근로소득 원천징수 의무 ······················································78\\n2. 근로소득 원천징수 및 연말정산 절차 ··································80\\n3. 특수한 경우의 연말정산 ······················································82\\n4. 연말정산 시기 ·····································································86\\n5. 비거주자의 연말정산 ··························································87\\n6. 외국인의 연말정산(조특법 §18의2) ····································90')]\n",
            "\n",
            "답변:\n",
            "- 비거주자도 국내에서 근로 수익을 취득했다면 국내 소득세법에 따라 소득세를 내야합니다.\n",
            "- 비거주자의 국내원천소득에 대한 소득세의 과세표준과 세액의 계산에 관하여는 거주자에 대한 소득세의 과세표준과 세액의 계산에 관한 규정을 준용합니다.\n",
            "- 단, 비거주자 본인 외의 자에 대한 공제와 같은 법 제51조 제3항에 따른 인적공제 중 비거주자 본인 외의 자에 대한 공제와 같은 법 제52조에 따른 특별소득공제, 제59조의2에 따른 자녀세액공제 및 제59조의4에 따른 특별세액공제는 하지 않습니다.\n"
          ]
        }
      ]
    },
    {
      "cell_type": "code",
      "source": [
        "question = \"2024년 개정 세법 중에 월세와 관련한 내용이 있을까?\"\n",
        "\n",
        "result = retrieval_chain.invoke(question)\n",
        "print(result)"
      ],
      "metadata": {
        "id": "AHEpbCgHoPcc",
        "colab": {
          "base_uri": "https://localhost:8080/"
        },
        "outputId": "5e32d84b-f2b0-484f-a8fe-add6a4cc77e5"
      },
      "execution_count": null,
      "outputs": [
        {
          "output_type": "stream",
          "name": "stdout",
          "text": [
            "[Document(id='7cacc321-4c6d-42c1-8e32-d370bd1d636c', metadata={'producer': 'ezPDF Builder Supreme', 'creator': 'PyPDF', 'creationdate': '2024-12-22T23:44:00+09:00', 'moddate': '2025-01-09T17:28:20+09:00', 'source': '/content/drive/Shareddrives/스프린트(AI) 드라이브/트랙 Master 폴더/스프린트 미션 및 모범답안/data/rag_files/year-end-tax.pdf', 'total_pages': 426, 'page': 32, 'page_label': '33'}, page_content='01. 2024년 귀속 연말정산 개정세법 요약\\n17\\n24 월세액 세액공제 소득기준 및 한도 상향 \\n(조세특례제한법 제95조의2, 제122조의3)\\n<개정취지> 서민·중산층 주거비 부담 완화\\n종          전 개          정\\n▢ 월세 세액공제 ▢ 소득기준 및 한도 상향\\n○ (대상) 총급여 7천만원(종합소득금액 6천만원) 이하 무\\n주택근로자 및 성실사업자 등\\n○ 총급여 8천만원(종합소득금액 7천만원) 이하 무주택\\n근로자 및 성실사업자 등\\n○ (공제율) 월세액의 15% 또는 17%*\\n   ＊ 총급여 5,500만원 또는 종합소득금액 4,500만원 이하자\\n○ (좌  동)\\n○ (공제한도) 연간 월세액 750만원 ○ 750만원 → 1,000만원\\n○ (대상 주택) 국민주택규모(85㎡) 이하 또는 기준시가 \\n4억원 이하\\n○ (좌  동)\\n<적용시기> 2024.1.1. 이후 개시하는 과세연도 분부터 적용\\n25 신용카드 소득공제율 한시 상향 등'), Document(id='e8ef67ba-c72b-4ee2-bea4-9bc25177951f', metadata={'producer': 'ezPDF Builder Supreme', 'creator': 'PyPDF', 'creationdate': '2024-12-22T23:44:00+09:00', 'moddate': '2025-01-09T17:28:20+09:00', 'source': '/content/drive/Shareddrives/스프린트(AI) 드라이브/트랙 Master 폴더/스프린트 미션 및 모범답안/data/rag_files/year-end-tax.pdf', 'total_pages': 426, 'page': 238, 'page_label': '239'}, page_content='Ⅰ. 2024년 귀속 연말정산 종합사례\\n223\\n(10쪽 중 제9쪽)\\n[  ] 월세액·[  ] 거주자 간 주택임차차입금 원리금 상환액 소득·세액공제 명세서\\n[무주택자 해당여부 [  ]여, [  ]부]\\n1. 인적사항\\n① 상 호 ② 사업자등록번호\\n③ 성 명 ④ 주민등록번호\\n⑤ 주 소 (전화번호：                     )\\n⑥ 사업장 소재지 (전화번호：                     )\\n2. 월세액 세액공제 명세\\n⑦ 임대인성명\\n   (상    호)\\n⑧ 주민등록번호\\n   (사업자번호)\\n⑨\\n유형\\n⑩계약면적\\n(㎡)\\n⑪\\n임대차계약서 상 주소지\\n⑫ 계약서 상 임대차 계약기간 ⑬\\n연간월세액(원)\\n⑭\\n세액공제금액(원)개시일 종료일\\n※⑨유형：구분코드 - 단독주택：1, 다가구：2, 다세대주택：3, 연립주택：4, 아파트：5, 오피스텔：6, 고시원：7, 기타：8\\n※⑫계약서상 임대차계약기간 - 개시일과 종료일은 예시와 같이 기재 (예시) 2024.01.01.'), Document(id='ca60f3ae-9ba4-4342-837d-7a04c992a09d', metadata={'producer': 'ezPDF Builder Supreme', 'creator': 'PyPDF', 'creationdate': '2024-12-22T23:44:00+09:00', 'moddate': '2025-01-09T17:28:20+09:00', 'source': '/content/drive/Shareddrives/스프린트(AI) 드라이브/트랙 Master 폴더/스프린트 미션 및 모범답안/data/rag_files/year-end-tax.pdf', 'total_pages': 426, 'page': 215, 'page_label': '216'}, page_content='원천징수의무자를 위한 \\n2024년 연말정산 신고안내\\n200\\n09 월세액 세액공제 (조특법 §95의2)\\n  무주택 세대의 세대주(단독세대주 및 일정요건의 세대원 포함)로서 총급여액이 8천만원 이하인 \\n근로소득이 있는 거주자가 국민주택규모의 주택 또는 기준시가 4억원 이하 주택(주거용 \\n오피스텔, 고시원 포함)을 임차하기 위하여 지급하는 월세액(연 1,000만원 한도)의 15%(17%)에 \\n해당하는 금액을 해당 과세기간의 종합소득산출세액에서 공제한다.\\n1) 공제대상자\\n  과세기간 종료일 현재 주택을 소유하지 아니한 세대의 세대주(세대주가 월세액 세액공제,\\n주택마련저축, 주택임차차입금 원리금상환액 및 장기주택저당차입금 이자상환액 공제를 받지 \\n아니한 경우에는 세대의 구성원을 말하며, 대통령령으로 정하는 외국인*을 포함한다)로서 해당 \\n과세기간의 총급여액이 8천만원 이하인 근로자(해당 과세기간의 종합소득금액이 7천만원을 \\n초과하는 사람은 제외)'), Document(id='3cba1e6a-684a-4fd3-9a0d-7a3ae5395289', metadata={'producer': 'ezPDF Builder Supreme', 'creator': 'PyPDF', 'creationdate': '2024-12-22T23:44:00+09:00', 'moddate': '2025-01-09T17:28:20+09:00', 'source': '/content/drive/Shareddrives/스프린트(AI) 드라이브/트랙 Master 폴더/스프린트 미션 및 모범답안/data/rag_files/year-end-tax.pdf', 'total_pages': 426, 'page': 18, 'page_label': '19'}, page_content='01. 2024년 귀속 연말정산 개정세법 요약\\n3\\n4 장기주택저당차입금 이자상환액 소득공제 확대 \\n(소득세법 제52조 제5항·제6항, 같은 법 시행령 제112조)\\n<개정취지> 서민·중산층 주거비 부담 완화\\n종          전 개          정\\n▢ 장기주택저당차입금 이자상환액 소득공제 ▢ 공제한도 상향 및 적용대상 확대\\n○ (대상) 무주택 또는 1주택인 근로자 ○ (좌  동)\\n○ (공제한도) 300만원~1,800만원\\n상환기간 15년 이상 상환기간\\n10년 이상\\n고정금리\\n+\\n비거치식\\n고정금리\\n또는\\n비거치식\\n기타\\n고정금리\\n또는\\n비거치식\\n1,800만원 1,500만원 500만원 300만원\\n○ 600만원~2,000만원\\n상환기간 15년 이상 상환기간\\n10년 이상\\n고정금리\\n+\\n비거치식\\n고정금리\\n또는\\n비거치식\\n기타\\n고정금리\\n또는\\n비거치식\\n2,000만원 1,800만원 800만원 600만원\\n○ (주택요건) 기준시가 5억원 이하 ○ 기준시가 6억원 이하')]\n",
            "답변:\n",
            "네, 2024년 개정 세법에는 월세와 관련된 내용이 포함되어 있습니다. 구체적으로는 \"월세액 세액공제\"에 대한 내용이 개정되었습니다. 이 개정은 월세액 세액공제의 소득기준 및 한도를 상향 조정한 것입니다. 새로운 조정 내역은 총급여 8천만원(종합소득금액 7천만원) 이하 무주택 근로자 및 성실사업자 등이 대상이며, 월세액 세액공제율은 17%입니다. 또한, 연간 월세액 750만원에서 1,000만원으로 공제한도가 증가했습니다. 이러한 개정은 서민·중산층의 주거비 부담을 완화하기 위한 목적으로 이루어졌습니다.\n"
          ]
        }
      ]
    },
    {
      "cell_type": "code",
      "source": [
        "question = \"기부금 공제 때 주의할 점은?\"\n",
        "\n",
        "result = retrieval_chain.invoke(question)\n",
        "print(result)"
      ],
      "metadata": {
        "id": "K_i5lkqeQoYB",
        "colab": {
          "base_uri": "https://localhost:8080/"
        },
        "outputId": "d9e7d294-29b6-4eb8-cf86-6273a66882ff"
      },
      "execution_count": null,
      "outputs": [
        {
          "output_type": "stream",
          "name": "stdout",
          "text": [
            "[Document(id='6fe931b5-3714-4d3a-a412-3e463908b11d', metadata={'producer': 'ezPDF Builder Supreme', 'creator': 'PyPDF', 'creationdate': '2024-12-22T23:44:00+09:00', 'moddate': '2025-01-09T17:28:20+09:00', 'source': '/content/drive/Shareddrives/스프린트(AI) 드라이브/트랙 Master 폴더/스프린트 미션 및 모범답안/data/rag_files/year-end-tax.pdf', 'total_pages': 426, 'page': 244, 'page_label': '245'}, page_content='본인 800,000 500,000 200,000 100,000\\n배우자\\n직계비속\\n직계존속\\n형제자매\\n그외\\n❹ 기부금 조정 명세\\n기부금\\n코드\\n기부\\n연도 \\x00\\x00 기부금액 ⑰ 전년까지\\n공제된 금액\\n⑱ 공제대상\\n금액(\\x00\\x00-⑰)\\n해당 연도 공제금액 해당 연도에 공제받지 못한 금액\\n필요경비 세액(소득)공제 소멸금액 이월금액\\n10 2023 500,000 - 500,000 - 500,000\\n20 2023 200,000 - 200,000 - 200,000\\n43 2023 100,000 100,000 100,000'), Document(id='3edca478-2524-4e6e-a9bd-39242b7b6902', metadata={'producer': 'ezPDF Builder Supreme', 'creator': 'PyPDF', 'creationdate': '2024-12-22T23:44:00+09:00', 'moddate': '2025-01-09T17:28:20+09:00', 'source': '/content/drive/Shareddrives/스프린트(AI) 드라이브/트랙 Master 폴더/스프린트 미션 및 모범답안/data/rag_files/year-end-tax.pdf', 'total_pages': 426, 'page': 58, 'page_label': '59'}, page_content='Ⅲ. 원천징수의무자의 연말정산 중점 확인사항\\n43\\n카. 기부금 과다공제\\n○ 기본공제대상자가 아닌 직계 존·비속 및 형제자매 등이 지출한 기부금은 공제대상 아님\\n   - 소득요건을 충족하지 못한 부양가족이 지출한 기부금은 세액공제 적용대상 아님\\n(예시) 근로소득자인 배우자(총급여 1,000만원)가 지출한 기부금\\n   - 정치자금기부금, 고향사랑기부금, 우리사주조합기부금은 근로자 본인 지출분만 공제 가능\\n하며 이월공제 적용대상 아님\\n○ 허위 또는 과다하게 작성된 기부금영수증은 세액공제 적용대상 아님\\n○ 적격 기부금영수증 발급단체가 아닌 자로부터 받은 기부금영수증은 공제대상 아님\\n<기부금 세액공제 주요 Q&A>\\nQ.1 근로자가 기부금 세액공제 신청 시 제출할 서류는 무엇인가요?\\nA.1\\n○ 기부금 세액공제를 받고자 하는 근로자는 기부금 공제금액에 관계없이 ‘기부금영수증’(「소득세법 시행규칙」'), Document(id='6305e078-d8b1-4015-a9f1-e58d8ac57c7f', metadata={'producer': 'ezPDF Builder Supreme', 'creator': 'PyPDF', 'creationdate': '2024-12-22T23:44:00+09:00', 'moddate': '2025-01-09T17:28:20+09:00', 'source': '/content/drive/Shareddrives/스프린트(AI) 드라이브/트랙 Master 폴더/스프린트 미션 및 모범답안/data/rag_files/year-end-tax.pdf', 'total_pages': 426, 'page': 243, 'page_label': '244'}, page_content='○ 기부금 조정 명세\\n   - 전년도 이월 금액과 해당 과세연도 기부금액 중 기부금 공제 금액과 이월금액 소멸금액을 \\n계산하여 기재\\n   - 공제받지 못한 기부금 중 다음의 이월공제 기간이 지난 기부금은 소멸금액에 기재\\n      ※ 이월공제 기간 (2013.1.1. 이후 지출분부터 10년)\\n   -  전년도 이월된 기부금액에 대하여 공제를 받고자 하는 경우\\n(원천징수의무자가 변동된 경우) 전년도의 기부금명세서 추가 제출\\n(원천징수의무자가 변동되지 아니한 경우) 기부금명세서 추가제출 아니할 수 있음\\n   - 2014년 이후 이월된 기부금은 기부연도가 빠른 기부금부터 세액공제를 적용\\n   -  이월기부금 공제 후 남은 기부금 공제한도 내에서 해당연도에 지출한 기부금을 공제\\n   -  종교단체 지정기부금과 종교단체 외 지정기부금이 함께 있는 경우 종교단체 외 기부금을 \\n먼저 공제\\n   -  다음연도 이월 기부금은 해당 과세기간 이후 기본공제대상자의 변동에 영향 없음'), Document(id='df9f2080-af97-4122-8ca1-be5f271dc22e', metadata={'producer': 'ezPDF Builder Supreme', 'creator': 'PyPDF', 'creationdate': '2024-12-22T23:44:00+09:00', 'moddate': '2025-01-09T17:28:20+09:00', 'source': '/content/drive/Shareddrives/스프린트(AI) 드라이브/트랙 Master 폴더/스프린트 미션 및 모범답안/data/rag_files/year-end-tax.pdf', 'total_pages': 426, 'page': 52, 'page_label': '53'}, page_content='Ⅲ. 원천징수의무자의 연말정산 중점 확인사항\\n37\\n구분 중점 확인사항\\n기부금\\n세액공제\\n￮ 수동 제출 기부금영수증상 ‘일련번호’ 유무 확인\\n  - 일련번호가 없는 기부금영수증의 경우 기부금 표본조사 대상에 선정될 가능성이 높음 \\n￮ 기부금단체가 적격 단체에 해당하는지 영수증에 기재된 근거법령을 통해 확인\\n  - 개별 종교단체의 경우 총회나 중앙회가 문화체육관광부장관 또는 지방자치단체의 장의 허가를 \\n받아 설립한 비영리법인인지 여부는 기부금영수증, 소속증명서 등을 통해 확인\\n  - ‘고유번호증’의 유무가 적격 기부금 종교단체 여부 판단기준이 아님에 유의\\n  - 사주, 궁합, 택일, 작명 등 대가성 비용을 지출하고 발급받은 기부금영수증은 공제 불가\\n  - 사단법인 또는 재단법인의 경우 기획재정부장관의 지정을 받았는지 여부 확인\\n단, 기획재정부장관 지정이 없더라도 관련법령에서 적격 기부금단체로 규정한 법인도 있으므로 ‘기')]\n",
            "\n",
            "답변:\n",
            "기부금 세액공제를 받고자 하는 근로자는 '기부금영수증'을 제출해야 합니다. 기부금 조정 명세에는 전년도 이월 금액과 해당 과세연도 기부금액 중 기부금 공제 금액과 이월금액 소멸금액을 계산하여 기재해야 합니다. 이월공제 기간이 지난 기부금은 소멸금액에 기재하며, 전년도 이월된 기부금액에 대하여 공제를 받고자 하는 경우 전년도의 기부금명세서를 추가 제출해야 합니다. 또한, 기부금 공제 후 남은 기부금 공제한도 내에서 해당연도에 지출한 기부금을 공제할 수 있습니다.\n"
          ]
        }
      ]
    },
    {
      "cell_type": "code",
      "source": [],
      "metadata": {
        "id": "du3AkLmLt1sN"
      },
      "execution_count": null,
      "outputs": []
    }
  ],
  "metadata": {
    "accelerator": "GPU",
    "colab": {
      "gpuType": "A100",
      "machine_shape": "hm",
      "provenance": []
    },
    "kernelspec": {
      "display_name": "Python 3",
      "name": "python3"
    },
    "language_info": {
      "name": "python"
    },
    "widgets": {
      "application/vnd.jupyter.widget-state+json": {
        "f60472a205c24083a24bd9e9d5f632f2": {
          "model_module": "@jupyter-widgets/controls",
          "model_name": "HBoxModel",
          "model_module_version": "1.5.0",
          "state": {
            "_dom_classes": [],
            "_model_module": "@jupyter-widgets/controls",
            "_model_module_version": "1.5.0",
            "_model_name": "HBoxModel",
            "_view_count": null,
            "_view_module": "@jupyter-widgets/controls",
            "_view_module_version": "1.5.0",
            "_view_name": "HBoxView",
            "box_style": "",
            "children": [
              "IPY_MODEL_4c8a3b2f224b480b961684955d7b9719",
              "IPY_MODEL_d142da05f62347448bcbc9e7b36da3a0",
              "IPY_MODEL_26fe3d0b32ca416992f0d15310ffd4f3"
            ],
            "layout": "IPY_MODEL_ea8c24e3022c42e08d7c6b3b46db0f1a"
          }
        },
        "4c8a3b2f224b480b961684955d7b9719": {
          "model_module": "@jupyter-widgets/controls",
          "model_name": "HTMLModel",
          "model_module_version": "1.5.0",
          "state": {
            "_dom_classes": [],
            "_model_module": "@jupyter-widgets/controls",
            "_model_module_version": "1.5.0",
            "_model_name": "HTMLModel",
            "_view_count": null,
            "_view_module": "@jupyter-widgets/controls",
            "_view_module_version": "1.5.0",
            "_view_name": "HTMLView",
            "description": "",
            "description_tooltip": null,
            "layout": "IPY_MODEL_97da6c093793443dabfcaf537fbb6011",
            "placeholder": "​",
            "style": "IPY_MODEL_e79873ca46024db7bcedf8760813f3f8",
            "value": "Loading checkpoint shards: 100%"
          }
        },
        "d142da05f62347448bcbc9e7b36da3a0": {
          "model_module": "@jupyter-widgets/controls",
          "model_name": "FloatProgressModel",
          "model_module_version": "1.5.0",
          "state": {
            "_dom_classes": [],
            "_model_module": "@jupyter-widgets/controls",
            "_model_module_version": "1.5.0",
            "_model_name": "FloatProgressModel",
            "_view_count": null,
            "_view_module": "@jupyter-widgets/controls",
            "_view_module_version": "1.5.0",
            "_view_name": "ProgressView",
            "bar_style": "success",
            "description": "",
            "description_tooltip": null,
            "layout": "IPY_MODEL_28529f8f567943e9bdd22b9e547a8607",
            "max": 5,
            "min": 0,
            "orientation": "horizontal",
            "style": "IPY_MODEL_4bafc3b0ed27498595e0676839f7f8f6",
            "value": 5
          }
        },
        "26fe3d0b32ca416992f0d15310ffd4f3": {
          "model_module": "@jupyter-widgets/controls",
          "model_name": "HTMLModel",
          "model_module_version": "1.5.0",
          "state": {
            "_dom_classes": [],
            "_model_module": "@jupyter-widgets/controls",
            "_model_module_version": "1.5.0",
            "_model_name": "HTMLModel",
            "_view_count": null,
            "_view_module": "@jupyter-widgets/controls",
            "_view_module_version": "1.5.0",
            "_view_name": "HTMLView",
            "description": "",
            "description_tooltip": null,
            "layout": "IPY_MODEL_a28f0b0bb778472abf5567aeeb4d6e13",
            "placeholder": "​",
            "style": "IPY_MODEL_d2aa873c9507437694a3f06b7900a21e",
            "value": " 5/5 [00:26&lt;00:00,  4.63s/it]"
          }
        },
        "ea8c24e3022c42e08d7c6b3b46db0f1a": {
          "model_module": "@jupyter-widgets/base",
          "model_name": "LayoutModel",
          "model_module_version": "1.2.0",
          "state": {
            "_model_module": "@jupyter-widgets/base",
            "_model_module_version": "1.2.0",
            "_model_name": "LayoutModel",
            "_view_count": null,
            "_view_module": "@jupyter-widgets/base",
            "_view_module_version": "1.2.0",
            "_view_name": "LayoutView",
            "align_content": null,
            "align_items": null,
            "align_self": null,
            "border": null,
            "bottom": null,
            "display": null,
            "flex": null,
            "flex_flow": null,
            "grid_area": null,
            "grid_auto_columns": null,
            "grid_auto_flow": null,
            "grid_auto_rows": null,
            "grid_column": null,
            "grid_gap": null,
            "grid_row": null,
            "grid_template_areas": null,
            "grid_template_columns": null,
            "grid_template_rows": null,
            "height": null,
            "justify_content": null,
            "justify_items": null,
            "left": null,
            "margin": null,
            "max_height": null,
            "max_width": null,
            "min_height": null,
            "min_width": null,
            "object_fit": null,
            "object_position": null,
            "order": null,
            "overflow": null,
            "overflow_x": null,
            "overflow_y": null,
            "padding": null,
            "right": null,
            "top": null,
            "visibility": null,
            "width": null
          }
        },
        "97da6c093793443dabfcaf537fbb6011": {
          "model_module": "@jupyter-widgets/base",
          "model_name": "LayoutModel",
          "model_module_version": "1.2.0",
          "state": {
            "_model_module": "@jupyter-widgets/base",
            "_model_module_version": "1.2.0",
            "_model_name": "LayoutModel",
            "_view_count": null,
            "_view_module": "@jupyter-widgets/base",
            "_view_module_version": "1.2.0",
            "_view_name": "LayoutView",
            "align_content": null,
            "align_items": null,
            "align_self": null,
            "border": null,
            "bottom": null,
            "display": null,
            "flex": null,
            "flex_flow": null,
            "grid_area": null,
            "grid_auto_columns": null,
            "grid_auto_flow": null,
            "grid_auto_rows": null,
            "grid_column": null,
            "grid_gap": null,
            "grid_row": null,
            "grid_template_areas": null,
            "grid_template_columns": null,
            "grid_template_rows": null,
            "height": null,
            "justify_content": null,
            "justify_items": null,
            "left": null,
            "margin": null,
            "max_height": null,
            "max_width": null,
            "min_height": null,
            "min_width": null,
            "object_fit": null,
            "object_position": null,
            "order": null,
            "overflow": null,
            "overflow_x": null,
            "overflow_y": null,
            "padding": null,
            "right": null,
            "top": null,
            "visibility": null,
            "width": null
          }
        },
        "e79873ca46024db7bcedf8760813f3f8": {
          "model_module": "@jupyter-widgets/controls",
          "model_name": "DescriptionStyleModel",
          "model_module_version": "1.5.0",
          "state": {
            "_model_module": "@jupyter-widgets/controls",
            "_model_module_version": "1.5.0",
            "_model_name": "DescriptionStyleModel",
            "_view_count": null,
            "_view_module": "@jupyter-widgets/base",
            "_view_module_version": "1.2.0",
            "_view_name": "StyleView",
            "description_width": ""
          }
        },
        "28529f8f567943e9bdd22b9e547a8607": {
          "model_module": "@jupyter-widgets/base",
          "model_name": "LayoutModel",
          "model_module_version": "1.2.0",
          "state": {
            "_model_module": "@jupyter-widgets/base",
            "_model_module_version": "1.2.0",
            "_model_name": "LayoutModel",
            "_view_count": null,
            "_view_module": "@jupyter-widgets/base",
            "_view_module_version": "1.2.0",
            "_view_name": "LayoutView",
            "align_content": null,
            "align_items": null,
            "align_self": null,
            "border": null,
            "bottom": null,
            "display": null,
            "flex": null,
            "flex_flow": null,
            "grid_area": null,
            "grid_auto_columns": null,
            "grid_auto_flow": null,
            "grid_auto_rows": null,
            "grid_column": null,
            "grid_gap": null,
            "grid_row": null,
            "grid_template_areas": null,
            "grid_template_columns": null,
            "grid_template_rows": null,
            "height": null,
            "justify_content": null,
            "justify_items": null,
            "left": null,
            "margin": null,
            "max_height": null,
            "max_width": null,
            "min_height": null,
            "min_width": null,
            "object_fit": null,
            "object_position": null,
            "order": null,
            "overflow": null,
            "overflow_x": null,
            "overflow_y": null,
            "padding": null,
            "right": null,
            "top": null,
            "visibility": null,
            "width": null
          }
        },
        "4bafc3b0ed27498595e0676839f7f8f6": {
          "model_module": "@jupyter-widgets/controls",
          "model_name": "ProgressStyleModel",
          "model_module_version": "1.5.0",
          "state": {
            "_model_module": "@jupyter-widgets/controls",
            "_model_module_version": "1.5.0",
            "_model_name": "ProgressStyleModel",
            "_view_count": null,
            "_view_module": "@jupyter-widgets/base",
            "_view_module_version": "1.2.0",
            "_view_name": "StyleView",
            "bar_color": null,
            "description_width": ""
          }
        },
        "a28f0b0bb778472abf5567aeeb4d6e13": {
          "model_module": "@jupyter-widgets/base",
          "model_name": "LayoutModel",
          "model_module_version": "1.2.0",
          "state": {
            "_model_module": "@jupyter-widgets/base",
            "_model_module_version": "1.2.0",
            "_model_name": "LayoutModel",
            "_view_count": null,
            "_view_module": "@jupyter-widgets/base",
            "_view_module_version": "1.2.0",
            "_view_name": "LayoutView",
            "align_content": null,
            "align_items": null,
            "align_self": null,
            "border": null,
            "bottom": null,
            "display": null,
            "flex": null,
            "flex_flow": null,
            "grid_area": null,
            "grid_auto_columns": null,
            "grid_auto_flow": null,
            "grid_auto_rows": null,
            "grid_column": null,
            "grid_gap": null,
            "grid_row": null,
            "grid_template_areas": null,
            "grid_template_columns": null,
            "grid_template_rows": null,
            "height": null,
            "justify_content": null,
            "justify_items": null,
            "left": null,
            "margin": null,
            "max_height": null,
            "max_width": null,
            "min_height": null,
            "min_width": null,
            "object_fit": null,
            "object_position": null,
            "order": null,
            "overflow": null,
            "overflow_x": null,
            "overflow_y": null,
            "padding": null,
            "right": null,
            "top": null,
            "visibility": null,
            "width": null
          }
        },
        "d2aa873c9507437694a3f06b7900a21e": {
          "model_module": "@jupyter-widgets/controls",
          "model_name": "DescriptionStyleModel",
          "model_module_version": "1.5.0",
          "state": {
            "_model_module": "@jupyter-widgets/controls",
            "_model_module_version": "1.5.0",
            "_model_name": "DescriptionStyleModel",
            "_view_count": null,
            "_view_module": "@jupyter-widgets/base",
            "_view_module_version": "1.2.0",
            "_view_name": "StyleView",
            "description_width": ""
          }
        }
      }
    }
  },
  "nbformat": 4,
  "nbformat_minor": 0
}