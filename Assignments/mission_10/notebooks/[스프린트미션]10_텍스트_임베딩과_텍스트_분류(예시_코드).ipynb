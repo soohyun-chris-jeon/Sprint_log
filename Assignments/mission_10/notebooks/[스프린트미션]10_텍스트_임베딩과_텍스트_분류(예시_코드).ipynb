{
  "cells": [
    {
      "cell_type": "code",
      "execution_count": null,
      "metadata": {
        "colab": {
          "base_uri": "https://localhost:8080/"
        },
        "id": "6uHexIfa1BdV",
        "outputId": "106524cd-877b-4472-ce41-7fea13c66a11"
      },
      "outputs": [
        {
          "output_type": "stream",
          "name": "stderr",
          "text": [
            "[nltk_data] Downloading package punkt to /root/nltk_data...\n",
            "[nltk_data]   Package punkt is already up-to-date!\n",
            "[nltk_data] Downloading package punkt_tab to /root/nltk_data...\n",
            "[nltk_data]   Package punkt_tab is already up-to-date!\n",
            "[nltk_data] Downloading package stopwords to /root/nltk_data...\n",
            "[nltk_data]   Package stopwords is already up-to-date!\n"
          ]
        },
        {
          "output_type": "execute_result",
          "data": {
            "text/plain": [
              "True"
            ]
          },
          "metadata": {},
          "execution_count": 1
        }
      ],
      "source": [
        "from gensim.models import Word2Vec, FastText\n",
        "import torch\n",
        "import torch.nn as nn\n",
        "from torch.utils.data import Dataset\n",
        "import numpy as np\n",
        "from torch.utils.data import Dataset, DataLoader\n",
        "from nltk.tokenize import word_tokenize\n",
        "from sklearn.datasets import fetch_20newsgroups\n",
        "from sklearn.model_selection import train_test_split\n",
        "from nltk.tokenize import word_tokenize\n",
        "import matplotlib.pyplot as plt\n",
        "from nltk.corpus import stopwords\n",
        "import nltk\n",
        "\n",
        "nltk.download('punkt')\n",
        "nltk.download('punkt_tab')\n",
        "nltk.download('stopwords')"
      ]
    },
    {
      "cell_type": "code",
      "execution_count": null,
      "metadata": {
        "colab": {
          "base_uri": "https://localhost:8080/"
        },
        "id": "kgQA0Uv-g9PT",
        "outputId": "289855eb-8904-41ed-f4a2-1510b2a05553"
      },
      "outputs": [
        {
          "output_type": "stream",
          "name": "stdout",
          "text": [
            "cuda\n"
          ]
        }
      ],
      "source": [
        "# GPU 설정\n",
        "device = torch.device(\"cuda\" if torch.cuda.is_available() else \"cpu\")\n",
        "print(device)"
      ]
    },
    {
      "cell_type": "markdown",
      "metadata": {
        "id": "9_af2Pk0cSnC"
      },
      "source": [
        "# 데이터 불러오기"
      ]
    },
    {
      "cell_type": "code",
      "execution_count": null,
      "metadata": {
        "id": "KLdKSQXCcRMB"
      },
      "outputs": [],
      "source": [
        "news_data = fetch_20newsgroups(subset='all', remove=('headers', 'footers', 'quotes'))\n",
        "texts = news_data.data     # 문서 내용\n",
        "labels = news_data.target  # 레이블"
      ]
    },
    {
      "cell_type": "code",
      "execution_count": null,
      "metadata": {
        "colab": {
          "base_uri": "https://localhost:8080/"
        },
        "id": "omKtptx9cTl1",
        "outputId": "1b7e2c4a-c4e7-4c87-87d6-435a11b8da65"
      },
      "outputs": [
        {
          "output_type": "stream",
          "name": "stdout",
          "text": [
            "Number of documents: 18846\n",
            "Sample document: \n",
            "\n",
            "\n",
            "I am sure some bashers of Pens fans are pretty confused about the lack\n",
            "of any kind of posts about the recent Pens massacre of the Devils. Actually,\n",
            "I am  bit puzzled too and a bit relieved. However, I am going to put an end\n",
            "to non-PIttsburghers' relief with a bit of praise for the Pens. Man, they\n",
            "are killing those Devils worse than I thought. Jagr just showed you why\n",
            "he is much better than his regular season stats. He is also a lot\n",
            "fo fun to watch in the playoffs. Bowman should let JAgr have a lot of\n",
            "fun in the next couple of games since the Pens are going to beat the pulp out of Jersey anyway. I was very disappointed not to see the Islanders lose the final\n",
            "regular season game.          PENS RULE!!!\n",
            "\n",
            "\n",
            "Unique labels: {0, 1, 2, 3, 4, 5, 6, 7, 8, 9, 10, 11, 12, 13, 14, 15, 16, 17, 18, 19}\n"
          ]
        }
      ],
      "source": [
        "print(f\"Number of documents: {len(texts)}\")\n",
        "print(f\"Sample document: \\n{texts[0]}\")\n",
        "print(f\"Unique labels: {set(labels)}\")"
      ]
    },
    {
      "cell_type": "code",
      "execution_count": null,
      "metadata": {
        "id": "pGxNxGKLdJ0K"
      },
      "outputs": [],
      "source": [
        "# 데이터 분할\n",
        "train_inputs, test_inputs, train_targets, test_targets = train_test_split(texts, labels, test_size=0.2, random_state=42)"
      ]
    },
    {
      "cell_type": "code",
      "execution_count": null,
      "metadata": {
        "colab": {
          "base_uri": "https://localhost:8080/"
        },
        "id": "Oo5fKPzBkiGp",
        "outputId": "b46686c2-eea0-4a1c-ccb4-cebac7be72e7"
      },
      "outputs": [
        {
          "output_type": "stream",
          "name": "stderr",
          "text": [
            "[nltk_data] Downloading package stopwords to /root/nltk_data...\n",
            "[nltk_data]   Package stopwords is already up-to-date!\n"
          ]
        }
      ],
      "source": [
        "import re\n",
        "nltk.download('stopwords')\n",
        "stop_words = stopwords.words('english')\n",
        "\n",
        "# 텍스트 데이터 전처리\n",
        "def clean_text(text):\n",
        "    text = text.lower()\n",
        "    text = re.sub(r'[^a-zA-Z\\s]', '', text)\n",
        "    stop_words = set(stopwords.words('english'))\n",
        "    tokens = text.split()\n",
        "    tokens = [word for word in tokens if word not in stop_words]\n",
        "    return ' '.join(tokens)\n",
        "\n",
        "# 데이터에 적용 (1)\n",
        "train_inputs = [clean_text(text) for text in train_inputs]\n",
        "test_inputs = [clean_text(text) for text in test_inputs]\n",
        "\n",
        "# 단어 토큰화만 진행 (2)\n",
        "# train_sentences = [word_tokenize(text) for text in train_inputs]\n",
        "# test_sentences = [word_tokenize(text) for text in test_inputs]"
      ]
    },
    {
      "cell_type": "code",
      "execution_count": null,
      "metadata": {
        "colab": {
          "base_uri": "https://localhost:8080/",
          "height": 472
        },
        "id": "csfI4KXWiHB7",
        "outputId": "a257dfbe-9ee4-4cd8-bce9-406f57d2de34"
      },
      "outputs": [
        {
          "output_type": "display_data",
          "data": {
            "text/plain": [
              "<Figure size 640x480 with 1 Axes>"
            ],
            "image/png": "[encoded data removed]"
          },
          "metadata": {}
        }
      ],
      "source": [
        "# 메시지 길이 계산\n",
        "train_lengths = [len(word_tokenize(msg)) for msg in train_inputs]\n",
        "test_lengths = [len(word_tokenize(msg)) for msg in test_inputs]\n",
        "\n",
        "# 히스토그램 시각화\n",
        "plt.hist(train_lengths, bins=30, alpha=0.7, label='Train Data')\n",
        "plt.hist(test_lengths, bins=30, alpha=0.7, label='Test Data')\n",
        "plt.xlabel('Message Length (words)')\n",
        "plt.ylabel('Frequency')\n",
        "plt.legend()\n",
        "plt.title('Distribution of Message Lengths')\n",
        "plt.show()"
      ]
    },
    {
      "cell_type": "code",
      "execution_count": null,
      "metadata": {
        "colab": {
          "base_uri": "https://localhost:8080/"
        },
        "id": "fZup4BO1Kklp",
        "outputId": "620d2435-e2fe-4533-81e9-a3beb7b3733f"
      },
      "outputs": [
        {
          "output_type": "stream",
          "name": "stdout",
          "text": [
            "훈련 데이터 평균 길이: 93.84551605200318\n",
            "훈련 데이터 최대 길이: 6620\n",
            "훈련 데이터 95분위수 길이: 281.25\n"
          ]
        }
      ],
      "source": [
        "# 평균, 최대값, 중간값 계산 및 출력\n",
        "print(\"훈련 데이터 평균 길이:\", np.mean(train_lengths))\n",
        "print(\"훈련 데이터 최대 길이:\", np.max(train_lengths))\n",
        "print(\"훈련 데이터 95분위수 길이:\", np.percentile(train_lengths, 95))"
      ]
    },
    {
      "cell_type": "markdown",
      "metadata": {
        "id": "ISNLj8m-1GEw"
      },
      "source": [
        "# Word2vec"
      ]
    },
    {
      "cell_type": "code",
      "execution_count": null,
      "metadata": {
        "id": "ktjo91291FXB"
      },
      "outputs": [],
      "source": [
        "# 단어 토큰화\n",
        "train_sentences = [word_tokenize(text) for text in train_inputs]\n",
        "test_sentences = [word_tokenize(text) for text in test_inputs]"
      ]
    },
    {
      "cell_type": "code",
      "execution_count": null,
      "metadata": {
        "id": "uI5SM6TM1Iyp"
      },
      "outputs": [],
      "source": [
        "# Word2Vec 모델 학습\n",
        "word2vec_model = Word2Vec(sentences=train_sentences, vector_size=128, window=5, min_count=1, sg=1)\n",
        "word2vec_matrix = np.zeros((len(word2vec_model.wv) + 1, 128))\n",
        "word2idx_word2vec = {word: idx + 1 for idx, word in enumerate(word2vec_model.wv.index_to_key)}\n",
        "\n",
        "for word, idx in word2idx_word2vec.items():\n",
        "    word2vec_matrix[idx] = word2vec_model.wv[word]"
      ]
    },
    {
      "cell_type": "code",
      "execution_count": null,
      "metadata": {
        "id": "I_xwAKqJ1FZi"
      },
      "outputs": [],
      "source": [
        "class TextEmbeddingDataset(Dataset):\n",
        "    def __init__(self, texts, labels, word2idx, max_len):\n",
        "        self.texts = texts\n",
        "        self.labels = labels\n",
        "        self.word2idx = word2idx\n",
        "        self.max_len = max_len\n",
        "\n",
        "    def __len__(self):\n",
        "        return len(self.texts)\n",
        "\n",
        "    def __getitem__(self, idx):\n",
        "        tokens = word_tokenize(self.texts[idx])\n",
        "        encoded = [self.word2idx.get(word, 0) for word in tokens]  # OOV 단어는 0\n",
        "        if len(encoded) < self.max_len:\n",
        "            encoded += [0] * (self.max_len - len(encoded))\n",
        "        else:\n",
        "            encoded = encoded[:self.max_len]\n",
        "        return torch.tensor(encoded, dtype=torch.long), torch.tensor(self.labels[idx], dtype=torch.long)"
      ]
    },
    {
      "cell_type": "code",
      "execution_count": null,
      "metadata": {
        "id": "wzbsBVPo1Fbm"
      },
      "outputs": [],
      "source": [
        "max_len = 280\n",
        "\n",
        "# Word2Vec Dataset\n",
        "train_dataset_word2vec = TextEmbeddingDataset(train_inputs, train_targets, word2idx_word2vec, max_len)\n",
        "test_dataset_word2vec = TextEmbeddingDataset(test_inputs, test_targets, word2idx_word2vec, max_len)\n",
        "\n",
        "# Word2Vec DataLoader\n",
        "train_loader_word2vec = DataLoader(train_dataset_word2vec, batch_size=64, shuffle=True)\n",
        "test_loader_word2vec = DataLoader(test_dataset_word2vec, batch_size=64, shuffle=False)"
      ]
    },
    {
      "cell_type": "code",
      "execution_count": null,
      "metadata": {
        "id": "mRzmVt02p5Ih"
      },
      "outputs": [],
      "source": [
        "def train(model, loader, criterion, optimizer):\n",
        "    model.train()\n",
        "    total_loss = 0\n",
        "    for texts, labels in loader:\n",
        "        texts, labels = texts.to(device), labels.to(device)\n",
        "        optimizer.zero_grad()\n",
        "        outputs = model(texts)  # 출력: (batch_size, 20)\n",
        "        loss = criterion(outputs, labels)  # 레이블은 정수형 (0~19)\n",
        "        loss.backward()\n",
        "        optimizer.step()\n",
        "        total_loss += loss.item()\n",
        "    return total_loss / len(loader)\n",
        "\n",
        "def evaluate(model, loader):\n",
        "    model.eval()\n",
        "    correct, total = 0, 0\n",
        "    with torch.no_grad():\n",
        "        for texts, labels in loader:\n",
        "            texts, labels = texts.to(device), labels.to(device)\n",
        "            outputs = model(texts)\n",
        "            predictions = torch.argmax(outputs, dim=1)  # 가장 높은 확률의 인덱스\n",
        "            correct += (predictions == labels).sum().item()\n",
        "            total += labels.size(0)\n",
        "    return correct / total"
      ]
    },
    {
      "cell_type": "code",
      "execution_count": null,
      "metadata": {
        "id": "-pjsOc5h1FeS"
      },
      "outputs": [],
      "source": [
        "class EmbeddingLSTM(nn.Module):\n",
        "    def __init__(self, embedding_matrix, hidden_dim, output_dim, num_layers=2, dropout=0.5):\n",
        "        super(EmbeddingLSTM, self).__init__()\n",
        "        num_embeddings, embedding_dim = embedding_matrix.shape\n",
        "        self.embedding = nn.Embedding.from_pretrained(torch.tensor(embedding_matrix, dtype=torch.float).to(device), freeze=False)\n",
        "        self.lstm = nn.LSTM(embedding_dim, hidden_dim, num_layers=num_layers, batch_first=True, dropout=dropout, bidirectional=True)\n",
        "        self.fc = nn.Linear(hidden_dim, output_dim)\n",
        "\n",
        "    def forward(self, x):\n",
        "        embedded = self.embedding(x)\n",
        "        _, (hidden, _) = self.lstm(embedded)\n",
        "        output = self.fc(hidden[-1])\n",
        "        return output"
      ]
    },
    {
      "cell_type": "code",
      "execution_count": null,
      "metadata": {
        "id": "e3xQwbUruN73"
      },
      "outputs": [],
      "source": [
        "hidden_dim = 128\n",
        "output_dim = len(set(labels))"
      ]
    },
    {
      "cell_type": "code",
      "execution_count": null,
      "metadata": {
        "colab": {
          "base_uri": "https://localhost:8080/"
        },
        "id": "mnH7G4zh6aNI",
        "outputId": "cfb8d424-3746-4322-be24-5de08444246f"
      },
      "outputs": [
        {
          "output_type": "stream",
          "name": "stdout",
          "text": [
            "Epoch 1, Loss: 2.0305\n",
            "Epoch 2, Loss: 1.1694\n",
            "Epoch 3, Loss: 0.6997\n",
            "Epoch 4, Loss: 0.4496\n",
            "Epoch 5, Loss: 0.2950\n",
            "Epoch 6, Loss: 0.2188\n",
            "Epoch 7, Loss: 0.1697\n",
            "Epoch 8, Loss: 0.1457\n",
            "Epoch 9, Loss: 0.1318\n",
            "Epoch 10, Loss: 0.1233\n",
            "Test Accuracy (Word2Vec with LSTM): 0.6586\n"
          ]
        }
      ],
      "source": [
        "model_word2vec = EmbeddingLSTM(word2vec_matrix, hidden_dim, output_dim).to(device)\n",
        "loss_fn = nn.CrossEntropyLoss()\n",
        "optimizer = torch.optim.Adam(model_word2vec.parameters(), lr=0.005)\n",
        "\n",
        "for epoch in range(10):\n",
        "    loss = train(model_word2vec, train_loader_word2vec, loss_fn, optimizer)\n",
        "    print(f\"Epoch {epoch+1}, Loss: {loss:.4f}\")\n",
        "\n",
        "accuracy = evaluate(model_word2vec, test_loader_word2vec)\n",
        "print(f\"Test Accuracy (Word2Vec with LSTM): {accuracy:.4f}\")"
      ]
    },
    {
      "cell_type": "markdown",
      "metadata": {
        "id": "nW9C6QEEgJ5l"
      },
      "source": [
        "# FastText"
      ]
    },
    {
      "cell_type": "code",
      "execution_count": null,
      "metadata": {
        "id": "pZuvNuKigLJb"
      },
      "outputs": [],
      "source": [
        "# FastText 모델 학습\n",
        "fasttext_model = FastText(sentences=train_sentences, vector_size=128, window=5, min_count=1, sg=1)\n",
        "fasttext_matrix = np.zeros((len(fasttext_model.wv) + 1, 128))\n",
        "\n",
        "word2idx_fasttext = {word: idx + 1 for idx, word in enumerate(fasttext_model.wv.index_to_key)}\n",
        "\n",
        "for word, idx in word2idx_fasttext.items():\n",
        "    fasttext_matrix[idx] = fasttext_model.wv[word]"
      ]
    },
    {
      "cell_type": "code",
      "execution_count": null,
      "metadata": {
        "id": "_BJlpZiQ7JIt"
      },
      "outputs": [],
      "source": [
        "# FastText Dataset\n",
        "train_dataset_fasttext = TextEmbeddingDataset(train_inputs, train_targets, word2idx_fasttext, max_len)\n",
        "test_dataset_fasttext = TextEmbeddingDataset(test_inputs, test_targets, word2idx_fasttext, max_len)\n",
        "\n",
        "# FastText DataLoader\n",
        "train_loader_fasttext = DataLoader(train_dataset_fasttext, batch_size=64, shuffle=True)\n",
        "test_loader_fasttext = DataLoader(test_dataset_fasttext, batch_size=64, shuffle=False)"
      ]
    },
    {
      "cell_type": "code",
      "execution_count": null,
      "metadata": {
        "id": "lm0TYDYQ7JOL",
        "colab": {
          "base_uri": "https://localhost:8080/"
        },
        "outputId": "9fab2350-6521-45b0-908f-243d72c93e2d"
      },
      "outputs": [
        {
          "output_type": "stream",
          "name": "stdout",
          "text": [
            "Epoch 1, Loss: 1.9967\n",
            "Epoch 2, Loss: 1.1477\n",
            "Epoch 3, Loss: 0.7490\n",
            "Epoch 4, Loss: 0.4946\n",
            "Epoch 5, Loss: 0.3448\n",
            "Epoch 6, Loss: 0.2607\n",
            "Epoch 7, Loss: 0.2012\n",
            "Epoch 8, Loss: 0.1671\n",
            "Epoch 9, Loss: 0.1488\n",
            "Epoch 10, Loss: 0.1382\n",
            "Test Accuracy (FastText with LSTM): 0.6650\n"
          ]
        }
      ],
      "source": [
        "model_fasttext = EmbeddingLSTM(fasttext_matrix, hidden_dim, output_dim).to(device)\n",
        "loss_fn = nn.CrossEntropyLoss()\n",
        "optimizer = torch.optim.Adam(model_fasttext.parameters(), lr=0.005)\n",
        "\n",
        "for epoch in range(10):\n",
        "    loss = train(model_fasttext, train_loader_fasttext, loss_fn, optimizer)\n",
        "    print(f\"Epoch {epoch+1}, Loss: {loss:.4f}\")\n",
        "\n",
        "accuracy = evaluate(model_fasttext, test_loader_fasttext)\n",
        "print(f\"Test Accuracy (FastText with LSTM): {accuracy:.4f}\")"
      ]
    },
    {
      "cell_type": "markdown",
      "metadata": {
        "id": "g10W_P6o7hzG"
      },
      "source": [
        "# GloVe"
      ]
    },
    {
      "cell_type": "code",
      "execution_count": null,
      "metadata": {
        "id": "dXM0jrLs-S29",
        "colab": {
          "base_uri": "https://localhost:8080/"
        },
        "outputId": "4507bd72-dc76-4040-83aa-92ecde84e8ba"
      },
      "outputs": [
        {
          "output_type": "stream",
          "name": "stdout",
          "text": [
            "Downloading GloVe embeddings...\n",
            "GloVe embeddings downloaded and extracted.\n"
          ]
        }
      ],
      "source": [
        "import os\n",
        "import urllib.request\n",
        "\n",
        "# GloVe 다운로드 및 임베딩 로드\n",
        "GLOVE_URL = \"https://nlp.stanford.edu/data/glove.6B.zip\"\n",
        "GLOVE_ZIP = \"glove.6B.zip\"\n",
        "GLOVE_FILE = \"glove.6B.200d.txt\"\n",
        "\n",
        "if not os.path.exists(GLOVE_FILE):\n",
        "    print(\"Downloading GloVe embeddings...\")\n",
        "    urllib.request.urlretrieve(GLOVE_URL, GLOVE_ZIP)\n",
        "    import zipfile\n",
        "    with zipfile.ZipFile(GLOVE_ZIP, 'r') as zip_ref:\n",
        "        zip_ref.extractall()\n",
        "    print(\"GloVe embeddings downloaded and extracted.\")\n",
        "else:\n",
        "    print(\"GloVe embeddings already available.\")"
      ]
    },
    {
      "cell_type": "code",
      "execution_count": null,
      "metadata": {
        "id": "PtvQiGDi-lae"
      },
      "outputs": [],
      "source": [
        "embedding_dim = 200  # GloVe 임베딩 차원 설정\n",
        "glove_embeddings = {}\n",
        "\n",
        "with open(GLOVE_FILE, 'r', encoding='utf-8') as f:\n",
        "    for line in f:\n",
        "        values = line.split()\n",
        "        word = values[0]\n",
        "        coeffs = np.asarray(values[1:], dtype='float32')\n",
        "        glove_embeddings[word] = coeffs"
      ]
    },
    {
      "cell_type": "code",
      "execution_count": null,
      "metadata": {
        "id": "H9XGV1S3-qAS",
        "colab": {
          "base_uri": "https://localhost:8080/"
        },
        "outputId": "021c5778-3cfc-4c00-94c4-1c400fab1dbd"
      },
      "outputs": [
        {
          "output_type": "execute_result",
          "data": {
            "text/plain": [
              "400000"
            ]
          },
          "metadata": {},
          "execution_count": 22
        }
      ],
      "source": [
        "len(glove_embeddings)"
      ]
    },
    {
      "cell_type": "code",
      "execution_count": null,
      "metadata": {
        "id": "10fL_A-G_HMR"
      },
      "outputs": [],
      "source": [
        "# GloVe word2idx 생성\n",
        "word2idx_glove = {word: idx + 1 for idx, word in enumerate(glove_embeddings.keys())}\n",
        "glove_matrix = np.zeros((len(word2idx_glove) + 1, embedding_dim))\n",
        "\n",
        "for word, idx in word2idx_glove.items():\n",
        "    embedding_vector = glove_embeddings.get(word)\n",
        "    if embedding_vector is not None:\n",
        "        glove_matrix[idx] = embedding_vector"
      ]
    },
    {
      "cell_type": "code",
      "execution_count": null,
      "metadata": {
        "id": "Ja_J8Hhu-A02"
      },
      "outputs": [],
      "source": [
        "# GloVe Dataset\n",
        "train_dataset_glove = TextEmbeddingDataset(train_inputs, train_targets, word2idx_glove, max_len)\n",
        "test_dataset_glove = TextEmbeddingDataset(test_inputs, test_targets, word2idx_glove, max_len)\n",
        "\n",
        "# GloVe DataLoader\n",
        "train_loader_glove = DataLoader(train_dataset_glove, batch_size=32, shuffle=True)\n",
        "test_loader_glove = DataLoader(test_dataset_glove, batch_size=32, shuffle=False)"
      ]
    },
    {
      "cell_type": "code",
      "execution_count": null,
      "metadata": {
        "id": "GwlmMKks_Dc7",
        "colab": {
          "base_uri": "https://localhost:8080/"
        },
        "outputId": "7281502d-2cca-4801-d89a-fae02170577a"
      },
      "outputs": [
        {
          "output_type": "stream",
          "name": "stdout",
          "text": [
            "Epoch 1, Loss: 1.7441\n",
            "Epoch 2, Loss: 1.0268\n",
            "Epoch 3, Loss: 0.6785\n",
            "Epoch 4, Loss: 0.4661\n",
            "Epoch 5, Loss: 0.3448\n",
            "Epoch 6, Loss: 0.2650\n",
            "Epoch 7, Loss: 0.2335\n",
            "Epoch 8, Loss: 0.2107\n",
            "Epoch 9, Loss: 0.1839\n",
            "Epoch 10, Loss: 0.1875\n",
            "Test Accuracy (GloVe with LSTM): 0.6626\n"
          ]
        }
      ],
      "source": [
        "model_glove = EmbeddingLSTM(glove_matrix, hidden_dim, output_dim).to(device)\n",
        "loss_fn = nn.CrossEntropyLoss()\n",
        "optimizer = torch.optim.Adam(model_glove.parameters(), lr=0.005)\n",
        "\n",
        "for epoch in range(10):\n",
        "    loss = train(model_glove, train_loader_glove, loss_fn, optimizer)\n",
        "    print(f\"Epoch {epoch+1}, Loss: {loss:.4f}\")\n",
        "\n",
        "accuracy = evaluate(model_glove, test_loader_glove)\n",
        "print(f\"Test Accuracy (GloVe with LSTM): {accuracy:.4f}\")"
      ]
    },
    {
      "cell_type": "code",
      "source": [],
      "metadata": {
        "id": "SkkM_SDn2m4g"
      },
      "execution_count": null,
      "outputs": []
    }
  ],
  "metadata": {
    "accelerator": "GPU",
    "colab": {
      "gpuType": "T4",
      "provenance": []
    },
    "kernelspec": {
      "display_name": "Python 3",
      "name": "python3"
    },
    "language_info": {
      "name": "python"
    }
  },
  "nbformat": 4,
  "nbformat_minor": 0
}