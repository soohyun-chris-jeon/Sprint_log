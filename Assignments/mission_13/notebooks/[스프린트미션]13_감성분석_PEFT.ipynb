{
  "nbformat": 4,
  "nbformat_minor": 0,
  "metadata": {
    "colab": {
      "provenance": [],
      "gpuType": "A100",
      "machine_shape": "hm"
    },
    "kernelspec": {
      "name": "python3",
      "display_name": "Python 3"
    },
    "language_info": {
      "name": "python"
    },
    "accelerator": "GPU",
    "widgets": {
      "application/vnd.jupyter.widget-state+json": {
        "61526e6fa4ad472fb4b2944e33d8819b": {
          "model_module": "@jupyter-widgets/controls",
          "model_name": "HBoxModel",
          "model_module_version": "1.5.0",
          "state": {
            "_dom_classes": [],
            "_model_module": "@jupyter-widgets/controls",
            "_model_module_version": "1.5.0",
            "_model_name": "HBoxModel",
            "_view_count": null,
            "_view_module": "@jupyter-widgets/controls",
            "_view_module_version": "1.5.0",
            "_view_name": "HBoxView",
            "box_style": "",
            "children": [
              "IPY_MODEL_93383ae6cd1a47358dfd698b921fc002",
              "IPY_MODEL_663b08bd86e643aca9f0b484f8db3d1e",
              "IPY_MODEL_ceeb49fc21b84245ad1d354d7c16645f"
            ],
            "layout": "IPY_MODEL_39a3ec28beec45358867cdc52f8d8e08"
          }
        },
        "93383ae6cd1a47358dfd698b921fc002": {
          "model_module": "@jupyter-widgets/controls",
          "model_name": "HTMLModel",
          "model_module_version": "1.5.0",
          "state": {
            "_dom_classes": [],
            "_model_module": "@jupyter-widgets/controls",
            "_model_module_version": "1.5.0",
            "_model_name": "HTMLModel",
            "_view_count": null,
            "_view_module": "@jupyter-widgets/controls",
            "_view_module_version": "1.5.0",
            "_view_name": "HTMLView",
            "description": "",
            "description_tooltip": null,
            "layout": "IPY_MODEL_3e9ade2ac1084b07b3b1db197e9a0931",
            "placeholder": "​",
            "style": "IPY_MODEL_0caa4712b4a342d2b9c5f8dc60b8163d",
            "value": "Map: 100%"
          }
        },
        "663b08bd86e643aca9f0b484f8db3d1e": {
          "model_module": "@jupyter-widgets/controls",
          "model_name": "FloatProgressModel",
          "model_module_version": "1.5.0",
          "state": {
            "_dom_classes": [],
            "_model_module": "@jupyter-widgets/controls",
            "_model_module_version": "1.5.0",
            "_model_name": "FloatProgressModel",
            "_view_count": null,
            "_view_module": "@jupyter-widgets/controls",
            "_view_module_version": "1.5.0",
            "_view_name": "ProgressView",
            "bar_style": "success",
            "description": "",
            "description_tooltip": null,
            "layout": "IPY_MODEL_d209db03e75d49b0a9f457d504a8e4df",
            "max": 35518,
            "min": 0,
            "orientation": "horizontal",
            "style": "IPY_MODEL_fb5131d5bc564f89be9214229ffe2d3e",
            "value": 35518
          }
        },
        "ceeb49fc21b84245ad1d354d7c16645f": {
          "model_module": "@jupyter-widgets/controls",
          "model_name": "HTMLModel",
          "model_module_version": "1.5.0",
          "state": {
            "_dom_classes": [],
            "_model_module": "@jupyter-widgets/controls",
            "_model_module_version": "1.5.0",
            "_model_name": "HTMLModel",
            "_view_count": null,
            "_view_module": "@jupyter-widgets/controls",
            "_view_module_version": "1.5.0",
            "_view_name": "HTMLView",
            "description": "",
            "description_tooltip": null,
            "layout": "IPY_MODEL_2f335045c9154328afa0be257f245f23",
            "placeholder": "​",
            "style": "IPY_MODEL_38eafec6de0c4902b51a9342d16b7ded",
            "value": " 35518/35518 [00:04&lt;00:00, 8534.93 examples/s]"
          }
        },
        "39a3ec28beec45358867cdc52f8d8e08": {
          "model_module": "@jupyter-widgets/base",
          "model_name": "LayoutModel",
          "model_module_version": "1.2.0",
          "state": {
            "_model_module": "@jupyter-widgets/base",
            "_model_module_version": "1.2.0",
            "_model_name": "LayoutModel",
            "_view_count": null,
            "_view_module": "@jupyter-widgets/base",
            "_view_module_version": "1.2.0",
            "_view_name": "LayoutView",
            "align_content": null,
            "align_items": null,
            "align_self": null,
            "border": null,
            "bottom": null,
            "display": null,
            "flex": null,
            "flex_flow": null,
            "grid_area": null,
            "grid_auto_columns": null,
            "grid_auto_flow": null,
            "grid_auto_rows": null,
            "grid_column": null,
            "grid_gap": null,
            "grid_row": null,
            "grid_template_areas": null,
            "grid_template_columns": null,
            "grid_template_rows": null,
            "height": null,
            "justify_content": null,
            "justify_items": null,
            "left": null,
            "margin": null,
            "max_height": null,
            "max_width": null,
            "min_height": null,
            "min_width": null,
            "object_fit": null,
            "object_position": null,
            "order": null,
            "overflow": null,
            "overflow_x": null,
            "overflow_y": null,
            "padding": null,
            "right": null,
            "top": null,
            "visibility": null,
            "width": null
          }
        },
        "3e9ade2ac1084b07b3b1db197e9a0931": {
          "model_module": "@jupyter-widgets/base",
          "model_name": "LayoutModel",
          "model_module_version": "1.2.0",
          "state": {
            "_model_module": "@jupyter-widgets/base",
            "_model_module_version": "1.2.0",
            "_model_name": "LayoutModel",
            "_view_count": null,
            "_view_module": "@jupyter-widgets/base",
            "_view_module_version": "1.2.0",
            "_view_name": "LayoutView",
            "align_content": null,
            "align_items": null,
            "align_self": null,
            "border": null,
            "bottom": null,
            "display": null,
            "flex": null,
            "flex_flow": null,
            "grid_area": null,
            "grid_auto_columns": null,
            "grid_auto_flow": null,
            "grid_auto_rows": null,
            "grid_column": null,
            "grid_gap": null,
            "grid_row": null,
            "grid_template_areas": null,
            "grid_template_columns": null,
            "grid_template_rows": null,
            "height": null,
            "justify_content": null,
            "justify_items": null,
            "left": null,
            "margin": null,
            "max_height": null,
            "max_width": null,
            "min_height": null,
            "min_width": null,
            "object_fit": null,
            "object_position": null,
            "order": null,
            "overflow": null,
            "overflow_x": null,
            "overflow_y": null,
            "padding": null,
            "right": null,
            "top": null,
            "visibility": null,
            "width": null
          }
        },
        "0caa4712b4a342d2b9c5f8dc60b8163d": {
          "model_module": "@jupyter-widgets/controls",
          "model_name": "DescriptionStyleModel",
          "model_module_version": "1.5.0",
          "state": {
            "_model_module": "@jupyter-widgets/controls",
            "_model_module_version": "1.5.0",
            "_model_name": "DescriptionStyleModel",
            "_view_count": null,
            "_view_module": "@jupyter-widgets/base",
            "_view_module_version": "1.2.0",
            "_view_name": "StyleView",
            "description_width": ""
          }
        },
        "d209db03e75d49b0a9f457d504a8e4df": {
          "model_module": "@jupyter-widgets/base",
          "model_name": "LayoutModel",
          "model_module_version": "1.2.0",
          "state": {
            "_model_module": "@jupyter-widgets/base",
            "_model_module_version": "1.2.0",
            "_model_name": "LayoutModel",
            "_view_count": null,
            "_view_module": "@jupyter-widgets/base",
            "_view_module_version": "1.2.0",
            "_view_name": "LayoutView",
            "align_content": null,
            "align_items": null,
            "align_self": null,
            "border": null,
            "bottom": null,
            "display": null,
            "flex": null,
            "flex_flow": null,
            "grid_area": null,
            "grid_auto_columns": null,
            "grid_auto_flow": null,
            "grid_auto_rows": null,
            "grid_column": null,
            "grid_gap": null,
            "grid_row": null,
            "grid_template_areas": null,
            "grid_template_columns": null,
            "grid_template_rows": null,
            "height": null,
            "justify_content": null,
            "justify_items": null,
            "left": null,
            "margin": null,
            "max_height": null,
            "max_width": null,
            "min_height": null,
            "min_width": null,
            "object_fit": null,
            "object_position": null,
            "order": null,
            "overflow": null,
            "overflow_x": null,
            "overflow_y": null,
            "padding": null,
            "right": null,
            "top": null,
            "visibility": null,
            "width": null
          }
        },
        "fb5131d5bc564f89be9214229ffe2d3e": {
          "model_module": "@jupyter-widgets/controls",
          "model_name": "ProgressStyleModel",
          "model_module_version": "1.5.0",
          "state": {
            "_model_module": "@jupyter-widgets/controls",
            "_model_module_version": "1.5.0",
            "_model_name": "ProgressStyleModel",
            "_view_count": null,
            "_view_module": "@jupyter-widgets/base",
            "_view_module_version": "1.2.0",
            "_view_name": "StyleView",
            "bar_color": null,
            "description_width": ""
          }
        },
        "2f335045c9154328afa0be257f245f23": {
          "model_module": "@jupyter-widgets/base",
          "model_name": "LayoutModel",
          "model_module_version": "1.2.0",
          "state": {
            "_model_module": "@jupyter-widgets/base",
            "_model_module_version": "1.2.0",
            "_model_name": "LayoutModel",
            "_view_count": null,
            "_view_module": "@jupyter-widgets/base",
            "_view_module_version": "1.2.0",
            "_view_name": "LayoutView",
            "align_content": null,
            "align_items": null,
            "align_self": null,
            "border": null,
            "bottom": null,
            "display": null,
            "flex": null,
            "flex_flow": null,
            "grid_area": null,
            "grid_auto_columns": null,
            "grid_auto_flow": null,
            "grid_auto_rows": null,
            "grid_column": null,
            "grid_gap": null,
            "grid_row": null,
            "grid_template_areas": null,
            "grid_template_columns": null,
            "grid_template_rows": null,
            "height": null,
            "justify_content": null,
            "justify_items": null,
            "left": null,
            "margin": null,
            "max_height": null,
            "max_width": null,
            "min_height": null,
            "min_width": null,
            "object_fit": null,
            "object_position": null,
            "order": null,
            "overflow": null,
            "overflow_x": null,
            "overflow_y": null,
            "padding": null,
            "right": null,
            "top": null,
            "visibility": null,
            "width": null
          }
        },
        "38eafec6de0c4902b51a9342d16b7ded": {
          "model_module": "@jupyter-widgets/controls",
          "model_name": "DescriptionStyleModel",
          "model_module_version": "1.5.0",
          "state": {
            "_model_module": "@jupyter-widgets/controls",
            "_model_module_version": "1.5.0",
            "_model_name": "DescriptionStyleModel",
            "_view_count": null,
            "_view_module": "@jupyter-widgets/base",
            "_view_module_version": "1.2.0",
            "_view_name": "StyleView",
            "description_width": ""
          }
        },
        "8ae1bf3679794292a29cd5f5bbc32142": {
          "model_module": "@jupyter-widgets/controls",
          "model_name": "HBoxModel",
          "model_module_version": "1.5.0",
          "state": {
            "_dom_classes": [],
            "_model_module": "@jupyter-widgets/controls",
            "_model_module_version": "1.5.0",
            "_model_name": "HBoxModel",
            "_view_count": null,
            "_view_module": "@jupyter-widgets/controls",
            "_view_module_version": "1.5.0",
            "_view_name": "HBoxView",
            "box_style": "",
            "children": [
              "IPY_MODEL_15e9cef6af3046bda3cd87fcf97beea9",
              "IPY_MODEL_46c81b2d138a4c289fe3e57b53b710b5",
              "IPY_MODEL_15e1fddfe00141f0b0568357eb57d4b3"
            ],
            "layout": "IPY_MODEL_3ebe3847e414404c8964644fd840eed6"
          }
        },
        "15e9cef6af3046bda3cd87fcf97beea9": {
          "model_module": "@jupyter-widgets/controls",
          "model_name": "HTMLModel",
          "model_module_version": "1.5.0",
          "state": {
            "_dom_classes": [],
            "_model_module": "@jupyter-widgets/controls",
            "_model_module_version": "1.5.0",
            "_model_name": "HTMLModel",
            "_view_count": null,
            "_view_module": "@jupyter-widgets/controls",
            "_view_module_version": "1.5.0",
            "_view_name": "HTMLView",
            "description": "",
            "description_tooltip": null,
            "layout": "IPY_MODEL_994348d2c594434aabfbbe83473971f5",
            "placeholder": "​",
            "style": "IPY_MODEL_ea91ac23a63541c1b5ef3dc547001809",
            "value": "Map: 100%"
          }
        },
        "46c81b2d138a4c289fe3e57b53b710b5": {
          "model_module": "@jupyter-widgets/controls",
          "model_name": "FloatProgressModel",
          "model_module_version": "1.5.0",
          "state": {
            "_dom_classes": [],
            "_model_module": "@jupyter-widgets/controls",
            "_model_module_version": "1.5.0",
            "_model_name": "FloatProgressModel",
            "_view_count": null,
            "_view_module": "@jupyter-widgets/controls",
            "_view_module_version": "1.5.0",
            "_view_name": "ProgressView",
            "bar_style": "success",
            "description": "",
            "description_tooltip": null,
            "layout": "IPY_MODEL_fc9033309f1441fc9b226d9c77afbb00",
            "max": 8880,
            "min": 0,
            "orientation": "horizontal",
            "style": "IPY_MODEL_5b0b587b24b74b11b5825d3b8f3101ab",
            "value": 8880
          }
        },
        "15e1fddfe00141f0b0568357eb57d4b3": {
          "model_module": "@jupyter-widgets/controls",
          "model_name": "HTMLModel",
          "model_module_version": "1.5.0",
          "state": {
            "_dom_classes": [],
            "_model_module": "@jupyter-widgets/controls",
            "_model_module_version": "1.5.0",
            "_model_name": "HTMLModel",
            "_view_count": null,
            "_view_module": "@jupyter-widgets/controls",
            "_view_module_version": "1.5.0",
            "_view_name": "HTMLView",
            "description": "",
            "description_tooltip": null,
            "layout": "IPY_MODEL_d6c949b21c564d0a832f25114e250029",
            "placeholder": "​",
            "style": "IPY_MODEL_957e033751244aed800c03406ca3ca31",
            "value": " 8880/8880 [00:01&lt;00:00, 7337.83 examples/s]"
          }
        },
        "3ebe3847e414404c8964644fd840eed6": {
          "model_module": "@jupyter-widgets/base",
          "model_name": "LayoutModel",
          "model_module_version": "1.2.0",
          "state": {
            "_model_module": "@jupyter-widgets/base",
            "_model_module_version": "1.2.0",
            "_model_name": "LayoutModel",
            "_view_count": null,
            "_view_module": "@jupyter-widgets/base",
            "_view_module_version": "1.2.0",
            "_view_name": "LayoutView",
            "align_content": null,
            "align_items": null,
            "align_self": null,
            "border": null,
            "bottom": null,
            "display": null,
            "flex": null,
            "flex_flow": null,
            "grid_area": null,
            "grid_auto_columns": null,
            "grid_auto_flow": null,
            "grid_auto_rows": null,
            "grid_column": null,
            "grid_gap": null,
            "grid_row": null,
            "grid_template_areas": null,
            "grid_template_columns": null,
            "grid_template_rows": null,
            "height": null,
            "justify_content": null,
            "justify_items": null,
            "left": null,
            "margin": null,
            "max_height": null,
            "max_width": null,
            "min_height": null,
            "min_width": null,
            "object_fit": null,
            "object_position": null,
            "order": null,
            "overflow": null,
            "overflow_x": null,
            "overflow_y": null,
            "padding": null,
            "right": null,
            "top": null,
            "visibility": null,
            "width": null
          }
        },
        "994348d2c594434aabfbbe83473971f5": {
          "model_module": "@jupyter-widgets/base",
          "model_name": "LayoutModel",
          "model_module_version": "1.2.0",
          "state": {
            "_model_module": "@jupyter-widgets/base",
            "_model_module_version": "1.2.0",
            "_model_name": "LayoutModel",
            "_view_count": null,
            "_view_module": "@jupyter-widgets/base",
            "_view_module_version": "1.2.0",
            "_view_name": "LayoutView",
            "align_content": null,
            "align_items": null,
            "align_self": null,
            "border": null,
            "bottom": null,
            "display": null,
            "flex": null,
            "flex_flow": null,
            "grid_area": null,
            "grid_auto_columns": null,
            "grid_auto_flow": null,
            "grid_auto_rows": null,
            "grid_column": null,
            "grid_gap": null,
            "grid_row": null,
            "grid_template_areas": null,
            "grid_template_columns": null,
            "grid_template_rows": null,
            "height": null,
            "justify_content": null,
            "justify_items": null,
            "left": null,
            "margin": null,
            "max_height": null,
            "max_width": null,
            "min_height": null,
            "min_width": null,
            "object_fit": null,
            "object_position": null,
            "order": null,
            "overflow": null,
            "overflow_x": null,
            "overflow_y": null,
            "padding": null,
            "right": null,
            "top": null,
            "visibility": null,
            "width": null
          }
        },
        "ea91ac23a63541c1b5ef3dc547001809": {
          "model_module": "@jupyter-widgets/controls",
          "model_name": "DescriptionStyleModel",
          "model_module_version": "1.5.0",
          "state": {
            "_model_module": "@jupyter-widgets/controls",
            "_model_module_version": "1.5.0",
            "_model_name": "DescriptionStyleModel",
            "_view_count": null,
            "_view_module": "@jupyter-widgets/base",
            "_view_module_version": "1.2.0",
            "_view_name": "StyleView",
            "description_width": ""
          }
        },
        "fc9033309f1441fc9b226d9c77afbb00": {
          "model_module": "@jupyter-widgets/base",
          "model_name": "LayoutModel",
          "model_module_version": "1.2.0",
          "state": {
            "_model_module": "@jupyter-widgets/base",
            "_model_module_version": "1.2.0",
            "_model_name": "LayoutModel",
            "_view_count": null,
            "_view_module": "@jupyter-widgets/base",
            "_view_module_version": "1.2.0",
            "_view_name": "LayoutView",
            "align_content": null,
            "align_items": null,
            "align_self": null,
            "border": null,
            "bottom": null,
            "display": null,
            "flex": null,
            "flex_flow": null,
            "grid_area": null,
            "grid_auto_columns": null,
            "grid_auto_flow": null,
            "grid_auto_rows": null,
            "grid_column": null,
            "grid_gap": null,
            "grid_row": null,
            "grid_template_areas": null,
            "grid_template_columns": null,
            "grid_template_rows": null,
            "height": null,
            "justify_content": null,
            "justify_items": null,
            "left": null,
            "margin": null,
            "max_height": null,
            "max_width": null,
            "min_height": null,
            "min_width": null,
            "object_fit": null,
            "object_position": null,
            "order": null,
            "overflow": null,
            "overflow_x": null,
            "overflow_y": null,
            "padding": null,
            "right": null,
            "top": null,
            "visibility": null,
            "width": null
          }
        },
        "5b0b587b24b74b11b5825d3b8f3101ab": {
          "model_module": "@jupyter-widgets/controls",
          "model_name": "ProgressStyleModel",
          "model_module_version": "1.5.0",
          "state": {
            "_model_module": "@jupyter-widgets/controls",
            "_model_module_version": "1.5.0",
            "_model_name": "ProgressStyleModel",
            "_view_count": null,
            "_view_module": "@jupyter-widgets/base",
            "_view_module_version": "1.2.0",
            "_view_name": "StyleView",
            "bar_color": null,
            "description_width": ""
          }
        },
        "d6c949b21c564d0a832f25114e250029": {
          "model_module": "@jupyter-widgets/base",
          "model_name": "LayoutModel",
          "model_module_version": "1.2.0",
          "state": {
            "_model_module": "@jupyter-widgets/base",
            "_model_module_version": "1.2.0",
            "_model_name": "LayoutModel",
            "_view_count": null,
            "_view_module": "@jupyter-widgets/base",
            "_view_module_version": "1.2.0",
            "_view_name": "LayoutView",
            "align_content": null,
            "align_items": null,
            "align_self": null,
            "border": null,
            "bottom": null,
            "display": null,
            "flex": null,
            "flex_flow": null,
            "grid_area": null,
            "grid_auto_columns": null,
            "grid_auto_flow": null,
            "grid_auto_rows": null,
            "grid_column": null,
            "grid_gap": null,
            "grid_row": null,
            "grid_template_areas": null,
            "grid_template_columns": null,
            "grid_template_rows": null,
            "height": null,
            "justify_content": null,
            "justify_items": null,
            "left": null,
            "margin": null,
            "max_height": null,
            "max_width": null,
            "min_height": null,
            "min_width": null,
            "object_fit": null,
            "object_position": null,
            "order": null,
            "overflow": null,
            "overflow_x": null,
            "overflow_y": null,
            "padding": null,
            "right": null,
            "top": null,
            "visibility": null,
            "width": null
          }
        },
        "957e033751244aed800c03406ca3ca31": {
          "model_module": "@jupyter-widgets/controls",
          "model_name": "DescriptionStyleModel",
          "model_module_version": "1.5.0",
          "state": {
            "_model_module": "@jupyter-widgets/controls",
            "_model_module_version": "1.5.0",
            "_model_name": "DescriptionStyleModel",
            "_view_count": null,
            "_view_module": "@jupyter-widgets/base",
            "_view_module_version": "1.2.0",
            "_view_name": "StyleView",
            "description_width": ""
          }
        },
        "d7814fa9329f4177a9406b3b339ab637": {
          "model_module": "@jupyter-widgets/controls",
          "model_name": "HBoxModel",
          "model_module_version": "1.5.0",
          "state": {
            "_dom_classes": [],
            "_model_module": "@jupyter-widgets/controls",
            "_model_module_version": "1.5.0",
            "_model_name": "HBoxModel",
            "_view_count": null,
            "_view_module": "@jupyter-widgets/controls",
            "_view_module_version": "1.5.0",
            "_view_name": "HBoxView",
            "box_style": "",
            "children": [
              "IPY_MODEL_d18de6d6b096407787403425d04879a8",
              "IPY_MODEL_1993bee7768b47d3920303d5ff9ebff7",
              "IPY_MODEL_227d923546904086a8ba3ea6f99f2ee9"
            ],
            "layout": "IPY_MODEL_88c2a5f3392d433dafa2e7c108083f56"
          }
        },
        "d18de6d6b096407787403425d04879a8": {
          "model_module": "@jupyter-widgets/controls",
          "model_name": "HTMLModel",
          "model_module_version": "1.5.0",
          "state": {
            "_dom_classes": [],
            "_model_module": "@jupyter-widgets/controls",
            "_model_module_version": "1.5.0",
            "_model_name": "HTMLModel",
            "_view_count": null,
            "_view_module": "@jupyter-widgets/controls",
            "_view_module_version": "1.5.0",
            "_view_name": "HTMLView",
            "description": "",
            "description_tooltip": null,
            "layout": "IPY_MODEL_53f749591462484ba65e7c716cf3faa8",
            "placeholder": "​",
            "style": "IPY_MODEL_88f7ee3eb30846c0954685b1f5ce4f53",
            "value": "model.safetensors: 100%"
          }
        },
        "1993bee7768b47d3920303d5ff9ebff7": {
          "model_module": "@jupyter-widgets/controls",
          "model_name": "FloatProgressModel",
          "model_module_version": "1.5.0",
          "state": {
            "_dom_classes": [],
            "_model_module": "@jupyter-widgets/controls",
            "_model_module_version": "1.5.0",
            "_model_name": "FloatProgressModel",
            "_view_count": null,
            "_view_module": "@jupyter-widgets/controls",
            "_view_module_version": "1.5.0",
            "_view_name": "ProgressView",
            "bar_style": "success",
            "description": "",
            "description_tooltip": null,
            "layout": "IPY_MODEL_8e895d1a66844bb690ba32d62f57fe00",
            "max": 436356844,
            "min": 0,
            "orientation": "horizontal",
            "style": "IPY_MODEL_06920b531f4f4503b374bb761910e365",
            "value": 436356844
          }
        },
        "227d923546904086a8ba3ea6f99f2ee9": {
          "model_module": "@jupyter-widgets/controls",
          "model_name": "HTMLModel",
          "model_module_version": "1.5.0",
          "state": {
            "_dom_classes": [],
            "_model_module": "@jupyter-widgets/controls",
            "_model_module_version": "1.5.0",
            "_model_name": "HTMLModel",
            "_view_count": null,
            "_view_module": "@jupyter-widgets/controls",
            "_view_module_version": "1.5.0",
            "_view_name": "HTMLView",
            "description": "",
            "description_tooltip": null,
            "layout": "IPY_MODEL_67a4bac16bb647ec9d159714f8885de8",
            "placeholder": "​",
            "style": "IPY_MODEL_4e767d32474e4ca4982029ecf804c9c6",
            "value": " 436M/436M [00:03&lt;00:00, 161MB/s]"
          }
        },
        "88c2a5f3392d433dafa2e7c108083f56": {
          "model_module": "@jupyter-widgets/base",
          "model_name": "LayoutModel",
          "model_module_version": "1.2.0",
          "state": {
            "_model_module": "@jupyter-widgets/base",
            "_model_module_version": "1.2.0",
            "_model_name": "LayoutModel",
            "_view_count": null,
            "_view_module": "@jupyter-widgets/base",
            "_view_module_version": "1.2.0",
            "_view_name": "LayoutView",
            "align_content": null,
            "align_items": null,
            "align_self": null,
            "border": null,
            "bottom": null,
            "display": null,
            "flex": null,
            "flex_flow": null,
            "grid_area": null,
            "grid_auto_columns": null,
            "grid_auto_flow": null,
            "grid_auto_rows": null,
            "grid_column": null,
            "grid_gap": null,
            "grid_row": null,
            "grid_template_areas": null,
            "grid_template_columns": null,
            "grid_template_rows": null,
            "height": null,
            "justify_content": null,
            "justify_items": null,
            "left": null,
            "margin": null,
            "max_height": null,
            "max_width": null,
            "min_height": null,
            "min_width": null,
            "object_fit": null,
            "object_position": null,
            "order": null,
            "overflow": null,
            "overflow_x": null,
            "overflow_y": null,
            "padding": null,
            "right": null,
            "top": null,
            "visibility": null,
            "width": null
          }
        },
        "53f749591462484ba65e7c716cf3faa8": {
          "model_module": "@jupyter-widgets/base",
          "model_name": "LayoutModel",
          "model_module_version": "1.2.0",
          "state": {
            "_model_module": "@jupyter-widgets/base",
            "_model_module_version": "1.2.0",
            "_model_name": "LayoutModel",
            "_view_count": null,
            "_view_module": "@jupyter-widgets/base",
            "_view_module_version": "1.2.0",
            "_view_name": "LayoutView",
            "align_content": null,
            "align_items": null,
            "align_self": null,
            "border": null,
            "bottom": null,
            "display": null,
            "flex": null,
            "flex_flow": null,
            "grid_area": null,
            "grid_auto_columns": null,
            "grid_auto_flow": null,
            "grid_auto_rows": null,
            "grid_column": null,
            "grid_gap": null,
            "grid_row": null,
            "grid_template_areas": null,
            "grid_template_columns": null,
            "grid_template_rows": null,
            "height": null,
            "justify_content": null,
            "justify_items": null,
            "left": null,
            "margin": null,
            "max_height": null,
            "max_width": null,
            "min_height": null,
            "min_width": null,
            "object_fit": null,
            "object_position": null,
            "order": null,
            "overflow": null,
            "overflow_x": null,
            "overflow_y": null,
            "padding": null,
            "right": null,
            "top": null,
            "visibility": null,
            "width": null
          }
        },
        "88f7ee3eb30846c0954685b1f5ce4f53": {
          "model_module": "@jupyter-widgets/controls",
          "model_name": "DescriptionStyleModel",
          "model_module_version": "1.5.0",
          "state": {
            "_model_module": "@jupyter-widgets/controls",
            "_model_module_version": "1.5.0",
            "_model_name": "DescriptionStyleModel",
            "_view_count": null,
            "_view_module": "@jupyter-widgets/base",
            "_view_module_version": "1.2.0",
            "_view_name": "StyleView",
            "description_width": ""
          }
        },
        "8e895d1a66844bb690ba32d62f57fe00": {
          "model_module": "@jupyter-widgets/base",
          "model_name": "LayoutModel",
          "model_module_version": "1.2.0",
          "state": {
            "_model_module": "@jupyter-widgets/base",
            "_model_module_version": "1.2.0",
            "_model_name": "LayoutModel",
            "_view_count": null,
            "_view_module": "@jupyter-widgets/base",
            "_view_module_version": "1.2.0",
            "_view_name": "LayoutView",
            "align_content": null,
            "align_items": null,
            "align_self": null,
            "border": null,
            "bottom": null,
            "display": null,
            "flex": null,
            "flex_flow": null,
            "grid_area": null,
            "grid_auto_columns": null,
            "grid_auto_flow": null,
            "grid_auto_rows": null,
            "grid_column": null,
            "grid_gap": null,
            "grid_row": null,
            "grid_template_areas": null,
            "grid_template_columns": null,
            "grid_template_rows": null,
            "height": null,
            "justify_content": null,
            "justify_items": null,
            "left": null,
            "margin": null,
            "max_height": null,
            "max_width": null,
            "min_height": null,
            "min_width": null,
            "object_fit": null,
            "object_position": null,
            "order": null,
            "overflow": null,
            "overflow_x": null,
            "overflow_y": null,
            "padding": null,
            "right": null,
            "top": null,
            "visibility": null,
            "width": null
          }
        },
        "06920b531f4f4503b374bb761910e365": {
          "model_module": "@jupyter-widgets/controls",
          "model_name": "ProgressStyleModel",
          "model_module_version": "1.5.0",
          "state": {
            "_model_module": "@jupyter-widgets/controls",
            "_model_module_version": "1.5.0",
            "_model_name": "ProgressStyleModel",
            "_view_count": null,
            "_view_module": "@jupyter-widgets/base",
            "_view_module_version": "1.2.0",
            "_view_name": "StyleView",
            "bar_color": null,
            "description_width": ""
          }
        },
        "67a4bac16bb647ec9d159714f8885de8": {
          "model_module": "@jupyter-widgets/base",
          "model_name": "LayoutModel",
          "model_module_version": "1.2.0",
          "state": {
            "_model_module": "@jupyter-widgets/base",
            "_model_module_version": "1.2.0",
            "_model_name": "LayoutModel",
            "_view_count": null,
            "_view_module": "@jupyter-widgets/base",
            "_view_module_version": "1.2.0",
            "_view_name": "LayoutView",
            "align_content": null,
            "align_items": null,
            "align_self": null,
            "border": null,
            "bottom": null,
            "display": null,
            "flex": null,
            "flex_flow": null,
            "grid_area": null,
            "grid_auto_columns": null,
            "grid_auto_flow": null,
            "grid_auto_rows": null,
            "grid_column": null,
            "grid_gap": null,
            "grid_row": null,
            "grid_template_areas": null,
            "grid_template_columns": null,
            "grid_template_rows": null,
            "height": null,
            "justify_content": null,
            "justify_items": null,
            "left": null,
            "margin": null,
            "max_height": null,
            "max_width": null,
            "min_height": null,
            "min_width": null,
            "object_fit": null,
            "object_position": null,
            "order": null,
            "overflow": null,
            "overflow_x": null,
            "overflow_y": null,
            "padding": null,
            "right": null,
            "top": null,
            "visibility": null,
            "width": null
          }
        },
        "4e767d32474e4ca4982029ecf804c9c6": {
          "model_module": "@jupyter-widgets/controls",
          "model_name": "DescriptionStyleModel",
          "model_module_version": "1.5.0",
          "state": {
            "_model_module": "@jupyter-widgets/controls",
            "_model_module_version": "1.5.0",
            "_model_name": "DescriptionStyleModel",
            "_view_count": null,
            "_view_module": "@jupyter-widgets/base",
            "_view_module_version": "1.2.0",
            "_view_name": "StyleView",
            "description_width": ""
          }
        },
        "b6e01625d48c44e8bee5135562d77c58": {
          "model_module": "@jupyter-widgets/controls",
          "model_name": "HBoxModel",
          "model_module_version": "1.5.0",
          "state": {
            "_dom_classes": [],
            "_model_module": "@jupyter-widgets/controls",
            "_model_module_version": "1.5.0",
            "_model_name": "HBoxModel",
            "_view_count": null,
            "_view_module": "@jupyter-widgets/controls",
            "_view_module_version": "1.5.0",
            "_view_name": "HBoxView",
            "box_style": "",
            "children": [
              "IPY_MODEL_a9c1d18662be41bbb8841b1980926021",
              "IPY_MODEL_9d00947f7bce4457964547f25223e0d3",
              "IPY_MODEL_e46af64c9fa24d829da5fd5f29e3f3fb"
            ],
            "layout": "IPY_MODEL_0f384d1c50f242f4866b359c79a38067"
          }
        },
        "a9c1d18662be41bbb8841b1980926021": {
          "model_module": "@jupyter-widgets/controls",
          "model_name": "HTMLModel",
          "model_module_version": "1.5.0",
          "state": {
            "_dom_classes": [],
            "_model_module": "@jupyter-widgets/controls",
            "_model_module_version": "1.5.0",
            "_model_name": "HTMLModel",
            "_view_count": null,
            "_view_module": "@jupyter-widgets/controls",
            "_view_module_version": "1.5.0",
            "_view_name": "HTMLView",
            "description": "",
            "description_tooltip": null,
            "layout": "IPY_MODEL_6b8e29b8f7ea4e5a8836e5df635b0db4",
            "placeholder": "​",
            "style": "IPY_MODEL_2bdda679e0bd4dfd9906506551a8da5e",
            "value": "Downloading builder script: 100%"
          }
        },
        "9d00947f7bce4457964547f25223e0d3": {
          "model_module": "@jupyter-widgets/controls",
          "model_name": "FloatProgressModel",
          "model_module_version": "1.5.0",
          "state": {
            "_dom_classes": [],
            "_model_module": "@jupyter-widgets/controls",
            "_model_module_version": "1.5.0",
            "_model_name": "FloatProgressModel",
            "_view_count": null,
            "_view_module": "@jupyter-widgets/controls",
            "_view_module_version": "1.5.0",
            "_view_name": "ProgressView",
            "bar_style": "success",
            "description": "",
            "description_tooltip": null,
            "layout": "IPY_MODEL_087e73ea36d34a4095665be28e1853e0",
            "max": 4203,
            "min": 0,
            "orientation": "horizontal",
            "style": "IPY_MODEL_49cab092171e4764821eb69f41bcd877",
            "value": 4203
          }
        },
        "e46af64c9fa24d829da5fd5f29e3f3fb": {
          "model_module": "@jupyter-widgets/controls",
          "model_name": "HTMLModel",
          "model_module_version": "1.5.0",
          "state": {
            "_dom_classes": [],
            "_model_module": "@jupyter-widgets/controls",
            "_model_module_version": "1.5.0",
            "_model_name": "HTMLModel",
            "_view_count": null,
            "_view_module": "@jupyter-widgets/controls",
            "_view_module_version": "1.5.0",
            "_view_name": "HTMLView",
            "description": "",
            "description_tooltip": null,
            "layout": "IPY_MODEL_85be71118c3c429e93ad9d20d0cf9c57",
            "placeholder": "​",
            "style": "IPY_MODEL_6e8807af4aca42c9be78d6254ae74d82",
            "value": " 4.20k/4.20k [00:00&lt;00:00, 532kB/s]"
          }
        },
        "0f384d1c50f242f4866b359c79a38067": {
          "model_module": "@jupyter-widgets/base",
          "model_name": "LayoutModel",
          "model_module_version": "1.2.0",
          "state": {
            "_model_module": "@jupyter-widgets/base",
            "_model_module_version": "1.2.0",
            "_model_name": "LayoutModel",
            "_view_count": null,
            "_view_module": "@jupyter-widgets/base",
            "_view_module_version": "1.2.0",
            "_view_name": "LayoutView",
            "align_content": null,
            "align_items": null,
            "align_self": null,
            "border": null,
            "bottom": null,
            "display": null,
            "flex": null,
            "flex_flow": null,
            "grid_area": null,
            "grid_auto_columns": null,
            "grid_auto_flow": null,
            "grid_auto_rows": null,
            "grid_column": null,
            "grid_gap": null,
            "grid_row": null,
            "grid_template_areas": null,
            "grid_template_columns": null,
            "grid_template_rows": null,
            "height": null,
            "justify_content": null,
            "justify_items": null,
            "left": null,
            "margin": null,
            "max_height": null,
            "max_width": null,
            "min_height": null,
            "min_width": null,
            "object_fit": null,
            "object_position": null,
            "order": null,
            "overflow": null,
            "overflow_x": null,
            "overflow_y": null,
            "padding": null,
            "right": null,
            "top": null,
            "visibility": null,
            "width": null
          }
        },
        "6b8e29b8f7ea4e5a8836e5df635b0db4": {
          "model_module": "@jupyter-widgets/base",
          "model_name": "LayoutModel",
          "model_module_version": "1.2.0",
          "state": {
            "_model_module": "@jupyter-widgets/base",
            "_model_module_version": "1.2.0",
            "_model_name": "LayoutModel",
            "_view_count": null,
            "_view_module": "@jupyter-widgets/base",
            "_view_module_version": "1.2.0",
            "_view_name": "LayoutView",
            "align_content": null,
            "align_items": null,
            "align_self": null,
            "border": null,
            "bottom": null,
            "display": null,
            "flex": null,
            "flex_flow": null,
            "grid_area": null,
            "grid_auto_columns": null,
            "grid_auto_flow": null,
            "grid_auto_rows": null,
            "grid_column": null,
            "grid_gap": null,
            "grid_row": null,
            "grid_template_areas": null,
            "grid_template_columns": null,
            "grid_template_rows": null,
            "height": null,
            "justify_content": null,
            "justify_items": null,
            "left": null,
            "margin": null,
            "max_height": null,
            "max_width": null,
            "min_height": null,
            "min_width": null,
            "object_fit": null,
            "object_position": null,
            "order": null,
            "overflow": null,
            "overflow_x": null,
            "overflow_y": null,
            "padding": null,
            "right": null,
            "top": null,
            "visibility": null,
            "width": null
          }
        },
        "2bdda679e0bd4dfd9906506551a8da5e": {
          "model_module": "@jupyter-widgets/controls",
          "model_name": "DescriptionStyleModel",
          "model_module_version": "1.5.0",
          "state": {
            "_model_module": "@jupyter-widgets/controls",
            "_model_module_version": "1.5.0",
            "_model_name": "DescriptionStyleModel",
            "_view_count": null,
            "_view_module": "@jupyter-widgets/base",
            "_view_module_version": "1.2.0",
            "_view_name": "StyleView",
            "description_width": ""
          }
        },
        "087e73ea36d34a4095665be28e1853e0": {
          "model_module": "@jupyter-widgets/base",
          "model_name": "LayoutModel",
          "model_module_version": "1.2.0",
          "state": {
            "_model_module": "@jupyter-widgets/base",
            "_model_module_version": "1.2.0",
            "_model_name": "LayoutModel",
            "_view_count": null,
            "_view_module": "@jupyter-widgets/base",
            "_view_module_version": "1.2.0",
            "_view_name": "LayoutView",
            "align_content": null,
            "align_items": null,
            "align_self": null,
            "border": null,
            "bottom": null,
            "display": null,
            "flex": null,
            "flex_flow": null,
            "grid_area": null,
            "grid_auto_columns": null,
            "grid_auto_flow": null,
            "grid_auto_rows": null,
            "grid_column": null,
            "grid_gap": null,
            "grid_row": null,
            "grid_template_areas": null,
            "grid_template_columns": null,
            "grid_template_rows": null,
            "height": null,
            "justify_content": null,
            "justify_items": null,
            "left": null,
            "margin": null,
            "max_height": null,
            "max_width": null,
            "min_height": null,
            "min_width": null,
            "object_fit": null,
            "object_position": null,
            "order": null,
            "overflow": null,
            "overflow_x": null,
            "overflow_y": null,
            "padding": null,
            "right": null,
            "top": null,
            "visibility": null,
            "width": null
          }
        },
        "49cab092171e4764821eb69f41bcd877": {
          "model_module": "@jupyter-widgets/controls",
          "model_name": "ProgressStyleModel",
          "model_module_version": "1.5.0",
          "state": {
            "_model_module": "@jupyter-widgets/controls",
            "_model_module_version": "1.5.0",
            "_model_name": "ProgressStyleModel",
            "_view_count": null,
            "_view_module": "@jupyter-widgets/base",
            "_view_module_version": "1.2.0",
            "_view_name": "StyleView",
            "bar_color": null,
            "description_width": ""
          }
        },
        "85be71118c3c429e93ad9d20d0cf9c57": {
          "model_module": "@jupyter-widgets/base",
          "model_name": "LayoutModel",
          "model_module_version": "1.2.0",
          "state": {
            "_model_module": "@jupyter-widgets/base",
            "_model_module_version": "1.2.0",
            "_model_name": "LayoutModel",
            "_view_count": null,
            "_view_module": "@jupyter-widgets/base",
            "_view_module_version": "1.2.0",
            "_view_name": "LayoutView",
            "align_content": null,
            "align_items": null,
            "align_self": null,
            "border": null,
            "bottom": null,
            "display": null,
            "flex": null,
            "flex_flow": null,
            "grid_area": null,
            "grid_auto_columns": null,
            "grid_auto_flow": null,
            "grid_auto_rows": null,
            "grid_column": null,
            "grid_gap": null,
            "grid_row": null,
            "grid_template_areas": null,
            "grid_template_columns": null,
            "grid_template_rows": null,
            "height": null,
            "justify_content": null,
            "justify_items": null,
            "left": null,
            "margin": null,
            "max_height": null,
            "max_width": null,
            "min_height": null,
            "min_width": null,
            "object_fit": null,
            "object_position": null,
            "order": null,
            "overflow": null,
            "overflow_x": null,
            "overflow_y": null,
            "padding": null,
            "right": null,
            "top": null,
            "visibility": null,
            "width": null
          }
        },
        "6e8807af4aca42c9be78d6254ae74d82": {
          "model_module": "@jupyter-widgets/controls",
          "model_name": "DescriptionStyleModel",
          "model_module_version": "1.5.0",
          "state": {
            "_model_module": "@jupyter-widgets/controls",
            "_model_module_version": "1.5.0",
            "_model_name": "DescriptionStyleModel",
            "_view_count": null,
            "_view_module": "@jupyter-widgets/base",
            "_view_module_version": "1.2.0",
            "_view_name": "StyleView",
            "description_width": ""
          }
        }
      }
    }
  },
  "cells": [
    {
      "cell_type": "code",
      "source": [
        "from google.colab import drive\n",
        "drive.mount('/content/drive', force_remount=True)"
      ],
      "metadata": {
        "colab": {
          "base_uri": "https://localhost:8080/"
        },
        "id": "0Jt5wUQ0AxUw",
        "outputId": "a6b57823-015d-48ab-ab92-cfdd1435c873"
      },
      "execution_count": null,
      "outputs": [
        {
          "output_type": "stream",
          "name": "stdout",
          "text": [
            "Mounted at /content/drive\n"
          ]
        }
      ]
    },
    {
      "cell_type": "code",
      "source": [
        "!pip install -q datasets accelerate evaluate"
      ],
      "metadata": {
        "id": "GcEJZvmUzJFq"
      },
      "execution_count": null,
      "outputs": []
    },
    {
      "cell_type": "markdown",
      "source": [
        "# 데이터셋 준비"
      ],
      "metadata": {
        "id": "cNKjPG-K5-In"
      }
    },
    {
      "cell_type": "code",
      "source": [
        "import os\n",
        "import json\n",
        "import pandas as pd\n",
        "\n",
        "# 1. 데이터 경로(여기서는 패션 아이템 리뷰만 사용)\n",
        "data_dir = \"/content/drive/Shareddrives/스프린트(AI) 드라이브/트랙 Master 폴더/스프린트 미션 및 모범답안/data/review-sentiment-analysis/쇼핑몰/01. 패션\"\n",
        "\n",
        "# 2. JSON 파일 경로 수집\n",
        "json_paths = []\n",
        "for root, _, files in os.walk(data_dir):\n",
        "    for file in files:\n",
        "        if file.endswith(\".json\"):\n",
        "            json_paths.append(os.path.join(root, file))\n",
        "\n",
        "# 3. JSON 파싱 및 필요한 데이터(GeneralPolarity, RawText) 수집\n",
        "data = []\n",
        "\n",
        "for path in json_paths:\n",
        "    with open(path, 'r', encoding='utf-8') as f:\n",
        "        try:\n",
        "            items = json.load(f)\n",
        "            for item in items:\n",
        "                polarity = item.get(\"GeneralPolarity\", None)\n",
        "                text = item.get(\"RawText\", None)\n",
        "\n",
        "                if polarity is not None and text:  # 둘 다 있어야 추가\n",
        "                    polarity = int(polarity)\n",
        "                    if polarity in [-1, 0, 1]:\n",
        "                        data.append({\n",
        "                            \"text\": text,\n",
        "                            \"label\": polarity + 1  # -1 → 0, 0 → 1, 1 → 2\n",
        "                        })\n",
        "        except Exception:\n",
        "            continue  # 형식 이상한 파일은 무시하고 넘어감\n",
        "\n",
        "# 4. 데이터프레임으로 변환\n",
        "df = pd.DataFrame(data)\n",
        "df = df.dropna().drop_duplicates()\n",
        "\n",
        "print(df[\"label\"].value_counts())"
      ],
      "metadata": {
        "colab": {
          "base_uri": "https://localhost:8080/"
        },
        "id": "rqdFRNrFBCTC",
        "outputId": "0b69e1a1-0c48-4cdb-94a8-7a7a4ffb7fce"
      },
      "execution_count": null,
      "outputs": [
        {
          "output_type": "stream",
          "name": "stdout",
          "text": [
            "label\n",
            "2    26451\n",
            "0     9264\n",
            "1     8683\n",
            "Name: count, dtype: int64\n"
          ]
        }
      ]
    },
    {
      "cell_type": "code",
      "source": [
        "from datasets import Dataset\n",
        "\n",
        "dataset = Dataset.from_pandas(df)\n",
        "dataset = dataset.train_test_split(test_size=0.2, seed=42)"
      ],
      "metadata": {
        "id": "d2BTytyjGoPh"
      },
      "execution_count": null,
      "outputs": []
    },
    {
      "cell_type": "code",
      "source": [
        "from transformers import AutoTokenizer\n",
        "\n",
        "model_name = \"beomi/KcELECTRA-base\"\n",
        "tokenizer = AutoTokenizer.from_pretrained(model_name)\n",
        "\n",
        "\n",
        "def preprocess(example):\n",
        "    tokenized = tokenizer(\n",
        "        example[\"text\"],\n",
        "        truncation=True,\n",
        "        padding=\"max_length\",\n",
        "        max_length=128\n",
        "    )\n",
        "    tokenized[\"text\"] = example[\"text\"]\n",
        "    return tokenized\n",
        "\n",
        "\n",
        "tokenized_dataset = dataset.map(preprocess, batched=True)\n",
        "tokenized_dataset = tokenized_dataset.rename_column(\"label\", \"labels\")\n",
        "tokenized_dataset.set_format(\n",
        "    type=\"torch\",\n",
        "    columns=[\"text\", \"input_ids\", \"attention_mask\", \"labels\"],\n",
        ")"
      ],
      "metadata": {
        "colab": {
          "base_uri": "https://localhost:8080/",
          "height": 208,
          "referenced_widgets": [
            "61526e6fa4ad472fb4b2944e33d8819b",
            "93383ae6cd1a47358dfd698b921fc002",
            "663b08bd86e643aca9f0b484f8db3d1e",
            "ceeb49fc21b84245ad1d354d7c16645f",
            "39a3ec28beec45358867cdc52f8d8e08",
            "3e9ade2ac1084b07b3b1db197e9a0931",
            "0caa4712b4a342d2b9c5f8dc60b8163d",
            "d209db03e75d49b0a9f457d504a8e4df",
            "fb5131d5bc564f89be9214229ffe2d3e",
            "2f335045c9154328afa0be257f245f23",
            "38eafec6de0c4902b51a9342d16b7ded",
            "8ae1bf3679794292a29cd5f5bbc32142",
            "15e9cef6af3046bda3cd87fcf97beea9",
            "46c81b2d138a4c289fe3e57b53b710b5",
            "15e1fddfe00141f0b0568357eb57d4b3",
            "3ebe3847e414404c8964644fd840eed6",
            "994348d2c594434aabfbbe83473971f5",
            "ea91ac23a63541c1b5ef3dc547001809",
            "fc9033309f1441fc9b226d9c77afbb00",
            "5b0b587b24b74b11b5825d3b8f3101ab",
            "d6c949b21c564d0a832f25114e250029",
            "957e033751244aed800c03406ca3ca31"
          ]
        },
        "id": "K5AL84wJGwWm",
        "outputId": "0950f04b-c6ff-489d-8e07-e1be3ca5a5ba"
      },
      "execution_count": null,
      "outputs": [
        {
          "output_type": "stream",
          "name": "stderr",
          "text": [
            "/usr/local/lib/python3.11/dist-packages/huggingface_hub/utils/_auth.py:94: UserWarning: \n",
            "The secret `HF_TOKEN` does not exist in your Colab secrets.\n",
            "To authenticate with the Hugging Face Hub, create a token in your settings tab (https://huggingface.co/settings/tokens), set it as secret in your Google Colab and restart your session.\n",
            "You will be able to reuse this secret in all of your notebooks.\n",
            "Please note that authentication is recommended but still optional to access public models or datasets.\n",
            "  warnings.warn(\n"
          ]
        },
        {
          "output_type": "display_data",
          "data": {
            "text/plain": [
              "Map:   0%|          | 0/35518 [00:00<?, ? examples/s]"
            ],
            "application/vnd.jupyter.widget-view+json": {
              "version_major": 2,
              "version_minor": 0,
              "model_id": "61526e6fa4ad472fb4b2944e33d8819b"
            }
          },
          "metadata": {}
        },
        {
          "output_type": "display_data",
          "data": {
            "text/plain": [
              "Map:   0%|          | 0/8880 [00:00<?, ? examples/s]"
            ],
            "application/vnd.jupyter.widget-view+json": {
              "version_major": 2,
              "version_minor": 0,
              "model_id": "8ae1bf3679794292a29cd5f5bbc32142"
            }
          },
          "metadata": {}
        }
      ]
    },
    {
      "cell_type": "markdown",
      "source": [
        "# Full Fine-Tuning"
      ],
      "metadata": {
        "id": "o7Faatuf7C5B"
      }
    },
    {
      "cell_type": "code",
      "source": [
        "from transformers import AutoModelForSequenceClassification, TrainingArguments, Trainer\n",
        "import evaluate\n",
        "import torch\n",
        "\n",
        "\n",
        "def create_trainer(model, training_args):\n",
        "    accuracy = evaluate.load(\"accuracy\")\n",
        "\n",
        "    def compute_metrics(eval_pred):\n",
        "        logits, labels = eval_pred\n",
        "        preds = torch.argmax(torch.tensor(logits), dim=1)\n",
        "        return accuracy.compute(predictions=preds, references=labels)\n",
        "\n",
        "    trainer = Trainer(\n",
        "        model=model,\n",
        "        args=training_args,\n",
        "        train_dataset=tokenized_dataset[\"train\"],\n",
        "        eval_dataset=tokenized_dataset[\"test\"],\n",
        "        compute_metrics=compute_metrics,\n",
        "    )\n",
        "\n",
        "    return trainer\n",
        "\n",
        "\n",
        "num_epochs = 2\n",
        "batch_size = 64\n",
        "training_args = TrainingArguments(\n",
        "    output_dir=\"./results\",\n",
        "    eval_strategy=\"epoch\",\n",
        "    per_device_train_batch_size=batch_size,\n",
        "    per_device_eval_batch_size=batch_size,\n",
        "    num_train_epochs=num_epochs,\n",
        "    report_to=\"none\",\n",
        ")\n",
        "\n",
        "model_ft = AutoModelForSequenceClassification.from_pretrained(model_name, num_labels=3)\n",
        "trainer_ft = create_trainer(model_ft, training_args)\n",
        "\n",
        "trainer_ft.train()"
      ],
      "metadata": {
        "id": "6ROGCmL8HdOB",
        "colab": {
          "base_uri": "https://localhost:8080/",
          "height": 293,
          "referenced_widgets": [
            "d7814fa9329f4177a9406b3b339ab637",
            "d18de6d6b096407787403425d04879a8",
            "1993bee7768b47d3920303d5ff9ebff7",
            "227d923546904086a8ba3ea6f99f2ee9",
            "88c2a5f3392d433dafa2e7c108083f56",
            "53f749591462484ba65e7c716cf3faa8",
            "88f7ee3eb30846c0954685b1f5ce4f53",
            "8e895d1a66844bb690ba32d62f57fe00",
            "06920b531f4f4503b374bb761910e365",
            "67a4bac16bb647ec9d159714f8885de8",
            "4e767d32474e4ca4982029ecf804c9c6",
            "b6e01625d48c44e8bee5135562d77c58",
            "a9c1d18662be41bbb8841b1980926021",
            "9d00947f7bce4457964547f25223e0d3",
            "e46af64c9fa24d829da5fd5f29e3f3fb",
            "0f384d1c50f242f4866b359c79a38067",
            "6b8e29b8f7ea4e5a8836e5df635b0db4",
            "2bdda679e0bd4dfd9906506551a8da5e",
            "087e73ea36d34a4095665be28e1853e0",
            "49cab092171e4764821eb69f41bcd877",
            "85be71118c3c429e93ad9d20d0cf9c57",
            "6e8807af4aca42c9be78d6254ae74d82"
          ]
        },
        "outputId": "aaa182cd-e287-46f8-f388-ced7e4376c72"
      },
      "execution_count": null,
      "outputs": [
        {
          "output_type": "display_data",
          "data": {
            "text/plain": [
              "model.safetensors:   0%|          | 0.00/436M [00:00<?, ?B/s]"
            ],
            "application/vnd.jupyter.widget-view+json": {
              "version_major": 2,
              "version_minor": 0,
              "model_id": "d7814fa9329f4177a9406b3b339ab637"
            }
          },
          "metadata": {}
        },
        {
          "output_type": "stream",
          "name": "stderr",
          "text": [
            "Some weights of ElectraForSequenceClassification were not initialized from the model checkpoint at beomi/KcELECTRA-base and are newly initialized: ['classifier.dense.bias', 'classifier.dense.weight', 'classifier.out_proj.bias', 'classifier.out_proj.weight']\n",
            "You should probably TRAIN this model on a down-stream task to be able to use it for predictions and inference.\n"
          ]
        },
        {
          "output_type": "display_data",
          "data": {
            "text/plain": [
              "Downloading builder script:   0%|          | 0.00/4.20k [00:00<?, ?B/s]"
            ],
            "application/vnd.jupyter.widget-view+json": {
              "version_major": 2,
              "version_minor": 0,
              "model_id": "b6e01625d48c44e8bee5135562d77c58"
            }
          },
          "metadata": {}
        },
        {
          "output_type": "display_data",
          "data": {
            "text/plain": [
              "<IPython.core.display.HTML object>"
            ],
            "text/html": [
              "\n",
              "    <div>\n",
              "      \n",
              "      <progress value='1110' max='1110' style='width:300px; height:20px; vertical-align: middle;'></progress>\n",
              "      [1110/1110 06:05, Epoch 2/2]\n",
              "    </div>\n",
              "    <table border=\"1\" class=\"dataframe\">\n",
              "  <thead>\n",
              " <tr style=\"text-align: left;\">\n",
              "      <th>Epoch</th>\n",
              "      <th>Training Loss</th>\n",
              "      <th>Validation Loss</th>\n",
              "      <th>Accuracy</th>\n",
              "    </tr>\n",
              "  </thead>\n",
              "  <tbody>\n",
              "    <tr>\n",
              "      <td>1</td>\n",
              "      <td>0.381500</td>\n",
              "      <td>0.300082</td>\n",
              "      <td>0.880631</td>\n",
              "    </tr>\n",
              "    <tr>\n",
              "      <td>2</td>\n",
              "      <td>0.243000</td>\n",
              "      <td>0.279377</td>\n",
              "      <td>0.889640</td>\n",
              "    </tr>\n",
              "  </tbody>\n",
              "</table><p>"
            ]
          },
          "metadata": {}
        },
        {
          "output_type": "execute_result",
          "data": {
            "text/plain": [
              "TrainOutput(global_step=1110, training_loss=0.3028328990077113, metrics={'train_runtime': 367.2746, 'train_samples_per_second': 193.414, 'train_steps_per_second': 3.022, 'total_flos': 4672631185431552.0, 'train_loss': 0.3028328990077113, 'epoch': 2.0})"
            ]
          },
          "metadata": {},
          "execution_count": 6
        }
      ]
    },
    {
      "cell_type": "code",
      "source": [
        "import shutil\n",
        "from google.colab import files\n",
        "\n",
        "def save_and_download_model(trainer, tokenizer, model_path):\n",
        "    trainer.save_model(model_path)\n",
        "    tokenizer.save_pretrained(model_path)\n",
        "\n",
        "    shutil.make_archive(model_path, \"zip\", model_path)\n",
        "    files.download(f\"{model_path}.zip\")\n",
        "\n",
        "\n",
        "save_and_download_model(trainer_ft, tokenizer, \"full_finetuning\")"
      ],
      "metadata": {
        "colab": {
          "base_uri": "https://localhost:8080/",
          "height": 17
        },
        "id": "DROQ0EDaHEeZ",
        "outputId": "c52ba106-201b-4cb5-bf4a-d9d134ef1b3b"
      },
      "execution_count": null,
      "outputs": [
        {
          "output_type": "display_data",
          "data": {
            "text/plain": [
              "<IPython.core.display.Javascript object>"
            ],
            "application/javascript": [
              "\n",
              "    async function download(id, filename, size) {\n",
              "      if (!google.colab.kernel.accessAllowed) {\n",
              "        return;\n",
              "      }\n",
              "      const div = document.createElement('div');\n",
              "      const label = document.createElement('label');\n",
              "      label.textContent = `Downloading \"${filename}\": `;\n",
              "      div.appendChild(label);\n",
              "      const progress = document.createElement('progress');\n",
              "      progress.max = size;\n",
              "      div.appendChild(progress);\n",
              "      document.body.appendChild(div);\n",
              "\n",
              "      const buffers = [];\n",
              "      let downloaded = 0;\n",
              "\n",
              "      const channel = await google.colab.kernel.comms.open(id);\n",
              "      // Send a message to notify the kernel that we're ready.\n",
              "      channel.send({})\n",
              "\n",
              "      for await (const message of channel.messages) {\n",
              "        // Send a message to notify the kernel that we're ready.\n",
              "        channel.send({})\n",
              "        if (message.buffers) {\n",
              "          for (const buffer of message.buffers) {\n",
              "            buffers.push(buffer);\n",
              "            downloaded += buffer.byteLength;\n",
              "            progress.value = downloaded;\n",
              "          }\n",
              "        }\n",
              "      }\n",
              "      const blob = new Blob(buffers, {type: 'application/binary'});\n",
              "      const a = document.createElement('a');\n",
              "      a.href = window.URL.createObjectURL(blob);\n",
              "      a.download = filename;\n",
              "      div.appendChild(a);\n",
              "      a.click();\n",
              "      div.remove();\n",
              "    }\n",
              "  "
            ]
          },
          "metadata": {}
        },
        {
          "output_type": "display_data",
          "data": {
            "text/plain": [
              "<IPython.core.display.Javascript object>"
            ],
            "application/javascript": [
              "download(\"download_0c7845fa-a427-4158-bcdf-3bcee7817a15\", \"full_finetuning.zip\", 405537200)"
            ]
          },
          "metadata": {}
        }
      ]
    },
    {
      "cell_type": "code",
      "source": [
        "def get_predictions_and_labels(trainer, dataset):\n",
        "    predictions = trainer.predict(dataset)\n",
        "    pred_labels = torch.argmax(torch.tensor(predictions.predictions), dim=1)\n",
        "    true_labels = predictions.label_ids\n",
        "\n",
        "    return pred_labels, true_labels\n",
        "\n",
        "\n",
        "pred_labels, true_labels = get_predictions_and_labels(trainer_ft, tokenized_dataset[\"test\"])"
      ],
      "metadata": {
        "colab": {
          "base_uri": "https://localhost:8080/",
          "height": 17
        },
        "id": "Tjx5DC3W-3vD",
        "outputId": "ad1f5560-4db0-4ad8-ad8b-463616f2b17b"
      },
      "execution_count": null,
      "outputs": [
        {
          "output_type": "display_data",
          "data": {
            "text/plain": [
              "<IPython.core.display.HTML object>"
            ],
            "text/html": []
          },
          "metadata": {}
        }
      ]
    },
    {
      "cell_type": "code",
      "source": [
        "from sklearn.metrics import accuracy_score, confusion_matrix, ConfusionMatrixDisplay\n",
        "import matplotlib.pyplot as plt\n",
        "\n",
        "def print_acc_and_confusion_matrix(true_labels, pred_labels):\n",
        "    # 정확도\n",
        "    test_accuracy = accuracy_score(true_labels, pred_labels)\n",
        "    print(f\"🎯 테스트 정확도: {test_accuracy * 100:.2f}%\")\n",
        "\n",
        "    # Confusion Matrix 출력\n",
        "    cm = confusion_matrix(true_labels, pred_labels)\n",
        "    disp = ConfusionMatrixDisplay(confusion_matrix=cm, display_labels=[\"negative\", \"neutral\", \"positive\"])\n",
        "    disp.plot(cmap=\"Blues\", values_format='d')\n",
        "    plt.title(\"Confusion Matrix\")\n",
        "    plt.show()\n",
        "\n",
        "\n",
        "print_acc_and_confusion_matrix(true_labels, pred_labels)"
      ],
      "metadata": {
        "colab": {
          "base_uri": "https://localhost:8080/",
          "height": 490
        },
        "id": "bbdS8BvGH3f8",
        "outputId": "19af7064-b411-450f-c005-ef6ff35e2a68"
      },
      "execution_count": null,
      "outputs": [
        {
          "output_type": "stream",
          "name": "stdout",
          "text": [
            "🎯 테스트 정확도: 88.96%\n"
          ]
        },
        {
          "output_type": "display_data",
          "data": {
            "text/plain": [
              "<Figure size 640x480 with 2 Axes>"
            ],
            "image/png": "[encoded data removed]"
          },
          "metadata": {}
        }
      ]
    },
    {
      "cell_type": "code",
      "source": [
        "def print_samples(dataset, true_labels, pred_labels, num_samples=5):\n",
        "    label_to_text = {0: \"negative\", 1: \"neutral\", 2: \"positive\"}\n",
        "\n",
        "    # 정답/예측 샘플 출력\n",
        "    print(\"\\n✅ 예측 결과 샘플:\")\n",
        "    for i in range(num_samples):\n",
        "        print(\"📝 원문:\", dataset[i][\"text\"])\n",
        "        print(\"✅ 실제:\", label_to_text[dataset[i][\"label\"]], \"🔮 예측:\", label_to_text[pred_labels[i].item()])\n",
        "        print(\"-\" * 40)\n",
        "\n",
        "    # 오분류된 샘플 출력\n",
        "    print(\"\\n\\n❌ 예측이 틀린 샘플:\")\n",
        "    wrong_indices = [i for i, (pred, true) in enumerate(zip(pred_labels, true_labels)) if pred != true]\n",
        "    for i in wrong_indices[:num_samples]:\n",
        "        print(\"📝 원문:\", dataset[i][\"text\"])\n",
        "        print(\"✅ 실제:\", label_to_text[dataset[i][\"label\"]], \"🔮 예측:\", label_to_text[pred_labels[i].item()])\n",
        "        print(\"-\" * 40)\n",
        "\n",
        "\n",
        "num_samples = 5\n",
        "print_samples(dataset[\"test\"], true_labels, pred_labels, num_samples)"
      ],
      "metadata": {
        "colab": {
          "base_uri": "https://localhost:8080/"
        },
        "id": "WchLYZlH_Qmy",
        "outputId": "58440edd-50fd-4205-db83-b54bfe17d857"
      },
      "execution_count": null,
      "outputs": [
        {
          "output_type": "stream",
          "name": "stdout",
          "text": [
            "\n",
            "✅ 예측 결과 샘플:\n",
            "📝 원문: 가격대비 품질 아주 좋아요. 소매길이가 아주 조금만 길었음 좋았을거 같아요.\n",
            "✅ 실제: neutral 🔮 예측: neutral\n",
            "----------------------------------------\n",
            "📝 원문: 한 번 입었는데 보풀이 막 생깁니다. 싼 값 한다고 해야하나...\n",
            "✅ 실제: negative 🔮 예측: negative\n",
            "----------------------------------------\n",
            "📝 원문: 너무 맘에 들어요 여름청바지라는 말이 딱 맞을정도로 얇고 보이핏이라서 그런지 엉밑살도 감춰주고 좋아요!\n",
            "✅ 실제: positive 🔮 예측: positive\n",
            "----------------------------------------\n",
            "📝 원문: 여름에 더워서 청바지 잘 못입었는데 에어리 쿨 진은 정말 얇고 시원한 촉감이여요. 대만족 입니다.\n",
            "✅ 실제: positive 🔮 예측: positive\n",
            "----------------------------------------\n",
            "📝 원문: 아들이 시원한 신발 원해서 구매했는데  아주 좋아하네요 싸이즈도 맞고 가볍고 딱입니다 아주 잘신겠어요 대박\n",
            "✅ 실제: positive 🔮 예측: positive\n",
            "----------------------------------------\n",
            "\n",
            "\n",
            "❌ 예측이 틀린 샘플:\n",
            "📝 원문: 다 괜찮은데 처음 신고 잠깐 외출...집에 들어올때 아이들이 하는 말 엄마 뒤꿈치가 시꺼멓다고 하네요..신발이 색이 묻어 나네요..그것 빼고는 편안한고 괜찮은데....^^\n",
            "✅ 실제: positive 🔮 예측: neutral\n",
            "----------------------------------------\n",
            "📝 원문: 사이즈가 약간 작은듯 하지만 디자인 괜찮습니다\n",
            "✅ 실제: neutral 🔮 예측: positive\n",
            "----------------------------------------\n",
            "📝 원문: 신축성이 완전 좋아요.  33사이즈인데 32사이즈가 잘 맞네요. 저렴하고 배송도 빠릅니다.\n",
            "✅ 실제: neutral 🔮 예측: positive\n",
            "----------------------------------------\n",
            "📝 원문: 한사이즈 작게 주문하여..딱 맞아요. 블랙을 찾다가.. OOO에서 저렴한 가격으로 너무 잘 구매했어요. 다른 디자인두 보려했는데..지금은 중단이네요ㅠ\n",
            "✅ 실제: positive 🔮 예측: neutral\n",
            "----------------------------------------\n",
            "📝 원문: 쿠션 낮은거 빼곤 가격도 싸서고 좋아요~  이것만 신랑 사줬더니 비슷해서 감흥이 없네요ㅋㅋ\n",
            "✅ 실제: positive 🔮 예측: neutral\n",
            "----------------------------------------\n"
          ]
        }
      ]
    },
    {
      "cell_type": "markdown",
      "source": [
        "# PEFT"
      ],
      "metadata": {
        "id": "RTDHzzCQ_v-_"
      }
    },
    {
      "cell_type": "code",
      "source": [
        "from peft import get_peft_model, LoraConfig, TaskType\n",
        "\n",
        "peft_config = LoraConfig(\n",
        "    task_type=TaskType.SEQ_CLS,\n",
        "    inference_mode=False,\n",
        "    r=8,\n",
        "    lora_alpha=16,\n",
        "    lora_dropout=0.1,\n",
        ")\n",
        "\n",
        "model_peft = AutoModelForSequenceClassification.from_pretrained(model_name, num_labels=3)\n",
        "model_peft = get_peft_model(model_peft, peft_config)\n",
        "model_peft.print_trainable_parameters()"
      ],
      "metadata": {
        "colab": {
          "base_uri": "https://localhost:8080/"
        },
        "id": "rDS8jhnz2S-a",
        "outputId": "63fc4a54-a2dd-4608-9e6a-21c2254a26a5"
      },
      "execution_count": null,
      "outputs": [
        {
          "output_type": "stream",
          "name": "stderr",
          "text": [
            "Some weights of ElectraForSequenceClassification were not initialized from the model checkpoint at beomi/KcELECTRA-base and are newly initialized: ['classifier.dense.bias', 'classifier.dense.weight', 'classifier.out_proj.bias', 'classifier.out_proj.weight']\n",
            "You should probably TRAIN this model on a down-stream task to be able to use it for predictions and inference.\n"
          ]
        },
        {
          "output_type": "stream",
          "name": "stdout",
          "text": [
            "trainable params: 887,811 || all params: 109,971,462 || trainable%: 0.8073\n"
          ]
        }
      ]
    },
    {
      "cell_type": "code",
      "source": [
        "num_epochs = 5\n",
        "batch_size = 64\n",
        "training_args_peft = TrainingArguments(\n",
        "    output_dir=\"./results_peft\",\n",
        "    eval_strategy=\"epoch\",\n",
        "    per_device_train_batch_size=batch_size,\n",
        "    per_device_eval_batch_size=batch_size,\n",
        "    num_train_epochs=num_epochs,\n",
        "    report_to=\"none\",\n",
        ")\n",
        "\n",
        "trainer_peft = create_trainer(model_peft, training_args_peft)\n",
        "trainer_peft.train()"
      ],
      "metadata": {
        "colab": {
          "base_uri": "https://localhost:8080/",
          "height": 305
        },
        "id": "A2dzASLlMO6R",
        "outputId": "aceef2d5-b306-4e32-ad0a-d10f729831b6"
      },
      "execution_count": null,
      "outputs": [
        {
          "output_type": "stream",
          "name": "stderr",
          "text": [
            "No label_names provided for model class `PeftModelForSequenceClassification`. Since `PeftModel` hides base models input arguments, if label_names is not given, label_names can't be set automatically within `Trainer`. Note that empty label_names list will be used instead.\n"
          ]
        },
        {
          "output_type": "display_data",
          "data": {
            "text/plain": [
              "<IPython.core.display.HTML object>"
            ],
            "text/html": [
              "\n",
              "    <div>\n",
              "      \n",
              "      <progress value='2775' max='2775' style='width:300px; height:20px; vertical-align: middle;'></progress>\n",
              "      [2775/2775 11:28, Epoch 5/5]\n",
              "    </div>\n",
              "    <table border=\"1\" class=\"dataframe\">\n",
              "  <thead>\n",
              " <tr style=\"text-align: left;\">\n",
              "      <th>Epoch</th>\n",
              "      <th>Training Loss</th>\n",
              "      <th>Validation Loss</th>\n",
              "      <th>Accuracy</th>\n",
              "    </tr>\n",
              "  </thead>\n",
              "  <tbody>\n",
              "    <tr>\n",
              "      <td>1</td>\n",
              "      <td>0.591800</td>\n",
              "      <td>0.409183</td>\n",
              "      <td>0.819257</td>\n",
              "    </tr>\n",
              "    <tr>\n",
              "      <td>2</td>\n",
              "      <td>0.413200</td>\n",
              "      <td>0.396220</td>\n",
              "      <td>0.841329</td>\n",
              "    </tr>\n",
              "    <tr>\n",
              "      <td>3</td>\n",
              "      <td>0.373500</td>\n",
              "      <td>0.360871</td>\n",
              "      <td>0.852928</td>\n",
              "    </tr>\n",
              "    <tr>\n",
              "      <td>4</td>\n",
              "      <td>0.367500</td>\n",
              "      <td>0.354756</td>\n",
              "      <td>0.856194</td>\n",
              "    </tr>\n",
              "    <tr>\n",
              "      <td>5</td>\n",
              "      <td>0.349900</td>\n",
              "      <td>0.350820</td>\n",
              "      <td>0.856644</td>\n",
              "    </tr>\n",
              "  </tbody>\n",
              "</table><p>"
            ]
          },
          "metadata": {}
        },
        {
          "output_type": "execute_result",
          "data": {
            "text/plain": [
              "TrainOutput(global_step=2775, training_loss=0.41263872851122607, metrics={'train_runtime': 688.6322, 'train_samples_per_second': 257.888, 'train_steps_per_second': 4.03, 'total_flos': 1.18026657245952e+16, 'train_loss': 0.41263872851122607, 'epoch': 5.0})"
            ]
          },
          "metadata": {},
          "execution_count": 12
        }
      ]
    },
    {
      "cell_type": "code",
      "source": [
        "save_and_download_model(trainer_peft, tokenizer, \"peft\")"
      ],
      "metadata": {
        "colab": {
          "base_uri": "https://localhost:8080/",
          "height": 17
        },
        "id": "Non-Vdk_SzwF",
        "outputId": "44b36a89-07a9-486f-b5ba-f0caee09fe9a"
      },
      "execution_count": null,
      "outputs": [
        {
          "output_type": "display_data",
          "data": {
            "text/plain": [
              "<IPython.core.display.Javascript object>"
            ],
            "application/javascript": [
              "\n",
              "    async function download(id, filename, size) {\n",
              "      if (!google.colab.kernel.accessAllowed) {\n",
              "        return;\n",
              "      }\n",
              "      const div = document.createElement('div');\n",
              "      const label = document.createElement('label');\n",
              "      label.textContent = `Downloading \"${filename}\": `;\n",
              "      div.appendChild(label);\n",
              "      const progress = document.createElement('progress');\n",
              "      progress.max = size;\n",
              "      div.appendChild(progress);\n",
              "      document.body.appendChild(div);\n",
              "\n",
              "      const buffers = [];\n",
              "      let downloaded = 0;\n",
              "\n",
              "      const channel = await google.colab.kernel.comms.open(id);\n",
              "      // Send a message to notify the kernel that we're ready.\n",
              "      channel.send({})\n",
              "\n",
              "      for await (const message of channel.messages) {\n",
              "        // Send a message to notify the kernel that we're ready.\n",
              "        channel.send({})\n",
              "        if (message.buffers) {\n",
              "          for (const buffer of message.buffers) {\n",
              "            buffers.push(buffer);\n",
              "            downloaded += buffer.byteLength;\n",
              "            progress.value = downloaded;\n",
              "          }\n",
              "        }\n",
              "      }\n",
              "      const blob = new Blob(buffers, {type: 'application/binary'});\n",
              "      const a = document.createElement('a');\n",
              "      a.href = window.URL.createObjectURL(blob);\n",
              "      a.download = filename;\n",
              "      div.appendChild(a);\n",
              "      a.click();\n",
              "      div.remove();\n",
              "    }\n",
              "  "
            ]
          },
          "metadata": {}
        },
        {
          "output_type": "display_data",
          "data": {
            "text/plain": [
              "<IPython.core.display.Javascript object>"
            ],
            "application/javascript": [
              "download(\"download_f58c804f-785f-44e9-9cdd-c8baceb771b2\", \"peft.zip\", 3757391)"
            ]
          },
          "metadata": {}
        }
      ]
    },
    {
      "cell_type": "code",
      "source": [
        "pred_labels, true_labels = get_predictions_and_labels(trainer_peft, tokenized_dataset[\"test\"])\n",
        "\n",
        "print_acc_and_confusion_matrix(true_labels, pred_labels)\n",
        "\n",
        "num_samples = 5\n",
        "print_samples(dataset[\"test\"], true_labels, pred_labels, num_samples)"
      ],
      "metadata": {
        "colab": {
          "base_uri": "https://localhost:8080/",
          "height": 1000
        },
        "id": "8FisTUvPK_Cs",
        "outputId": "56ae28ce-5562-4f86-ebfc-83788d7fb3b5"
      },
      "execution_count": null,
      "outputs": [
        {
          "output_type": "display_data",
          "data": {
            "text/plain": [
              "<IPython.core.display.HTML object>"
            ],
            "text/html": []
          },
          "metadata": {}
        },
        {
          "output_type": "stream",
          "name": "stdout",
          "text": [
            "🎯 테스트 정확도: 85.66%\n"
          ]
        },
        {
          "output_type": "display_data",
          "data": {
            "text/plain": [
              "<Figure size 640x480 with 2 Axes>"
            ],
            "image/png": "[encoded data removed]"
          },
          "metadata": {}
        },
        {
          "output_type": "stream",
          "name": "stdout",
          "text": [
            "\n",
            "✅ 예측 결과 샘플:\n",
            "📝 원문: 가격대비 품질 아주 좋아요. 소매길이가 아주 조금만 길었음 좋았을거 같아요.\n",
            "✅ 실제: neutral 🔮 예측: positive\n",
            "----------------------------------------\n",
            "📝 원문: 한 번 입었는데 보풀이 막 생깁니다. 싼 값 한다고 해야하나...\n",
            "✅ 실제: negative 🔮 예측: negative\n",
            "----------------------------------------\n",
            "📝 원문: 너무 맘에 들어요 여름청바지라는 말이 딱 맞을정도로 얇고 보이핏이라서 그런지 엉밑살도 감춰주고 좋아요!\n",
            "✅ 실제: positive 🔮 예측: positive\n",
            "----------------------------------------\n",
            "📝 원문: 여름에 더워서 청바지 잘 못입었는데 에어리 쿨 진은 정말 얇고 시원한 촉감이여요. 대만족 입니다.\n",
            "✅ 실제: positive 🔮 예측: positive\n",
            "----------------------------------------\n",
            "📝 원문: 아들이 시원한 신발 원해서 구매했는데  아주 좋아하네요 싸이즈도 맞고 가볍고 딱입니다 아주 잘신겠어요 대박\n",
            "✅ 실제: positive 🔮 예측: positive\n",
            "----------------------------------------\n",
            "\n",
            "\n",
            "❌ 예측이 틀린 샘플:\n",
            "📝 원문: 가격대비 품질 아주 좋아요. 소매길이가 아주 조금만 길었음 좋았을거 같아요.\n",
            "✅ 실제: neutral 🔮 예측: positive\n",
            "----------------------------------------\n",
            "📝 원문: 다 괜찮은데 처음 신고 잠깐 외출...집에 들어올때 아이들이 하는 말 엄마 뒤꿈치가 시꺼멓다고 하네요..신발이 색이 묻어 나네요..그것 빼고는 편안한고 괜찮은데....^^\n",
            "✅ 실제: positive 🔮 예측: neutral\n",
            "----------------------------------------\n",
            "📝 원문: 사이즈가 약간 작은듯 하지만 디자인 괜찮습니다\n",
            "✅ 실제: neutral 🔮 예측: positive\n",
            "----------------------------------------\n",
            "📝 원문: 신축성이 완전 좋아요.  33사이즈인데 32사이즈가 잘 맞네요. 저렴하고 배송도 빠릅니다.\n",
            "✅ 실제: neutral 🔮 예측: positive\n",
            "----------------------------------------\n",
            "📝 원문: 싸이즈가  좀 크게 나온듯. 한치수 작게 구입해도 될듯.  잘신고  있어요.\n",
            "✅ 실제: neutral 🔮 예측: positive\n",
            "----------------------------------------\n"
          ]
        }
      ]
    },
    {
      "cell_type": "code",
      "source": [],
      "metadata": {
        "id": "rhYdsauCRKYT"
      },
      "execution_count": null,
      "outputs": []
    }
  ]
}