{
  "cells": [
    {
      "cell_type": "markdown",
      "metadata": {},
      "source": [
        "## 스프린트 미션 #6\n",
        "#### 3팀 전수현 \n",
        "#### 제출일자: 25.07.01"
      ]
    },
    {
      "cell_type": "markdown",
      "metadata": {},
      "source": [
        "이번 과제는 캐글의 `chest-xray-pneumonia` 데이터를 이용하여 분류 문제를 Transfer learning을 통해서 진행해보는 과제이다. 코드잇에서 제공한 baseline 코드를 기준으로 개인적인 목표를 정해보았다.  \n",
        "\n",
        "이번 과제의 목표는 \n",
        "\n",
        "1) torchvision의 여러 pretrained model을 활용하여 transfer learning을 하고 성능을 비교한다.\n",
        "2) 여러 평가 지표 Confusion Matrix, Precision, Recall, F1-Score, ROC-AUC를 활용하여 모델 평가\n",
        "4) 학습률 스케줄러 (Learning Rate Scheduler) 활용하여 learning rate 관리\n",
        "4) Early Stopping 적용\n",
        "5) 다양한 Data augmentation 적용 \n"
      ]
    },
    {
      "cell_type": "code",
      "execution_count": 1,
      "metadata": {
        "colab": {
          "base_uri": "https://localhost:8080/"
        },
        "id": "XC781PFlVXhl",
        "outputId": "8921d38f-d0b8-4050-ac4d-7c4ed61d11a7"
      },
      "outputs": [
        {
          "name": "stderr",
          "output_type": "stream",
          "text": [
            "/home/soohyun/miniconda3/envs/JSH/lib/python3.13/site-packages/requests/__init__.py:86: RequestsDependencyWarning: Unable to find acceptable character detection dependency (chardet or charset_normalizer).\n",
            "  warnings.warn(\n",
            "/home/soohyun/miniconda3/envs/JSH/lib/python3.13/site-packages/tqdm/auto.py:21: TqdmWarning: IProgress not found. Please update jupyter and ipywidgets. See https://ipywidgets.readthedocs.io/en/stable/user_install.html\n",
            "  from .autonotebook import tqdm as notebook_tqdm\n"
          ]
        },
        {
          "name": "stdout",
          "output_type": "stream",
          "text": [
            "Dataset path: /home/soohyun/.cache/kagglehub/datasets/paultimothymooney/chest-xray-pneumonia/versions/2\n"
          ]
        }
      ],
      "source": [
        "import kagglehub\n",
        "\n",
        "# Download latest version\n",
        "path = kagglehub.dataset_download(\"paultimothymooney/chest-xray-pneumonia\")\n",
        "print(\"Dataset path:\", path)"
      ]
    },
    {
      "cell_type": "markdown",
      "metadata": {},
      "source": [
        "## 0. Import Libraries"
      ]
    },
    {
      "cell_type": "code",
      "execution_count": 2,
      "metadata": {
        "colab": {
          "base_uri": "https://localhost:8080/"
        },
        "id": "H0eM1Co0zNgW",
        "outputId": "aa2af5ff-fd0b-438d-ba92-cd787de20b15"
      },
      "outputs": [],
      "source": [
        "# ====================================================================\n",
        "# STEP 0: Import Libraries\n",
        "# ====================================================================\n",
        "# 과제에 사용한 library들을 import\n",
        "\n",
        "# 시스템 및 입출력 관련\n",
        "import os  # 디렉토리, 파일 경로 조작 등\n",
        "from PIL import Image  # 이미지 열기 및 처리 (Pillow)\n",
        "from tqdm import tqdm  # 반복문의 진행 상태 시각화\n",
        "from pathlib import Path  # payhon path\n",
        "\n",
        "\n",
        "# 시각화 도구\n",
        "import matplotlib.pyplot as plt  # 기본 시각화 라이브러리\n",
        "import seaborn as sns  # 고급 시각화 (히트맵, 스타일 등)\n",
        "\n",
        "# 이미지 처리\n",
        "import cv2  # OpenCV - 고급 이미지/비디오 처리\n",
        "\n",
        "# 수치 연산\n",
        "import numpy as np  # 배열, 벡터 계산 등\n",
        "\n",
        "# PyTorch 기본 구성\n",
        "import torch  # 텐서, 연산 등\n",
        "import torch.nn as nn  # 모델 정의 (layer, loss 등)\n",
        "import torch.nn.functional as F\n",
        "import torch.optim as optim  # Optimizer (SGD, Adam 등)\n",
        "\n",
        "# PyTorch 데이터 처리\n",
        "from torch.utils.data import Dataset, DataLoader  # 커스텀 데이터셋, 배치 로딩\n",
        "\n",
        "# PyTorch 이미지 전처리\n",
        "from torchvision import transforms  # 기본 이미지 transform\n",
        "from torchvision import datasets  # torchvision 내장 데이터셋\n",
        "import torchvision.models as models\n",
        "\n",
        "from torchvision.transforms import v2  # torchvision v2 transforms (최신 API)\n",
        "\n",
        "# 싸이킷런 평가 지표\n",
        "from sklearn.metrics import precision_score, recall_score, f1_score, confusion_matrix\n",
        "\n",
        "# 싸이킷런 데이터 나누기\n",
        "from sklearn.model_selection import train_test_split\n",
        "\n",
        "\n",
        "# 실험 추적 및 하이퍼파라미터 관리\n",
        "import wandb  # Weights & Biases - 실험 로깅, 시각화, 하이퍼파라미터 튜닝\n",
        "\n",
        "import gc  # Garbage Collector 모듈"
      ]
    },
    {
      "cell_type": "markdown",
      "metadata": {},
      "source": [
        "## 1. Set configuration"
      ]
    },
    {
      "cell_type": "code",
      "execution_count": 3,
      "metadata": {},
      "outputs": [
        {
          "name": "stdout",
          "output_type": "stream",
          "text": [
            "Using device: cuda\n"
          ]
        }
      ],
      "source": [
        "# ====================================================================\n",
        "# STEP 1: Configuration 설정\n",
        "# ====================================================================\n",
        "# 하이퍼파라미터 및 경로 등 실험에 필요한 설정들을 모아둠\n",
        "# 실험 추적 및 재현성을 위해 모든 값은 여기에서 수정하는 습관을 들이자\n",
        "\n",
        "# 디바이스 설정\n",
        "device = \"cuda\" if torch.cuda.is_available() else \"cpu\"\n",
        "print(f\"Using device: {device}\")\n",
        "\n",
        "# 주요 하이퍼파라미터\n",
        "LEARNING_RATE = 1e-4  # 학습률 (optimizer용)\n",
        "BATCH_SIZE = 128  # 배치 크기\n",
        "NUM_EPOCHS = 100  # 학습 epoch 수\n",
        "# SEED = 42  # 재현성을 위한 random seed\n",
        "\n",
        "# 데이터 경로 설정\n",
        "DATA_ROOT = \"./data/chest_xray\"\n",
        "train_dir = os.path.join(DATA_ROOT, \"train\")\n",
        "val_dir = os.path.join(DATA_ROOT, \"val\")\n",
        "test_dir = os.path.join(DATA_ROOT, \"test\")\n",
        "\n",
        "# 모델 설정\n",
        "MODEL_NAME = \"ResNet18\"  # 또는 \"EfficientNet\", 등등\n",
        "USE_PRETRAINED = True  # torchvision 모델 사용 여부\n",
        "\n",
        "# 학습 고도화 설정 (Optional)\n",
        "USE_SCHEDULER = True  # Learning rate scheduler 사용 여부\n",
        "EARLY_STOPPING = True  # Early stopping 적용 여부\n",
        "AUGMENTATION = True  # 데이터 증강 사용 여부\n",
        "\n",
        "# 실험 로깅용 설정\n",
        "USE_WANDB = True\n",
        "WANDB_PROJECT = \"chest-xray-classification\"\n",
        "RUN_NAME = f\"{MODEL_NAME}_bs{BATCH_SIZE}_lr{LEARNING_RATE}\""
      ]
    },
    {
      "cell_type": "markdown",
      "metadata": {},
      "source": [
        "## 2. Data pre-processing"
      ]
    },
    {
      "cell_type": "markdown",
      "metadata": {},
      "source": [
        "먼저, data loader에서 1개의 batch를 가져와서 plot해보기"
      ]
    },
    {
      "cell_type": "code",
      "execution_count": 4,
      "metadata": {
        "colab": {
          "base_uri": "https://localhost:8080/"
        },
        "id": "NNHmXg4sxgLb",
        "outputId": "e069fc64-f5ff-438b-81d2-dd77e82ae2b8"
      },
      "outputs": [
        {
          "name": "stdout",
          "output_type": "stream",
          "text": [
            "Class names: ['NORMAL', 'PNEUMONIA']\n"
          ]
        },
        {
          "data": {
            "image/png": "[encoded data removed]",
            "text/plain": [
              "<Figure size 640x480 with 1 Axes>"
            ]
          },
          "metadata": {},
          "output_type": "display_data"
        },
        {
          "name": "stdout",
          "output_type": "stream",
          "text": [
            "image: torch.Size([32, 3, 224, 224])\n",
            "label: torch.Size([32])\n"
          ]
        }
      ],
      "source": [
        "# ====================================================================\n",
        "# STEP 2: Data Preprocessing\n",
        "# ====================================================================\n",
        "\n",
        "transforms = v2.Compose(\n",
        "    [\n",
        "        v2.Resize((224, 224)),\n",
        "        v2.ToImage(),\n",
        "        v2.ToDtype(dtype=torch.float32, scale=True),\n",
        "    ]\n",
        ")\n",
        "\n",
        "# 데이터셋 로드\n",
        "train_dataset = datasets.ImageFolder(train_dir, transform=transforms)\n",
        "\n",
        "# DataLoader 생성\n",
        "train_loader = DataLoader(train_dataset, batch_size=32, shuffle=True)\n",
        "\n",
        "# 데이터 로더에서 배치 가져오기 (train)\n",
        "images, labels = next(iter(train_loader))\n",
        "\n",
        "\n",
        "# 이미지를 디스플레이\n",
        "def imshow(img, title):\n",
        "    img = img / 2 + 0.5  # 정규화 복원\n",
        "    npimg = img.numpy()\n",
        "    plt.imshow(np.transpose(npimg, (1, 2, 0)))\n",
        "    plt.title(title)\n",
        "    plt.show()\n",
        "\n",
        "\n",
        "# 클래스 확인\n",
        "class_names = train_dataset.classes\n",
        "print(\"Class names:\", class_names)\n",
        "\n",
        "# 첫 번째 배치의 첫 번째 이미지 시각화\n",
        "imshow(images[0], title=class_names[labels[0]])\n",
        "\n",
        "print(f\"image: {images.size()}\")\n",
        "print(f\"label: {labels.size()}\")"
      ]
    },
    {
      "cell_type": "code",
      "execution_count": 5,
      "metadata": {},
      "outputs": [
        {
          "name": "stdout",
          "output_type": "stream",
          "text": [
            "'data/chest_xray/val': 16\n"
          ]
        }
      ],
      "source": [
        "# 검증 데이터셋 디렉토리 경로 설정\n",
        "val_dir = Path(\"./data/chest_xray/val\")\n",
        "\n",
        "# val_dir 및 모든 하위 디렉토리에서 .jpeg 확장자를 가진 파일 찾기\n",
        "# '**/*.jpeg' 패턴은 모든 하위 폴더를 재귀적으로 탐색하라는 의미야.\n",
        "image_files = list(val_dir.glob(\"**/*.jpeg\"))\n",
        "\n",
        "# 찾은 파일의 총 개수 계산\n",
        "num_images = len(image_files)\n",
        "\n",
        "print(f\"'{val_dir}': {num_images}\")"
      ]
    },
    {
      "cell_type": "markdown",
      "metadata": {},
      "source": [
        "그런데 데이터를 자세히 보면 Validation set가 16개임을 알 수 있다. valdiation set의 중요성은 이번 과제의 목표인 early stopping 기법에도 활용이 되고 여러모로 학습에서 매우 중요하기 때문에 직접 재구성해주어야 한다."
      ]
    },
    {
      "cell_type": "code",
      "execution_count": 6,
      "metadata": {},
      "outputs": [
        {
          "name": "stdout",
          "output_type": "stream",
          "text": [
            "trainset의 총 이미지 개수: 5216\n",
            "trainset의 총 레이블 개수: 5216\n"
          ]
        }
      ],
      "source": [
        "# validation set을 재구성\n",
        "original_train_dir = Path(\"./data/chest_xray/train\")\n",
        "class_names = [\"NORMAL\", \"PNEUMONIA\"]\n",
        "\n",
        "all_image_paths = []\n",
        "all_labels = []\n",
        "\n",
        "# 각 클래스 폴더를 순회하며 파일 경로와 레이블 수집\n",
        "for i, class_name in enumerate(class_names):\n",
        "    class_dir = original_train_dir / class_name\n",
        "    image_paths = list(class_dir.glob(\"*.jpeg\"))\n",
        "    all_image_paths.extend(image_paths)\n",
        "    all_labels.extend([i] * len(image_paths))  # NORMAL은 0, PNEUMONIA는 1\n",
        "\n",
        "print(f\"trainset의 총 이미지 개수: {len(all_image_paths)}\")\n",
        "print(f\"trainset의 총 레이블 개수: {len(all_labels)}\")"
      ]
    },
    {
      "cell_type": "code",
      "execution_count": 7,
      "metadata": {},
      "outputs": [
        {
          "name": "stdout",
          "output_type": "stream",
          "text": [
            "새로운 train set 데이터 개수: 4798\n",
            "새로운 validation set 데이터 개수: 418\n"
          ]
        }
      ],
      "source": [
        "from sklearn.model_selection import train_test_split\n",
        "\n",
        "# 8:2 비율로 훈련/검증 데이터 분할\n",
        "# stratify=all_labels 옵션은 원본 데이터의 클래스 비율을 유지하면서 나눠줘. (매우 중요!)\n",
        "train_paths, val_paths, train_labels, val_labels = train_test_split(\n",
        "    all_image_paths,\n",
        "    all_labels,\n",
        "    test_size=0.08,  # 검증 세트 비율\n",
        "    random_state=42,  # 재현성을 위한 시드\n",
        "    stratify=all_labels,  # 클래스 비율 유지\n",
        ")\n",
        "\n",
        "print(f\"새로운 train set 데이터 개수: {len(train_paths)}\")\n",
        "print(f\"새로운 validation set 데이터 개수: {len(val_paths)}\")"
      ]
    },
    {
      "cell_type": "code",
      "execution_count": 8,
      "metadata": {},
      "outputs": [],
      "source": [
        "# validation set 재구성을 위해서 새롭게 만든 Dataset 클래스\n",
        "class CustomImageDataset(Dataset):\n",
        "    def __init__(self, image_paths, labels, transform=None):\n",
        "        self.image_paths = image_paths\n",
        "        self.labels = labels\n",
        "        self.transform = transform\n",
        "\n",
        "    def __len__(self):\n",
        "        return len(self.image_paths)\n",
        "\n",
        "    def __getitem__(self, idx):\n",
        "        # 경로 리스트에서 idx에 해당하는 이미지 경로를 가져옴\n",
        "        image_path = self.image_paths[idx]\n",
        "\n",
        "        # PIL을 사용해 이미지 로드\n",
        "        image = Image.open(image_path).convert(\"RGB\")\n",
        "\n",
        "        # 레이블 가져오기\n",
        "        label = self.labels[idx]\n",
        "\n",
        "        # 데이터 변환(augmentation 등) 적용\n",
        "        if self.transform:\n",
        "            image = self.transform(image)\n",
        "\n",
        "        return image, label"
      ]
    },
    {
      "cell_type": "markdown",
      "metadata": {},
      "source": [
        "이미지는 사이즈는 (3, 224, 224)이고 label은 2가지. "
      ]
    },
    {
      "cell_type": "markdown",
      "metadata": {},
      "source": [
        "이제 본격적인 이미지 전처리를 위해서 transform을 구성"
      ]
    },
    {
      "cell_type": "code",
      "execution_count": 9,
      "metadata": {
        "colab": {
          "base_uri": "https://localhost:8080/"
        },
        "id": "u1GusNJCyeN1",
        "outputId": "3ce9b940-e440-4fda-cf9f-0b8c02eb17bd"
      },
      "outputs": [],
      "source": [
        "# Data Augmentation\n",
        "data_transforms = {\n",
        "    \"train\": v2.Compose(\n",
        "        [\n",
        "            v2.Resize((224, 224)),  # 이미지 크기 조정\n",
        "            v2.ColorJitter(brightness=0.2, contrast=0.2),\n",
        "            v2.RandomAffine(degrees=15, translate=(0.1, 0.1), scale=(0.9, 1.1)),\n",
        "            v2.RandomHorizontalFlip(p=0.5),\n",
        "            v2.ToImage(),  #  PyTorch 텐서로 변환\n",
        "            v2.ToDtype(torch.float32, scale=True),  # 텐서의 타입 float32, scaling\n",
        "            v2.Normalize([0.5], [0.5]),  # 정규화\n",
        "            v2.RandomErasing(p=0.5, scale=(0.02, 0.2)),  # 일부 영역 지우기\n",
        "        ]\n",
        "    ),\n",
        "    \"val\": v2.Compose(\n",
        "        [\n",
        "            v2.Resize((224, 224)),  # 이미지 크기 조정\n",
        "            v2.ToImage(),  #  PyTorch 텐서로 변환\n",
        "            v2.ToDtype(torch.float32, scale=True),  # 텐서의 타입 float32, scaling\n",
        "            v2.Normalize([0.5], [0.5]),  # 정규화\n",
        "        ]\n",
        "    ),\n",
        "    \"test\": v2.Compose(\n",
        "        [\n",
        "            v2.Resize((224, 224)),  # 이미지 크기 조정\n",
        "            v2.ToImage(),  #  PyTorch 텐서로 변환\n",
        "            v2.ToDtype(torch.float32, scale=True),  # 텐서의 타입 float32, scaling\n",
        "            v2.Normalize([0.5], [0.5]),  # 정규화\n",
        "        ]\n",
        "    ),\n",
        "}"
      ]
    },
    {
      "cell_type": "markdown",
      "metadata": {},
      "source": [
        "이제 데이터 전처리 과정이 완료된 이미지를 불러오기 위해서 dataloader에서 이미지 로드하고 시각화해보면"
      ]
    },
    {
      "cell_type": "code",
      "execution_count": 10,
      "metadata": {
        "colab": {
          "base_uri": "https://localhost:8080/"
        },
        "id": "zGRMP7EKysD1",
        "outputId": "c503b603-a8f3-4ad8-fbbb-23763e05e5c3"
      },
      "outputs": [
        {
          "name": "stdout",
          "output_type": "stream",
          "text": [
            "Number of training samples: 4798\n",
            "Number of validation samples: 418\n",
            "Number of test samples: 624\n"
          ]
        }
      ],
      "source": [
        "# 데이터셋 로드\n",
        "train_dataset = CustomImageDataset(\n",
        "    train_paths, train_labels, transform=data_transforms[\"train\"]\n",
        ")\n",
        "val_dataset = CustomImageDataset(\n",
        "    val_paths, val_labels, transform=data_transforms[\"val\"]\n",
        ")\n",
        "test_dataset = datasets.ImageFolder(test_dir, transform=data_transforms[\"test\"])\n",
        "\n",
        "# DataLoader 생성\n",
        "train_loader = DataLoader(train_dataset, batch_size=BATCH_SIZE, shuffle=True)\n",
        "val_loader = DataLoader(val_dataset, batch_size=BATCH_SIZE, shuffle=False)\n",
        "test_loader = DataLoader(test_dataset, batch_size=BATCH_SIZE, shuffle=False)\n",
        "\n",
        "print(f\"Number of training samples: {len(train_dataset)}\")\n",
        "print(f\"Number of validation samples: {len(val_dataset)}\")\n",
        "print(f\"Number of test samples: {len(test_dataset)}\")"
      ]
    },
    {
      "cell_type": "markdown",
      "metadata": {},
      "source": [
        "적절하게 dataset이 split 된것을 확인할 수 있었다."
      ]
    },
    {
      "cell_type": "code",
      "execution_count": 11,
      "metadata": {
        "colab": {
          "base_uri": "https://localhost:8080/",
          "height": 452
        },
        "id": "QKgz3m8a1fhl",
        "outputId": "8f85b473-24e8-403c-8dbd-9cb42f4f92b2"
      },
      "outputs": [
        {
          "data": {
            "image/png": "[encoded data removed]",
            "text/plain": [
              "<Figure size 640x480 with 1 Axes>"
            ]
          },
          "metadata": {},
          "output_type": "display_data"
        }
      ],
      "source": [
        "# 데이터 로더에서 배치 가져오기 (train)\n",
        "images, labels = next(iter(train_loader))\n",
        "\n",
        "\n",
        "# 이미지를 디스플레이\n",
        "def imshow(img, title):\n",
        "    img = img / 2 + 0.5  # 정규화 복원\n",
        "    npimg = img.numpy()\n",
        "    plt.imshow(np.transpose(npimg, (1, 2, 0)))\n",
        "    plt.title(title)\n",
        "    plt.show()\n",
        "\n",
        "\n",
        "# 첫 번째 배치의 첫 번째 이미지 시각화\n",
        "imshow(images[0], title=class_names[labels[0]])"
      ]
    },
    {
      "cell_type": "markdown",
      "metadata": {
        "id": "ldTMnLQBy1QU"
      },
      "source": [
        "## 3. 모델 구현하기"
      ]
    },
    {
      "cell_type": "code",
      "execution_count": 12,
      "metadata": {
        "id": "N5jhQB9ly1Fs"
      },
      "outputs": [],
      "source": [
        "# ====================================================================\n",
        "# STEP 3: Model implementation\n",
        "# ====================================================================\n",
        "\n",
        "\n",
        "# Custom CNN 모델 정의\n",
        "class CustomCNN(nn.Module):\n",
        "    def __init__(self, num_classes):\n",
        "        super().__init__()\n",
        "        self.conv1 = nn.Conv2d(\n",
        "            3, 32, kernel_size=3, stride=1, padding=1\n",
        "        )  # 입력 채널: 3, 출력 채널: 32\n",
        "        self.pool = nn.MaxPool2d(kernel_size=2, stride=2)  # MaxPooling\n",
        "        self.conv2 = nn.Conv2d(32, 64, kernel_size=3, stride=1, padding=1)  # Conv2D\n",
        "        self.avgpool = nn.AdaptiveAvgPool2d((7, 7))  # Adaptive Pooling (7x7)\n",
        "        self.fc1 = nn.Linear(64 * 7 * 7, 128)  # Fully Connected Layer\n",
        "        self.fc2 = nn.Linear(128, num_classes)  # Output Layer\n",
        "\n",
        "    def forward(self, x):\n",
        "        x = self.pool(F.relu(self.conv1(x)))  # Conv1 + Pooling\n",
        "        x = self.pool(F.relu(self.conv2(x)))  # Conv2 + Pooling\n",
        "        x = self.avgpool(x)  # Adaptive Pooling\n",
        "        x = torch.flatten(x, 1)  # Flattening\n",
        "        x = F.relu(self.fc1(x))  # Fully Connected Layer 1\n",
        "        x = self.fc2(x)  # Output Layer\n",
        "        return x\n",
        "\n",
        "\n",
        "# 클래스 수 설정 (NORMAL, PNEUMONIA)\n",
        "num_classes = len(class_names)"
      ]
    },
    {
      "cell_type": "markdown",
      "metadata": {},
      "source": [
        "그런데 이 데이터의 문제는 데이터의 분포가 불균형이라는 것이다. 즉,"
      ]
    },
    {
      "cell_type": "code",
      "execution_count": 13,
      "metadata": {},
      "outputs": [
        {
          "name": "stdout",
          "output_type": "stream",
          "text": [
            "Train - NORMAL: 1341, PNEUMONIA: 3875\n"
          ]
        }
      ],
      "source": [
        "normal_train_count = len(os.listdir(os.path.join(train_dir, \"NORMAL\")))\n",
        "pneumonia_train_count = len(os.listdir(os.path.join(train_dir, \"PNEUMONIA\")))\n",
        "weights = torch.tensor(\n",
        "    [pneumonia_train_count / normal_train_count, 1.0],\n",
        "    dtype=torch.float32,\n",
        "    device=device,\n",
        ")\n",
        "\n",
        "print(f\"Train - NORMAL: {normal_train_count}, PNEUMONIA: {pneumonia_train_count}\")"
      ]
    },
    {
      "cell_type": "markdown",
      "metadata": {},
      "source": [
        "위에 결과에서 볼 수 있듯이 'NORMAL'과 'PNEUMONIA'의 비율이 대략적으로 1:3으로 차이가 나기 때문에 학습 데이터가 편향되었다고 볼 수 있다. 이러한 편향을 보정하기 위해서 loss function에서 *가중 손실 함수를 적용*함"
      ]
    },
    {
      "cell_type": "markdown",
      "metadata": {
        "id": "2UyRmtyay41r"
      },
      "source": [
        "## 4. 모델 학습 및 평가"
      ]
    },
    {
      "cell_type": "code",
      "execution_count": 14,
      "metadata": {},
      "outputs": [],
      "source": [
        "# ====================================================================\n",
        "# STEP 4: train and evalutate\n",
        "# ====================================================================\n",
        "\n",
        "\n",
        "# 먼저, 학습에 쓰일 Ealystopping 클래스를 구현. pytorch나 다른 라이브러리에는 없다고 한다.\n",
        "class EarlyStopping:\n",
        "    \"\"\"Early stops the training if validation loss doesn't improve after a given patience.\"\"\"\n",
        "\n",
        "    def __init__(\n",
        "        self,\n",
        "        patience=5,\n",
        "        verbose=False,\n",
        "        delta=0,\n",
        "        path=\"/experiments/best_model.pth\",\n",
        "        trace_func=print,\n",
        "    ):\n",
        "        \"\"\"\n",
        "        Args:\n",
        "            patience (int): How long to wait after last time validation loss improved.\n",
        "                            Default: 5\n",
        "            verbose (bool): If True, prints a message for each validation loss improvement.\n",
        "                            Default: False\n",
        "            delta (float): Minimum change in the monitored quantity to qualify as an improvement.\n",
        "                            Default: 0\n",
        "            path (str): Path for the checkpoint to be saved to.\n",
        "                            Default: 'best_model.pth'\n",
        "            trace_func (function): trace print function.\n",
        "                            Default: print\n",
        "        \"\"\"\n",
        "        self.patience = patience\n",
        "        self.verbose = verbose\n",
        "        self.counter = 0\n",
        "        self.best_score = None\n",
        "        self.early_stop = False\n",
        "        self.val_loss_min = np.inf\n",
        "        self.delta = delta\n",
        "        self.path = path\n",
        "        self.trace_func = trace_func\n",
        "\n",
        "    def __call__(self, val_loss, model):\n",
        "\n",
        "        score = -val_loss\n",
        "\n",
        "        if self.best_score is None:\n",
        "            self.best_score = score\n",
        "            self.save_checkpoint(val_loss, model)\n",
        "        elif score < self.best_score + self.delta:\n",
        "            self.counter += 1\n",
        "            self.trace_func(\n",
        "                f\"EarlyStopping counter: {self.counter} out of {self.patience}\"\n",
        "            )\n",
        "            if self.counter >= self.patience:\n",
        "                self.early_stop = True\n",
        "        else:\n",
        "            self.best_score = score\n",
        "            self.save_checkpoint(val_loss, model)\n",
        "            self.counter = 0\n",
        "\n",
        "    def save_checkpoint(self, val_loss, model):\n",
        "        \"\"\"Saves model when validation loss decrease.\"\"\"\n",
        "        if self.verbose:\n",
        "            self.trace_func(\n",
        "                f\"Validation loss decreased ({self.val_loss_min:.6f} --> {val_loss:.6f}).  Saving model ...\"\n",
        "            )\n",
        "        torch.save(model.state_dict(), self.path)\n",
        "        self.val_loss_min = val_loss"
      ]
    },
    {
      "cell_type": "code",
      "execution_count": 15,
      "metadata": {},
      "outputs": [],
      "source": [
        "# ROC 커브 비교해주는 메서드\n",
        "def ROCcomparison_result(results):\n",
        "    plt.figure(figsize=(6, 6))\n",
        "\n",
        "    for name, result in results.items():\n",
        "        fpr, tpr, thresholds = roc_curve(result[\"labels\"], result[\"probs\"])\n",
        "        # auc 함수로 AUC 점수 계산\n",
        "        roc_auc = auc(fpr, tpr)\n",
        "        plt.plot(fpr, tpr, lw=2, label=f\"{name} (area = {roc_auc:0.3f})\")\n",
        "    plt.plot([0, 1], [0, 1], color=\"navy\", lw=2, linestyle=\"--\")  # 50% 성능의 기준선\n",
        "    plt.xlim([0.0, 1.0])\n",
        "    plt.ylim([0.0, 1.05])\n",
        "    plt.xlabel(\"False Positive Rate\")\n",
        "    plt.ylabel(\"True Positive Rate (Recall)\")\n",
        "    plt.title(\"Receiver Operating Characteristic (ROC) Curve\")\n",
        "    plt.legend(loc=\"lower right\")\n",
        "    plt.grid(alpha=0.3)\n",
        "    plt.show()"
      ]
    },
    {
      "cell_type": "code",
      "execution_count": 16,
      "metadata": {
        "id": "Jlyst101y9gb"
      },
      "outputs": [],
      "source": [
        "def train_fn(\n",
        "    model: nn.Module,\n",
        "    model_name: str,\n",
        "    train_loader: DataLoader,\n",
        "    val_loader: DataLoader,\n",
        "    criterion,\n",
        "    optimizer,\n",
        "    scheduler,\n",
        "    num_epochs: int,\n",
        "):\n",
        "    print(f\"** Start training a model {model_name} ** \")\n",
        "    path_model = \"experiments/\" + model_name + \".pt\"\n",
        "    early_stopping = EarlyStopping(patience=5, verbose=True, path=path_model)\n",
        "    for epoch in range(num_epochs):\n",
        "        model.train()  # 모델을 학습 모드로 설정\n",
        "        running_loss = 0.0\n",
        "        correct = 0\n",
        "        total = 0\n",
        "\n",
        "        loop = tqdm(train_loader, desc=f\"Epoch [{epoch+1}/{num_epochs}]\")\n",
        "\n",
        "        for inputs, labels in loop:\n",
        "            # 데이터를 GPU/CPU로 이동\n",
        "            inputs, labels = inputs.to(device), labels.to(device)\n",
        "\n",
        "            # 이전 그래디언트 초기화\n",
        "            optimizer.zero_grad()\n",
        "\n",
        "            # Forward Pass\n",
        "            outputs = model(inputs)\n",
        "\n",
        "            # 손실 계산\n",
        "            loss = criterion(outputs, labels)\n",
        "            loss.backward()  # Backward Pass\n",
        "\n",
        "            # 가중치 업데이트\n",
        "            optimizer.step()\n",
        "\n",
        "            running_loss += loss.item()\n",
        "\n",
        "            # 정확도 계산\n",
        "            _, predicted = torch.max(outputs, 1)\n",
        "            correct += (predicted == labels).sum().item()\n",
        "            total += labels.size(0)\n",
        "\n",
        "        # 학습 손실 및 정확도 출력\n",
        "        avg_train_loss = running_loss / len(train_loader)\n",
        "        train_acc = correct / total\n",
        "\n",
        "        # 검증 단계 수행\n",
        "        eval_results = evaluate(model, val_loader, criterion)\n",
        "\n",
        "        # Learning Rate Scheduler 적용. val_loss를 고려하여 learning rate를 조정\n",
        "        if USE_SCHEDULER:\n",
        "            scheduler.step(eval_results[\"loss\"])\n",
        "\n",
        "        # EarlyStopping 로직 호출\n",
        "        early_stopping(eval_results[\"loss\"], model)\n",
        "        if early_stopping.early_stop:\n",
        "            print(\"Early stopping\")\n",
        "            break\n",
        "\n",
        "        print(\n",
        "            f\"(Train Loss: {avg_train_loss:.4f} | Train Acc: {train_acc:.4f})(Val Loss: {eval_results['loss']:.4f} | Val Acc: {eval_results['accuracy']:.4f})\"\n",
        "        )\n",
        "\n",
        "        print(\"***Valset evaluation***\")\n",
        "        print(\n",
        "            f\"Accuracy: {eval_results['accuracy']:.4f} | F1-Score: {eval_results['f1_score']:.4f}, Precision: {eval_results['precision']:.4f} |  Recall: {eval_results['recall']:.4f} \"\n",
        "        )\n",
        "    print(\"Loading best model weights.\")\n",
        "    model.load_state_dict(torch.load(path_model))"
      ]
    },
    {
      "cell_type": "code",
      "execution_count": 17,
      "metadata": {
        "id": "qDCOv6JZzSgL"
      },
      "outputs": [],
      "source": [
        "def evaluate(model: nn.Module, dataloader: DataLoader, loss_fn) -> dict:\n",
        "    model.eval()\n",
        "\n",
        "    total_loss = 0.0  # 손실값을 저장할 리스트\n",
        "    all_labels = []\n",
        "    all_preds = []\n",
        "    all_probs = []  # ROC 커브를 위한 확률값 리스트\n",
        "\n",
        "    with torch.no_grad():\n",
        "        for inputs, labels in dataloader:\n",
        "            inputs, labels = inputs.to(device), labels.to(device)\n",
        "\n",
        "            # 모델의 예측값 계산\n",
        "            outputs = model(inputs)\n",
        "            loss = loss_fn(outputs, labels)\n",
        "            total_loss += loss.item()\n",
        "\n",
        "            # 예측값 가져오기\n",
        "            preds = torch.argmax(outputs, dim=1)\n",
        "\n",
        "            # 소프트맥스를 적용해 확률 계산 (ROC 커브용)\n",
        "            probs = F.softmax(outputs, dim=1)\n",
        "            positive_probs = probs[:, 1]\n",
        "\n",
        "            # 예측값과 실제 레이블을 CPU로 옮겨 리스트에 저장\n",
        "            all_preds.extend(preds.cpu().numpy())\n",
        "            all_labels.extend(labels.cpu().numpy())\n",
        "            all_probs.extend(positive_probs.cpu().numpy())\n",
        "\n",
        "    # 평균 손실값과 정확도 계산\n",
        "    avg_loss = total_loss / len(dataloader)\n",
        "\n",
        "    # scikit-learn을 사용해 평가지표 계산\n",
        "    accuracy = (np.array(all_preds) == np.array(all_labels)).mean()\n",
        "    precision = precision_score(all_labels, all_preds, average=\"binary\")\n",
        "    recall = recall_score(all_labels, all_preds, average=\"binary\")\n",
        "    f1 = f1_score(all_labels, all_preds, average=\"binary\")\n",
        "\n",
        "    # 혼동 행렬도 계산\n",
        "    cm = confusion_matrix(all_labels, all_preds)\n",
        "\n",
        "    # 결과를 딕셔너리 형태\n",
        "    return {\n",
        "        \"loss\": avg_loss,  # val loss\n",
        "        \"accuracy\": accuracy,  # val accuracy\n",
        "        \"precision\": precision,\n",
        "        \"recall\": recall,\n",
        "        \"f1_score\": f1,\n",
        "        \"confusion_matrix\": cm,\n",
        "        \"labels\": np.array(all_labels),  # ROC 커브용 실제 레이블\n",
        "        \"probs\": np.array(all_probs),  # ROC 커브용 예측 확률\n",
        "    }"
      ]
    },
    {
      "cell_type": "code",
      "execution_count": 18,
      "metadata": {
        "colab": {
          "base_uri": "https://localhost:8080/"
        },
        "id": "uHS5GCO9zXj0",
        "outputId": "23aba82f-f0bf-49ea-afa1-a2e0a0b6a30f"
      },
      "outputs": [],
      "source": [
        "from sklearn.metrics import roc_curve, auc\n",
        "\n",
        "\n",
        "# ROC 커브 단독\n",
        "def plot_roc_curve(true_labels, predicted_probs):\n",
        "    \"\"\"\n",
        "    ROC 커브를 그리고 AUC 점수를 표시하는 함수\n",
        "\n",
        "    Args:\n",
        "        true_labels (np.array): 실제 레이블 배열\n",
        "        predicted_probs (np.array): 모델이 예측한 양성 클래스(PNEUMONIA)의 확률 배열\n",
        "    \"\"\"\n",
        "    # roc_curve 함수로 FPR, TPR, 임계값 계산\n",
        "    fpr, tpr, thresholds = roc_curve(true_labels, predicted_probs)\n",
        "    # auc 함수로 AUC 점수 계산\n",
        "    roc_auc = auc(fpr, tpr)\n",
        "\n",
        "    plt.figure(figsize=(6, 6))\n",
        "    plt.plot(\n",
        "        fpr, tpr, color=\"darkorange\", lw=2, label=f\"ROC curve (area = {roc_auc:0.3f})\"\n",
        "    )\n",
        "    plt.plot([0, 1], [0, 1], color=\"navy\", lw=2, linestyle=\"--\")  # 50% 성능의 기준선\n",
        "\n",
        "    plt.xlim([0.0, 1.0])\n",
        "    plt.ylim([0.0, 1.05])\n",
        "    plt.xlabel(\"False Positive Rate\")\n",
        "    plt.ylabel(\"True Positive Rate (Recall)\")\n",
        "    plt.title(\"Receiver Operating Characteristic (ROC) Curve\")\n",
        "    plt.legend(loc=\"lower right\")\n",
        "    plt.grid(alpha=0.3)\n",
        "    plt.show()\n",
        "\n",
        "\n",
        "# plot_roc_curve(test_results[\"labels\"], test_results[\"probs\"])\n",
        "\n",
        "\n",
        "# ROC 커브 + Comfusion matrix\n",
        "def Visualize_eval(test_results):\n",
        "    # Confusion matrix 시각화\n",
        "    fig, axes = plt.subplots(nrows=1, ncols=2, figsize=(12, 6))  # 1행 2열 subplot\n",
        "    sns.heatmap(\n",
        "        test_results[\"confusion_matrix\"],\n",
        "        annot=True,\n",
        "        fmt=\"d\",\n",
        "        cmap=\"Blues\",\n",
        "        xticklabels=class_names,\n",
        "        yticklabels=class_names,\n",
        "        ax=axes[0],\n",
        "    )\n",
        "    axes[0].set_title(\"Confusion Matrix\")\n",
        "    axes[0].set_xlabel(\"Predicted\")\n",
        "    axes[0].set_ylabel(\"Actual\")\n",
        "\n",
        "    # roc_curve 함수로 FPR, TPR, 임계값 계산\n",
        "    fpr, tpr, thresholds = roc_curve(test_results[\"labels\"], test_results[\"probs\"])\n",
        "    # auc 함수로 AUC 점수 계산\n",
        "    roc_auc = auc(fpr, tpr)\n",
        "    axes[1].plot(\n",
        "        fpr, tpr, color=\"darkorange\", lw=2, label=f\"ROC curve (area = {roc_auc:0.3f})\"\n",
        "    )\n",
        "    axes[1].plot(\n",
        "        [0, 1], [0, 1], color=\"navy\", lw=2, linestyle=\"--\"\n",
        "    )  # 50% 성능의 기준선\n",
        "    axes[1].set_xlim([0.0, 1.0])\n",
        "    axes[1].set_ylim([0.0, 1.05])\n",
        "    axes[1].set_xlabel(\"False Positive Rate\")\n",
        "    axes[1].set_ylabel(\"True Positive Rate (Recall)\")\n",
        "    axes[1].set_title(\"Receiver Operating Characteristic (ROC) Curve\")\n",
        "    axes[1].legend(loc=\"lower right\")\n",
        "    axes[1].grid(alpha=0.3)\n",
        "\n",
        "    plt.tight_layout()\n",
        "    plt.show()"
      ]
    },
    {
      "cell_type": "markdown",
      "metadata": {},
      "source": [
        "## 5. Transfer Learning 실험. 총 3가지 모델 비교\n",
        "- BaselineCNN, \n",
        "- BaselienResnet18 \n",
        "- 그리고 resnet 기반 3가지 transfer learning의 기법들을 비교한다"
      ]
    },
    {
      "cell_type": "code",
      "execution_count": 19,
      "metadata": {},
      "outputs": [],
      "source": [
        "result_1 = {}\n",
        "# NUM_EPOCHS = 100\n",
        "loss_fn = nn.CrossEntropyLoss(\n",
        "    weight=weights\n",
        ")  # 가중 손실함수 적용. 데이터가 더 적은 클래스에 높은 가중치를 줌"
      ]
    },
    {
      "cell_type": "markdown",
      "metadata": {},
      "source": [
        "## 5-(1) Baseline CNN\n"
      ]
    },
    {
      "cell_type": "code",
      "execution_count": 20,
      "metadata": {},
      "outputs": [],
      "source": [
        "model = CustomCNN(num_classes).to(device)\n",
        "\n",
        "optimizer = optim.Adam(model.parameters(), lr=LEARNING_RATE)\n",
        "scheduler = torch.optim.lr_scheduler.ReduceLROnPlateau(\n",
        "    optimizer, \"min\", patience=2, factor=0.1\n",
        ")"
      ]
    },
    {
      "cell_type": "code",
      "execution_count": 21,
      "metadata": {},
      "outputs": [
        {
          "name": "stdout",
          "output_type": "stream",
          "text": [
            "** Start training a model baselineCNN ** \n"
          ]
        },
        {
          "name": "stderr",
          "output_type": "stream",
          "text": [
            "Epoch [1/100]: 100%|██████████| 38/38 [03:13<00:00,  5.09s/it]\n"
          ]
        },
        {
          "name": "stdout",
          "output_type": "stream",
          "text": [
            "Validation loss decreased (inf --> 0.618145).  Saving model ...\n",
            "(Train Loss: 0.6700 | Train Acc: 0.6117)(Val Loss: 0.6181 | Val Acc: 0.6411)\n",
            "***Valset evaluation***\n",
            "Accuracy: 0.6411 | F1-Score: 0.6914, Precision: 0.9600 |  Recall: 0.5402 \n"
          ]
        },
        {
          "name": "stderr",
          "output_type": "stream",
          "text": [
            "Epoch [2/100]: 100%|██████████| 38/38 [03:14<00:00,  5.11s/it]\n"
          ]
        },
        {
          "name": "stdout",
          "output_type": "stream",
          "text": [
            "Validation loss decreased (0.618145 --> 0.508775).  Saving model ...\n",
            "(Train Loss: 0.5780 | Train Acc: 0.7205)(Val Loss: 0.5088 | Val Acc: 0.6818)\n",
            "***Valset evaluation***\n",
            "Accuracy: 0.6818 | F1-Score: 0.7366, Precision: 0.9588 |  Recall: 0.5981 \n"
          ]
        },
        {
          "name": "stderr",
          "output_type": "stream",
          "text": [
            "Epoch [3/100]: 100%|██████████| 38/38 [03:17<00:00,  5.21s/it]\n"
          ]
        },
        {
          "name": "stdout",
          "output_type": "stream",
          "text": [
            "Validation loss decreased (0.508775 --> 0.404652).  Saving model ...\n",
            "(Train Loss: 0.4952 | Train Acc: 0.7672)(Val Loss: 0.4047 | Val Acc: 0.7703)\n",
            "***Valset evaluation***\n",
            "Accuracy: 0.7703 | F1-Score: 0.8235, Precision: 0.9614 |  Recall: 0.7203 \n"
          ]
        },
        {
          "name": "stderr",
          "output_type": "stream",
          "text": [
            "Epoch [4/100]: 100%|██████████| 38/38 [03:16<00:00,  5.17s/it]\n"
          ]
        },
        {
          "name": "stdout",
          "output_type": "stream",
          "text": [
            "Validation loss decreased (0.404652 --> 0.364922).  Saving model ...\n",
            "(Train Loss: 0.4523 | Train Acc: 0.7953)(Val Loss: 0.3649 | Val Acc: 0.7799)\n",
            "***Valset evaluation***\n",
            "Accuracy: 0.7799 | F1-Score: 0.8303, Precision: 0.9740 |  Recall: 0.7235 \n"
          ]
        },
        {
          "name": "stderr",
          "output_type": "stream",
          "text": [
            "Epoch [5/100]: 100%|██████████| 38/38 [03:21<00:00,  5.31s/it]\n"
          ]
        },
        {
          "name": "stdout",
          "output_type": "stream",
          "text": [
            "Validation loss decreased (0.364922 --> 0.342777).  Saving model ...\n",
            "(Train Loss: 0.4100 | Train Acc: 0.8237)(Val Loss: 0.3428 | Val Acc: 0.7967)\n",
            "***Valset evaluation***\n",
            "Accuracy: 0.7967 | F1-Score: 0.8446, Precision: 0.9788 |  Recall: 0.7428 \n"
          ]
        },
        {
          "name": "stderr",
          "output_type": "stream",
          "text": [
            "Epoch [6/100]: 100%|██████████| 38/38 [03:20<00:00,  5.28s/it]\n"
          ]
        },
        {
          "name": "stdout",
          "output_type": "stream",
          "text": [
            "Validation loss decreased (0.342777 --> 0.300184).  Saving model ...\n",
            "(Train Loss: 0.4049 | Train Acc: 0.8164)(Val Loss: 0.3002 | Val Acc: 0.8397)\n",
            "***Valset evaluation***\n",
            "Accuracy: 0.8397 | F1-Score: 0.8814, Precision: 0.9803 |  Recall: 0.8006 \n"
          ]
        },
        {
          "name": "stderr",
          "output_type": "stream",
          "text": [
            "Epoch [7/100]: 100%|██████████| 38/38 [03:10<00:00,  5.01s/it]\n"
          ]
        },
        {
          "name": "stdout",
          "output_type": "stream",
          "text": [
            "Validation loss decreased (0.300184 --> 0.270469).  Saving model ...\n",
            "(Train Loss: 0.3846 | Train Acc: 0.8318)(Val Loss: 0.2705 | Val Acc: 0.8756)\n",
            "***Valset evaluation***\n",
            "Accuracy: 0.8756 | F1-Score: 0.9113, Precision: 0.9709 |  Recall: 0.8585 \n"
          ]
        },
        {
          "name": "stderr",
          "output_type": "stream",
          "text": [
            "Epoch [8/100]: 100%|██████████| 38/38 [03:11<00:00,  5.04s/it]\n"
          ]
        },
        {
          "name": "stdout",
          "output_type": "stream",
          "text": [
            "EarlyStopping counter: 1 out of 5\n",
            "(Train Loss: 0.3761 | Train Acc: 0.8333)(Val Loss: 0.2713 | Val Acc: 0.8589)\n",
            "***Valset evaluation***\n",
            "Accuracy: 0.8589 | F1-Score: 0.8974, Precision: 0.9773 |  Recall: 0.8296 \n"
          ]
        },
        {
          "name": "stderr",
          "output_type": "stream",
          "text": [
            "Epoch [9/100]: 100%|██████████| 38/38 [03:10<00:00,  5.01s/it]\n"
          ]
        },
        {
          "name": "stdout",
          "output_type": "stream",
          "text": [
            "EarlyStopping counter: 2 out of 5\n",
            "(Train Loss: 0.3786 | Train Acc: 0.8374)(Val Loss: 0.2768 | Val Acc: 0.8804)\n",
            "***Valset evaluation***\n",
            "Accuracy: 0.8804 | F1-Score: 0.9147, Precision: 0.9745 |  Recall: 0.8617 \n"
          ]
        },
        {
          "name": "stderr",
          "output_type": "stream",
          "text": [
            "Epoch [10/100]: 100%|██████████| 38/38 [03:11<00:00,  5.05s/it]\n"
          ]
        },
        {
          "name": "stdout",
          "output_type": "stream",
          "text": [
            "Validation loss decreased (0.270469 --> 0.243783).  Saving model ...\n",
            "(Train Loss: 0.3517 | Train Acc: 0.8493)(Val Loss: 0.2438 | Val Acc: 0.9019)\n",
            "***Valset evaluation***\n",
            "Accuracy: 0.9019 | F1-Score: 0.9311, Precision: 0.9754 |  Recall: 0.8907 \n"
          ]
        },
        {
          "name": "stderr",
          "output_type": "stream",
          "text": [
            "Epoch [11/100]: 100%|██████████| 38/38 [03:11<00:00,  5.03s/it]\n"
          ]
        },
        {
          "name": "stdout",
          "output_type": "stream",
          "text": [
            "Validation loss decreased (0.243783 --> 0.232842).  Saving model ...\n",
            "(Train Loss: 0.3417 | Train Acc: 0.8545)(Val Loss: 0.2328 | Val Acc: 0.8995)\n",
            "***Valset evaluation***\n",
            "Accuracy: 0.8995 | F1-Score: 0.9293, Precision: 0.9753 |  Recall: 0.8875 \n"
          ]
        },
        {
          "name": "stderr",
          "output_type": "stream",
          "text": [
            "Epoch [12/100]: 100%|██████████| 38/38 [03:09<00:00,  4.98s/it]\n"
          ]
        },
        {
          "name": "stdout",
          "output_type": "stream",
          "text": [
            "EarlyStopping counter: 1 out of 5\n",
            "(Train Loss: 0.3562 | Train Acc: 0.8476)(Val Loss: 0.2350 | Val Acc: 0.9019)\n",
            "***Valset evaluation***\n",
            "Accuracy: 0.9019 | F1-Score: 0.9311, Precision: 0.9754 |  Recall: 0.8907 \n"
          ]
        },
        {
          "name": "stderr",
          "output_type": "stream",
          "text": [
            "Epoch [13/100]: 100%|██████████| 38/38 [03:11<00:00,  5.05s/it]\n"
          ]
        },
        {
          "name": "stdout",
          "output_type": "stream",
          "text": [
            "Validation loss decreased (0.232842 --> 0.231215).  Saving model ...\n",
            "(Train Loss: 0.3288 | Train Acc: 0.8624)(Val Loss: 0.2312 | Val Acc: 0.9019)\n",
            "***Valset evaluation***\n",
            "Accuracy: 0.9019 | F1-Score: 0.9311, Precision: 0.9754 |  Recall: 0.8907 \n"
          ]
        },
        {
          "name": "stderr",
          "output_type": "stream",
          "text": [
            "Epoch [14/100]: 100%|██████████| 38/38 [03:11<00:00,  5.05s/it]\n"
          ]
        },
        {
          "name": "stdout",
          "output_type": "stream",
          "text": [
            "EarlyStopping counter: 1 out of 5\n",
            "(Train Loss: 0.3204 | Train Acc: 0.8652)(Val Loss: 0.2442 | Val Acc: 0.8708)\n",
            "***Valset evaluation***\n",
            "Accuracy: 0.8708 | F1-Score: 0.9066, Precision: 0.9813 |  Recall: 0.8424 \n"
          ]
        },
        {
          "name": "stderr",
          "output_type": "stream",
          "text": [
            "Epoch [15/100]: 100%|██████████| 38/38 [03:10<00:00,  5.01s/it]\n"
          ]
        },
        {
          "name": "stdout",
          "output_type": "stream",
          "text": [
            "EarlyStopping counter: 2 out of 5\n",
            "(Train Loss: 0.3234 | Train Acc: 0.8585)(Val Loss: 0.2312 | Val Acc: 0.8852)\n",
            "***Valset evaluation***\n",
            "Accuracy: 0.8852 | F1-Score: 0.9184, Precision: 0.9747 |  Recall: 0.8682 \n"
          ]
        },
        {
          "name": "stderr",
          "output_type": "stream",
          "text": [
            "Epoch [16/100]: 100%|██████████| 38/38 [03:10<00:00,  5.00s/it]\n"
          ]
        },
        {
          "name": "stdout",
          "output_type": "stream",
          "text": [
            "Validation loss decreased (0.231215 --> 0.218587).  Saving model ...\n",
            "(Train Loss: 0.3270 | Train Acc: 0.8618)(Val Loss: 0.2186 | Val Acc: 0.9258)\n",
            "***Valset evaluation***\n",
            "Accuracy: 0.9258 | F1-Score: 0.9491, Precision: 0.9698 |  Recall: 0.9293 \n"
          ]
        },
        {
          "name": "stderr",
          "output_type": "stream",
          "text": [
            "Epoch [17/100]: 100%|██████████| 38/38 [03:09<00:00,  5.00s/it]\n"
          ]
        },
        {
          "name": "stdout",
          "output_type": "stream",
          "text": [
            "Validation loss decreased (0.218587 --> 0.213408).  Saving model ...\n",
            "(Train Loss: 0.3225 | Train Acc: 0.8647)(Val Loss: 0.2134 | Val Acc: 0.9258)\n",
            "***Valset evaluation***\n",
            "Accuracy: 0.9258 | F1-Score: 0.9496, Precision: 0.9605 |  Recall: 0.9389 \n"
          ]
        },
        {
          "name": "stderr",
          "output_type": "stream",
          "text": [
            "Epoch [18/100]: 100%|██████████| 38/38 [03:10<00:00,  5.02s/it]\n"
          ]
        },
        {
          "name": "stdout",
          "output_type": "stream",
          "text": [
            "EarlyStopping counter: 1 out of 5\n",
            "(Train Loss: 0.3160 | Train Acc: 0.8699)(Val Loss: 0.2178 | Val Acc: 0.9187)\n",
            "***Valset evaluation***\n",
            "Accuracy: 0.9187 | F1-Score: 0.9433, Precision: 0.9792 |  Recall: 0.9100 \n"
          ]
        },
        {
          "name": "stderr",
          "output_type": "stream",
          "text": [
            "Epoch [19/100]: 100%|██████████| 38/38 [03:09<00:00,  5.00s/it]\n"
          ]
        },
        {
          "name": "stdout",
          "output_type": "stream",
          "text": [
            "Validation loss decreased (0.213408 --> 0.204236).  Saving model ...\n",
            "(Train Loss: 0.3080 | Train Acc: 0.8649)(Val Loss: 0.2042 | Val Acc: 0.9330)\n",
            "***Valset evaluation***\n",
            "Accuracy: 0.9330 | F1-Score: 0.9542, Precision: 0.9701 |  Recall: 0.9389 \n"
          ]
        },
        {
          "name": "stderr",
          "output_type": "stream",
          "text": [
            "Epoch [20/100]: 100%|██████████| 38/38 [03:09<00:00,  5.00s/it]\n"
          ]
        },
        {
          "name": "stdout",
          "output_type": "stream",
          "text": [
            "EarlyStopping counter: 1 out of 5\n",
            "(Train Loss: 0.3074 | Train Acc: 0.8731)(Val Loss: 0.2080 | Val Acc: 0.9211)\n",
            "***Valset evaluation***\n",
            "Accuracy: 0.9211 | F1-Score: 0.9453, Precision: 0.9760 |  Recall: 0.9164 \n"
          ]
        },
        {
          "name": "stderr",
          "output_type": "stream",
          "text": [
            "Epoch [21/100]: 100%|██████████| 38/38 [03:13<00:00,  5.08s/it]\n"
          ]
        },
        {
          "name": "stdout",
          "output_type": "stream",
          "text": [
            "Validation loss decreased (0.204236 --> 0.200899).  Saving model ...\n",
            "(Train Loss: 0.2877 | Train Acc: 0.8825)(Val Loss: 0.2009 | Val Acc: 0.9234)\n",
            "***Valset evaluation***\n",
            "Accuracy: 0.9234 | F1-Score: 0.9470, Precision: 0.9761 |  Recall: 0.9196 \n"
          ]
        },
        {
          "name": "stderr",
          "output_type": "stream",
          "text": [
            "Epoch [22/100]: 100%|██████████| 38/38 [03:14<00:00,  5.11s/it]\n"
          ]
        },
        {
          "name": "stdout",
          "output_type": "stream",
          "text": [
            "Validation loss decreased (0.200899 --> 0.197654).  Saving model ...\n",
            "(Train Loss: 0.2942 | Train Acc: 0.8791)(Val Loss: 0.1977 | Val Acc: 0.9378)\n",
            "***Valset evaluation***\n",
            "Accuracy: 0.9378 | F1-Score: 0.9577, Precision: 0.9703 |  Recall: 0.9453 \n"
          ]
        },
        {
          "name": "stderr",
          "output_type": "stream",
          "text": [
            "Epoch [23/100]: 100%|██████████| 38/38 [03:10<00:00,  5.00s/it]\n"
          ]
        },
        {
          "name": "stdout",
          "output_type": "stream",
          "text": [
            "EarlyStopping counter: 1 out of 5\n",
            "(Train Loss: 0.2862 | Train Acc: 0.8831)(Val Loss: 0.2058 | Val Acc: 0.9234)\n",
            "***Valset evaluation***\n",
            "Accuracy: 0.9234 | F1-Score: 0.9468, Precision: 0.9794 |  Recall: 0.9164 \n"
          ]
        },
        {
          "name": "stderr",
          "output_type": "stream",
          "text": [
            "Epoch [24/100]: 100%|██████████| 38/38 [03:10<00:00,  5.00s/it]\n"
          ]
        },
        {
          "name": "stdout",
          "output_type": "stream",
          "text": [
            "EarlyStopping counter: 2 out of 5\n",
            "(Train Loss: 0.2877 | Train Acc: 0.8822)(Val Loss: 0.2075 | Val Acc: 0.9187)\n",
            "***Valset evaluation***\n",
            "Accuracy: 0.9187 | F1-Score: 0.9433, Precision: 0.9792 |  Recall: 0.9100 \n"
          ]
        },
        {
          "name": "stderr",
          "output_type": "stream",
          "text": [
            "Epoch [25/100]: 100%|██████████| 38/38 [03:09<00:00,  4.98s/it]\n"
          ]
        },
        {
          "name": "stdout",
          "output_type": "stream",
          "text": [
            "Validation loss decreased (0.197654 --> 0.189844).  Saving model ...\n",
            "(Train Loss: 0.2871 | Train Acc: 0.8804)(Val Loss: 0.1898 | Val Acc: 0.9354)\n",
            "***Valset evaluation***\n",
            "Accuracy: 0.9354 | F1-Score: 0.9558, Precision: 0.9733 |  Recall: 0.9389 \n"
          ]
        },
        {
          "name": "stderr",
          "output_type": "stream",
          "text": [
            "Epoch [26/100]: 100%|██████████| 38/38 [03:11<00:00,  5.05s/it]\n"
          ]
        },
        {
          "name": "stdout",
          "output_type": "stream",
          "text": [
            "EarlyStopping counter: 1 out of 5\n",
            "(Train Loss: 0.2784 | Train Acc: 0.8795)(Val Loss: 0.1931 | Val Acc: 0.9330)\n",
            "***Valset evaluation***\n",
            "Accuracy: 0.9330 | F1-Score: 0.9541, Precision: 0.9732 |  Recall: 0.9357 \n"
          ]
        },
        {
          "name": "stderr",
          "output_type": "stream",
          "text": [
            "Epoch [27/100]: 100%|██████████| 38/38 [03:10<00:00,  5.03s/it]\n"
          ]
        },
        {
          "name": "stdout",
          "output_type": "stream",
          "text": [
            "EarlyStopping counter: 2 out of 5\n",
            "(Train Loss: 0.2730 | Train Acc: 0.8906)(Val Loss: 0.2051 | Val Acc: 0.9163)\n",
            "***Valset evaluation***\n",
            "Accuracy: 0.9163 | F1-Score: 0.9414, Precision: 0.9825 |  Recall: 0.9035 \n"
          ]
        },
        {
          "name": "stderr",
          "output_type": "stream",
          "text": [
            "Epoch [28/100]: 100%|██████████| 38/38 [03:11<00:00,  5.05s/it]\n"
          ]
        },
        {
          "name": "stdout",
          "output_type": "stream",
          "text": [
            "EarlyStopping counter: 3 out of 5\n",
            "(Train Loss: 0.2687 | Train Acc: 0.8916)(Val Loss: 0.2042 | Val Acc: 0.9211)\n",
            "***Valset evaluation***\n",
            "Accuracy: 0.9211 | F1-Score: 0.9449, Precision: 0.9826 |  Recall: 0.9100 \n"
          ]
        },
        {
          "name": "stderr",
          "output_type": "stream",
          "text": [
            "Epoch [29/100]: 100%|██████████| 38/38 [03:10<00:00,  5.02s/it]\n"
          ]
        },
        {
          "name": "stdout",
          "output_type": "stream",
          "text": [
            "EarlyStopping counter: 4 out of 5\n",
            "(Train Loss: 0.2523 | Train Acc: 0.8968)(Val Loss: 0.1938 | Val Acc: 0.9330)\n",
            "***Valset evaluation***\n",
            "Accuracy: 0.9330 | F1-Score: 0.9536, Precision: 0.9829 |  Recall: 0.9260 \n"
          ]
        },
        {
          "name": "stderr",
          "output_type": "stream",
          "text": [
            "Epoch [30/100]: 100%|██████████| 38/38 [03:08<00:00,  4.96s/it]\n"
          ]
        },
        {
          "name": "stdout",
          "output_type": "stream",
          "text": [
            "Validation loss decreased (0.189844 --> 0.188506).  Saving model ...\n",
            "(Train Loss: 0.2627 | Train Acc: 0.8891)(Val Loss: 0.1885 | Val Acc: 0.9354)\n",
            "***Valset evaluation***\n",
            "Accuracy: 0.9354 | F1-Score: 0.9555, Precision: 0.9797 |  Recall: 0.9325 \n"
          ]
        },
        {
          "name": "stderr",
          "output_type": "stream",
          "text": [
            "Epoch [31/100]: 100%|██████████| 38/38 [03:10<00:00,  5.02s/it]\n"
          ]
        },
        {
          "name": "stdout",
          "output_type": "stream",
          "text": [
            "EarlyStopping counter: 1 out of 5\n",
            "(Train Loss: 0.2653 | Train Acc: 0.8912)(Val Loss: 0.1911 | Val Acc: 0.9354)\n",
            "***Valset evaluation***\n",
            "Accuracy: 0.9354 | F1-Score: 0.9554, Precision: 0.9830 |  Recall: 0.9293 \n"
          ]
        },
        {
          "name": "stderr",
          "output_type": "stream",
          "text": [
            "Epoch [32/100]: 100%|██████████| 38/38 [03:12<00:00,  5.05s/it]\n"
          ]
        },
        {
          "name": "stdout",
          "output_type": "stream",
          "text": [
            "EarlyStopping counter: 2 out of 5\n",
            "(Train Loss: 0.2615 | Train Acc: 0.8952)(Val Loss: 0.1907 | Val Acc: 0.9330)\n",
            "***Valset evaluation***\n",
            "Accuracy: 0.9330 | F1-Score: 0.9538, Precision: 0.9797 |  Recall: 0.9293 \n"
          ]
        },
        {
          "name": "stderr",
          "output_type": "stream",
          "text": [
            "Epoch [33/100]: 100%|██████████| 38/38 [03:10<00:00,  5.01s/it]\n"
          ]
        },
        {
          "name": "stdout",
          "output_type": "stream",
          "text": [
            "EarlyStopping counter: 3 out of 5\n",
            "(Train Loss: 0.2567 | Train Acc: 0.8970)(Val Loss: 0.1887 | Val Acc: 0.9354)\n",
            "***Valset evaluation***\n",
            "Accuracy: 0.9354 | F1-Score: 0.9555, Precision: 0.9797 |  Recall: 0.9325 \n"
          ]
        },
        {
          "name": "stderr",
          "output_type": "stream",
          "text": [
            "Epoch [34/100]: 100%|██████████| 38/38 [03:08<00:00,  4.96s/it]\n"
          ]
        },
        {
          "name": "stdout",
          "output_type": "stream",
          "text": [
            "EarlyStopping counter: 4 out of 5\n",
            "(Train Loss: 0.2493 | Train Acc: 0.9058)(Val Loss: 0.1897 | Val Acc: 0.9330)\n",
            "***Valset evaluation***\n",
            "Accuracy: 0.9330 | F1-Score: 0.9538, Precision: 0.9797 |  Recall: 0.9293 \n"
          ]
        },
        {
          "name": "stderr",
          "output_type": "stream",
          "text": [
            "Epoch [35/100]: 100%|██████████| 38/38 [03:09<00:00,  4.99s/it]\n"
          ]
        },
        {
          "name": "stdout",
          "output_type": "stream",
          "text": [
            "EarlyStopping counter: 5 out of 5\n",
            "Early stopping\n",
            "Loading best model weights.\n"
          ]
        }
      ],
      "source": [
        "# 5-(1) Baseline CNN\n",
        "MODEL_NAME = \"baselineCNN\"\n",
        "\n",
        "train_fn(\n",
        "    model,\n",
        "    MODEL_NAME,\n",
        "    train_loader,\n",
        "    val_loader,\n",
        "    loss_fn,\n",
        "    optimizer,\n",
        "    scheduler,\n",
        "    num_epochs=NUM_EPOCHS,  # NUM_EPOCHS\n",
        ")"
      ]
    },
    {
      "cell_type": "code",
      "execution_count": 22,
      "metadata": {},
      "outputs": [
        {
          "data": {
            "image/png": "[encoded data removed]",
            "text/plain": [
              "<Figure size 1200x600 with 3 Axes>"
            ]
          },
          "metadata": {},
          "output_type": "display_data"
        }
      ],
      "source": [
        "# 5-(1) Test set 결과\n",
        "test_results = evaluate(model, test_loader, loss_fn)\n",
        "Visualize_eval(test_results)\n",
        "result_1[MODEL_NAME] = test_results"
      ]
    },
    {
      "cell_type": "markdown",
      "metadata": {},
      "source": [
        "## 5-(2). 실험: Resnet 기반 \n"
      ]
    },
    {
      "cell_type": "code",
      "execution_count": 23,
      "metadata": {},
      "outputs": [
        {
          "name": "stdout",
          "output_type": "stream",
          "text": [
            "✅ Memory cleared for next run.\n",
            "========================================\n",
            "\n"
          ]
        }
      ],
      "source": [
        "# 메모리 정리 루틴\n",
        "del model\n",
        "del optimizer\n",
        "gc.collect()\n",
        "torch.cuda.empty_cache()\n",
        "print(f\"✅ Memory cleared for next run.\")\n",
        "print(\"=\" * 40 + \"\\n\")"
      ]
    },
    {
      "cell_type": "code",
      "execution_count": 24,
      "metadata": {},
      "outputs": [
        {
          "name": "stderr",
          "output_type": "stream",
          "text": [
            "/home/soohyun/miniconda3/envs/JSH/lib/python3.13/site-packages/torchvision/models/_utils.py:208: UserWarning: The parameter 'pretrained' is deprecated since 0.13 and may be removed in the future, please use 'weights' instead.\n",
            "  warnings.warn(\n",
            "/home/soohyun/miniconda3/envs/JSH/lib/python3.13/site-packages/torchvision/models/_utils.py:223: UserWarning: Arguments other than a weight enum or `None` for 'weights' are deprecated since 0.13 and may be removed in the future. The current behavior is equivalent to passing `weights=None`.\n",
            "  warnings.warn(msg)\n"
          ]
        }
      ],
      "source": [
        "# 5-(2). 실험: Resnet 기반\n",
        "MODEL_NAME = \"resnet_baseline\"\n",
        "\n",
        "pretrained_model = models.resnet18(pretrained=False)  # pre-trained 아님 !\n",
        "# 모든 층 학습 가능하도록 설정\n",
        "for param in pretrained_model.parameters():\n",
        "    param.requires_grad = True\n",
        "\n",
        "# Classifier 교체\n",
        "num_features = pretrained_model.fc.in_features  # 기존 Fully Connected Layer 입력 크기\n",
        "pretrained_model.fc = nn.Linear(num_features, num_classes)  # 새 출력층 생성\n",
        "pretrained_model = pretrained_model.to(device)"
      ]
    },
    {
      "cell_type": "code",
      "execution_count": 25,
      "metadata": {},
      "outputs": [
        {
          "name": "stdout",
          "output_type": "stream",
          "text": [
            "** Start training a model resnet_baseline ** \n"
          ]
        },
        {
          "name": "stderr",
          "output_type": "stream",
          "text": [
            "Epoch [1/100]: 100%|██████████| 38/38 [03:09<00:00,  4.99s/it]\n"
          ]
        },
        {
          "name": "stdout",
          "output_type": "stream",
          "text": [
            "Validation loss decreased (inf --> 0.816027).  Saving model ...\n",
            "(Train Loss: 0.3915 | Train Acc: 0.8028)(Val Loss: 0.8160 | Val Acc: 0.8278)\n",
            "***Valset evaluation***\n",
            "Accuracy: 0.8278 | F1-Score: 0.8935, Precision: 0.8274 |  Recall: 0.9711 \n"
          ]
        },
        {
          "name": "stderr",
          "output_type": "stream",
          "text": [
            "Epoch [2/100]: 100%|██████████| 38/38 [03:09<00:00,  4.98s/it]\n"
          ]
        },
        {
          "name": "stdout",
          "output_type": "stream",
          "text": [
            "Validation loss decreased (0.816027 --> 0.328670).  Saving model ...\n",
            "(Train Loss: 0.2354 | Train Acc: 0.9016)(Val Loss: 0.3287 | Val Acc: 0.8756)\n",
            "***Valset evaluation***\n",
            "Accuracy: 0.8756 | F1-Score: 0.9107, Precision: 0.9779 |  Recall: 0.8521 \n"
          ]
        },
        {
          "name": "stderr",
          "output_type": "stream",
          "text": [
            "Epoch [3/100]: 100%|██████████| 38/38 [03:10<00:00,  5.01s/it]\n"
          ]
        },
        {
          "name": "stdout",
          "output_type": "stream",
          "text": [
            "Validation loss decreased (0.328670 --> 0.202953).  Saving model ...\n",
            "(Train Loss: 0.1827 | Train Acc: 0.9264)(Val Loss: 0.2030 | Val Acc: 0.9402)\n",
            "***Valset evaluation***\n",
            "Accuracy: 0.9402 | F1-Score: 0.9600, Precision: 0.9554 |  Recall: 0.9646 \n"
          ]
        },
        {
          "name": "stderr",
          "output_type": "stream",
          "text": [
            "Epoch [4/100]: 100%|██████████| 38/38 [03:09<00:00,  4.99s/it]\n"
          ]
        },
        {
          "name": "stdout",
          "output_type": "stream",
          "text": [
            "EarlyStopping counter: 1 out of 5\n",
            "(Train Loss: 0.1791 | Train Acc: 0.9256)(Val Loss: 0.2450 | Val Acc: 0.8900)\n",
            "***Valset evaluation***\n",
            "Accuracy: 0.8900 | F1-Score: 0.9215, Precision: 0.9818 |  Recall: 0.8682 \n"
          ]
        },
        {
          "name": "stderr",
          "output_type": "stream",
          "text": [
            "Epoch [5/100]: 100%|██████████| 38/38 [03:13<00:00,  5.09s/it]\n"
          ]
        },
        {
          "name": "stdout",
          "output_type": "stream",
          "text": [
            "Validation loss decreased (0.202953 --> 0.170288).  Saving model ...\n",
            "(Train Loss: 0.1426 | Train Acc: 0.9429)(Val Loss: 0.1703 | Val Acc: 0.9354)\n",
            "***Valset evaluation***\n",
            "Accuracy: 0.9354 | F1-Score: 0.9555, Precision: 0.9797 |  Recall: 0.9325 \n"
          ]
        },
        {
          "name": "stderr",
          "output_type": "stream",
          "text": [
            "Epoch [6/100]: 100%|██████████| 38/38 [03:10<00:00,  5.01s/it]\n"
          ]
        },
        {
          "name": "stdout",
          "output_type": "stream",
          "text": [
            "EarlyStopping counter: 1 out of 5\n",
            "(Train Loss: 0.1294 | Train Acc: 0.9433)(Val Loss: 0.1926 | Val Acc: 0.9593)\n",
            "***Valset evaluation***\n",
            "Accuracy: 0.9593 | F1-Score: 0.9731, Precision: 0.9565 |  Recall: 0.9904 \n"
          ]
        },
        {
          "name": "stderr",
          "output_type": "stream",
          "text": [
            "Epoch [7/100]: 100%|██████████| 38/38 [03:09<00:00,  4.99s/it]\n"
          ]
        },
        {
          "name": "stdout",
          "output_type": "stream",
          "text": [
            "EarlyStopping counter: 2 out of 5\n",
            "(Train Loss: 0.1320 | Train Acc: 0.9489)(Val Loss: 0.2201 | Val Acc: 0.9593)\n",
            "***Valset evaluation***\n",
            "Accuracy: 0.9593 | F1-Score: 0.9731, Precision: 0.9594 |  Recall: 0.9871 \n"
          ]
        },
        {
          "name": "stderr",
          "output_type": "stream",
          "text": [
            "Epoch [8/100]: 100%|██████████| 38/38 [03:09<00:00,  4.98s/it]\n"
          ]
        },
        {
          "name": "stdout",
          "output_type": "stream",
          "text": [
            "EarlyStopping counter: 3 out of 5\n",
            "(Train Loss: 0.1220 | Train Acc: 0.9512)(Val Loss: 0.3751 | Val Acc: 0.8636)\n",
            "***Valset evaluation***\n",
            "Accuracy: 0.8636 | F1-Score: 0.8995, Precision: 0.9961 |  Recall: 0.8199 \n"
          ]
        },
        {
          "name": "stderr",
          "output_type": "stream",
          "text": [
            "Epoch [9/100]: 100%|██████████| 38/38 [03:08<00:00,  4.97s/it]\n"
          ]
        },
        {
          "name": "stdout",
          "output_type": "stream",
          "text": [
            "Validation loss decreased (0.170288 --> 0.151862).  Saving model ...\n",
            "(Train Loss: 0.1141 | Train Acc: 0.9598)(Val Loss: 0.1519 | Val Acc: 0.9378)\n",
            "***Valset evaluation***\n",
            "Accuracy: 0.9378 | F1-Score: 0.9572, Precision: 0.9798 |  Recall: 0.9357 \n"
          ]
        },
        {
          "name": "stderr",
          "output_type": "stream",
          "text": [
            "Epoch [10/100]: 100%|██████████| 38/38 [03:09<00:00,  4.99s/it]\n"
          ]
        },
        {
          "name": "stdout",
          "output_type": "stream",
          "text": [
            "Validation loss decreased (0.151862 --> 0.140568).  Saving model ...\n",
            "(Train Loss: 0.1017 | Train Acc: 0.9591)(Val Loss: 0.1406 | Val Acc: 0.9426)\n",
            "***Valset evaluation***\n",
            "Accuracy: 0.9426 | F1-Score: 0.9607, Precision: 0.9799 |  Recall: 0.9421 \n"
          ]
        },
        {
          "name": "stderr",
          "output_type": "stream",
          "text": [
            "Epoch [11/100]: 100%|██████████| 38/38 [03:10<00:00,  5.01s/it]\n"
          ]
        },
        {
          "name": "stdout",
          "output_type": "stream",
          "text": [
            "Validation loss decreased (0.140568 --> 0.136491).  Saving model ...\n",
            "(Train Loss: 0.1025 | Train Acc: 0.9635)(Val Loss: 0.1365 | Val Acc: 0.9474)\n",
            "***Valset evaluation***\n",
            "Accuracy: 0.9474 | F1-Score: 0.9641, Precision: 0.9801 |  Recall: 0.9486 \n"
          ]
        },
        {
          "name": "stderr",
          "output_type": "stream",
          "text": [
            "Epoch [12/100]: 100%|██████████| 38/38 [03:08<00:00,  4.97s/it]\n"
          ]
        },
        {
          "name": "stdout",
          "output_type": "stream",
          "text": [
            "EarlyStopping counter: 1 out of 5\n",
            "(Train Loss: 0.0960 | Train Acc: 0.9658)(Val Loss: 0.1410 | Val Acc: 0.9450)\n",
            "***Valset evaluation***\n",
            "Accuracy: 0.9450 | F1-Score: 0.9624, Precision: 0.9800 |  Recall: 0.9453 \n"
          ]
        },
        {
          "name": "stderr",
          "output_type": "stream",
          "text": [
            "Epoch [13/100]: 100%|██████████| 38/38 [03:09<00:00,  5.00s/it]\n"
          ]
        },
        {
          "name": "stdout",
          "output_type": "stream",
          "text": [
            "EarlyStopping counter: 2 out of 5\n",
            "(Train Loss: 0.0908 | Train Acc: 0.9627)(Val Loss: 0.1504 | Val Acc: 0.9354)\n",
            "***Valset evaluation***\n",
            "Accuracy: 0.9354 | F1-Score: 0.9555, Precision: 0.9797 |  Recall: 0.9325 \n"
          ]
        },
        {
          "name": "stderr",
          "output_type": "stream",
          "text": [
            "Epoch [14/100]: 100%|██████████| 38/38 [03:10<00:00,  5.01s/it]\n"
          ]
        },
        {
          "name": "stdout",
          "output_type": "stream",
          "text": [
            "Validation loss decreased (0.136491 --> 0.131924).  Saving model ...\n",
            "(Train Loss: 0.0920 | Train Acc: 0.9660)(Val Loss: 0.1319 | Val Acc: 0.9450)\n",
            "***Valset evaluation***\n",
            "Accuracy: 0.9450 | F1-Score: 0.9624, Precision: 0.9800 |  Recall: 0.9453 \n"
          ]
        },
        {
          "name": "stderr",
          "output_type": "stream",
          "text": [
            "Epoch [15/100]: 100%|██████████| 38/38 [03:09<00:00,  4.98s/it]\n"
          ]
        },
        {
          "name": "stdout",
          "output_type": "stream",
          "text": [
            "EarlyStopping counter: 1 out of 5\n",
            "(Train Loss: 0.0972 | Train Acc: 0.9629)(Val Loss: 0.1392 | Val Acc: 0.9498)\n",
            "***Valset evaluation***\n",
            "Accuracy: 0.9498 | F1-Score: 0.9659, Precision: 0.9770 |  Recall: 0.9550 \n"
          ]
        },
        {
          "name": "stderr",
          "output_type": "stream",
          "text": [
            "Epoch [16/100]: 100%|██████████| 38/38 [03:09<00:00,  5.00s/it]\n"
          ]
        },
        {
          "name": "stdout",
          "output_type": "stream",
          "text": [
            "EarlyStopping counter: 2 out of 5\n",
            "(Train Loss: 0.0935 | Train Acc: 0.9644)(Val Loss: 0.1380 | Val Acc: 0.9426)\n",
            "***Valset evaluation***\n",
            "Accuracy: 0.9426 | F1-Score: 0.9607, Precision: 0.9799 |  Recall: 0.9421 \n"
          ]
        },
        {
          "name": "stderr",
          "output_type": "stream",
          "text": [
            "Epoch [17/100]: 100%|██████████| 38/38 [03:09<00:00,  4.99s/it]\n"
          ]
        },
        {
          "name": "stdout",
          "output_type": "stream",
          "text": [
            "Validation loss decreased (0.131924 --> 0.125744).  Saving model ...\n",
            "(Train Loss: 0.0856 | Train Acc: 0.9664)(Val Loss: 0.1257 | Val Acc: 0.9474)\n",
            "***Valset evaluation***\n",
            "Accuracy: 0.9474 | F1-Score: 0.9641, Precision: 0.9801 |  Recall: 0.9486 \n"
          ]
        },
        {
          "name": "stderr",
          "output_type": "stream",
          "text": [
            "Epoch [18/100]: 100%|██████████| 38/38 [03:08<00:00,  4.96s/it]\n"
          ]
        },
        {
          "name": "stdout",
          "output_type": "stream",
          "text": [
            "EarlyStopping counter: 1 out of 5\n",
            "(Train Loss: 0.0799 | Train Acc: 0.9696)(Val Loss: 0.1363 | Val Acc: 0.9402)\n",
            "***Valset evaluation***\n",
            "Accuracy: 0.9402 | F1-Score: 0.9589, Precision: 0.9799 |  Recall: 0.9389 \n"
          ]
        },
        {
          "name": "stderr",
          "output_type": "stream",
          "text": [
            "Epoch [19/100]: 100%|██████████| 38/38 [03:08<00:00,  4.96s/it]\n"
          ]
        },
        {
          "name": "stdout",
          "output_type": "stream",
          "text": [
            "Validation loss decreased (0.125744 --> 0.122487).  Saving model ...\n",
            "(Train Loss: 0.0866 | Train Acc: 0.9660)(Val Loss: 0.1225 | Val Acc: 0.9498)\n",
            "***Valset evaluation***\n",
            "Accuracy: 0.9498 | F1-Score: 0.9657, Precision: 0.9801 |  Recall: 0.9518 \n"
          ]
        },
        {
          "name": "stderr",
          "output_type": "stream",
          "text": [
            "Epoch [20/100]: 100%|██████████| 38/38 [03:10<00:00,  5.01s/it]\n"
          ]
        },
        {
          "name": "stdout",
          "output_type": "stream",
          "text": [
            "EarlyStopping counter: 1 out of 5\n",
            "(Train Loss: 0.0950 | Train Acc: 0.9667)(Val Loss: 0.1330 | Val Acc: 0.9378)\n",
            "***Valset evaluation***\n",
            "Accuracy: 0.9378 | F1-Score: 0.9572, Precision: 0.9798 |  Recall: 0.9357 \n"
          ]
        },
        {
          "name": "stderr",
          "output_type": "stream",
          "text": [
            "Epoch [21/100]: 100%|██████████| 38/38 [03:11<00:00,  5.03s/it]\n"
          ]
        },
        {
          "name": "stdout",
          "output_type": "stream",
          "text": [
            "EarlyStopping counter: 2 out of 5\n",
            "(Train Loss: 0.0922 | Train Acc: 0.9669)(Val Loss: 0.1257 | Val Acc: 0.9522)\n",
            "***Valset evaluation***\n",
            "Accuracy: 0.9522 | F1-Score: 0.9674, Precision: 0.9802 |  Recall: 0.9550 \n"
          ]
        },
        {
          "name": "stderr",
          "output_type": "stream",
          "text": [
            "Epoch [22/100]: 100%|██████████| 38/38 [03:10<00:00,  5.01s/it]\n"
          ]
        },
        {
          "name": "stdout",
          "output_type": "stream",
          "text": [
            "EarlyStopping counter: 3 out of 5\n",
            "(Train Loss: 0.0893 | Train Acc: 0.9662)(Val Loss: 0.1231 | Val Acc: 0.9426)\n",
            "***Valset evaluation***\n",
            "Accuracy: 0.9426 | F1-Score: 0.9607, Precision: 0.9799 |  Recall: 0.9421 \n"
          ]
        },
        {
          "name": "stderr",
          "output_type": "stream",
          "text": [
            "Epoch [23/100]: 100%|██████████| 38/38 [03:09<00:00,  5.00s/it]\n"
          ]
        },
        {
          "name": "stdout",
          "output_type": "stream",
          "text": [
            "EarlyStopping counter: 4 out of 5\n",
            "(Train Loss: 0.0878 | Train Acc: 0.9675)(Val Loss: 0.1269 | Val Acc: 0.9426)\n",
            "***Valset evaluation***\n",
            "Accuracy: 0.9426 | F1-Score: 0.9607, Precision: 0.9799 |  Recall: 0.9421 \n"
          ]
        },
        {
          "name": "stderr",
          "output_type": "stream",
          "text": [
            "Epoch [24/100]: 100%|██████████| 38/38 [03:12<00:00,  5.06s/it]\n"
          ]
        },
        {
          "name": "stdout",
          "output_type": "stream",
          "text": [
            "EarlyStopping counter: 5 out of 5\n",
            "Early stopping\n",
            "Loading best model weights.\n"
          ]
        }
      ],
      "source": [
        "optimizer = optim.Adam(pretrained_model.parameters(), lr=LEARNING_RATE)\n",
        "scheduler = torch.optim.lr_scheduler.ReduceLROnPlateau(\n",
        "    optimizer, \"min\", patience=2, factor=0.1\n",
        ")\n",
        "\n",
        "train_fn(\n",
        "    pretrained_model,\n",
        "    MODEL_NAME,\n",
        "    train_loader,\n",
        "    val_loader,\n",
        "    loss_fn,\n",
        "    optimizer,\n",
        "    scheduler,\n",
        "    num_epochs=NUM_EPOCHS,  # NUM_EPOCHS\n",
        ")"
      ]
    },
    {
      "cell_type": "code",
      "execution_count": 26,
      "metadata": {},
      "outputs": [
        {
          "data": {
            "image/png": "[encoded data removed]",
            "text/plain": [
              "<Figure size 1200x600 with 3 Axes>"
            ]
          },
          "metadata": {},
          "output_type": "display_data"
        }
      ],
      "source": [
        "# 5-(2) Test set 결과\n",
        "test_results = evaluate(pretrained_model, test_loader, loss_fn)\n",
        "Visualize_eval(test_results)\n",
        "result_1[MODEL_NAME] = test_results"
      ]
    },
    {
      "cell_type": "markdown",
      "metadata": {},
      "source": [
        "이제 여러가지 모델과 훈련기법을 통해서 모델을 학습시키고 ROC 커브를 비교하면서 이 프로젝트를 마무리 짓겠다"
      ]
    },
    {
      "cell_type": "markdown",
      "metadata": {
        "id": "_byDX7TKzjLf"
      },
      "source": [
        "## 5-(3) Transfer Learning: Feature extraction 훈련\n"
      ]
    },
    {
      "cell_type": "code",
      "execution_count": 27,
      "metadata": {},
      "outputs": [
        {
          "name": "stdout",
          "output_type": "stream",
          "text": [
            "✅ Memory cleared for next run.\n",
            "========================================\n",
            "\n"
          ]
        }
      ],
      "source": [
        "# 메모리 정리 루틴\n",
        "del pretrained_model\n",
        "del optimizer\n",
        "gc.collect()\n",
        "torch.cuda.empty_cache()\n",
        "print(f\"✅ Memory cleared for next run.\")\n",
        "print(\"=\" * 40 + \"\\n\")"
      ]
    },
    {
      "cell_type": "code",
      "execution_count": 28,
      "metadata": {
        "colab": {
          "base_uri": "https://localhost:8080/"
        },
        "id": "gMhYEpxXzYuh",
        "outputId": "766c3da4-3a9f-4201-cefe-920201fa3c2f"
      },
      "outputs": [
        {
          "name": "stderr",
          "output_type": "stream",
          "text": [
            "/home/soohyun/miniconda3/envs/JSH/lib/python3.13/site-packages/torchvision/models/_utils.py:208: UserWarning: The parameter 'pretrained' is deprecated since 0.13 and may be removed in the future, please use 'weights' instead.\n",
            "  warnings.warn(\n",
            "/home/soohyun/miniconda3/envs/JSH/lib/python3.13/site-packages/torchvision/models/_utils.py:223: UserWarning: Arguments other than a weight enum or `None` for 'weights' are deprecated since 0.13 and may be removed in the future. The current behavior is equivalent to passing `weights=ResNet18_Weights.IMAGENET1K_V1`. You can also use `weights=ResNet18_Weights.DEFAULT` to get the most up-to-date weights.\n",
            "  warnings.warn(msg)\n"
          ]
        }
      ],
      "source": [
        "# Pretrained ResNet 모델 로드\n",
        "pretrained_model = models.resnet18(pretrained=True)\n",
        "\n",
        "# Feature Extractor 동결 (파라미터 업데이트 불가)\n",
        "for param in pretrained_model.parameters():\n",
        "    param.requires_grad = False\n",
        "\n",
        "# Classifier 교체 (기존 Fully Connected Layer를 새로운 Classifier로 교체)\n",
        "num_features = pretrained_model.fc.in_features  # 기존 Fully Connected Layer 입력 크기\n",
        "pretrained_model.fc = nn.Linear(num_features, num_classes)  # 새 출력층 생성\n",
        "pretrained_model = pretrained_model.to(device)"
      ]
    },
    {
      "cell_type": "code",
      "execution_count": 29,
      "metadata": {
        "colab": {
          "base_uri": "https://localhost:8080/"
        },
        "id": "ihHga8EQY3ZE",
        "outputId": "79c1dbb1-fbde-4128-81ea-6ae8719caf62"
      },
      "outputs": [
        {
          "name": "stdout",
          "output_type": "stream",
          "text": [
            "cuda:0\n"
          ]
        }
      ],
      "source": [
        "print(pretrained_model.fc.weight.device)"
      ]
    },
    {
      "cell_type": "code",
      "execution_count": 30,
      "metadata": {
        "colab": {
          "base_uri": "https://localhost:8080/"
        },
        "id": "xN8aBluezwNe",
        "outputId": "a58965f0-fe69-4c1f-b61c-7683f0923514"
      },
      "outputs": [
        {
          "name": "stdout",
          "output_type": "stream",
          "text": [
            "** Start training a model resnet_Feat ** \n"
          ]
        },
        {
          "name": "stderr",
          "output_type": "stream",
          "text": [
            "Epoch [1/100]: 100%|██████████| 38/38 [02:51<00:00,  4.52s/it]\n"
          ]
        },
        {
          "name": "stdout",
          "output_type": "stream",
          "text": [
            "Validation loss decreased (inf --> 0.656918).  Saving model ...\n",
            "(Train Loss: 0.6399 | Train Acc: 0.6488)(Val Loss: 0.6569 | Val Acc: 0.5766)\n",
            "***Valset evaluation***\n",
            "Accuracy: 0.5766 | F1-Score: 0.6335, Precision: 0.8895 |  Recall: 0.4920 \n"
          ]
        },
        {
          "name": "stderr",
          "output_type": "stream",
          "text": [
            "Epoch [2/100]: 100%|██████████| 38/38 [02:49<00:00,  4.46s/it]\n"
          ]
        },
        {
          "name": "stdout",
          "output_type": "stream",
          "text": [
            "Validation loss decreased (0.656918 --> 0.565544).  Saving model ...\n",
            "(Train Loss: 0.5793 | Train Acc: 0.7380)(Val Loss: 0.5655 | Val Acc: 0.6507)\n",
            "***Valset evaluation***\n",
            "Accuracy: 0.6507 | F1-Score: 0.7033, Precision: 0.9558 |  Recall: 0.5563 \n"
          ]
        },
        {
          "name": "stderr",
          "output_type": "stream",
          "text": [
            "Epoch [3/100]: 100%|██████████| 38/38 [02:49<00:00,  4.45s/it]\n"
          ]
        },
        {
          "name": "stdout",
          "output_type": "stream",
          "text": [
            "Validation loss decreased (0.565544 --> 0.485351).  Saving model ...\n",
            "(Train Loss: 0.5267 | Train Acc: 0.7789)(Val Loss: 0.4854 | Val Acc: 0.6938)\n",
            "***Valset evaluation***\n",
            "Accuracy: 0.6938 | F1-Score: 0.7430, Precision: 0.9893 |  Recall: 0.5949 \n"
          ]
        },
        {
          "name": "stderr",
          "output_type": "stream",
          "text": [
            "Epoch [4/100]: 100%|██████████| 38/38 [02:48<00:00,  4.44s/it]\n"
          ]
        },
        {
          "name": "stdout",
          "output_type": "stream",
          "text": [
            "Validation loss decreased (0.485351 --> 0.445626).  Saving model ...\n",
            "(Train Loss: 0.4889 | Train Acc: 0.8010)(Val Loss: 0.4456 | Val Acc: 0.7416)\n",
            "***Valset evaluation***\n",
            "Accuracy: 0.7416 | F1-Score: 0.7907, Precision: 0.9951 |  Recall: 0.6559 \n"
          ]
        },
        {
          "name": "stderr",
          "output_type": "stream",
          "text": [
            "Epoch [5/100]: 100%|██████████| 38/38 [02:48<00:00,  4.45s/it]\n"
          ]
        },
        {
          "name": "stdout",
          "output_type": "stream",
          "text": [
            "Validation loss decreased (0.445626 --> 0.405344).  Saving model ...\n",
            "(Train Loss: 0.4613 | Train Acc: 0.8197)(Val Loss: 0.4053 | Val Acc: 0.7823)\n",
            "***Valset evaluation***\n",
            "Accuracy: 0.7823 | F1-Score: 0.8299, Precision: 0.9911 |  Recall: 0.7138 \n"
          ]
        },
        {
          "name": "stderr",
          "output_type": "stream",
          "text": [
            "Epoch [6/100]: 100%|██████████| 38/38 [02:49<00:00,  4.47s/it]\n"
          ]
        },
        {
          "name": "stdout",
          "output_type": "stream",
          "text": [
            "Validation loss decreased (0.405344 --> 0.398519).  Saving model ...\n",
            "(Train Loss: 0.4345 | Train Acc: 0.8404)(Val Loss: 0.3985 | Val Acc: 0.7608)\n",
            "***Valset evaluation***\n",
            "Accuracy: 0.7608 | F1-Score: 0.8092, Precision: 0.9953 |  Recall: 0.6817 \n"
          ]
        },
        {
          "name": "stderr",
          "output_type": "stream",
          "text": [
            "Epoch [7/100]: 100%|██████████| 38/38 [02:49<00:00,  4.46s/it]\n"
          ]
        },
        {
          "name": "stdout",
          "output_type": "stream",
          "text": [
            "Validation loss decreased (0.398519 --> 0.389203).  Saving model ...\n",
            "(Train Loss: 0.4216 | Train Acc: 0.8387)(Val Loss: 0.3892 | Val Acc: 0.7584)\n",
            "***Valset evaluation***\n",
            "Accuracy: 0.7584 | F1-Score: 0.8069, Precision: 0.9953 |  Recall: 0.6785 \n"
          ]
        },
        {
          "name": "stderr",
          "output_type": "stream",
          "text": [
            "Epoch [8/100]: 100%|██████████| 38/38 [02:49<00:00,  4.47s/it]\n"
          ]
        },
        {
          "name": "stdout",
          "output_type": "stream",
          "text": [
            "Validation loss decreased (0.389203 --> 0.346829).  Saving model ...\n",
            "(Train Loss: 0.4008 | Train Acc: 0.8449)(Val Loss: 0.3468 | Val Acc: 0.8086)\n",
            "***Valset evaluation***\n",
            "Accuracy: 0.8086 | F1-Score: 0.8535, Precision: 0.9915 |  Recall: 0.7492 \n"
          ]
        },
        {
          "name": "stderr",
          "output_type": "stream",
          "text": [
            "Epoch [9/100]: 100%|██████████| 38/38 [02:50<00:00,  4.50s/it]\n"
          ]
        },
        {
          "name": "stdout",
          "output_type": "stream",
          "text": [
            "EarlyStopping counter: 1 out of 5\n",
            "(Train Loss: 0.3848 | Train Acc: 0.8568)(Val Loss: 0.3519 | Val Acc: 0.7943)\n",
            "***Valset evaluation***\n",
            "Accuracy: 0.7943 | F1-Score: 0.8401, Precision: 0.9956 |  Recall: 0.7267 \n"
          ]
        },
        {
          "name": "stderr",
          "output_type": "stream",
          "text": [
            "Epoch [10/100]: 100%|██████████| 38/38 [02:50<00:00,  4.47s/it]\n"
          ]
        },
        {
          "name": "stdout",
          "output_type": "stream",
          "text": [
            "Validation loss decreased (0.346829 --> 0.328729).  Saving model ...\n",
            "(Train Loss: 0.3771 | Train Acc: 0.8554)(Val Loss: 0.3287 | Val Acc: 0.8230)\n",
            "***Valset evaluation***\n",
            "Accuracy: 0.8230 | F1-Score: 0.8655, Precision: 0.9958 |  Recall: 0.7653 \n"
          ]
        },
        {
          "name": "stderr",
          "output_type": "stream",
          "text": [
            "Epoch [11/100]: 100%|██████████| 38/38 [02:49<00:00,  4.45s/it]\n"
          ]
        },
        {
          "name": "stdout",
          "output_type": "stream",
          "text": [
            "Validation loss decreased (0.328729 --> 0.315872).  Saving model ...\n",
            "(Train Loss: 0.3619 | Train Acc: 0.8697)(Val Loss: 0.3159 | Val Acc: 0.8254)\n",
            "***Valset evaluation***\n",
            "Accuracy: 0.8254 | F1-Score: 0.8680, Precision: 0.9917 |  Recall: 0.7717 \n"
          ]
        },
        {
          "name": "stderr",
          "output_type": "stream",
          "text": [
            "Epoch [12/100]: 100%|██████████| 38/38 [02:47<00:00,  4.40s/it]\n"
          ]
        },
        {
          "name": "stdout",
          "output_type": "stream",
          "text": [
            "EarlyStopping counter: 1 out of 5\n",
            "(Train Loss: 0.3559 | Train Acc: 0.8670)(Val Loss: 0.3293 | Val Acc: 0.8134)\n",
            "***Valset evaluation***\n",
            "Accuracy: 0.8134 | F1-Score: 0.8571, Precision: 0.9957 |  Recall: 0.7524 \n"
          ]
        },
        {
          "name": "stderr",
          "output_type": "stream",
          "text": [
            "Epoch [13/100]: 100%|██████████| 38/38 [02:50<00:00,  4.48s/it]\n"
          ]
        },
        {
          "name": "stdout",
          "output_type": "stream",
          "text": [
            "Validation loss decreased (0.315872 --> 0.302470).  Saving model ...\n",
            "(Train Loss: 0.3479 | Train Acc: 0.8668)(Val Loss: 0.3025 | Val Acc: 0.8421)\n",
            "***Valset evaluation***\n",
            "Accuracy: 0.8421 | F1-Score: 0.8817, Precision: 0.9960 |  Recall: 0.7910 \n"
          ]
        },
        {
          "name": "stderr",
          "output_type": "stream",
          "text": [
            "Epoch [14/100]: 100%|██████████| 38/38 [02:49<00:00,  4.46s/it]\n"
          ]
        },
        {
          "name": "stdout",
          "output_type": "stream",
          "text": [
            "Validation loss decreased (0.302470 --> 0.286401).  Saving model ...\n",
            "(Train Loss: 0.3388 | Train Acc: 0.8756)(Val Loss: 0.2864 | Val Acc: 0.8517)\n",
            "***Valset evaluation***\n",
            "Accuracy: 0.8517 | F1-Score: 0.8905, Precision: 0.9882 |  Recall: 0.8103 \n"
          ]
        },
        {
          "name": "stderr",
          "output_type": "stream",
          "text": [
            "Epoch [15/100]: 100%|██████████| 38/38 [02:49<00:00,  4.47s/it]\n"
          ]
        },
        {
          "name": "stdout",
          "output_type": "stream",
          "text": [
            "Validation loss decreased (0.286401 --> 0.281508).  Saving model ...\n",
            "(Train Loss: 0.3314 | Train Acc: 0.8758)(Val Loss: 0.2815 | Val Acc: 0.8565)\n",
            "***Valset evaluation***\n",
            "Accuracy: 0.8565 | F1-Score: 0.8940, Precision: 0.9922 |  Recall: 0.8135 \n"
          ]
        },
        {
          "name": "stderr",
          "output_type": "stream",
          "text": [
            "Epoch [16/100]: 100%|██████████| 38/38 [02:53<00:00,  4.56s/it]\n"
          ]
        },
        {
          "name": "stdout",
          "output_type": "stream",
          "text": [
            "Validation loss decreased (0.281508 --> 0.272309).  Saving model ...\n",
            "(Train Loss: 0.3324 | Train Acc: 0.8779)(Val Loss: 0.2723 | Val Acc: 0.8565)\n",
            "***Valset evaluation***\n",
            "Accuracy: 0.8565 | F1-Score: 0.8944, Precision: 0.9883 |  Recall: 0.8167 \n"
          ]
        },
        {
          "name": "stderr",
          "output_type": "stream",
          "text": [
            "Epoch [17/100]: 100%|██████████| 38/38 [02:50<00:00,  4.47s/it]\n"
          ]
        },
        {
          "name": "stdout",
          "output_type": "stream",
          "text": [
            "EarlyStopping counter: 1 out of 5\n",
            "(Train Loss: 0.3306 | Train Acc: 0.8708)(Val Loss: 0.2735 | Val Acc: 0.8541)\n",
            "***Valset evaluation***\n",
            "Accuracy: 0.8541 | F1-Score: 0.8924, Precision: 0.9883 |  Recall: 0.8135 \n"
          ]
        },
        {
          "name": "stderr",
          "output_type": "stream",
          "text": [
            "Epoch [18/100]: 100%|██████████| 38/38 [02:49<00:00,  4.46s/it]\n"
          ]
        },
        {
          "name": "stdout",
          "output_type": "stream",
          "text": [
            "Validation loss decreased (0.272309 --> 0.270667).  Saving model ...\n",
            "(Train Loss: 0.3230 | Train Acc: 0.8774)(Val Loss: 0.2707 | Val Acc: 0.8565)\n",
            "***Valset evaluation***\n",
            "Accuracy: 0.8565 | F1-Score: 0.8940, Precision: 0.9922 |  Recall: 0.8135 \n"
          ]
        },
        {
          "name": "stderr",
          "output_type": "stream",
          "text": [
            "Epoch [19/100]: 100%|██████████| 38/38 [02:49<00:00,  4.46s/it]\n"
          ]
        },
        {
          "name": "stdout",
          "output_type": "stream",
          "text": [
            "Validation loss decreased (0.270667 --> 0.262789).  Saving model ...\n",
            "(Train Loss: 0.3091 | Train Acc: 0.8814)(Val Loss: 0.2628 | Val Acc: 0.8589)\n",
            "***Valset evaluation***\n",
            "Accuracy: 0.8589 | F1-Score: 0.8967, Precision: 0.9846 |  Recall: 0.8232 \n"
          ]
        },
        {
          "name": "stderr",
          "output_type": "stream",
          "text": [
            "Epoch [20/100]: 100%|██████████| 38/38 [02:53<00:00,  4.56s/it]\n"
          ]
        },
        {
          "name": "stdout",
          "output_type": "stream",
          "text": [
            "EarlyStopping counter: 1 out of 5\n",
            "(Train Loss: 0.3042 | Train Acc: 0.8858)(Val Loss: 0.2657 | Val Acc: 0.8589)\n",
            "***Valset evaluation***\n",
            "Accuracy: 0.8589 | F1-Score: 0.8959, Precision: 0.9922 |  Recall: 0.8167 \n"
          ]
        },
        {
          "name": "stderr",
          "output_type": "stream",
          "text": [
            "Epoch [21/100]: 100%|██████████| 38/38 [02:49<00:00,  4.46s/it]\n"
          ]
        },
        {
          "name": "stdout",
          "output_type": "stream",
          "text": [
            "EarlyStopping counter: 2 out of 5\n",
            "(Train Loss: 0.3045 | Train Acc: 0.8810)(Val Loss: 0.2749 | Val Acc: 0.8565)\n",
            "***Valset evaluation***\n",
            "Accuracy: 0.8565 | F1-Score: 0.8936, Precision: 0.9960 |  Recall: 0.8103 \n"
          ]
        },
        {
          "name": "stderr",
          "output_type": "stream",
          "text": [
            "Epoch [22/100]: 100%|██████████| 38/38 [02:48<00:00,  4.45s/it]\n"
          ]
        },
        {
          "name": "stdout",
          "output_type": "stream",
          "text": [
            "Validation loss decreased (0.262789 --> 0.251774).  Saving model ...\n",
            "(Train Loss: 0.2982 | Train Acc: 0.8858)(Val Loss: 0.2518 | Val Acc: 0.8612)\n",
            "***Valset evaluation***\n",
            "Accuracy: 0.8612 | F1-Score: 0.8986, Precision: 0.9847 |  Recall: 0.8264 \n"
          ]
        },
        {
          "name": "stderr",
          "output_type": "stream",
          "text": [
            "Epoch [23/100]: 100%|██████████| 38/38 [02:49<00:00,  4.47s/it]\n"
          ]
        },
        {
          "name": "stdout",
          "output_type": "stream",
          "text": [
            "Validation loss decreased (0.251774 --> 0.242051).  Saving model ...\n",
            "(Train Loss: 0.2910 | Train Acc: 0.8887)(Val Loss: 0.2421 | Val Acc: 0.8756)\n",
            "***Valset evaluation***\n",
            "Accuracy: 0.8756 | F1-Score: 0.9100, Precision: 0.9850 |  Recall: 0.8457 \n"
          ]
        },
        {
          "name": "stderr",
          "output_type": "stream",
          "text": [
            "Epoch [24/100]: 100%|██████████| 38/38 [02:47<00:00,  4.42s/it]\n"
          ]
        },
        {
          "name": "stdout",
          "output_type": "stream",
          "text": [
            "EarlyStopping counter: 1 out of 5\n",
            "(Train Loss: 0.2906 | Train Acc: 0.8893)(Val Loss: 0.2423 | Val Acc: 0.8732)\n",
            "***Valset evaluation***\n",
            "Accuracy: 0.8732 | F1-Score: 0.9081, Precision: 0.9850 |  Recall: 0.8424 \n"
          ]
        },
        {
          "name": "stderr",
          "output_type": "stream",
          "text": [
            "Epoch [25/100]: 100%|██████████| 38/38 [02:49<00:00,  4.47s/it]\n"
          ]
        },
        {
          "name": "stdout",
          "output_type": "stream",
          "text": [
            "EarlyStopping counter: 2 out of 5\n",
            "(Train Loss: 0.2895 | Train Acc: 0.8906)(Val Loss: 0.2559 | Val Acc: 0.8589)\n",
            "***Valset evaluation***\n",
            "Accuracy: 0.8589 | F1-Score: 0.8967, Precision: 0.9846 |  Recall: 0.8232 \n"
          ]
        },
        {
          "name": "stderr",
          "output_type": "stream",
          "text": [
            "Epoch [26/100]: 100%|██████████| 38/38 [02:48<00:00,  4.43s/it]\n"
          ]
        },
        {
          "name": "stdout",
          "output_type": "stream",
          "text": [
            "Validation loss decreased (0.242051 --> 0.236422).  Saving model ...\n",
            "(Train Loss: 0.2881 | Train Acc: 0.8941)(Val Loss: 0.2364 | Val Acc: 0.8804)\n",
            "***Valset evaluation***\n",
            "Accuracy: 0.8804 | F1-Score: 0.9138, Precision: 0.9851 |  Recall: 0.8521 \n"
          ]
        },
        {
          "name": "stderr",
          "output_type": "stream",
          "text": [
            "Epoch [27/100]: 100%|██████████| 38/38 [02:49<00:00,  4.47s/it]\n"
          ]
        },
        {
          "name": "stdout",
          "output_type": "stream",
          "text": [
            "Validation loss decreased (0.236422 --> 0.229273).  Saving model ...\n",
            "(Train Loss: 0.2840 | Train Acc: 0.8902)(Val Loss: 0.2293 | Val Acc: 0.8900)\n",
            "***Valset evaluation***\n",
            "Accuracy: 0.8900 | F1-Score: 0.9212, Precision: 0.9853 |  Recall: 0.8650 \n"
          ]
        },
        {
          "name": "stderr",
          "output_type": "stream",
          "text": [
            "Epoch [28/100]: 100%|██████████| 38/38 [02:52<00:00,  4.53s/it]\n"
          ]
        },
        {
          "name": "stdout",
          "output_type": "stream",
          "text": [
            "EarlyStopping counter: 1 out of 5\n",
            "(Train Loss: 0.2755 | Train Acc: 0.8964)(Val Loss: 0.2295 | Val Acc: 0.8876)\n",
            "***Valset evaluation***\n",
            "Accuracy: 0.8876 | F1-Score: 0.9194, Precision: 0.9853 |  Recall: 0.8617 \n"
          ]
        },
        {
          "name": "stderr",
          "output_type": "stream",
          "text": [
            "Epoch [29/100]: 100%|██████████| 38/38 [02:49<00:00,  4.47s/it]\n"
          ]
        },
        {
          "name": "stdout",
          "output_type": "stream",
          "text": [
            "EarlyStopping counter: 2 out of 5\n",
            "(Train Loss: 0.2750 | Train Acc: 0.9002)(Val Loss: 0.2382 | Val Acc: 0.8828)\n",
            "***Valset evaluation***\n",
            "Accuracy: 0.8828 | F1-Score: 0.9154, Precision: 0.9888 |  Recall: 0.8521 \n"
          ]
        },
        {
          "name": "stderr",
          "output_type": "stream",
          "text": [
            "Epoch [30/100]: 100%|██████████| 38/38 [02:49<00:00,  4.46s/it]\n"
          ]
        },
        {
          "name": "stdout",
          "output_type": "stream",
          "text": [
            "Validation loss decreased (0.229273 --> 0.219186).  Saving model ...\n",
            "(Train Loss: 0.2787 | Train Acc: 0.8964)(Val Loss: 0.2192 | Val Acc: 0.8947)\n",
            "***Valset evaluation***\n",
            "Accuracy: 0.8947 | F1-Score: 0.9249, Precision: 0.9855 |  Recall: 0.8714 \n"
          ]
        },
        {
          "name": "stderr",
          "output_type": "stream",
          "text": [
            "Epoch [31/100]: 100%|██████████| 38/38 [02:47<00:00,  4.42s/it]\n"
          ]
        },
        {
          "name": "stdout",
          "output_type": "stream",
          "text": [
            "EarlyStopping counter: 1 out of 5\n",
            "(Train Loss: 0.2811 | Train Acc: 0.8935)(Val Loss: 0.2303 | Val Acc: 0.8876)\n",
            "***Valset evaluation***\n",
            "Accuracy: 0.8876 | F1-Score: 0.9194, Precision: 0.9853 |  Recall: 0.8617 \n"
          ]
        },
        {
          "name": "stderr",
          "output_type": "stream",
          "text": [
            "Epoch [32/100]: 100%|██████████| 38/38 [02:49<00:00,  4.47s/it]\n"
          ]
        },
        {
          "name": "stdout",
          "output_type": "stream",
          "text": [
            "EarlyStopping counter: 2 out of 5\n",
            "(Train Loss: 0.2748 | Train Acc: 0.8987)(Val Loss: 0.2336 | Val Acc: 0.8876)\n",
            "***Valset evaluation***\n",
            "Accuracy: 0.8876 | F1-Score: 0.9194, Precision: 0.9853 |  Recall: 0.8617 \n"
          ]
        },
        {
          "name": "stderr",
          "output_type": "stream",
          "text": [
            "Epoch [33/100]: 100%|██████████| 38/38 [02:49<00:00,  4.47s/it]\n"
          ]
        },
        {
          "name": "stdout",
          "output_type": "stream",
          "text": [
            "EarlyStopping counter: 3 out of 5\n",
            "(Train Loss: 0.2690 | Train Acc: 0.8950)(Val Loss: 0.2247 | Val Acc: 0.8876)\n",
            "***Valset evaluation***\n",
            "Accuracy: 0.8876 | F1-Score: 0.9194, Precision: 0.9853 |  Recall: 0.8617 \n"
          ]
        },
        {
          "name": "stderr",
          "output_type": "stream",
          "text": [
            "Epoch [34/100]: 100%|██████████| 38/38 [02:47<00:00,  4.40s/it]\n"
          ]
        },
        {
          "name": "stdout",
          "output_type": "stream",
          "text": [
            "EarlyStopping counter: 4 out of 5\n",
            "(Train Loss: 0.2628 | Train Acc: 0.9006)(Val Loss: 0.2234 | Val Acc: 0.8876)\n",
            "***Valset evaluation***\n",
            "Accuracy: 0.8876 | F1-Score: 0.9194, Precision: 0.9853 |  Recall: 0.8617 \n"
          ]
        },
        {
          "name": "stderr",
          "output_type": "stream",
          "text": [
            "Epoch [35/100]: 100%|██████████| 38/38 [02:48<00:00,  4.45s/it]\n"
          ]
        },
        {
          "name": "stdout",
          "output_type": "stream",
          "text": [
            "EarlyStopping counter: 5 out of 5\n",
            "Early stopping\n",
            "Loading best model weights.\n"
          ]
        },
        {
          "data": {
            "image/png": "[encoded data removed]",
            "text/plain": [
              "<Figure size 1200x600 with 3 Axes>"
            ]
          },
          "metadata": {},
          "output_type": "display_data"
        }
      ],
      "source": [
        "MODEL_NAME = \"resnet_Feat\"\n",
        "# NUM_EPOCHS = 50\n",
        "\n",
        "# Optimizer 설정\n",
        "optimizer = optim.Adam(pretrained_model.parameters(), lr=LEARNING_RATE)\n",
        "scheduler = torch.optim.lr_scheduler.ReduceLROnPlateau(\n",
        "    optimizer, \"min\", patience=2, factor=0.1\n",
        ")\n",
        "\n",
        "# 학습 실행\n",
        "train_fn(\n",
        "    pretrained_model,\n",
        "    MODEL_NAME,\n",
        "    train_loader,\n",
        "    val_loader,\n",
        "    loss_fn,\n",
        "    optimizer,\n",
        "    scheduler,\n",
        "    num_epochs=NUM_EPOCHS,\n",
        ")\n",
        "# 테스트 실행\n",
        "test_results = evaluate(pretrained_model, test_loader, loss_fn)\n",
        "Visualize_eval(test_results)\n",
        "result_1[MODEL_NAME] = test_results"
      ]
    },
    {
      "cell_type": "markdown",
      "metadata": {
        "id": "WOq3z5eO0ARi"
      },
      "source": [
        "## 5-(4) Transfer Learning: Partial fine tuning "
      ]
    },
    {
      "cell_type": "code",
      "execution_count": 31,
      "metadata": {},
      "outputs": [
        {
          "name": "stdout",
          "output_type": "stream",
          "text": [
            "✅ Memory cleared for next run.\n",
            "========================================\n",
            "\n"
          ]
        }
      ],
      "source": [
        "# 메모리 정리 루틴\n",
        "del pretrained_model\n",
        "del optimizer\n",
        "gc.collect()\n",
        "torch.cuda.empty_cache()\n",
        "print(f\"✅ Memory cleared for next run.\")\n",
        "print(\"=\" * 40 + \"\\n\")"
      ]
    },
    {
      "cell_type": "code",
      "execution_count": 32,
      "metadata": {
        "colab": {
          "base_uri": "https://localhost:8080/"
        },
        "id": "5Ch230pXzxvV",
        "outputId": "3660a322-682b-43e5-963b-a00ff3b46025"
      },
      "outputs": [
        {
          "name": "stderr",
          "output_type": "stream",
          "text": [
            "/home/soohyun/miniconda3/envs/JSH/lib/python3.13/site-packages/torchvision/models/_utils.py:208: UserWarning: The parameter 'pretrained' is deprecated since 0.13 and may be removed in the future, please use 'weights' instead.\n",
            "  warnings.warn(\n",
            "/home/soohyun/miniconda3/envs/JSH/lib/python3.13/site-packages/torchvision/models/_utils.py:223: UserWarning: Arguments other than a weight enum or `None` for 'weights' are deprecated since 0.13 and may be removed in the future. The current behavior is equivalent to passing `weights=ResNet18_Weights.IMAGENET1K_V1`. You can also use `weights=ResNet18_Weights.DEFAULT` to get the most up-to-date weights.\n",
            "  warnings.warn(msg)\n"
          ]
        },
        {
          "name": "stdout",
          "output_type": "stream",
          "text": [
            "Trainable parameters:\n",
            "layer4.0.conv1.weight\n",
            "layer4.0.bn1.weight\n",
            "layer4.0.bn1.bias\n",
            "layer4.0.conv2.weight\n",
            "layer4.0.bn2.weight\n",
            "layer4.0.bn2.bias\n",
            "layer4.0.downsample.0.weight\n",
            "layer4.0.downsample.1.weight\n",
            "layer4.0.downsample.1.bias\n",
            "layer4.1.conv1.weight\n",
            "layer4.1.bn1.weight\n",
            "layer4.1.bn1.bias\n",
            "layer4.1.conv2.weight\n",
            "layer4.1.bn2.weight\n",
            "layer4.1.bn2.bias\n",
            "fc.weight\n",
            "fc.bias\n"
          ]
        }
      ],
      "source": [
        "# Pretrained ResNet 모델 로드\n",
        "pretrained_model = models.resnet18(pretrained=True)\n",
        "\n",
        "# Feature Extractor의 초기 층 동결\n",
        "for name, param in pretrained_model.named_parameters():\n",
        "    if (\n",
        "        \"layer4\" in name or \"fc\" in name\n",
        "    ):  # ResNet의 마지막 블록(layer4)와 Fully Connected Layer만 학습 가능\n",
        "        param.requires_grad = True\n",
        "    else:\n",
        "        param.requires_grad = False\n",
        "\n",
        "# Classifier 교체\n",
        "num_features = pretrained_model.fc.in_features  # 기존 Fully Connected Layer 입력 크기\n",
        "pretrained_model.fc = nn.Linear(num_features, num_classes)  # 새 출력층 생성\n",
        "\n",
        "print(\"Trainable parameters:\")\n",
        "for name, param in pretrained_model.named_parameters():\n",
        "    if param.requires_grad:\n",
        "        print(name)\n",
        "\n",
        "pretrained_model = pretrained_model.to(device)"
      ]
    },
    {
      "cell_type": "code",
      "execution_count": 33,
      "metadata": {
        "colab": {
          "background_save": true,
          "base_uri": "https://localhost:8080/"
        },
        "id": "xO7SqKzl0DyE",
        "outputId": "08aa9426-af08-4013-b47d-4e1e42bdd9f9"
      },
      "outputs": [
        {
          "name": "stdout",
          "output_type": "stream",
          "text": [
            "** Start training a model resnet_Partial ** \n"
          ]
        },
        {
          "name": "stderr",
          "output_type": "stream",
          "text": [
            "Epoch [1/100]:   0%|          | 0/38 [00:00<?, ?it/s]"
          ]
        },
        {
          "name": "stderr",
          "output_type": "stream",
          "text": [
            "Epoch [1/100]: 100%|██████████| 38/38 [02:53<00:00,  4.57s/it]\n"
          ]
        },
        {
          "name": "stdout",
          "output_type": "stream",
          "text": [
            "Validation loss decreased (inf --> 0.122153).  Saving model ...\n",
            "(Train Loss: 0.2274 | Train Acc: 0.9102)(Val Loss: 0.1222 | Val Acc: 0.9569)\n",
            "***Valset evaluation***\n",
            "Accuracy: 0.9569 | F1-Score: 0.9709, Precision: 0.9772 |  Recall: 0.9646 \n"
          ]
        },
        {
          "name": "stderr",
          "output_type": "stream",
          "text": [
            "Epoch [2/100]: 100%|██████████| 38/38 [02:53<00:00,  4.55s/it]\n"
          ]
        },
        {
          "name": "stdout",
          "output_type": "stream",
          "text": [
            "Validation loss decreased (0.122153 --> 0.121685).  Saving model ...\n",
            "(Train Loss: 0.1119 | Train Acc: 0.9596)(Val Loss: 0.1217 | Val Acc: 0.9330)\n",
            "***Valset evaluation***\n",
            "Accuracy: 0.9330 | F1-Score: 0.9532, Precision: 0.9930 |  Recall: 0.9164 \n"
          ]
        },
        {
          "name": "stderr",
          "output_type": "stream",
          "text": [
            "Epoch [3/100]: 100%|██████████| 38/38 [02:53<00:00,  4.57s/it]\n"
          ]
        },
        {
          "name": "stdout",
          "output_type": "stream",
          "text": [
            "Validation loss decreased (0.121685 --> 0.117775).  Saving model ...\n",
            "(Train Loss: 0.0852 | Train Acc: 0.9654)(Val Loss: 0.1178 | Val Acc: 0.9474)\n",
            "***Valset evaluation***\n",
            "Accuracy: 0.9474 | F1-Score: 0.9637, Precision: 0.9898 |  Recall: 0.9389 \n"
          ]
        },
        {
          "name": "stderr",
          "output_type": "stream",
          "text": [
            "Epoch [4/100]: 100%|██████████| 38/38 [02:53<00:00,  4.57s/it]\n"
          ]
        },
        {
          "name": "stdout",
          "output_type": "stream",
          "text": [
            "EarlyStopping counter: 1 out of 5\n",
            "(Train Loss: 0.0742 | Train Acc: 0.9725)(Val Loss: 0.1417 | Val Acc: 0.9306)\n",
            "***Valset evaluation***\n",
            "Accuracy: 0.9306 | F1-Score: 0.9514, Precision: 0.9930 |  Recall: 0.9132 \n"
          ]
        },
        {
          "name": "stderr",
          "output_type": "stream",
          "text": [
            "Epoch [5/100]: 100%|██████████| 38/38 [02:56<00:00,  4.64s/it]\n"
          ]
        },
        {
          "name": "stdout",
          "output_type": "stream",
          "text": [
            "EarlyStopping counter: 2 out of 5\n",
            "(Train Loss: 0.0716 | Train Acc: 0.9723)(Val Loss: 0.1470 | Val Acc: 0.9330)\n",
            "***Valset evaluation***\n",
            "Accuracy: 0.9330 | F1-Score: 0.9532, Precision: 0.9930 |  Recall: 0.9164 \n"
          ]
        },
        {
          "name": "stderr",
          "output_type": "stream",
          "text": [
            "Epoch [6/100]: 100%|██████████| 38/38 [02:53<00:00,  4.56s/it]\n"
          ]
        },
        {
          "name": "stdout",
          "output_type": "stream",
          "text": [
            "EarlyStopping counter: 3 out of 5\n",
            "(Train Loss: 0.0705 | Train Acc: 0.9748)(Val Loss: 0.1253 | Val Acc: 0.9474)\n",
            "***Valset evaluation***\n",
            "Accuracy: 0.9474 | F1-Score: 0.9636, Precision: 0.9932 |  Recall: 0.9357 \n"
          ]
        },
        {
          "name": "stderr",
          "output_type": "stream",
          "text": [
            "Epoch [7/100]: 100%|██████████| 38/38 [02:53<00:00,  4.57s/it]\n"
          ]
        },
        {
          "name": "stdout",
          "output_type": "stream",
          "text": [
            "Validation loss decreased (0.117775 --> 0.102084).  Saving model ...\n",
            "(Train Loss: 0.0588 | Train Acc: 0.9758)(Val Loss: 0.1021 | Val Acc: 0.9617)\n",
            "***Valset evaluation***\n",
            "Accuracy: 0.9617 | F1-Score: 0.9739, Precision: 0.9900 |  Recall: 0.9582 \n"
          ]
        },
        {
          "name": "stderr",
          "output_type": "stream",
          "text": [
            "Epoch [8/100]: 100%|██████████| 38/38 [02:53<00:00,  4.58s/it]\n"
          ]
        },
        {
          "name": "stdout",
          "output_type": "stream",
          "text": [
            "Validation loss decreased (0.102084 --> 0.097902).  Saving model ...\n",
            "(Train Loss: 0.0567 | Train Acc: 0.9779)(Val Loss: 0.0979 | Val Acc: 0.9641)\n",
            "***Valset evaluation***\n",
            "Accuracy: 0.9641 | F1-Score: 0.9755, Precision: 0.9933 |  Recall: 0.9582 \n"
          ]
        },
        {
          "name": "stderr",
          "output_type": "stream",
          "text": [
            "Epoch [9/100]: 100%|██████████| 38/38 [02:53<00:00,  4.56s/it]\n"
          ]
        },
        {
          "name": "stdout",
          "output_type": "stream",
          "text": [
            "EarlyStopping counter: 1 out of 5\n",
            "(Train Loss: 0.0506 | Train Acc: 0.9825)(Val Loss: 0.0980 | Val Acc: 0.9617)\n",
            "***Valset evaluation***\n",
            "Accuracy: 0.9617 | F1-Score: 0.9738, Precision: 0.9933 |  Recall: 0.9550 \n"
          ]
        },
        {
          "name": "stderr",
          "output_type": "stream",
          "text": [
            "Epoch [10/100]: 100%|██████████| 38/38 [02:55<00:00,  4.61s/it]\n"
          ]
        },
        {
          "name": "stdout",
          "output_type": "stream",
          "text": [
            "Validation loss decreased (0.097902 --> 0.094943).  Saving model ...\n",
            "(Train Loss: 0.0579 | Train Acc: 0.9781)(Val Loss: 0.0949 | Val Acc: 0.9641)\n",
            "***Valset evaluation***\n",
            "Accuracy: 0.9641 | F1-Score: 0.9755, Precision: 0.9901 |  Recall: 0.9614 \n"
          ]
        },
        {
          "name": "stderr",
          "output_type": "stream",
          "text": [
            "Epoch [11/100]: 100%|██████████| 38/38 [02:54<00:00,  4.58s/it]\n"
          ]
        },
        {
          "name": "stdout",
          "output_type": "stream",
          "text": [
            "EarlyStopping counter: 1 out of 5\n",
            "(Train Loss: 0.0581 | Train Acc: 0.9756)(Val Loss: 0.0955 | Val Acc: 0.9641)\n",
            "***Valset evaluation***\n",
            "Accuracy: 0.9641 | F1-Score: 0.9755, Precision: 0.9933 |  Recall: 0.9582 \n"
          ]
        },
        {
          "name": "stderr",
          "output_type": "stream",
          "text": [
            "Epoch [12/100]: 100%|██████████| 38/38 [02:52<00:00,  4.53s/it]\n"
          ]
        },
        {
          "name": "stdout",
          "output_type": "stream",
          "text": [
            "Validation loss decreased (0.094943 --> 0.088518).  Saving model ...\n",
            "(Train Loss: 0.0547 | Train Acc: 0.9787)(Val Loss: 0.0885 | Val Acc: 0.9761)\n",
            "***Valset evaluation***\n",
            "Accuracy: 0.9761 | F1-Score: 0.9838, Precision: 0.9902 |  Recall: 0.9775 \n"
          ]
        },
        {
          "name": "stderr",
          "output_type": "stream",
          "text": [
            "Epoch [13/100]: 100%|██████████| 38/38 [02:53<00:00,  4.57s/it]\n"
          ]
        },
        {
          "name": "stdout",
          "output_type": "stream",
          "text": [
            "EarlyStopping counter: 1 out of 5\n",
            "(Train Loss: 0.0517 | Train Acc: 0.9804)(Val Loss: 0.0940 | Val Acc: 0.9641)\n",
            "***Valset evaluation***\n",
            "Accuracy: 0.9641 | F1-Score: 0.9755, Precision: 0.9933 |  Recall: 0.9582 \n"
          ]
        },
        {
          "name": "stderr",
          "output_type": "stream",
          "text": [
            "Epoch [14/100]: 100%|██████████| 38/38 [02:53<00:00,  4.56s/it]\n"
          ]
        },
        {
          "name": "stdout",
          "output_type": "stream",
          "text": [
            "EarlyStopping counter: 2 out of 5\n",
            "(Train Loss: 0.0521 | Train Acc: 0.9823)(Val Loss: 0.0889 | Val Acc: 0.9689)\n",
            "***Valset evaluation***\n",
            "Accuracy: 0.9689 | F1-Score: 0.9788, Precision: 0.9934 |  Recall: 0.9646 \n"
          ]
        },
        {
          "name": "stderr",
          "output_type": "stream",
          "text": [
            "Epoch [15/100]: 100%|██████████| 38/38 [02:53<00:00,  4.56s/it]\n"
          ]
        },
        {
          "name": "stdout",
          "output_type": "stream",
          "text": [
            "Validation loss decreased (0.088518 --> 0.088357).  Saving model ...\n",
            "(Train Loss: 0.0454 | Train Acc: 0.9827)(Val Loss: 0.0884 | Val Acc: 0.9689)\n",
            "***Valset evaluation***\n",
            "Accuracy: 0.9689 | F1-Score: 0.9788, Precision: 0.9934 |  Recall: 0.9646 \n"
          ]
        },
        {
          "name": "stderr",
          "output_type": "stream",
          "text": [
            "Epoch [16/100]: 100%|██████████| 38/38 [02:53<00:00,  4.57s/it]\n"
          ]
        },
        {
          "name": "stdout",
          "output_type": "stream",
          "text": [
            "Validation loss decreased (0.088357 --> 0.087154).  Saving model ...\n",
            "(Train Loss: 0.0459 | Train Acc: 0.9817)(Val Loss: 0.0872 | Val Acc: 0.9713)\n",
            "***Valset evaluation***\n",
            "Accuracy: 0.9713 | F1-Score: 0.9805, Precision: 0.9934 |  Recall: 0.9678 \n"
          ]
        },
        {
          "name": "stderr",
          "output_type": "stream",
          "text": [
            "Epoch [17/100]: 100%|██████████| 38/38 [02:53<00:00,  4.56s/it]\n"
          ]
        },
        {
          "name": "stdout",
          "output_type": "stream",
          "text": [
            "Validation loss decreased (0.087154 --> 0.086378).  Saving model ...\n",
            "(Train Loss: 0.0488 | Train Acc: 0.9812)(Val Loss: 0.0864 | Val Acc: 0.9713)\n",
            "***Valset evaluation***\n",
            "Accuracy: 0.9713 | F1-Score: 0.9805, Precision: 0.9902 |  Recall: 0.9711 \n"
          ]
        },
        {
          "name": "stderr",
          "output_type": "stream",
          "text": [
            "Epoch [18/100]: 100%|██████████| 38/38 [02:51<00:00,  4.51s/it]\n"
          ]
        },
        {
          "name": "stdout",
          "output_type": "stream",
          "text": [
            "EarlyStopping counter: 1 out of 5\n",
            "(Train Loss: 0.0481 | Train Acc: 0.9823)(Val Loss: 0.0898 | Val Acc: 0.9689)\n",
            "***Valset evaluation***\n",
            "Accuracy: 0.9689 | F1-Score: 0.9788, Precision: 0.9934 |  Recall: 0.9646 \n"
          ]
        },
        {
          "name": "stderr",
          "output_type": "stream",
          "text": [
            "Epoch [19/100]: 100%|██████████| 38/38 [02:53<00:00,  4.56s/it]\n"
          ]
        },
        {
          "name": "stdout",
          "output_type": "stream",
          "text": [
            "Validation loss decreased (0.086378 --> 0.085454).  Saving model ...\n",
            "(Train Loss: 0.0468 | Train Acc: 0.9815)(Val Loss: 0.0855 | Val Acc: 0.9737)\n",
            "***Valset evaluation***\n",
            "Accuracy: 0.9737 | F1-Score: 0.9821, Precision: 0.9934 |  Recall: 0.9711 \n"
          ]
        },
        {
          "name": "stderr",
          "output_type": "stream",
          "text": [
            "Epoch [20/100]: 100%|██████████| 38/38 [02:55<00:00,  4.63s/it]\n"
          ]
        },
        {
          "name": "stdout",
          "output_type": "stream",
          "text": [
            "EarlyStopping counter: 1 out of 5\n",
            "(Train Loss: 0.0466 | Train Acc: 0.9837)(Val Loss: 0.0861 | Val Acc: 0.9713)\n",
            "***Valset evaluation***\n",
            "Accuracy: 0.9713 | F1-Score: 0.9805, Precision: 0.9934 |  Recall: 0.9678 \n"
          ]
        },
        {
          "name": "stderr",
          "output_type": "stream",
          "text": [
            "Epoch [21/100]: 100%|██████████| 38/38 [02:59<00:00,  4.73s/it]\n"
          ]
        },
        {
          "name": "stdout",
          "output_type": "stream",
          "text": [
            "Validation loss decreased (0.085454 --> 0.083984).  Saving model ...\n",
            "(Train Loss: 0.0471 | Train Acc: 0.9833)(Val Loss: 0.0840 | Val Acc: 0.9713)\n",
            "***Valset evaluation***\n",
            "Accuracy: 0.9713 | F1-Score: 0.9805, Precision: 0.9934 |  Recall: 0.9678 \n"
          ]
        },
        {
          "name": "stderr",
          "output_type": "stream",
          "text": [
            "Epoch [22/100]: 100%|██████████| 38/38 [02:59<00:00,  4.72s/it]\n"
          ]
        },
        {
          "name": "stdout",
          "output_type": "stream",
          "text": [
            "Validation loss decreased (0.083984 --> 0.082581).  Saving model ...\n",
            "(Train Loss: 0.0395 | Train Acc: 0.9844)(Val Loss: 0.0826 | Val Acc: 0.9713)\n",
            "***Valset evaluation***\n",
            "Accuracy: 0.9713 | F1-Score: 0.9805, Precision: 0.9934 |  Recall: 0.9678 \n"
          ]
        },
        {
          "name": "stderr",
          "output_type": "stream",
          "text": [
            "Epoch [23/100]: 100%|██████████| 38/38 [02:58<00:00,  4.70s/it]\n"
          ]
        },
        {
          "name": "stdout",
          "output_type": "stream",
          "text": [
            "Validation loss decreased (0.082581 --> 0.081742).  Saving model ...\n",
            "(Train Loss: 0.0475 | Train Acc: 0.9825)(Val Loss: 0.0817 | Val Acc: 0.9713)\n",
            "***Valset evaluation***\n",
            "Accuracy: 0.9713 | F1-Score: 0.9805, Precision: 0.9902 |  Recall: 0.9711 \n"
          ]
        },
        {
          "name": "stderr",
          "output_type": "stream",
          "text": [
            "Epoch [24/100]: 100%|██████████| 38/38 [03:01<00:00,  4.77s/it]\n"
          ]
        },
        {
          "name": "stdout",
          "output_type": "stream",
          "text": [
            "EarlyStopping counter: 1 out of 5\n",
            "(Train Loss: 0.0455 | Train Acc: 0.9823)(Val Loss: 0.0839 | Val Acc: 0.9713)\n",
            "***Valset evaluation***\n",
            "Accuracy: 0.9713 | F1-Score: 0.9805, Precision: 0.9934 |  Recall: 0.9678 \n"
          ]
        },
        {
          "name": "stderr",
          "output_type": "stream",
          "text": [
            "Epoch [25/100]: 100%|██████████| 38/38 [02:58<00:00,  4.69s/it]\n"
          ]
        },
        {
          "name": "stdout",
          "output_type": "stream",
          "text": [
            "EarlyStopping counter: 2 out of 5\n",
            "(Train Loss: 0.0424 | Train Acc: 0.9837)(Val Loss: 0.0839 | Val Acc: 0.9713)\n",
            "***Valset evaluation***\n",
            "Accuracy: 0.9713 | F1-Score: 0.9805, Precision: 0.9934 |  Recall: 0.9678 \n"
          ]
        },
        {
          "name": "stderr",
          "output_type": "stream",
          "text": [
            "Epoch [26/100]: 100%|██████████| 38/38 [02:56<00:00,  4.65s/it]\n"
          ]
        },
        {
          "name": "stdout",
          "output_type": "stream",
          "text": [
            "EarlyStopping counter: 3 out of 5\n",
            "(Train Loss: 0.0468 | Train Acc: 0.9833)(Val Loss: 0.0823 | Val Acc: 0.9737)\n",
            "***Valset evaluation***\n",
            "Accuracy: 0.9737 | F1-Score: 0.9821, Precision: 0.9934 |  Recall: 0.9711 \n"
          ]
        },
        {
          "name": "stderr",
          "output_type": "stream",
          "text": [
            "Epoch [27/100]: 100%|██████████| 38/38 [02:58<00:00,  4.70s/it]\n"
          ]
        },
        {
          "name": "stdout",
          "output_type": "stream",
          "text": [
            "EarlyStopping counter: 4 out of 5\n",
            "(Train Loss: 0.0447 | Train Acc: 0.9846)(Val Loss: 0.0827 | Val Acc: 0.9737)\n",
            "***Valset evaluation***\n",
            "Accuracy: 0.9737 | F1-Score: 0.9821, Precision: 0.9934 |  Recall: 0.9711 \n"
          ]
        },
        {
          "name": "stderr",
          "output_type": "stream",
          "text": [
            "Epoch [28/100]: 100%|██████████| 38/38 [02:55<00:00,  4.61s/it]\n"
          ]
        },
        {
          "name": "stdout",
          "output_type": "stream",
          "text": [
            "EarlyStopping counter: 5 out of 5\n",
            "Early stopping\n",
            "Loading best model weights.\n"
          ]
        },
        {
          "data": {
            "image/png": "[encoded data removed]",
            "text/plain": [
              "<Figure size 1200x600 with 3 Axes>"
            ]
          },
          "metadata": {},
          "output_type": "display_data"
        }
      ],
      "source": [
        "MODEL_NAME = \"resnet_Partial\"\n",
        "# NUM_EPOCHS = 50\n",
        "\n",
        "\n",
        "# Optimizer 설정\n",
        "optimizer = optim.Adam(pretrained_model.parameters(), lr=LEARNING_RATE)\n",
        "scheduler = torch.optim.lr_scheduler.ReduceLROnPlateau(\n",
        "    optimizer, \"min\", patience=2, factor=0.1\n",
        ")\n",
        "\n",
        "# 학습 실행\n",
        "train_fn(\n",
        "    pretrained_model,\n",
        "    MODEL_NAME,\n",
        "    train_loader,\n",
        "    val_loader,\n",
        "    loss_fn,\n",
        "    optimizer,\n",
        "    scheduler,\n",
        "    num_epochs=NUM_EPOCHS,\n",
        ")\n",
        "\n",
        "# 테스트 실행\n",
        "test_results = evaluate(pretrained_model, test_loader, loss_fn)\n",
        "Visualize_eval(test_results)\n",
        "result_1[MODEL_NAME] = test_results"
      ]
    },
    {
      "cell_type": "markdown",
      "metadata": {
        "id": "tWWIp3dV0IgY"
      },
      "source": [
        "## 5-(5) Transfer Learning: Full fine tuning "
      ]
    },
    {
      "cell_type": "code",
      "execution_count": 34,
      "metadata": {},
      "outputs": [
        {
          "name": "stdout",
          "output_type": "stream",
          "text": [
            "✅ Memory cleared for next run.\n",
            "========================================\n",
            "\n"
          ]
        }
      ],
      "source": [
        "# 메모리 정리 루틴\n",
        "del pretrained_model\n",
        "del optimizer\n",
        "gc.collect()\n",
        "torch.cuda.empty_cache()\n",
        "print(f\"✅ Memory cleared for next run.\")\n",
        "print(\"=\" * 40 + \"\\n\")"
      ]
    },
    {
      "cell_type": "code",
      "execution_count": 35,
      "metadata": {
        "colab": {
          "background_save": true
        },
        "id": "6k9Aa6wJ0E1R"
      },
      "outputs": [
        {
          "name": "stderr",
          "output_type": "stream",
          "text": [
            "/home/soohyun/miniconda3/envs/JSH/lib/python3.13/site-packages/torchvision/models/_utils.py:208: UserWarning: The parameter 'pretrained' is deprecated since 0.13 and may be removed in the future, please use 'weights' instead.\n",
            "  warnings.warn(\n",
            "/home/soohyun/miniconda3/envs/JSH/lib/python3.13/site-packages/torchvision/models/_utils.py:223: UserWarning: Arguments other than a weight enum or `None` for 'weights' are deprecated since 0.13 and may be removed in the future. The current behavior is equivalent to passing `weights=ResNet18_Weights.IMAGENET1K_V1`. You can also use `weights=ResNet18_Weights.DEFAULT` to get the most up-to-date weights.\n",
            "  warnings.warn(msg)\n"
          ]
        }
      ],
      "source": [
        "# Pretrained ResNet 모델 로드\n",
        "pretrained_model = models.resnet18(pretrained=True)\n",
        "\n",
        "# 모든 층 학습 가능하도록 설정\n",
        "for param in pretrained_model.parameters():\n",
        "    param.requires_grad = True\n",
        "\n",
        "# Classifier 교체\n",
        "num_features = pretrained_model.fc.in_features  # 기존 Fully Connected Layer 입력 크기\n",
        "pretrained_model.fc = nn.Linear(num_features, num_classes)  # 새 출력층 생성\n",
        "pretrained_model = pretrained_model.to(device)"
      ]
    },
    {
      "cell_type": "code",
      "execution_count": 36,
      "metadata": {
        "colab": {
          "background_save": true
        },
        "id": "0rLmlfVk0KFI"
      },
      "outputs": [
        {
          "name": "stdout",
          "output_type": "stream",
          "text": [
            "** Start training a model resnet_Full ** \n"
          ]
        },
        {
          "name": "stderr",
          "output_type": "stream",
          "text": [
            "Epoch [1/100]: 100%|██████████| 38/38 [03:23<00:00,  5.36s/it]\n"
          ]
        },
        {
          "name": "stdout",
          "output_type": "stream",
          "text": [
            "Validation loss decreased (inf --> 0.090761).  Saving model ...\n",
            "(Train Loss: 0.1978 | Train Acc: 0.9189)(Val Loss: 0.0908 | Val Acc: 0.9665)\n",
            "***Valset evaluation***\n",
            "Accuracy: 0.9665 | F1-Score: 0.9773, Precision: 0.9869 |  Recall: 0.9678 \n"
          ]
        },
        {
          "name": "stderr",
          "output_type": "stream",
          "text": [
            "Epoch [2/100]: 100%|██████████| 38/38 [03:27<00:00,  5.47s/it]\n"
          ]
        },
        {
          "name": "stdout",
          "output_type": "stream",
          "text": [
            "Validation loss decreased (0.090761 --> 0.087118).  Saving model ...\n",
            "(Train Loss: 0.0904 | Train Acc: 0.9675)(Val Loss: 0.0871 | Val Acc: 0.9593)\n",
            "***Valset evaluation***\n",
            "Accuracy: 0.9593 | F1-Score: 0.9723, Precision: 0.9868 |  Recall: 0.9582 \n"
          ]
        },
        {
          "name": "stderr",
          "output_type": "stream",
          "text": [
            "Epoch [3/100]: 100%|██████████| 38/38 [03:15<00:00,  5.14s/it]\n"
          ]
        },
        {
          "name": "stdout",
          "output_type": "stream",
          "text": [
            "EarlyStopping counter: 1 out of 5\n",
            "(Train Loss: 0.0655 | Train Acc: 0.9767)(Val Loss: 0.0884 | Val Acc: 0.9641)\n",
            "***Valset evaluation***\n",
            "Accuracy: 0.9641 | F1-Score: 0.9755, Precision: 0.9933 |  Recall: 0.9582 \n"
          ]
        },
        {
          "name": "stderr",
          "output_type": "stream",
          "text": [
            "Epoch [4/100]: 100%|██████████| 38/38 [03:15<00:00,  5.15s/it]\n"
          ]
        },
        {
          "name": "stdout",
          "output_type": "stream",
          "text": [
            "EarlyStopping counter: 2 out of 5\n",
            "(Train Loss: 0.0634 | Train Acc: 0.9794)(Val Loss: 0.1508 | Val Acc: 0.9282)\n",
            "***Valset evaluation***\n",
            "Accuracy: 0.9282 | F1-Score: 0.9497, Precision: 0.9930 |  Recall: 0.9100 \n"
          ]
        },
        {
          "name": "stderr",
          "output_type": "stream",
          "text": [
            "Epoch [5/100]: 100%|██████████| 38/38 [03:15<00:00,  5.15s/it]\n"
          ]
        },
        {
          "name": "stdout",
          "output_type": "stream",
          "text": [
            "Validation loss decreased (0.087118 --> 0.077351).  Saving model ...\n",
            "(Train Loss: 0.0558 | Train Acc: 0.9777)(Val Loss: 0.0774 | Val Acc: 0.9593)\n",
            "***Valset evaluation***\n",
            "Accuracy: 0.9593 | F1-Score: 0.9722, Precision: 0.9900 |  Recall: 0.9550 \n"
          ]
        },
        {
          "name": "stderr",
          "output_type": "stream",
          "text": [
            "Epoch [6/100]: 100%|██████████| 38/38 [03:16<00:00,  5.17s/it]\n"
          ]
        },
        {
          "name": "stdout",
          "output_type": "stream",
          "text": [
            "EarlyStopping counter: 1 out of 5\n",
            "(Train Loss: 0.0572 | Train Acc: 0.9802)(Val Loss: 0.1279 | Val Acc: 0.9330)\n",
            "***Valset evaluation***\n",
            "Accuracy: 0.9330 | F1-Score: 0.9532, Precision: 0.9930 |  Recall: 0.9164 \n"
          ]
        },
        {
          "name": "stderr",
          "output_type": "stream",
          "text": [
            "Epoch [7/100]: 100%|██████████| 38/38 [03:10<00:00,  5.02s/it]\n"
          ]
        },
        {
          "name": "stdout",
          "output_type": "stream",
          "text": [
            "Validation loss decreased (0.077351 --> 0.042675).  Saving model ...\n",
            "(Train Loss: 0.0424 | Train Acc: 0.9823)(Val Loss: 0.0427 | Val Acc: 0.9833)\n",
            "***Valset evaluation***\n",
            "Accuracy: 0.9833 | F1-Score: 0.9887, Precision: 0.9935 |  Recall: 0.9839 \n"
          ]
        },
        {
          "name": "stderr",
          "output_type": "stream",
          "text": [
            "Epoch [8/100]: 100%|██████████| 38/38 [03:10<00:00,  5.02s/it]\n"
          ]
        },
        {
          "name": "stdout",
          "output_type": "stream",
          "text": [
            "EarlyStopping counter: 1 out of 5\n",
            "(Train Loss: 0.0363 | Train Acc: 0.9875)(Val Loss: 0.0961 | Val Acc: 0.9737)\n",
            "***Valset evaluation***\n",
            "Accuracy: 0.9737 | F1-Score: 0.9825, Precision: 0.9717 |  Recall: 0.9936 \n"
          ]
        },
        {
          "name": "stderr",
          "output_type": "stream",
          "text": [
            "Epoch [9/100]: 100%|██████████| 38/38 [03:10<00:00,  5.01s/it]\n"
          ]
        },
        {
          "name": "stdout",
          "output_type": "stream",
          "text": [
            "EarlyStopping counter: 2 out of 5\n",
            "(Train Loss: 0.0472 | Train Acc: 0.9835)(Val Loss: 0.0874 | Val Acc: 0.9545)\n",
            "***Valset evaluation***\n",
            "Accuracy: 0.9545 | F1-Score: 0.9687, Precision: 0.9932 |  Recall: 0.9453 \n"
          ]
        },
        {
          "name": "stderr",
          "output_type": "stream",
          "text": [
            "Epoch [10/100]: 100%|██████████| 38/38 [03:09<00:00,  4.99s/it]\n"
          ]
        },
        {
          "name": "stdout",
          "output_type": "stream",
          "text": [
            "EarlyStopping counter: 3 out of 5\n",
            "(Train Loss: 0.0305 | Train Acc: 0.9875)(Val Loss: 0.0862 | Val Acc: 0.9809)\n",
            "***Valset evaluation***\n",
            "Accuracy: 0.9809 | F1-Score: 0.9873, Precision: 0.9779 |  Recall: 0.9968 \n"
          ]
        },
        {
          "name": "stderr",
          "output_type": "stream",
          "text": [
            "Epoch [11/100]: 100%|██████████| 38/38 [03:12<00:00,  5.06s/it]\n"
          ]
        },
        {
          "name": "stdout",
          "output_type": "stream",
          "text": [
            "EarlyStopping counter: 4 out of 5\n",
            "(Train Loss: 0.0307 | Train Acc: 0.9904)(Val Loss: 0.0494 | Val Acc: 0.9785)\n",
            "***Valset evaluation***\n",
            "Accuracy: 0.9785 | F1-Score: 0.9854, Precision: 0.9935 |  Recall: 0.9775 \n"
          ]
        },
        {
          "name": "stderr",
          "output_type": "stream",
          "text": [
            "Epoch [12/100]: 100%|██████████| 38/38 [03:23<00:00,  5.36s/it]\n"
          ]
        },
        {
          "name": "stdout",
          "output_type": "stream",
          "text": [
            "EarlyStopping counter: 5 out of 5\n",
            "Early stopping\n",
            "Loading best model weights.\n"
          ]
        },
        {
          "data": {
            "image/png": "[encoded data removed]",
            "text/plain": [
              "<Figure size 1200x600 with 3 Axes>"
            ]
          },
          "metadata": {},
          "output_type": "display_data"
        }
      ],
      "source": [
        "MODEL_NAME = \"resnet_Full\"\n",
        "# NUM_EPOCHS = 50\n",
        "# Optimizer 설정\n",
        "optimizer = optim.Adam(pretrained_model.parameters(), lr=LEARNING_RATE)\n",
        "scheduler = torch.optim.lr_scheduler.ReduceLROnPlateau(\n",
        "    optimizer, \"min\", patience=2, factor=0.1\n",
        ")\n",
        "\n",
        "# 학습 실행\n",
        "train_fn(\n",
        "    pretrained_model,\n",
        "    MODEL_NAME,\n",
        "    train_loader,\n",
        "    val_loader,\n",
        "    loss_fn,\n",
        "    optimizer,\n",
        "    scheduler,\n",
        "    num_epochs=NUM_EPOCHS,\n",
        ")\n",
        "\n",
        "# 테스트 실행\n",
        "test_results = evaluate(pretrained_model, test_loader, loss_fn)\n",
        "Visualize_eval(test_results)\n",
        "result_1[MODEL_NAME] = test_results"
      ]
    },
    {
      "cell_type": "code",
      "execution_count": 37,
      "metadata": {},
      "outputs": [
        {
          "data": {
            "image/png": "[encoded data removed]",
            "text/plain": [
              "<Figure size 600x600 with 1 Axes>"
            ]
          },
          "metadata": {},
          "output_type": "display_data"
        }
      ],
      "source": [
        "ROCcomparison_result(result_1)"
      ]
    },
    {
      "cell_type": "markdown",
      "metadata": {},
      "source": [
        "## 6. 결론\n",
        "\n",
        "이번 과제는 transfer learning을 통해 간단한 이미지 clasification을 진행하는 과제였다. 이번 과제에서 특이사항을 정리해보면\n",
        "\n",
        "1) Transfer learning을 3가지 방식을 진행하고 성능을 비교해보았다. 위 ROC 커브를 살펴보면 알 수 있듯이 partial 기법이 가장 높은 성능을 보였다. 이 뜻은 fine tuning 기법에서 적절하게 layer를 선택하고 학습시키면 적은 파라미터를 학습시키면서 성능도 더 높은 이상적인 학습이 가능하다는 것이다. 무조건 full로 fine tuning하는 방식은 나이브한 접근이라는 것을 알 수 있었다.\n",
        "\n",
        "2) 개인적으로 이런 딥러닝 task에서 생길 수 있는 일련의 매커니즘을 배울 수 있었다. 특히  validation set이 중요성에 대해서 알 수 있었는데 여러 학습 기법에서 early stopping이라는 기본적인 학습 기법은 validation set가 잘 정의되어야 그 능력도 발휘가 될 수 있었다. 따라서 처음 데이터 전처리 과정에서 데이터를 잘 살펴보는(EDA)는 딥러닝 과제에 있어서 가장 중요하다고 느낄 수 있었다.\n",
        "\n",
        "3) 또한 반복되는 학습 과정에 대해서 적절하게 모듈화를 진행하는 일이 중요하다는 것을 배웠다. 그래서 템플릿을 만들어놓으면 딥러닝 과제가 왔을때 대처할 수 있는 능력이 생길 수 있을 것 같다. 그래서 다음 과제도 내 나름의 템플릿으로 진행하려는 계획을 가지고 있다.\n",
        "\n",
        "4) 하지만 아직 다른 네트워크 EfficientNet이나 DesneNet 같은 네트워크에 fine tuning을 적용하지는 못했다. 서로 다른 개념의 네트워크를 비교했으면 더 완성도 있는 과제가 될 수 있지 않을까 future work으로 남겨본다"
      ]
    }
  ],
  "metadata": {
    "accelerator": "GPU",
    "colab": {
      "gpuType": "A100",
      "machine_shape": "hm",
      "provenance": []
    },
    "kernelspec": {
      "display_name": "JSH",
      "language": "python",
      "name": "python3"
    },
    "language_info": {
      "codemirror_mode": {
        "name": "ipython",
        "version": 3
      },
      "file_extension": ".py",
      "mimetype": "text/x-python",
      "name": "python",
      "nbconvert_exporter": "python",
      "pygments_lexer": "ipython3",
      "version": "3.13.1"
    }
  },
  "nbformat": 4,
  "nbformat_minor": 0
}
