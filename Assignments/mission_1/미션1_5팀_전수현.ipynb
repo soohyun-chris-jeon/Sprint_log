{
  "cells": [
    {
      "cell_type": "markdown",
      "metadata": {
        "id": "PbVgH0G4_mer"
      },
      "source": [
        "# **파이썬 연습**"
      ]
    },
    {
      "cell_type": "markdown",
      "metadata": {
        "id": "Q4Wm3gxu_xHr"
      },
      "source": [
        "## 기초(7문제)"
      ]
    },
    {
      "cell_type": "markdown",
      "metadata": {
        "id": "Juz-6LWkAItk"
      },
      "source": [
        "### 문제1. 3의 배수 출력"
      ]
    },
    {
      "cell_type": "markdown",
      "metadata": {
        "id": "AiHzC_5X_7u2"
      },
      "source": [
        "- **문제 설명**  \n",
        "1부터 n까지의 숫자 중에서 3의 배수만 출력하는 함수를 작성하세요.\n",
        "\n",
        "- **함수 설명**  \n",
        "`print_multiples_of_three(n: int) -> int`:  \n",
        "  - n: 3의 배수를 구하고자 하는 범위의 최대값입니다.\n",
        "\n",
        "- **입출력 예시**   \n",
        "\n",
        "    - 입력1:\n",
        "\n",
        "    ```\n",
        "    7\n",
        "    ```\n",
        "\n",
        "    - 출력1:\n",
        "\n",
        "    ```\n",
        "    3\n",
        "    6\n",
        "    ```\n",
        "\n",
        "    - 입력2:\n",
        "    \n",
        "    ```\n",
        "    30\n",
        "    ```\n",
        "\n",
        "    - 출력2:\n",
        "\n",
        "    ```\n",
        "    3\n",
        "    6\n",
        "    9\n",
        "    12\n",
        "    15\n",
        "    18\n",
        "    21\n",
        "    24\n",
        "    27\n",
        "    30\n",
        "    ```"
      ]
    },
    {
      "cell_type": "code",
      "execution_count": 177,
      "metadata": {
        "id": "m1BC9Ez0_iuS"
      },
      "outputs": [],
      "source": [
        "# 문제\n",
        "def print_multiples_of_three(n: int):\n",
        "    for i in range(1, n + 1):\n",
        "        if i % 3 == 0:\n",
        "            print(i)"
      ]
    },
    {
      "cell_type": "code",
      "execution_count": 178,
      "metadata": {
        "id": "StCVnx4-cpaI"
      },
      "outputs": [
        {
          "name": "stdout",
          "output_type": "stream",
          "text": [
            "3\n",
            "6\n"
          ]
        }
      ],
      "source": [
        "# 프로그램 실행\n",
        "print_multiples_of_three(7)"
      ]
    },
    {
      "cell_type": "markdown",
      "metadata": {
        "id": "370RMQCNAyq_"
      },
      "source": [
        "### 문제2. 모음 제거하기"
      ]
    },
    {
      "cell_type": "markdown",
      "metadata": {
        "id": "NPqtMNfXBjEH"
      },
      "source": [
        "- **문제 설명**  \n",
        "문자열에서 모음(a, e, i, o, u)을 제거한 문자열을 반환하는 함수를 작성하세요.\n",
        "\n",
        "- **함수 설명**  \n",
        "`remove_vowels(s: string) -> string`:  \n",
        "  - s: 영어 소문자 알파벳으로 이루어진 문자열입니다.\n",
        "\n",
        "- **입출력 예시**   \n",
        "\n",
        "    - 입력1:\n",
        "\n",
        "    ```\n",
        "    \"codeit\"\n",
        "    ```\n",
        "\n",
        "    - 출력1:\n",
        "\n",
        "    ```\n",
        "    \"cdt\"\n",
        "    ```\n",
        "\n",
        "    - 입력2:\n",
        "    \n",
        "    ```\n",
        "    \"python programming\"\n",
        "    ```\n",
        "\n",
        "    - 출력2:\n",
        "\n",
        "    ```\n",
        "    \"pythn prgrmmng\"\n",
        "    ```\n",
        "\n"
      ]
    },
    {
      "cell_type": "code",
      "execution_count": 179,
      "metadata": {
        "id": "ySFIF63AA5p2"
      },
      "outputs": [],
      "source": [
        "def remove_vowels(s: str):\n",
        "    vowel = [\"a\", \"e\", \"i\", \"o\", \"u\"]\n",
        "    new_s = \"\"\n",
        "    for i in s:\n",
        "        if i not in vowel:\n",
        "            new_s += i\n",
        "\n",
        "    return new_s"
      ]
    },
    {
      "cell_type": "code",
      "execution_count": 180,
      "metadata": {
        "id": "whdVJ850crtz"
      },
      "outputs": [
        {
          "name": "stdout",
          "output_type": "stream",
          "text": [
            "cdt\n"
          ]
        }
      ],
      "source": [
        "# 프로그램 실행\n",
        "print(remove_vowels(\"codeit\"))"
      ]
    },
    {
      "cell_type": "markdown",
      "metadata": {
        "id": "3fmZxhvUA84G"
      },
      "source": [
        "### 문제3. 수 크기 비교하기"
      ]
    },
    {
      "cell_type": "markdown",
      "metadata": {
        "id": "neh_z-dxB246"
      },
      "source": [
        "- **문제 설명**  \n",
        "두 개의 숫자를 입력받아, 큰 숫자와 작은 숫자를 각각 반환하는 함수를 작성하세요.\n",
        "(단, 동일한 숫자를 2회 입력하는 경우에는 순서 없이 한 번만 출력되도록 해 주세요.)\n",
        "\n",
        "- **함수 설명**\n",
        "\n",
        "  `compare_numbers(num1, num2)`:  \n",
        "  - num1, num2 : 정수형\n",
        "\n",
        "- **입출력 예시**\n",
        "\n",
        "  - 입력:\n",
        "    ```\n",
        "    10, 20\n",
        "    ```\n",
        "\n",
        "  - 출력:\n",
        "    ```\n",
        "    20\n",
        "    ```"
      ]
    },
    {
      "cell_type": "code",
      "execution_count": 181,
      "metadata": {
        "id": "uy7jlZ5HA84I"
      },
      "outputs": [],
      "source": [
        "# 문제\n",
        "def compare_numbers(num1: int, num2: int):\n",
        "    if num1 == num2:\n",
        "        return num1\n",
        "    else:\n",
        "        return max(num1, num2), min(num1, num2)"
      ]
    },
    {
      "cell_type": "code",
      "execution_count": 182,
      "metadata": {
        "id": "TaCXp5wPcteR"
      },
      "outputs": [
        {
          "name": "stdout",
          "output_type": "stream",
          "text": [
            "(20, 10)\n"
          ]
        }
      ],
      "source": [
        "# 프로그램 실행\n",
        "print(compare_numbers(10, 20))"
      ]
    },
    {
      "cell_type": "markdown",
      "metadata": {
        "id": "y676kwTvA9JC"
      },
      "source": [
        "### 문제4. 문자열 길이 반환하기"
      ]
    },
    {
      "cell_type": "markdown",
      "metadata": {
        "id": "ZYsb67Q_CAEB"
      },
      "source": [
        "- **문제 설명**  \n",
        "문자열의 길이를 반환하되, 문자열이 빈 문자열이면 “문자열이 비어 있습니다.“를 반환하는 함수를 작성하세요.\n",
        "\n",
        "- **함수 설명**\n",
        "`check_string_length(string)`:  \n",
        "  - string : 영어 알파벳 및 공백이 포함된 문자열입니다.\n",
        "\n",
        "- **입출력 예시**   \n",
        "\n",
        "    - 입력1:\n",
        "\n",
        "    ```\n",
        "    \"Python\"\n",
        "    ```\n",
        "\n",
        "    - 출력1:\n",
        "\n",
        "    ```\n",
        "    6\n",
        "    ```\n",
        "\n",
        "    - 입력2:\n",
        "    \n",
        "    ```\n",
        "    \"\"\n",
        "    ```\n",
        "\n",
        "    - 출력2:\n",
        "\n",
        "    ```\n",
        "    \"문자열이 비어 있습니다.\"\n",
        "    ```"
      ]
    },
    {
      "cell_type": "code",
      "execution_count": 183,
      "metadata": {
        "id": "yY4uoyTbCLaY"
      },
      "outputs": [],
      "source": [
        "# 문제\n",
        "def check_string_length(string: str):\n",
        "    if len(string) == 0:\n",
        "        return \"\"\n",
        "    return len(string)"
      ]
    },
    {
      "cell_type": "code",
      "execution_count": 184,
      "metadata": {
        "id": "IqEvBf2QcwN1"
      },
      "outputs": [
        {
          "data": {
            "text/plain": [
              "''"
            ]
          },
          "execution_count": 184,
          "metadata": {},
          "output_type": "execute_result"
        }
      ],
      "source": [
        "# 프로그램 실행\n",
        "check_string_length(\"\")"
      ]
    },
    {
      "cell_type": "markdown",
      "metadata": {
        "id": "RT_7aSKZBNWd"
      },
      "source": [
        "### 문제5. 총 합계 구하기"
      ]
    },
    {
      "cell_type": "markdown",
      "metadata": {
        "id": "Xc9D8bHFCRJG"
      },
      "source": [
        "- **문제 설명**  \n",
        "0부터 사용자가 입력한 숫자 n까지의 합을 구하는 함수를 작성하세요.\n",
        "\n",
        "- **함수 설명**  \n",
        "`sum_up_to_n(n)`:  \n",
        "  - n: 0보다 큰 정수\n",
        "\n",
        "- **입출력 예시**   \n",
        "\n",
        "    - 입력1:\n",
        "\n",
        "    ```\n",
        "    3\n",
        "    ```\n",
        "\n",
        "    - 출력1:\n",
        "\n",
        "    ```\n",
        "    6\n",
        "    ```\n",
        "\n",
        "    - 입력2:\n",
        "    \n",
        "    ```\n",
        "    10\n",
        "    ```\n",
        "\n",
        "    - 출력2:\n",
        "\n",
        "    ```\n",
        "    55\n",
        "    ```\n",
        "\n"
      ]
    },
    {
      "cell_type": "code",
      "execution_count": 185,
      "metadata": {
        "id": "HC4sgDFdBNWk"
      },
      "outputs": [],
      "source": [
        "# 문제\n",
        "def sum_up_to_n(n: int):\n",
        "    return sum(range(0, n + 1))"
      ]
    },
    {
      "cell_type": "code",
      "execution_count": 186,
      "metadata": {
        "id": "pdWV5lntcx9h"
      },
      "outputs": [
        {
          "name": "stdout",
          "output_type": "stream",
          "text": [
            "55\n"
          ]
        }
      ],
      "source": [
        "# 프로그램 실행\n",
        "print(sum_up_to_n(10))"
      ]
    },
    {
      "cell_type": "markdown",
      "metadata": {
        "id": "Cvtyy64dBNig"
      },
      "source": [
        "### 문제6. 짝수 합 구하기"
      ]
    },
    {
      "cell_type": "markdown",
      "metadata": {
        "id": "jMWwAW7xDGtv"
      },
      "source": [
        "- **문제 설명**\n",
        "\n",
        "  사용자가 입력한 숫자 n까지의 짝수 합을 구하는 함수를 작성하되, 0을 입력하면 프로그램을 종료하는 함수를 작성하세요. (단, 음수는 입력하지 않는다고 가정합니다.)\n",
        "\n",
        "- **함수 설명**\n",
        "\n",
        "  `sum_even_numbers(n: int)`\n",
        "\n",
        "  - 사용자에게 숫자 입력값을 받아, 1부터 n까지의 짝수 합은 ___ 입니다.\" 가 출력됩니다.\n",
        "  - 0 입력시 종료됨을 안내합니다.\n",
        "\n",
        "- **입출력 예시**\n",
        "\n",
        "    - 입력1:\n",
        "\n",
        "    ```\n",
        "    9\n",
        "    ```\n",
        "\n",
        "    - 출력1:\n",
        "\n",
        "    ```\n",
        "    \"1부터 9까지의 짝수 합은 20입니다.\"\n",
        "    ```\n",
        "\n",
        "    - 입력2:\n",
        "    \n",
        "    ```\n",
        "    0\n",
        "    ```\n",
        "\n",
        "    - 출력2:\n",
        "\n",
        "    ```\n",
        "    종료\n",
        "    ```"
      ]
    },
    {
      "cell_type": "code",
      "execution_count": 187,
      "metadata": {
        "id": "1_sLXOtKBNih"
      },
      "outputs": [],
      "source": [
        "# 문제\n",
        "def sum_even_numbers(n: int):\n",
        "    if n == 0:\n",
        "        return\n",
        "    print(f\"1부터 {n}까지의 합은 {sum(range(0, n+1, 2))}입니다\")"
      ]
    },
    {
      "cell_type": "code",
      "execution_count": 188,
      "metadata": {
        "id": "B8P6CW-ec0sn"
      },
      "outputs": [
        {
          "name": "stdout",
          "output_type": "stream",
          "text": [
            "1부터 10까지의 합은 30입니다\n"
          ]
        }
      ],
      "source": [
        "# 프로그램 실행\n",
        "sum_even_numbers(10)\n",
        "sum_even_numbers(0)"
      ]
    },
    {
      "cell_type": "markdown",
      "metadata": {
        "id": "xtmzptFYBNqV"
      },
      "source": [
        "### 문제7. 두 숫자 나누기"
      ]
    },
    {
      "cell_type": "markdown",
      "metadata": {
        "id": "BUfPiCg9Defz"
      },
      "source": [
        "- **문제 설명**\n",
        "사용자가 입력한 두 숫자를 나누는 프로그램을 작성하세요. 예외가 발생하면 \"잘못된 입력입니다.\"를 반환하는 함수를 작성하세요.\n",
        "\n",
        "- **함수 설명**\n",
        "\n",
        "  `divide_numbers(a, b)`\n",
        "  - 사용자에게 두개의 숫자를 차례대로 입력 받습니다.\n",
        "  - 첫번째 숫자를 두번째 숫자로 나눕니다.\n",
        "  - 결과값을 반환합니다. 단, 예외가 발생하면 \"잘못된 입력입니다.\"를 반환합니다.\n",
        "  - `try-except` 구문을 활용하여 함수를 작성해보세요. 이 문법에 대해서 구글링을 해도 좋습니다.\n",
        "\n",
        "- **입출력 예시**\n",
        "\n",
        "- 입력1:\n",
        "    ```\n",
        "    42, 7\n",
        "    ```\n",
        "\n",
        "- 출력1:\n",
        "    ```\n",
        "    6\n",
        "    ```\n",
        "\n",
        "- 입력2:\n",
        "    ```\n",
        "    135, 0\n",
        "    ```\n",
        "\n",
        "- 출력2:\n",
        "    ```\n",
        "    \"잘못된 입력입니다.\"\n",
        "    ```"
      ]
    },
    {
      "cell_type": "code",
      "execution_count": 189,
      "metadata": {
        "id": "AoZgw6aRBNqa"
      },
      "outputs": [],
      "source": [
        "# 문제\n",
        "def divide_numbers(a: int, b: int):\n",
        "    try:\n",
        "        divide = a / b\n",
        "    except ZeroDivisionError:\n",
        "        print(\"잘못된 입력입니다.\")\n",
        "        return\n",
        "    print(divide)\n",
        "    return"
      ]
    },
    {
      "cell_type": "code",
      "execution_count": 190,
      "metadata": {
        "id": "RZUAXWopc2sp"
      },
      "outputs": [
        {
          "name": "stdout",
          "output_type": "stream",
          "text": [
            "6.0\n",
            "잘못된 입력입니다.\n"
          ]
        }
      ],
      "source": [
        "# 프로그램 실행\n",
        "divide_numbers(42, 7)\n",
        "divide_numbers(10, 0)"
      ]
    },
    {
      "cell_type": "markdown",
      "metadata": {
        "id": "mZDwWOfcFWlb"
      },
      "source": [
        "## 응용(3문제)"
      ]
    },
    {
      "cell_type": "markdown",
      "metadata": {
        "id": "Tuj2xplNFgCq"
      },
      "source": [
        "### 문제1. 문자열 압축 게임\n",
        "\n"
      ]
    },
    {
      "cell_type": "markdown",
      "metadata": {
        "id": "txOKh3aEFiw5"
      },
      "source": [
        "- **문제 설명**\n",
        "\n",
        "  주어진 문자열에서 연속해서 같은 문자가 반복되는 경우, 그 문자와 반복 횟수를 이용해 새로운 형태로 문자열을 압축합니다. 예를 들어, \"aabcccccaaa\" 문자열은 \"a2b1c5a3\"로 압축될 수 있습니다.\n",
        "\n",
        "- **함수 설명**  \n",
        "`compress_string(s: str) -> str`:  \n",
        "  - s: 압축하고자 하는 문자열입니다.\n",
        "\n",
        "- **입출력 예시**\n",
        "\n",
        "    - 입력1:\n",
        "\n",
        "    ```\n",
        "    \"aaabbaaa\"\n",
        "    ```\n",
        "\n",
        "    - 출력1:\n",
        "\n",
        "    ```\n",
        "    \"a3b2a3\"\n",
        "    ```\n",
        "\n",
        "    - 입력2:\n",
        "    \n",
        "    ```\n",
        "    \"aabcccccaaa\"\n",
        "    ```\n",
        "\n",
        "    - 출력2:\n",
        "\n",
        "    ```\n",
        "    \"a2b1c5a3\"\n",
        "    ```"
      ]
    },
    {
      "cell_type": "code",
      "execution_count": 191,
      "metadata": {
        "id": "Ft7h8CGrFi7j"
      },
      "outputs": [],
      "source": [
        "# 문제\n",
        "def compress_string(s: str):\n",
        "    result = \"\"\n",
        "    count = 1\n",
        "    for i in range(len(s) - 1):  # n-1까지 문자 처리\n",
        "        if s[i] == s[i + 1]:\n",
        "            count += 1\n",
        "        else:\n",
        "            result += s[i] + str(count)\n",
        "            count = 1\n",
        "    result += s[i + 1] + str(count)  # 마지막 문자 처리\n",
        "    print(result)\n",
        "    return"
      ]
    },
    {
      "cell_type": "code",
      "execution_count": 192,
      "metadata": {
        "id": "PP2SR2Fyc4k_"
      },
      "outputs": [
        {
          "name": "stdout",
          "output_type": "stream",
          "text": [
            "a3b2a3d1\n",
            "a3b2a3d2\n"
          ]
        }
      ],
      "source": [
        "# 프로그램 실행\n",
        "compress_string(\"aaabbaaad\")\n",
        "compress_string(\"aaabbaaadd\")"
      ]
    },
    {
      "cell_type": "markdown",
      "metadata": {
        "id": "y4kJ_x6eFnmp"
      },
      "source": [
        "### 문제2. 덧셈 프로그램\n",
        "\n"
      ]
    },
    {
      "cell_type": "markdown",
      "metadata": {
        "id": "nT-U2IVsFnmr"
      },
      "source": [
        "- **문제 설명**\n",
        "이 프로그램은 두 개의 숫자를 입력받아 그 합을 계산합니다. 입력받은 값이 숫자 형식이 아니면, 사용자에게 숫자 형식의 입력을 요청합니다. 숫자 입력이 완료되면 두 숫자의 합을 출력합니다.\n",
        "\n",
        "- **함수 설명**\n",
        "\n",
        "  `add_numbers()`\n",
        "  - 이 함수는 `input()`을 사용하여 사용자로부터 두 개의 숫자를 입력받습니다.\n",
        "  - 입력된 값이 숫자가 아닐 경우, \"올바른 숫자를 입력하세요.\"라는 메시지를 출력하고 다시 입력을 요청합니다.\n",
        "  - 두 숫자의 합을 계산하고 결과를 출력합니다.\n",
        "\n",
        "- **입출력 예시**\n",
        "\n",
        "    - 입력:\n",
        "        ```\n",
        "        첫 번째 숫자를 입력하세요: 10\n",
        "        첫 번째 숫자를 입력하세요: twenty\n",
        "        첫 번째 숫자를 입력하세요: 10\n",
        "        두 번째 숫자를 입력하세요: 20\n",
        "        ```\n",
        "\n",
        "    - 출력:\n",
        "        ```\n",
        "        올바른 숫자를 입력하세요.\n",
        "        10 + 20 = 30\n",
        "        ```"
      ]
    },
    {
      "cell_type": "code",
      "execution_count": 193,
      "metadata": {
        "id": "Np5jxyB8Fnms"
      },
      "outputs": [],
      "source": [
        "# 문제\n",
        "def add_numbers():\n",
        "    while True:\n",
        "        try:\n",
        "            a = int(input(\"첫 번째 숫자를 입력하세요: \"))\n",
        "            b = int(input(\"두 번째 숫자를 입력하세요: \"))\n",
        "            break\n",
        "        except ValueError:\n",
        "            print(\"올바른 숫자를 입력하세요.\")\n",
        "    print(f\"{a} + {b} = {a + b}\")\n",
        "    return"
      ]
    },
    {
      "cell_type": "code",
      "execution_count": 194,
      "metadata": {
        "id": "TA_0uSezYJsK"
      },
      "outputs": [
        {
          "name": "stdout",
          "output_type": "stream",
          "text": [
            "10 + 20 = 30\n"
          ]
        }
      ],
      "source": [
        "# 프로그램 실행\n",
        "add_numbers()"
      ]
    },
    {
      "cell_type": "markdown",
      "metadata": {},
      "source": [
        "### 문제3."
      ]
    },
    {
      "cell_type": "markdown",
      "metadata": {
        "id": "cvg3_x06FnxG"
      },
      "source": [
        "- **문제 설명**  \n",
        "  사용자로부터 시간(초)을 입력받아 해당 시간만큼 카운트 다운을 진행한 후, \"타이머 종료!\"를 출력하고 프로그램이 종료됩니다. 매 초마다 남은 시간을 화면에 출력합니다.\n",
        "\n",
        "- **함수 설명**     \n",
        "  \n",
        "  `count_down(seconds: int)`:  \n",
        "  - seconds: 카운트 다운할 시간(초)입니다.\n",
        "  - 입력받은 초만큼 카운트 다운을 진행하며, 매 초마다 남은 시간을 출력합니다.\n",
        "  - 시간이 종료되면 \"타이머 종료!\"를 출력하고 프로그램을 종료합니다.\n",
        "\n",
        "- **입출력 예시**\n",
        "\n",
        "  - 입력:\n",
        "    ```\n",
        "    타이머를 시작할 시간(초)을 입력하세요: 5\n",
        "    ```\n",
        "\n",
        "  - 출력:\n",
        "    ```\n",
        "    타이머 시작!\n",
        "    5\n",
        "    4\n",
        "    3\n",
        "    2\n",
        "    1\n",
        "    타이머 종료!\n",
        "    ```"
      ]
    },
    {
      "cell_type": "code",
      "execution_count": 195,
      "metadata": {
        "id": "5PkfT7ZTFnxG"
      },
      "outputs": [],
      "source": [
        "# 문제\n",
        "import time\n",
        "\n",
        "\n",
        "def countdown_timer(seconds: int):\n",
        "    print(\"타이머 시작!\")\n",
        "    while seconds > 0:\n",
        "        print(seconds)\n",
        "        time.sleep(1)\n",
        "        seconds += -1\n",
        "    print(\"타이머 종료!\")"
      ]
    },
    {
      "cell_type": "code",
      "execution_count": 196,
      "metadata": {
        "id": "Uqb2vhP4YLoy"
      },
      "outputs": [
        {
          "name": "stdout",
          "output_type": "stream",
          "text": [
            "타이머 시작!\n",
            "5\n",
            "4\n",
            "3\n",
            "2\n",
            "1\n",
            "타이머 종료!\n"
          ]
        }
      ],
      "source": [
        "# 프로그램 실행\n",
        "countdown_timer(5)"
      ]
    },
    {
      "cell_type": "markdown",
      "metadata": {
        "id": "HQMkKObNAr4s"
      },
      "source": [
        "# **객체와 클래스**"
      ]
    },
    {
      "cell_type": "markdown",
      "metadata": {
        "id": "ko02FG9WGubi"
      },
      "source": [
        "## 기초(2문제)"
      ]
    },
    {
      "cell_type": "markdown",
      "metadata": {
        "id": "DuBZXjwCGwvs"
      },
      "source": [
        "### 문제1. 시간 추적 클래스(TimeTracker)"
      ]
    },
    {
      "cell_type": "markdown",
      "metadata": {
        "id": "C6_k548JGygZ"
      },
      "source": [
        "- **실습 설명**\n",
        "\n",
        "  시간을 관리하고 추적하는 `TimeTracker` 클래스를 구현하는 프로젝트를 시작합니다. 시간 관리 기능은 특히 프로젝트 작업, 운동, 공부 시간 등 다양한 활동의 지속 시간을 측정하는 데 유용합니다.\n",
        "\n",
        "  `TimeTracker` 클래스는 다음 기능을 제공해야 합니다:\n",
        "\n",
        "  1. **시작 시간 설정**: 사용자가 활동을 시작할 때의 시간을 기록합니다.\n",
        "  2. **종료 시간 설정**: 사용자가 활동을 종료할 때의 시간을 기록합니다.\n",
        "  3. **경과 시간 계산**: 활동의 시작과 종료 사이의 시간 차이를 계산합니다.\n",
        "\n",
        "  이 클래스의 인스턴스를 사용하여 각각의 활동에 대해 별도의 시간 추적을 할 수 있어야 합니다.\n",
        "\n",
        "- **구현해야 할 메소드**\n",
        "\n",
        "  - `start`: 현재 시간을 시작 시간으로 설정합니다.\n",
        "  - `stop`: 현재 시간을 종료 시간으로 설정하고 경과 시간을 계산합니다.\n",
        "  - `get_elapsed_time`: 마지막으로 기록된 시작 시간과 종료 시간 사이의 경과 시간을 분 단위로 반환합니다.\n",
        "\n",
        "- **실습 결과 예시**\n",
        "\n",
        "  다음과 같은 코드를 실행했을 때의 출력 예시입니다:\n",
        "\n",
        "  ```python\n",
        "  study_session = TimeTracker()\n",
        "  study_session.start()\n",
        "  # 1시간 30분 경과(가정)\n",
        "  study_session.stop()\n",
        "\n",
        "  print(\"활동 시간:\", study_session.get_elapsed_time(), \"분\")\n",
        "  ```\n",
        "\n",
        "  예상 출력:\n",
        "\n",
        "  ```\n",
        "  공부한 시간: 90 분\n",
        "  ```\n",
        "\n",
        "- **요구 사항**\n",
        "\n",
        "  1. 실제 시간을 추적하려면 Python의 `datetime` 모듈을 사용하여 현재 시간을 `datetime.now()`로 가져올 수 있습니다.\n",
        "  2. 경과 시간은 분 단위로 반환해야 합니다."
      ]
    },
    {
      "cell_type": "code",
      "execution_count": 197,
      "metadata": {
        "id": "h7RXJAbAAvUZ"
      },
      "outputs": [],
      "source": [
        "from datetime import datetime\n",
        "\n",
        "\n",
        "# 문제\n",
        "class TimeTracker:\n",
        "    def __init__(\n",
        "        self,\n",
        "    ):\n",
        "        self.start_time = None\n",
        "        self.end_time = None\n",
        "\n",
        "    def start(self):\n",
        "        self.start_time = datetime.now().minute\n",
        "        print(self.start_time)\n",
        "\n",
        "    def stop(self):\n",
        "        self.end_time = datetime.now().minute\n",
        "        print(self.end_time)\n",
        "\n",
        "    def get_elapsed_time(self) -> int:\n",
        "        return (self.end_time - self.start_time) % 60  # 음수가 나올 경우"
      ]
    },
    {
      "cell_type": "code",
      "execution_count": 198,
      "metadata": {
        "id": "AsvTxp19Xyuo"
      },
      "outputs": [
        {
          "name": "stdout",
          "output_type": "stream",
          "text": [
            "58\n"
          ]
        }
      ],
      "source": [
        "# 사용 예시\n",
        "# 활동 시작\n",
        "study_session = TimeTracker()\n",
        "study_session.start()"
      ]
    },
    {
      "cell_type": "code",
      "execution_count": 199,
      "metadata": {
        "id": "2eSYFcojj476"
      },
      "outputs": [
        {
          "name": "stdout",
          "output_type": "stream",
          "text": [
            "58\n",
            "공부한 시간: 0 분\n"
          ]
        }
      ],
      "source": [
        "# 활동 종료\n",
        "study_session.stop()\n",
        "print(\"공부한 시간:\", study_session.get_elapsed_time(), \"분\")"
      ]
    },
    {
      "cell_type": "markdown",
      "metadata": {
        "id": "aS6kmb2nHQ8J"
      },
      "source": [
        "### 문제2. 주소록 클래스"
      ]
    },
    {
      "cell_type": "markdown",
      "metadata": {
        "id": "HUmjzWzpHS3Z"
      },
      "source": [
        "\n",
        "\n",
        "- **실습 설명**\n",
        "\n",
        "  주소록 관리 시스템을 위한 `Contact` 클래스를 구현하는 프로젝트를 시작합니다. 이 클래스는 개인의 기본 연락처 정보를 저장하고 관리하는 데 사용됩니다.\n",
        "\n",
        "  `Contact` 클래스는 다음 정보를 저장할 수 있어야 합니다:\n",
        "\n",
        "  - 이름(name)\n",
        "  - 전화번호(phone number)\n",
        "  - 이메일 주소(email address)\n",
        "\n",
        "  클래스는 이 정보를 효율적으로 관리할 수 있는 기능을 제공해야 합니다.\n",
        "\n",
        "\n",
        "- **구현해야 할 메소드**\n",
        "\n",
        "  - `__init__`: 객체를 생성할 때 이름, 전화번호, 이메일 주소를 초기화합니다.\n",
        "  - `__str__`: 연락처의 정보를 예쁘게 출력할 수 있는 문자열로 반환합니다. 이 문자열은 연락처 정보를 한눈에 알아볼 수 있도록 포맷팅됩니다.\n",
        "\n",
        "\n",
        "                                       \n",
        "\n",
        "- **실습 결과 예시**\n",
        "\n",
        "  다음과 같은 코드를 실행했을 때의 출력 예시입니다:\n",
        "\n",
        "  ```python\n",
        "  friend = Contact(\"Jane Doe\", \"010-1234-5678\", \"jane@example.com\")\n",
        "  print(friend)\n",
        "  ```\n",
        "\n",
        "  예상 출력:\n",
        "\n",
        "  ```\n",
        "  이름: Jane Doe\n",
        "  전화번호: 010-1234-5678\n",
        "  이메일: jane@example.com\n",
        "  ```\n",
        "\n",
        "- **요구 사항**\n",
        "\n",
        "  - 모든 입력 데이터는 문자열로 처리해야 합니다.\n",
        "  - 연락처 정보를 적절하게 포맷팅하여 출력할 수 있어야 합니다."
      ]
    },
    {
      "cell_type": "code",
      "execution_count": 200,
      "metadata": {
        "id": "YGmtWN0_HGxo"
      },
      "outputs": [],
      "source": [
        "# 문제\n",
        "class Contact:\n",
        "    def __init__(self, name: str, phone_num: str, email: str):\n",
        "        self.name = name\n",
        "        self.phone_num = phone_num\n",
        "        self.email = email\n",
        "\n",
        "    def __str__(self):\n",
        "        return f\"이름: {self.name}\\n전화번호: {self.phone_num}\\n이메일: {self.email}\""
      ]
    },
    {
      "cell_type": "code",
      "execution_count": 201,
      "metadata": {
        "id": "_YsspEH3ZPHN"
      },
      "outputs": [
        {
          "name": "stdout",
          "output_type": "stream",
          "text": [
            "이름: Jane Doe\n",
            "전화번호: 010-1234-5678\n",
            "이메일: jane@example.com\n"
          ]
        }
      ],
      "source": [
        "# 사용 예시\n",
        "friend = Contact(\"Jane Doe\", \"010-1234-5678\", \"jane@example.com\")\n",
        "print(friend)"
      ]
    },
    {
      "cell_type": "markdown",
      "metadata": {
        "id": "wehB6bRNH4cD"
      },
      "source": [
        "## 응용(4문제)"
      ]
    },
    {
      "cell_type": "markdown",
      "metadata": {
        "id": "OVzp80MqHkf1"
      },
      "source": [
        "### 문제1. 투표 시스템 클래스"
      ]
    },
    {
      "cell_type": "markdown",
      "metadata": {
        "id": "HL5-6uKyHksh"
      },
      "source": [
        "- **실습 설명**\n",
        "\n",
        "  간단한 투표 시스템을 위한 `VoteSystem` 클래스를 구현하는 프로젝트를 시작합니다. 이 시스템은 후보자 목록을 관리하고, 각 후보자에 대한 투표를 집계하는 기능을 제공합니다.\n",
        "\n",
        "  `VoteSystem` 클래스는 다음 기능을 제공해야 합니다:\n",
        "\n",
        "  - 후보자 등록\n",
        "  - 투표 기능\n",
        "  - 투표 결과 조회\n",
        "\n",
        "- **구현해야 할 메소드**\n",
        "\n",
        "  - `add_candidate`: 후보자를 등록합니다. 후보자의 이름을 입력받아 목록에 추가합니다.\n",
        "  - `vote`: 특정 후보자에게 투표합니다. 투표하려는 후보자의 이름을 입력받습니다.\n",
        "  - `get_results`: 각 후보자의 투표 수를 출력합니다.\n",
        "\n",
        "- **실습 결과 예시**\n",
        "\n",
        "  - 다음과 같은 코드를 실행했을 때의 출력 예시입니다:\n",
        "\n",
        "    ```python\n",
        "    voting_system = VoteSystem()\n",
        "    voting_system.add_candidate(\"Alice\")\n",
        "    voting_system.add_candidate(\"Bob\")\n",
        "    voting_system.add_candidate(\"Charlie\")\n",
        "\n",
        "    voting_system.vote(\"Alice\")\n",
        "    voting_system.vote(\"Alice\")\n",
        "    voting_system.vote(\"Bob\")\n",
        "\n",
        "    voting_system.get_results()\n",
        "    ```\n",
        "\n",
        "  - 예상 출력:\n",
        "\n",
        "    ```\n",
        "    Alice 후보가 성공적으로 등록되었습니다.\n",
        "    Bob 후보가 성공적으로 등록되었습니다.\n",
        "    Charlie 후보가 성공적으로 등록되었습니다.\n",
        "    Alice에게 투표하였습니다.\n",
        "    Alice에게 투표하였습니다.\n",
        "    Bob에게 투표하였습니다.\n",
        "    투표 결과:\n",
        "    Alice: 2 votes\n",
        "    Bob: 1 vote\n",
        "    Charlie: 0 votes\n",
        "    ```\n",
        "\n",
        "- **요구 사항**\n",
        "\n",
        "  - 후보자는 중복 등록될 수 없습니다.\n",
        "  - 등록되지 않은 후보자에게 투표할 수 없습니다.\n",
        "  - 각 후보자의 이름과 투표 수는 사전(dictionary)을 사용하여 관리합니다."
      ]
    },
    {
      "cell_type": "code",
      "execution_count": 202,
      "metadata": {
        "id": "hNWovpBKHmjW"
      },
      "outputs": [],
      "source": [
        "# 문제\n",
        "class VoteSystem:\n",
        "    def __init__(self):\n",
        "        self.candidates = {}\n",
        "\n",
        "    def add_candidate(self, name: str):\n",
        "        self.candidates[name] = 0\n",
        "        print(f\"{name}후보가 성공적으로 등록되었습니다.\")\n",
        "\n",
        "    def vote(self, name: str):\n",
        "        if name not in self.candidates:\n",
        "            print(\"등록되지 않은 후보자입니다.\")\n",
        "            return\n",
        "        self.candidates[name] += 1\n",
        "        print(f\"{name}에게 투표하였습니다.\")\n",
        "\n",
        "    def get_results(self):\n",
        "        print(\"투표결과:\")\n",
        "        for i in self.candidates.keys():\n",
        "            print(f\"{i}: {self.candidates[i]} votes\")"
      ]
    },
    {
      "cell_type": "code",
      "execution_count": 203,
      "metadata": {
        "id": "c6aW0c4tZc8W"
      },
      "outputs": [
        {
          "name": "stdout",
          "output_type": "stream",
          "text": [
            "Alice후보가 성공적으로 등록되었습니다.\n",
            "Bob후보가 성공적으로 등록되었습니다.\n",
            "Charlie후보가 성공적으로 등록되었습니다.\n",
            "Alice에게 투표하였습니다.\n",
            "Alice에게 투표하였습니다.\n",
            "Bob에게 투표하였습니다.\n",
            "등록되지 않은 후보자입니다.\n",
            "투표결과:\n",
            "Alice: 2 votes\n",
            "Bob: 1 votes\n",
            "Charlie: 0 votes\n"
          ]
        }
      ],
      "source": [
        "# 사용 예시\n",
        "voting_system = VoteSystem()\n",
        "voting_system.add_candidate(\"Alice\")\n",
        "voting_system.add_candidate(\"Bob\")\n",
        "voting_system.add_candidate(\"Charlie\")\n",
        "\n",
        "voting_system.vote(\"Alice\")\n",
        "voting_system.vote(\"Alice\")\n",
        "voting_system.vote(\"Bob\")\n",
        "voting_system.vote(\"BTS\")\n",
        "\n",
        "\n",
        "voting_system.get_results()"
      ]
    },
    {
      "cell_type": "markdown",
      "metadata": {
        "id": "jAlpA07gH7B2"
      },
      "source": [
        "### 문제2. 은행 계좌 클래스"
      ]
    },
    {
      "cell_type": "markdown",
      "metadata": {
        "id": "AiGBIJWpH7B4"
      },
      "source": [
        "- **실습 설명**\n",
        "\n",
        "  간단한 은행 계좌 관리 시스템을 위한 `BankAccount` 클래스를 구현하는 프로젝트를 시작합니다. 이 클래스는 개인의 은행 계좌 정보를 관리하고 기본적인 은행 거래 기능을 제공합니다.\n",
        "\n",
        "  `BankAccount` 클래스는 다음 정보와 기능을 제공해야 합니다:\n",
        "\n",
        "  - 계좌 번호(account number)\n",
        "  - 소유자 이름(account holder)\n",
        "  - 현재 잔액(balance)\n",
        "\n",
        "- **구현해야 할 메소드**\n",
        "\n",
        "  - `__init__`: 객체 생성 시 계좌 번호, 소유자 이름, 초기 잔액을 설정합니다.\n",
        "  - `deposit`: 계좌에 금액을 입금합니다. 입금할 금액을 인자로 받고, 잔액을 업데이트합니다.\n",
        "  - `withdraw`: 계좌에서 금액을 출금합니다. 출금할 금액을 인자로 받고, 잔액이 충분할 경우에만 출금을 허용하고 잔액을 업데이트합니다.\n",
        "  - `get_balance`: 현재 계좌 잔액을 반환합니다.\n",
        "\n",
        "- **실습 결과 예시**\n",
        "\n",
        "  - 다음과 같은 코드를 실행했을 때의 출력 예시입니다:\n",
        "\n",
        "    ```python\n",
        "    my_account = BankAccount(\"123-456-789\", \"김철수\", 100000)\n",
        "    my_account.deposit(50000)\n",
        "    my_account.withdraw(20000)\n",
        "    print(f\"현재 잔액: {my_account.get_balance()}원\")\n",
        "    ```\n",
        "\n",
        "  - 예상 출력:\n",
        "\n",
        "    ```\n",
        "    김철수님의 계좌 123-456-789가 개설되었습니다. 초기 잔액: 100000원\n",
        "    50000원이 입금되었습니다. 현재 잔액: 150000원\n",
        "    20000원이 출금되었습니다. 현재 잔액: 130000원\n",
        "    현재 잔액: 130000원\n",
        "    ```\n",
        "\n",
        "\n",
        "- **요구 사항**\n",
        "\n",
        "  - 계좌에서 출금 시도 시 잔액보다 많은 금액을 출금하려고 하면, 출금을 거부하고 경고 메시지를 출력해야 합니다.\n",
        "  - 모든 금액은 정수 또는 실수로 처리될 수 있어야 하며, 화폐 단위로만 입력받습니다.\n",
        "  - 계좌 생성, 입금, 출금 및 잔액 조회 기능을 모두 구현해야 합니다."
      ]
    },
    {
      "cell_type": "code",
      "execution_count": 204,
      "metadata": {
        "id": "fnpMUQf7H7B5"
      },
      "outputs": [],
      "source": [
        "# 문제\n",
        "class BankAccount:\n",
        "    def __init__(self, account: str, holder: str, balance: int):\n",
        "        self.account = account\n",
        "        self.holder = holder\n",
        "        self.balance = balance\n",
        "        print(\n",
        "            f\"{self.holder}님의 계좌 {self.account}가 개설되었습니다. 초기 잔액 {self.balance}원\"\n",
        "        )\n",
        "\n",
        "    def deposit(self, amount: int):\n",
        "        self.balance += amount\n",
        "        print(f\"{amount}원이 입금되었습니다. 현재 잔액: {self.balance}원\")\n",
        "\n",
        "    def withdraw(self, amount: int):\n",
        "        self.balance -= amount\n",
        "        print(f\"{amount}원이 출금되었습니다. 현재 잔액: {self.balance}원\")\n",
        "\n",
        "    def get_balance(self):\n",
        "        return self.balance"
      ]
    },
    {
      "cell_type": "code",
      "execution_count": 205,
      "metadata": {
        "id": "vugx-M0TZt_G"
      },
      "outputs": [
        {
          "name": "stdout",
          "output_type": "stream",
          "text": [
            "김철수님의 계좌 123-456-789가 개설되었습니다. 초기 잔액 100000원\n",
            "50000원이 입금되었습니다. 현재 잔액: 150000원\n",
            "20000원이 출금되었습니다. 현재 잔액: 130000원\n",
            "현재 잔액: 130000원\n"
          ]
        }
      ],
      "source": [
        "# 사용 예시\n",
        "my_account = BankAccount(\"123-456-789\", \"김철수\", 100000)\n",
        "my_account.deposit(50000)\n",
        "my_account.withdraw(20000)\n",
        "print(f\"현재 잔액: {my_account.get_balance()}원\")"
      ]
    },
    {
      "cell_type": "markdown",
      "metadata": {
        "id": "gLGgyxNbH7JN"
      },
      "source": [
        "### 문제3. 직원 관리 클래스"
      ]
    },
    {
      "cell_type": "markdown",
      "metadata": {
        "id": "E4YmPRZ6H7JS"
      },
      "source": [
        "- **실습 설명**\n",
        "\n",
        "  당신은 회사의 HR 부서에서 일하며, 회사 내 모든 직원의 급여 정보를 관리하는 시스템을 개발할 임무를 맡았습니다. 이 시스템은 직원들의 정보를 저장하고, 전체 직원의 평균 급여를 계산하는 기능을 제공해야 합니다.\n",
        "\n",
        "  `EmployeeManager` 클래스는 다음 기능을 제공해야 합니다:\n",
        "\n",
        "  - **직원 추가**: 새로운 직원의 정보를 시스템에 추가합니다. 직원의 이름과 급여 정보를 저장합니다.\n",
        "  - **급여 평균 계산**: 클래스 메서드를 사용하여 모든 직원의 급여 평균을 계산합니다. 이 메서드는 저장된 모든 직원의 급여 정보를 집계하여 평균 급여를 계산하고 출력합니다.\n",
        "\n",
        "- **구현해야 할 메소드**\n",
        "\n",
        "  - `__init__`: 직원의 이름과 급여를 초기화하고, 직원 정보를 클래스 변수에 저장합니다.\n",
        "  - `calculate_average_salary`: 클래스 메서드로 구현되며, `EmployeeManager`에 저장된 모든 직원의 급여 평균을 계산합니다.\n",
        "\n",
        "- **실습 결과 예시**\n",
        "\n",
        "  - 다음과 같은 코드를 실행했을 때의 출력 예시입니다:\n",
        "\n",
        "    ```python\n",
        "    emp1 = EmployeeManager(\"홍길동\", 50000)\n",
        "    emp2 = EmployeeManager(\"김철수\", 60000)\n",
        "\n",
        "    EmployeeManager.calculate_average_salary()\n",
        "    ```\n",
        "\n",
        "  - 예상 출력:\n",
        "\n",
        "    ```\n",
        "    홍길동 님이 추가되었습니다. 급여: 50000원\n",
        "    김철수 님이 추가되었습니다. 급여: 60000원\n",
        "    전체 직원의 평균 급여: 55000원\n",
        "    ```\n",
        "\n",
        "- **요구 사항**\n",
        "\n",
        "  - 직원 정보는 클래스 변수 `employees`에 저장되어 전체 `EmployeeManager` 인스턴스에서 접근 가능해야 합니다.\n",
        "  - `calculate_average_salary` 메서드는 저장된 모든 직원의 급여를 합산하여 평균을 출력하고, 직원이 없는 경우 0을 반환해야 합니다."
      ]
    },
    {
      "cell_type": "code",
      "execution_count": 206,
      "metadata": {
        "id": "vRuY2rAXImzi"
      },
      "outputs": [],
      "source": [
        "# 문제\n",
        "class EmployeeManager:\n",
        "    employes = {}\n",
        "\n",
        "    def __init__(self, name: str, salary: int):\n",
        "        self.employes[name] = salary\n",
        "        print(f\"{name}님이 추가되었습니다. 급여: {salary}원\")\n",
        "\n",
        "    @classmethod\n",
        "    def calculate_average_salary(cls):\n",
        "        if cls.employes == {}:\n",
        "            print(\"직원이 없습니다\")\n",
        "            return 0\n",
        "        print(\n",
        "            f\"전체 직원의 평균 급여: {sum(cls.employes.values())/len(cls.employes)}원\"\n",
        "        )"
      ]
    },
    {
      "cell_type": "code",
      "execution_count": 207,
      "metadata": {
        "id": "_Q8vSlR8Z0Y7"
      },
      "outputs": [
        {
          "name": "stdout",
          "output_type": "stream",
          "text": [
            "직원이 없습니다\n",
            "홍길동님이 추가되었습니다. 급여: 50000원\n",
            "김철수님이 추가되었습니다. 급여: 60000원\n",
            "전체 직원의 평균 급여: 55000.0원\n"
          ]
        }
      ],
      "source": [
        "# 사용 예시\n",
        "EmployeeManager.calculate_average_salary()\n",
        "emp1 = EmployeeManager(\"홍길동\", 50000)\n",
        "emp2 = EmployeeManager(\"김철수\", 60000)\n",
        "\n",
        "EmployeeManager.calculate_average_salary()"
      ]
    },
    {
      "cell_type": "markdown",
      "metadata": {
        "id": "vbeAqh9rIjFc"
      },
      "source": [
        "### 문제4. 프랜차이즈 레스토랑 관리 클래스"
      ]
    },
    {
      "cell_type": "markdown",
      "metadata": {
        "id": "LzZjOpGlIlYk"
      },
      "source": [
        "\n",
        "- **실습 설명**\n",
        "\n",
        "  당신은 여러 지점을 가진 레스토랑 체인의 IT 팀에서 일하며, 각 지점의 예약을 관리하고 중앙에서 예약 현황을 파악할 수 있는 시스템을 개발할 임무를 맡았습니다. 이 시스템은 각 지점의 예약 상황을 관리하고, 고객의 예약 요청을 효과적으로 처리할 수 있는 기능을 제공해야 합니다.\n",
        "\n",
        "  `ReservationSystem` 클래스는 각 레스토랑 지점의 예약을 관리하며, 다음 기능을 제공해야 합니다:\n",
        "\n",
        "  - **예약 추가**: 고객이 특정 지점, 예약 일시, 인원 수에 대한 예약을 요청하면 시스템에 추가합니다.\n",
        "  - **예약 취소**: 고객이 예약을 취소할 수 있으며, 해당 예약을 시스템에서 제거합니다.\n",
        "  - **예약 조회**: 특정 지점의 모든 예약 상황을 확인할 수 있습니다.\n",
        "  - **예약 집계**: 모든 지점의 예약 수를 합산합니다. 이 메서드는 모든 `ReservationSystem` 인스턴스의 예약 수를 합산하여 보여줍니다.\n",
        "\n",
        "- **구현해야 할 메소드**\n",
        "\n",
        "  - `__init__`: 레스토랑 지점의 이름을 초기화하고 예약 리스트를 관리합니다.\n",
        "  - `add_reservation`: 새로운 예약을 추가합니다. 이 메서드는 예약자 이름, 예약 일시, 인원 수를 받아 저장합니다.\n",
        "  - `list_reservations`: 현재 지점의 모든 예약 상태를 출력합니다.\n",
        "  - `sum_reservations`: 주어진 `ReservationSystem` 인스턴스 리스트에서 모든 예약 수를 합산합니다.\n",
        "\n",
        "- **실습 결과 예시**\n",
        "  \n",
        "  - 다음과 같은 코드를 실행했을 때의 출력 예시입니다:\n",
        "\n",
        "    ```python\n",
        "    restaurant1 = ReservationSystem(\"강남점\")\n",
        "    restaurant2 = ReservationSystem(\"홍대점\")\n",
        "\n",
        "    restaurant1.add_reservation(\"홍길동\", \"2024-05-20\", 4)\n",
        "    restaurant2.add_reservation(\"김철수\", \"2024-05-21\", 2)\n",
        "\n",
        "    restaurant1.list_reservations()\n",
        "    restaurant2.list_reservations()\n",
        "\n",
        "    total_reservations = ReservationSystem.sum_reservations([restaurant1, restaurant2])\n",
        "    print(f\"전체 레스토랑 예약 수: {total_reservations}\")\n",
        "    ```\n",
        "\n",
        "  - 예상 출력:\n",
        "\n",
        "    ```\n",
        "    강남점 예약 목록:\n",
        "    - 홍길동, 2024-05-20, 4명\n",
        "    홍대점 예약 목록:\n",
        "    - 김철수, 2024-05-21, 2명\n",
        "    전체 레스토랑 예약 수: 2\n",
        "    ```\n",
        "\n",
        "- **요구 사항**\n",
        "\n",
        "  - 모든 출력 메시지는 한국어로 제공되어야 합니다.\n",
        "  - 각 메서드는 적절한 입력 검증과 예외 처리를 포함해야 합니다.\n",
        "  - `sum_reservations` 클래스 메서드는 모든 지점에서의 예약 수를 효과적으로 합산하여 전체 예약 상태를 중앙에서 확인할 수 있게 합니다."
      ]
    },
    {
      "cell_type": "code",
      "execution_count": 208,
      "metadata": {
        "id": "3SEG3Jh-JBha"
      },
      "outputs": [],
      "source": [
        "# 문제\n",
        "class ReservationSystem:\n",
        "    def __init__(self, locate: str):\n",
        "        self.locate = locate\n",
        "        self.reservations = []\n",
        "\n",
        "    def add_reservation(self, name: str, date: str, num: int):\n",
        "        if num <= 0:\n",
        "            print(\"예약 인원은 최소 1명입니다.\")\n",
        "            return\n",
        "        self.reservations.append({\"name\": name, \"date\": date, \"num\": num})\n",
        "\n",
        "    def list_reservations(self):\n",
        "        print(f\"{self.locate} 예약 목록:\")\n",
        "        for res in self.reservations:\n",
        "            print(f\"- {res[\"name\"]}, {res[\"date\"]}, {res[\"num\"]}명\")\n",
        "\n",
        "    @staticmethod\n",
        "    def sum_reservations(restaurants: list):\n",
        "        total_reservations = 0\n",
        "        for res in restaurants:\n",
        "            total_reservations += len(res.reservations)\n",
        "        return total_reservations"
      ]
    },
    {
      "cell_type": "code",
      "execution_count": 209,
      "metadata": {
        "id": "B5OAo28nZ4_z"
      },
      "outputs": [
        {
          "name": "stdout",
          "output_type": "stream",
          "text": [
            "강남점 예약 목록:\n",
            "- 홍길동, 2024-05-20, 4명\n",
            "홍대점 예약 목록:\n",
            "- 김철수, 2024-05-21, 2명\n",
            "전체 레스토랑 예약 수: 2\n"
          ]
        }
      ],
      "source": [
        "# 사용 예시\n",
        "restaurant1 = ReservationSystem(\"강남점\")\n",
        "restaurant2 = ReservationSystem(\"홍대점\")\n",
        "\n",
        "restaurant1.add_reservation(\"홍길동\", \"2024-05-20\", 4)\n",
        "restaurant2.add_reservation(\"김철수\", \"2024-05-21\", 2)\n",
        "\n",
        "restaurant1.list_reservations()\n",
        "restaurant2.list_reservations()\n",
        "\n",
        "total_reservations = ReservationSystem.sum_reservations([restaurant1, restaurant2])\n",
        "print(f\"전체 레스토랑 예약 수: {total_reservations}\")"
      ]
    },
    {
      "cell_type": "markdown",
      "metadata": {
        "id": "bkd6-iPqJb5w"
      },
      "source": [
        "# **심화 문제**\n",
        "\n",
        "심화 문제는 채점에 포함되지 않습니다. 편한 마음으로 도전해 보세요."
      ]
    },
    {
      "cell_type": "markdown",
      "metadata": {
        "id": "mzIDKWPjWZqc"
      },
      "source": [
        "## 심화(4문제)"
      ]
    },
    {
      "cell_type": "markdown",
      "metadata": {
        "id": "sSy0kCSEJjIa"
      },
      "source": [
        "### 문제1. 시간 관리 프로그램"
      ]
    },
    {
      "cell_type": "markdown",
      "metadata": {
        "id": "4iGvFHpgJ5b4"
      },
      "source": [
        "- **실습 설명**\n",
        "\n",
        "  이 프로그램은 사용자가 제한된 시간 내에 최대한 많은 일을 수행할 수 있도록 돕습니다. 할 일과 각각의 소요 시간이 CSV 파일에 저장되어 있으며, 사용자는 이 데이터와 자신에게 남은 시간을 입력하여 이용할 수 있습니다. 프로그램은 사용자가 입력한 시간 내에서 가능한 최대한 많은 할 일을 선택하고, 선택된 할 일을 소요 시간이 짧은 순으로 정렬하여 출력합니다. 이를 통해 사용자는 가장 시간을 최적화하여 일정을 관리할 수 있습니다.\n",
        "\n",
        "- **기능 설명**\n",
        "  - 데이터 읽기: 사용자로부터 CSV 파일 경로를 입력받아 파일을 읽습니다. 파일은 각 할 일과 그에 소요되는 시간을 포함합니다.\n",
        "  - 할 일 선택: 사용자에게 남은 시간을 입력받습니다. 이 시간을 기준으로 할 수 있는 최대한의 할 일을 선택합니다.\n",
        "  - 결과 출력: 선택된 할 일을 소요 시간이 짧은 순으로 정렬하여 출력합니다. 출력 형식은 목록 형태로 할 일과 예상 소요 시간을 포함합니다.\n",
        "\n",
        "- **입출력 예시**\n",
        "\n",
        "    - 할 일 및 소요 시간 CSV 파일 예시 (`tasks.csv`):\n",
        "        ```\n",
        "        할일,소요시간\n",
        "        공부하기,120\n",
        "        운동하기,60\n",
        "        가계부정리,30\n",
        "        영화보기,150\n",
        "        ```\n",
        "\n",
        "    - 입력:\n",
        "        ```\n",
        "        남은 시간(분): 210\n",
        "        ```\n",
        "\n",
        "    - 출력:\n",
        "        ```\n",
        "        선택된 할 일 목록:\n",
        "        1. 가계부정리 - 예상 소요 시간: 30분\n",
        "        2. 운동하기 - 예상 소요 시간: 60분\n",
        "        3. 공부하기 - 예상 소요 시간: 120분\n",
        "        ```"
      ]
    },
    {
      "cell_type": "code",
      "execution_count": 210,
      "metadata": {
        "id": "cSylWzAlJdDQ"
      },
      "outputs": [],
      "source": [
        "### 문제를 위한 파일 생성코드입니다. 문제를 풀기 전 이 코드를 반드시 실행해주세요.\n",
        "\n",
        "import csv\n",
        "# (시뮬레이션을 위한) 예시 파일 작성코드\n",
        "def write_tasks_to_csv(filename, tasks):\n",
        "    with open(filename, 'w', newline='') as csvfile:\n",
        "        fieldnames = ['할일', '소요시간']\n",
        "        writer = csv.DictWriter(csvfile, fieldnames=fieldnames)\n",
        "\n",
        "        writer.writeheader()\n",
        "        for task, time in tasks:\n",
        "            writer.writerow({'할일': task, '소요시간': time})\n",
        "\n",
        "# 할 일과 소요 시간 데이터\n",
        "tasks = [\n",
        "    ('공부하기', 120),\n",
        "    ('운동하기', 60),\n",
        "    ('가계부정리', 30),\n",
        "    ('영화보기', 150)\n",
        "]\n",
        "\n",
        "# CSV 파일로 저장\n",
        "write_tasks_to_csv('tasks.csv', tasks)"
      ]
    },
    {
      "cell_type": "code",
      "execution_count": 211,
      "metadata": {
        "id": "mQWxIuB3Jd46"
      },
      "outputs": [],
      "source": [
        "import csv\n",
        "\n",
        "\n",
        "def load_tasks(filename: str)-> list:\n",
        "    tasks = []\n",
        "    with open(filename, \"r\", newline=\"\") as f:\n",
        "        rdr = csv.reader(f)\n",
        "        next(rdr)  # 첫째줄\n",
        "        for line in rdr:\n",
        "            tasks.append(line)\n",
        "    return tasks\n",
        "\n",
        "\n",
        "# Greedy algorithm\n",
        "def suggest_tasks(tasks, remaining_time):\n",
        "    tasks = sorted(tasks, key=lambda x: int(x[1]))\n",
        "\n",
        "    selected_tasks = []\n",
        "    total_time = 0\n",
        "\n",
        "    for task, time in tasks:\n",
        "        time = int(time)\n",
        "        if total_time + time <= remaining_time:\n",
        "            selected_tasks.append((task, time))\n",
        "            total_time += time\n",
        "        else:\n",
        "            break\n",
        "\n",
        "    print(\"선택된 할일 목록록:\")\n",
        "    i = 0\n",
        "    for task, time in selected_tasks:\n",
        "        i += 1\n",
        "        print(f\"{i}. {task} - 예상 소요 시간: {time}분\")\n",
        "    print(f\"총 소요 시간: {total_time}분 / 남은 시간: {remaining_time-total_time}분\")\n",
        "\n",
        "\n",
        "def main():\n",
        "    tasks = load_tasks(\"tasks.csv\")\n",
        "    suggest_tasks(tasks, 210)"
      ]
    },
    {
      "cell_type": "code",
      "execution_count": 212,
      "metadata": {
        "id": "GCGyO3vSaDX-"
      },
      "outputs": [
        {
          "name": "stdout",
          "output_type": "stream",
          "text": [
            "선택된 할일 목록록:\n",
            "1. 가계부정리 - 예상 소요 시간: 30분\n",
            "2. 운동하기 - 예상 소요 시간: 60분\n",
            "3. 공부하기 - 예상 소요 시간: 120분\n",
            "총 소요 시간: 210분 / 남은 시간: 0분\n"
          ]
        }
      ],
      "source": [
        "# 프로그램 실행\n",
        "if __name__ == \"__main__\":\n",
        "    main()\n",
        "    \n"
      ]
    },
    {
      "cell_type": "markdown",
      "metadata": {
        "id": "qInOiISZLw36"
      },
      "source": [
        "\n",
        "이 문제에서는 남은 시간을 최적으로 활용하는 방법을 고려하고 있습니다. 할 일을 선택하는 과정에서 간혹 같은 총 소요 시간 내에서 여러 조합의 할 일 목록을 선택할 수 있는 상황이 발생할 수 있습니다. 이러한 경우, 어떤 기준을 적용하여 할 일의 조합을 결정할까요?      \n",
        "                  \n",
        "       \n",
        "\n",
        "다음과 같은 기준들을 고려해볼 수 있습니다:   \n",
        "- 가장 많은 할 일을 포함하는 조합: 가능한 많은 다양한 활동을 하고자 할 때 선택할 수 있는 방법입니다.\n",
        "- 가장 적은 시간이 남는 조합: 가용 시간을 거의 다 쓰는 조합을 선택하여 시간을 최대한 활용하고자 할 때 선택할 수 있는 방법입니다.\n",
        "- 특정 할 일을 우선하는 조합: 개인의 선호도나 긴급도에 따라 특정 할 일을 우선적으로 포함시키는 조합을 선택할 수 있습니다.\n",
        "- 가장 많은 시간을 소모하는 할 일을 포함하는 조합: 가장 긴 시간이 필요한 할 일을 포함시켜, 일상에서 잘 못하던 일을 이번 기회에 해결하고자 할 때 선택할 수 있는 방법입니다.\n",
        "\n",
        "이러한 선택지 중에서 어떤 기준이 당신의 상황에 가장 적합한지 고민해보고, 이를 코드로 반영해보세요."
      ]
    },
    {
      "cell_type": "markdown",
      "metadata": {
        "id": "ZL_5Je5tLoEK"
      },
      "source": [
        "### 문제2. 수학 퍼즐: 소수의 합"
      ]
    },
    {
      "cell_type": "markdown",
      "metadata": {
        "id": "1fJY0HQEL8Qv"
      },
      "source": [
        "- **실습 설명**  \n",
        "  이 프로그램은 사용자로부터 어떤 수 이하의 소수의 합을 구할 것인지 입력 받아, 해당 수까지의 모든 소수의 합을 계산하여 출력합니다. 소수(prime number)는 1과 자기 자신만을 약수로 가지는 자연수를 말합니다. 소수를 찾는 방법은 자유롭게 선택할 수 있지만, 효율적인 방법을 고려하여 구현해야 합니다.\n",
        "\n",
        "- **기능 설명**\n",
        "  - 소수 판별: 주어진 수까지의 모든 자연수에 대해 소수 여부를 판별합니다. (힌트 : 에라토스테네스의 체)\n",
        "  - 소수 합 계산: 판별된 소수들의 합을 계산합니다.\n",
        "  - 결과 출력: 계산된 소수의 합을 출력합니다. 출력 형식은 사용자가 입력한 수까지의 소수 합과 그 값을 포함합니다.\n",
        "\n",
        "- **입출력 예시**\n",
        "\n",
        "  - 입력:\n",
        "\n",
        "  ```\n",
        "  어떤 수까지의 소수의 합을 구하시겠습니까?: 10\n",
        "  ```\n",
        "  - 출력:\n",
        "\n",
        "  ```\n",
        "  10 이하 소수의 합은 17입니다.\n",
        "  ```"
      ]
    },
    {
      "cell_type": "code",
      "execution_count": 213,
      "metadata": {
        "id": "txK2vvrNLmdq"
      },
      "outputs": [],
      "source": [
        "# 문제\n",
        "# 소수 판별\n",
        "def is_prime(num: int):\n",
        "    if num < 2: # 1은 소수 x\n",
        "        return False\n",
        "    for i in range(2, int(num**0.5) + 1):\n",
        "        if num % i == 0:\n",
        "            return False\n",
        "    print(f\"prime num: {num}\")\n",
        "    return True\n",
        "\n",
        "\n",
        "def sum_of_primes(n: int):\n",
        "    prime_all = list(range(1, n + 1))  # n까지의 자연수\n",
        "    prime_all[0] = 0  # 1을 처리\n",
        "    for i in prime_all:\n",
        "        if is_prime(i):\n",
        "            for j in range(i + i, n + 1, i):\n",
        "                print(j)\n",
        "                prime_all[j - 1] = 0\n",
        "    print(prime_all)\n",
        "    print(f\"{n} 이하 소수의 합은 {sum(prime_all)}입니다.\")\n",
        "\n",
        "\n",
        "def main():\n",
        "    n = int(input(\"어떤 수까지의 소수의 합을 구하시겠습니까?: \"))\n",
        "    sum_of_primes(n)"
      ]
    },
    {
      "cell_type": "code",
      "execution_count": 214,
      "metadata": {
        "id": "Rs_Kz0wwaPc3"
      },
      "outputs": [
        {
          "name": "stdout",
          "output_type": "stream",
          "text": [
            "prime num: 2\n",
            "4\n",
            "6\n",
            "8\n",
            "10\n",
            "prime num: 3\n",
            "6\n",
            "9\n",
            "prime num: 5\n",
            "10\n",
            "prime num: 7\n",
            "[0, 2, 3, 0, 5, 0, 7, 0, 0, 0]\n",
            "10 이하 소수의 합은 17입니다.\n"
          ]
        }
      ],
      "source": [
        "# 프로그램 실행\n",
        "if __name__ == \"__main__\":\n",
        "    main()"
      ]
    },
    {
      "cell_type": "markdown",
      "metadata": {
        "id": "pJ30RiGXSRIi"
      },
      "source": [
        "### 문제3. 도서관 관리 시스템"
      ]
    },
    {
      "cell_type": "markdown",
      "metadata": {
        "id": "rVE7padZSTqv"
      },
      "source": [
        "\n",
        "- **실습 설명**\n",
        "\n",
        "  당신은 지역 도서관에서 시스템 개발자로 일하고 있으며, 도서관의 도서, 회원, 대여 정보를 효과적으로 관리하는 시스템을 개발할 임무를 맡았습니다. `LibraryManagement` 클래스와 여러 하위 클래스를 구현하여, 도서의 추가, 삭제, 검색, 대여 및 반납 기능을 포괄적으로 다루어야 합니다.\n",
        "\n",
        "- **시스템 구성 요소**\n",
        "\n",
        "  - **도서(Books)**: 도서 정보를 저장합니다. 각 도서는 제목, 저자, 출판년도, ISBN 등의 정보를 포함해야 합니다.\n",
        "  - **회원(Members)**: 회원 정보를 관리합니다. 각 회원은 이름, 회원번호, 대여 중인 도서 목록 등의 정보를 갖습니다.\n",
        "  - **대여 관리(Rentals)**: 도서 대여 및 반납 정보를 처리합니다. 대여 시 회원 ID와 도서 ISBN을 연결하고, 대여일 및 반납일을 기록합니다.\n",
        "\n",
        "- **구현해야 할 메소드 및 클래스**\n",
        "\n",
        "  1. **Book Class**:\n",
        "    - 도서 정보(제목, 저자, 출판년도, ISBN)를 저장하는 클래스입니다.\n",
        "    - 각 도서 객체는 고유 정보를 관리합니다.\n",
        "\n",
        "  2. **Member Class**:\n",
        "    - 회원 정보(이름, 회원번호, 대여 중인 도서 목록)를 저장하는 클래스입니다.\n",
        "    - 회원별 대여 기록을 관리합니다.\n",
        "\n",
        "  3. **Rental Class**:\n",
        "    - 대여 정보(회원 ID, 도서 ISBN, 대여일, 반납일)를 저장하는 클래스입니다.\n",
        "    - 대여 및 반납 프로세스를 처리합니다.\n",
        "\n",
        "  4. **LibraryManagement**:\n",
        "    - 도서, 회원, 대여 정보를 관리하는 메소드와 데이터 구조를 포함합니다.\n",
        "    - 도서 추가, 삭제, 검색 메소드를 구현합니다.\n",
        "    - 회원 등록, 정보 조회 메소드를 구현합니다.\n",
        "    - 대여 및 반납 프로세스를 관리하는 메소드를 구현합니다.\n",
        "\n",
        "- **예시**\n",
        "  \n",
        "  - 다음과 같은 코드를 실행했을 때의 출력 예시입니다:\n",
        "\n",
        "      ```python\n",
        "      # 도서관 관리 시스템 초기화\n",
        "      library_system = LibraryManagement()\n",
        "\n",
        "      # 도서 추가\n",
        "      library_system.add_book(\"1984\", \"조지 오웰\", 1949, \"978-0451524935\")\n",
        "      library_system.add_book(\"앵무새 죽이기\", \"하퍼 리\", 1960, \"978-0446310789\")\n",
        "      print()\n",
        "\n",
        "      # 회원 등록\n",
        "      library_system.add_member(\"홍길동\")\n",
        "      print()\n",
        "\n",
        "      # 도서 대여\n",
        "      library_system.rent_book(\"978-0451524935\", \"홍길동\")\n",
        "      print()\n",
        "\n",
        "      # 도서 정보 출력\n",
        "      library_system.print_books()\n",
        "      print()\n",
        "\n",
        "      # 회원 정보 출력\n",
        "      library_system.print_members()\n",
        "\n",
        "      # 도서 반납\n",
        "      library_system.return_book(\"978-0451524935\", \"홍길동\")\n",
        "      print()\n",
        "\n",
        "      # 회원 정보 출력\n",
        "      library_system.print_members()\n",
        "      ```\n",
        "  \n",
        "  - 출력 예시:\n",
        "    \n",
        "    ```\n",
        "    '1984' (저자: 조지 오웰, 출판년도: 1949) 도서가 추가되었습니다.\n",
        "    '앵무새 죽이기' (저자: 하퍼 리, 출판년도: 1960) 도서가 추가되었습니다.\n",
        "    회원 '홍길동'님이 등록되었습니다.\n",
        "    '홍길동' 회원님이 '1984' 도서를 대여하였습니다.\n",
        "    도서 목록:\n",
        "    - 1984 (저자: 조지 오웰, 출판년도: 1949)\n",
        "    - 앵무새 죽이기 (저자: 하퍼 리, 출판년도: 1960)\n",
        "    회원 목록:\n",
        "    - 홍길동 (대여 중인 도서: 1984)\n",
        "    '홍길동' 회원님이 '1984' 도서를 반납하였습니다.   \n",
        "    회원 목록:\n",
        "    - 홍길동 (대여 중인 도서: 없음)\n",
        "    ```\n",
        "\n",
        "- **요구 사항**\n",
        "\n",
        "  - 모든 클래스 및 메소드는 적절한 입력 검증과 예외 처리를 포함해야 합니다.\n",
        "  - 시스템은 사용자의 행동에 따라 적절한 피드백을 제공해야 합니다. (예: 도서가 없을 때, 회원 정보가 없을 때)\n"
      ]
    },
    {
      "cell_type": "code",
      "execution_count": 215,
      "metadata": {},
      "outputs": [
        {
          "name": "stdout",
          "output_type": "stream",
          "text": [
            "{'key': 'val'}\n"
          ]
        }
      ],
      "source": [
        "dic = {}\n",
        "dic[\"key\"] = \"val\"\n",
        "print(dic)"
      ]
    },
    {
      "cell_type": "code",
      "execution_count": 224,
      "metadata": {
        "id": "WjiD18H0SS9e"
      },
      "outputs": [],
      "source": [
        "# 문제\n",
        "\n",
        "from datetime import date\n",
        "\n",
        "\n",
        "class Book:\n",
        "    def __init__(self, title: str, author: str, publication_year: int, isbn: str):\n",
        "        self.title = title\n",
        "        self.author = author\n",
        "        self.publication_year = publication_year\n",
        "        self.isbn = isbn\n",
        "        self.rent = False  # 대여 여부\n",
        "        # 클래스의 생성자는 명시적으로 리턴을 지정하지 않아도 객체를 리턴\n",
        "\n",
        "    def __repr__(self):\n",
        "        return f\"{self.title}\"\n",
        "\n",
        "\n",
        "class Member:\n",
        "    def __init__(self, name: str):\n",
        "        self.name = name\n",
        "        self.rental_list = []\n",
        "\n",
        "    def __repr__(self):\n",
        "        return f\"{self.name}\"\n",
        "\n",
        "\n",
        "class Rental:\n",
        "    def __init__(self, book: Book, member: str):\n",
        "        self.book = book\n",
        "        self.member = member\n",
        "        self.rental_date = date.today()\n",
        "        self.return_date = \"\"\n",
        "\n",
        "    def __repr__(self):\n",
        "        return f\"{self.book}\"\n",
        "\n",
        "\n",
        "class LibraryManagement:\n",
        "    def __init__(self):\n",
        "        self.books = {}  # isbn : Book 클래스\n",
        "        self.members = {}  # name : Member 클래스\n",
        "        self.rentals = {}  # isbn : Rental 클래스\n",
        "\n",
        "    def add_book(self, title: str, author: str, publication_year: int, isbn: str):\n",
        "        self.books[isbn] = Book(title, author, publication_year, isbn)\n",
        "        print(\n",
        "            f\"'{title}' (저자:{author}, 출판년도: {publication_year}) 도서가 추가되었습니다.\"\n",
        "        )\n",
        "\n",
        "    def add_member(self, name: str):\n",
        "        self.members[name] = Member(name)\n",
        "        print(f\"'{name}' 회원님이 등록되었습니다.\")\n",
        "\n",
        "    def rent_book(self, isbn: str, name: str):\n",
        "        if isbn not in self.books.keys():\n",
        "            print(f\"도서 ISBN {isbn}이 존재하지 않습니다.\")\n",
        "            return\n",
        "        if name not in self.members:\n",
        "            print(f\"회원 '{name}'이 존재하지 않습니다.\")\n",
        "            return\n",
        "        if self.books[isbn].rent == True:\n",
        "            print(\"해당 도서는 현재 대여 중입니다.\")\n",
        "            return\n",
        "\n",
        "        rental = Rental(self.books[isbn], self.members[name])\n",
        "        self.rentals[isbn] = rental  # 라이브러리에 추가\n",
        "        rental.book.rent = True\n",
        "        print(f\"'{name}' 회원님이 '{rental}' 도서를 대여하였습니다.\")\n",
        "\n",
        "    def return_book(self, isbn: str, name: str):\n",
        "        # Rental(self.books[isbn], name).return_date = date.today()\n",
        "        if self.rentals[isbn].book.rent == False:\n",
        "            print(\"해당 도서는 대여 중이 아닙니다.\")\n",
        "            return\n",
        "\n",
        "        self.rentals[isbn].return_date = date.today()\n",
        "        self.rentals[isbn].book.rent = False\n",
        "        print(f\"'{name}' 회원님이 '{self.rentals[isbn]}' 도서를 반납하였습니다.\")\n",
        "\n",
        "        # self.rentals[isbn]\n",
        "        # rental.return_date = date.today()\n",
        "\n",
        "    def print_members(self):\n",
        "        print(\"**회원 목록:\")\n",
        "        for member in self.members:\n",
        "            print(member)\n",
        "\n",
        "    def print_books(self):\n",
        "        print(\"**도서 목록:\")\n",
        "        for isbn, book in self.books.items():\n",
        "            print(book)\n",
        "\n",
        "    def print_rentals(self):\n",
        "        print(\"****대여 목록:\")\n",
        "        for rental in self.rentals.values():\n",
        "            if rental.book.rent:\n",
        "                print(rental)"
      ]
    },
    {
      "cell_type": "code",
      "execution_count": 225,
      "metadata": {
        "id": "cvO4Q2-UTRiz"
      },
      "outputs": [
        {
          "name": "stdout",
          "output_type": "stream",
          "text": [
            "'1984' (저자:조지 오웰, 출판년도: 1949) 도서가 추가되었습니다.\n",
            "'앵무새 죽이기' (저자:하퍼 리, 출판년도: 1960) 도서가 추가되었습니다.\n",
            "**도서 목록:\n",
            "1984\n",
            "앵무새 죽이기\n",
            "'홍길동' 회원님이 등록되었습니다.\n",
            "'카리나' 회원님이 등록되었습니다.\n",
            "**회원 목록:\n",
            "홍길동\n",
            "카리나\n",
            "'홍길동' 회원님이 '1984' 도서를 대여하였습니다.\n",
            "'카리나' 회원님이 '앵무새 죽이기' 도서를 대여하였습니다.\n",
            "회원 '장원영'이 존재하지 않습니다.\n",
            "****대여 목록:\n",
            "1984\n",
            "앵무새 죽이기\n",
            "'홍길동' 회원님이 '1984' 도서를 반납하였습니다.\n",
            "****대여 목록:\n",
            "앵무새 죽이기\n"
          ]
        }
      ],
      "source": [
        "# 사용 예시\n",
        "library = LibraryManagement()\n",
        "library.add_book(\"1984\", \"조지 오웰\", 1949, \"978-0451524935\")\n",
        "library.add_book(\"앵무새 죽이기\", \"하퍼 리\", 1960, \"978-0446310789\")\n",
        "library.print_books()\n",
        "\n",
        "library.add_member(\"홍길동\")\n",
        "library.add_member(\"카리나\")\n",
        "library.print_members()\n",
        "\n",
        "\n",
        "library.rent_book(\"978-0451524935\", \"홍길동\")\n",
        "library.rent_book(\"978-0446310789\", \"카리나\")\n",
        "library.rent_book(\"978-0451524935\", \"장원영\")\n",
        "library.print_rentals()\n",
        "\n",
        "library.return_book(\"978-0451524935\", \"홍길동\")\n",
        "library.print_rentals()"
      ]
    },
    {
      "cell_type": "markdown",
      "metadata": {
        "id": "cM8h84fQUi_t"
      },
      "source": [
        "심화문제를 풀고 싶으나 어디서부터 시작해야 할지 막막하다면, 이래의 단계별 개발 가이드를 참고해보세요.\n",
        "\n",
        "\n",
        "- **1단계: 기본 클래스 정의**\n",
        "  - **목표**: 도서, 회원, 대여 정보를 저장할 기본 클래스를 생성합니다.\n",
        "\n",
        "  - **주요 작업**\n",
        "    1. `Book` 클래스 생성: `__init__` 메소드에는 `title`, `author`, `publication_year`, `isbn` 파라미터를 포함시킵니다.\n",
        "    2. `Member` 클래스 생성: `__init__` 메소드에는 `name` 파라미터를 포함시키고, 대여 중인 도서 목록을 관리할 리스트를 초기화합니다.\n",
        "    3. `Rental` 클래스 생성: `__init__` 메소드에는 `book`, `member`, `rental_date`, `return_date` 파라미터를 포함시킵니다.\n",
        "\n",
        "- **2단계: 관리 시스템 클래스 구현**\n",
        "  - **목표**: 도서, 회원, 대여 정보를 관리하는 메소드를 포함하는 `LibraryManagement` 클래스를 구현합니다.\n",
        "\n",
        "  - **주요 작업**\n",
        "    1. `LibraryManagement` 클래스에 필요한 인스턴스 변수 초기화: 도서 목록, 회원 목록, 대여 목록.\n",
        "    2. 도서 추가 메소드(`add_book`) 구현.\n",
        "    3. 회원 추가 메소드(`add_member`) 구현.\n",
        "    4. 도서 대여 메소드(`rent_book`) 구현.\n",
        "    5. 도서 반납 메소드(`return_book`) 구현.\n",
        "\n",
        "- **3단계: 도서 및 회원 정보 조회 기능 추가**\n",
        "  - **목표**: 도서 및 회원 정보를 조회하고 출력하는 기능을 구현합니다.\n",
        "\n",
        "  - **주요 작업**\n",
        "    1. 도서 목록 출력 메소드(`print_books`) 구현.\n",
        "    2. 회원 목록 출력 메소드(`print_members`) 구현.\n",
        "\n",
        "- **4단계: 테스트 및 디버깅**\n",
        "  - **목표**: 관리 시스템의 테스트하여 오류를 찾고 수정합니다.\n",
        "\n",
        "  - **주요 작업**\n",
        "    1. 각 단계에서 구현한 기능을 개별적으로 테스트합니다.\n",
        "    2. 예상하지 못한 에러가 발생하면 원인을 분석하고 수정합니다.\n",
        "    3. 오류 메시지 외에 처리 과정을 확인하고 필요에 따라 수정합니다.\n"
      ]
    },
    {
      "cell_type": "markdown",
      "metadata": {},
      "source": []
    }
  ],
  "metadata": {
    "colab": {
      "provenance": [],
      "toc_visible": true
    },
    "kernelspec": {
      "display_name": "JSH",
      "language": "python",
      "name": "python3"
    },
    "language_info": {
      "codemirror_mode": {
        "name": "ipython",
        "version": 3
      },
      "file_extension": ".py",
      "mimetype": "text/x-python",
      "name": "python",
      "nbconvert_exporter": "python",
      "pygments_lexer": "ipython3",
      "version": "3.12.8"
    }
  },
  "nbformat": 4,
  "nbformat_minor": 0
}
