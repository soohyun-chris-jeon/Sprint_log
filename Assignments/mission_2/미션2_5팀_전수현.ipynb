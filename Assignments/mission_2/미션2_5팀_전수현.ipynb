{
 "cells": [
  {
   "cell_type": "markdown",
   "id": "54d1bfa9",
   "metadata": {},
   "source": [
    "#### < 미션#2 >   5팀 전수현\n",
    "## Hotel Booking Demand Datasets\n",
    "\n",
    "- 예약취소와 관련이 있는 요소들을 분석\n",
    "- 예약 취소율을 줄이기 위한 방안"
   ]
  },
  {
   "cell_type": "markdown",
   "id": "a9def28c",
   "metadata": {},
   "source": [
    "## 1. Load data"
   ]
  },
  {
   "cell_type": "code",
   "execution_count": 64,
   "id": "9c0da499",
   "metadata": {},
   "outputs": [
    {
     "data": {
      "text/plain": [
       "(119390, 29)"
      ]
     },
     "execution_count": 64,
     "metadata": {},
     "output_type": "execute_result"
    }
   ],
   "source": [
    "# data 불러오기\n",
    "import pandas as pd\n",
    "\n",
    "df = pd.read_csv(\"hotel_data_modified.csv\")\n",
    "df.shape"
   ]
  },
  {
   "cell_type": "code",
   "execution_count": 65,
   "id": "d785494c",
   "metadata": {},
   "outputs": [],
   "source": [
    "# data 앞부분 미리보기\n",
    "df.head()\n",
    "total_count = len(df) # 총 예약수수"
   ]
  },
  {
   "cell_type": "code",
   "execution_count": 66,
   "id": "7df3bad7",
   "metadata": {},
   "outputs": [
    {
     "name": "stdout",
     "output_type": "stream",
     "text": [
      "<class 'pandas.core.frame.DataFrame'>\n",
      "RangeIndex: 119390 entries, 0 to 119389\n",
      "Data columns (total 29 columns):\n",
      " #   Column                          Non-Null Count   Dtype  \n",
      "---  ------                          --------------   -----  \n",
      " 0   hotel                           119390 non-null  object \n",
      " 1   is_canceled                     119390 non-null  int64  \n",
      " 2   lead_time                       119390 non-null  int64  \n",
      " 3   arrival_date_year               119390 non-null  int64  \n",
      " 4   arrival_date_month              119390 non-null  object \n",
      " 5   arrival_date_week_number        119390 non-null  int64  \n",
      " 6   arrival_date_day_of_month       119390 non-null  int64  \n",
      " 7   stays_in_weekend_nights         119390 non-null  int64  \n",
      " 8   stays_in_week_nights            119390 non-null  int64  \n",
      " 9   adults                          119390 non-null  int64  \n",
      " 10  children                        119386 non-null  float64\n",
      " 11  babies                          119390 non-null  int64  \n",
      " 12  meal                            119390 non-null  object \n",
      " 13  country                         118902 non-null  object \n",
      " 14  market_segment                  119390 non-null  object \n",
      " 15  distribution_channel            119390 non-null  object \n",
      " 16  is_repeated_guest               119390 non-null  int64  \n",
      " 17  previous_cancellations          119390 non-null  int64  \n",
      " 18  previous_bookings_not_canceled  119390 non-null  int64  \n",
      " 19  reserved_room_type              119390 non-null  object \n",
      " 20  assigned_room_type              119390 non-null  object \n",
      " 21  booking_changes                 119390 non-null  int64  \n",
      " 22  agent                           103050 non-null  float64\n",
      " 23  company                         6797 non-null    float64\n",
      " 24  days_in_waiting_list            119390 non-null  int64  \n",
      " 25  required_car_parking_spaces     119390 non-null  int64  \n",
      " 26  total_of_special_requests       119390 non-null  int64  \n",
      " 27  reservation_status              119390 non-null  object \n",
      " 28  reservation_status_date         119390 non-null  object \n",
      "dtypes: float64(3), int64(16), object(10)\n",
      "memory usage: 26.4+ MB\n"
     ]
    }
   ],
   "source": [
    "df.info()  # 열 이름, 결측치, 타입 확인"
   ]
  },
  {
   "cell_type": "code",
   "execution_count": 67,
   "id": "c58c38b3",
   "metadata": {},
   "outputs": [
    {
     "data": {
      "text/html": [
       "<div>\n",
       "<style scoped>\n",
       "    .dataframe tbody tr th:only-of-type {\n",
       "        vertical-align: middle;\n",
       "    }\n",
       "\n",
       "    .dataframe tbody tr th {\n",
       "        vertical-align: top;\n",
       "    }\n",
       "\n",
       "    .dataframe thead th {\n",
       "        text-align: right;\n",
       "    }\n",
       "</style>\n",
       "<table border=\"1\" class=\"dataframe\">\n",
       "  <thead>\n",
       "    <tr style=\"text-align: right;\">\n",
       "      <th></th>\n",
       "      <th>is_canceled</th>\n",
       "      <th>lead_time</th>\n",
       "      <th>arrival_date_year</th>\n",
       "      <th>arrival_date_week_number</th>\n",
       "      <th>arrival_date_day_of_month</th>\n",
       "      <th>stays_in_weekend_nights</th>\n",
       "      <th>stays_in_week_nights</th>\n",
       "      <th>adults</th>\n",
       "      <th>children</th>\n",
       "      <th>babies</th>\n",
       "      <th>is_repeated_guest</th>\n",
       "      <th>previous_cancellations</th>\n",
       "      <th>previous_bookings_not_canceled</th>\n",
       "      <th>booking_changes</th>\n",
       "      <th>agent</th>\n",
       "      <th>company</th>\n",
       "      <th>days_in_waiting_list</th>\n",
       "      <th>required_car_parking_spaces</th>\n",
       "      <th>total_of_special_requests</th>\n",
       "    </tr>\n",
       "  </thead>\n",
       "  <tbody>\n",
       "    <tr>\n",
       "      <th>count</th>\n",
       "      <td>119390.000000</td>\n",
       "      <td>119390.000000</td>\n",
       "      <td>119390.000000</td>\n",
       "      <td>119390.000000</td>\n",
       "      <td>119390.000000</td>\n",
       "      <td>119390.000000</td>\n",
       "      <td>119390.000000</td>\n",
       "      <td>119390.000000</td>\n",
       "      <td>119386.000000</td>\n",
       "      <td>119390.000000</td>\n",
       "      <td>119390.000000</td>\n",
       "      <td>119390.000000</td>\n",
       "      <td>119390.000000</td>\n",
       "      <td>119390.000000</td>\n",
       "      <td>103050.000000</td>\n",
       "      <td>6797.000000</td>\n",
       "      <td>119390.000000</td>\n",
       "      <td>119390.000000</td>\n",
       "      <td>119390.000000</td>\n",
       "    </tr>\n",
       "    <tr>\n",
       "      <th>mean</th>\n",
       "      <td>0.370416</td>\n",
       "      <td>104.011416</td>\n",
       "      <td>2016.156554</td>\n",
       "      <td>27.165173</td>\n",
       "      <td>15.798241</td>\n",
       "      <td>0.927599</td>\n",
       "      <td>2.500302</td>\n",
       "      <td>1.856403</td>\n",
       "      <td>0.103890</td>\n",
       "      <td>0.007949</td>\n",
       "      <td>0.031912</td>\n",
       "      <td>0.087118</td>\n",
       "      <td>0.137097</td>\n",
       "      <td>0.221124</td>\n",
       "      <td>86.693382</td>\n",
       "      <td>189.266735</td>\n",
       "      <td>2.321149</td>\n",
       "      <td>0.062518</td>\n",
       "      <td>0.571363</td>\n",
       "    </tr>\n",
       "    <tr>\n",
       "      <th>std</th>\n",
       "      <td>0.482918</td>\n",
       "      <td>106.863097</td>\n",
       "      <td>0.707476</td>\n",
       "      <td>13.605138</td>\n",
       "      <td>8.780829</td>\n",
       "      <td>0.998613</td>\n",
       "      <td>1.908286</td>\n",
       "      <td>0.579261</td>\n",
       "      <td>0.398561</td>\n",
       "      <td>0.097436</td>\n",
       "      <td>0.175767</td>\n",
       "      <td>0.844336</td>\n",
       "      <td>1.497437</td>\n",
       "      <td>0.652306</td>\n",
       "      <td>110.774548</td>\n",
       "      <td>131.655015</td>\n",
       "      <td>17.594721</td>\n",
       "      <td>0.245291</td>\n",
       "      <td>0.792798</td>\n",
       "    </tr>\n",
       "    <tr>\n",
       "      <th>min</th>\n",
       "      <td>0.000000</td>\n",
       "      <td>0.000000</td>\n",
       "      <td>2015.000000</td>\n",
       "      <td>1.000000</td>\n",
       "      <td>1.000000</td>\n",
       "      <td>0.000000</td>\n",
       "      <td>0.000000</td>\n",
       "      <td>0.000000</td>\n",
       "      <td>0.000000</td>\n",
       "      <td>0.000000</td>\n",
       "      <td>0.000000</td>\n",
       "      <td>0.000000</td>\n",
       "      <td>0.000000</td>\n",
       "      <td>0.000000</td>\n",
       "      <td>1.000000</td>\n",
       "      <td>6.000000</td>\n",
       "      <td>0.000000</td>\n",
       "      <td>0.000000</td>\n",
       "      <td>0.000000</td>\n",
       "    </tr>\n",
       "    <tr>\n",
       "      <th>25%</th>\n",
       "      <td>0.000000</td>\n",
       "      <td>18.000000</td>\n",
       "      <td>2016.000000</td>\n",
       "      <td>16.000000</td>\n",
       "      <td>8.000000</td>\n",
       "      <td>0.000000</td>\n",
       "      <td>1.000000</td>\n",
       "      <td>2.000000</td>\n",
       "      <td>0.000000</td>\n",
       "      <td>0.000000</td>\n",
       "      <td>0.000000</td>\n",
       "      <td>0.000000</td>\n",
       "      <td>0.000000</td>\n",
       "      <td>0.000000</td>\n",
       "      <td>9.000000</td>\n",
       "      <td>62.000000</td>\n",
       "      <td>0.000000</td>\n",
       "      <td>0.000000</td>\n",
       "      <td>0.000000</td>\n",
       "    </tr>\n",
       "    <tr>\n",
       "      <th>50%</th>\n",
       "      <td>0.000000</td>\n",
       "      <td>69.000000</td>\n",
       "      <td>2016.000000</td>\n",
       "      <td>28.000000</td>\n",
       "      <td>16.000000</td>\n",
       "      <td>1.000000</td>\n",
       "      <td>2.000000</td>\n",
       "      <td>2.000000</td>\n",
       "      <td>0.000000</td>\n",
       "      <td>0.000000</td>\n",
       "      <td>0.000000</td>\n",
       "      <td>0.000000</td>\n",
       "      <td>0.000000</td>\n",
       "      <td>0.000000</td>\n",
       "      <td>14.000000</td>\n",
       "      <td>179.000000</td>\n",
       "      <td>0.000000</td>\n",
       "      <td>0.000000</td>\n",
       "      <td>0.000000</td>\n",
       "    </tr>\n",
       "    <tr>\n",
       "      <th>75%</th>\n",
       "      <td>1.000000</td>\n",
       "      <td>160.000000</td>\n",
       "      <td>2017.000000</td>\n",
       "      <td>38.000000</td>\n",
       "      <td>23.000000</td>\n",
       "      <td>2.000000</td>\n",
       "      <td>3.000000</td>\n",
       "      <td>2.000000</td>\n",
       "      <td>0.000000</td>\n",
       "      <td>0.000000</td>\n",
       "      <td>0.000000</td>\n",
       "      <td>0.000000</td>\n",
       "      <td>0.000000</td>\n",
       "      <td>0.000000</td>\n",
       "      <td>229.000000</td>\n",
       "      <td>270.000000</td>\n",
       "      <td>0.000000</td>\n",
       "      <td>0.000000</td>\n",
       "      <td>1.000000</td>\n",
       "    </tr>\n",
       "    <tr>\n",
       "      <th>max</th>\n",
       "      <td>1.000000</td>\n",
       "      <td>737.000000</td>\n",
       "      <td>2017.000000</td>\n",
       "      <td>53.000000</td>\n",
       "      <td>31.000000</td>\n",
       "      <td>19.000000</td>\n",
       "      <td>50.000000</td>\n",
       "      <td>55.000000</td>\n",
       "      <td>10.000000</td>\n",
       "      <td>10.000000</td>\n",
       "      <td>1.000000</td>\n",
       "      <td>26.000000</td>\n",
       "      <td>72.000000</td>\n",
       "      <td>21.000000</td>\n",
       "      <td>535.000000</td>\n",
       "      <td>543.000000</td>\n",
       "      <td>391.000000</td>\n",
       "      <td>8.000000</td>\n",
       "      <td>5.000000</td>\n",
       "    </tr>\n",
       "  </tbody>\n",
       "</table>\n",
       "</div>"
      ],
      "text/plain": [
       "         is_canceled      lead_time  arrival_date_year  \\\n",
       "count  119390.000000  119390.000000      119390.000000   \n",
       "mean        0.370416     104.011416        2016.156554   \n",
       "std         0.482918     106.863097           0.707476   \n",
       "min         0.000000       0.000000        2015.000000   \n",
       "25%         0.000000      18.000000        2016.000000   \n",
       "50%         0.000000      69.000000        2016.000000   \n",
       "75%         1.000000     160.000000        2017.000000   \n",
       "max         1.000000     737.000000        2017.000000   \n",
       "\n",
       "       arrival_date_week_number  arrival_date_day_of_month  \\\n",
       "count             119390.000000              119390.000000   \n",
       "mean                  27.165173                  15.798241   \n",
       "std                   13.605138                   8.780829   \n",
       "min                    1.000000                   1.000000   \n",
       "25%                   16.000000                   8.000000   \n",
       "50%                   28.000000                  16.000000   \n",
       "75%                   38.000000                  23.000000   \n",
       "max                   53.000000                  31.000000   \n",
       "\n",
       "       stays_in_weekend_nights  stays_in_week_nights         adults  \\\n",
       "count            119390.000000         119390.000000  119390.000000   \n",
       "mean                  0.927599              2.500302       1.856403   \n",
       "std                   0.998613              1.908286       0.579261   \n",
       "min                   0.000000              0.000000       0.000000   \n",
       "25%                   0.000000              1.000000       2.000000   \n",
       "50%                   1.000000              2.000000       2.000000   \n",
       "75%                   2.000000              3.000000       2.000000   \n",
       "max                  19.000000             50.000000      55.000000   \n",
       "\n",
       "            children         babies  is_repeated_guest  \\\n",
       "count  119386.000000  119390.000000      119390.000000   \n",
       "mean        0.103890       0.007949           0.031912   \n",
       "std         0.398561       0.097436           0.175767   \n",
       "min         0.000000       0.000000           0.000000   \n",
       "25%         0.000000       0.000000           0.000000   \n",
       "50%         0.000000       0.000000           0.000000   \n",
       "75%         0.000000       0.000000           0.000000   \n",
       "max        10.000000      10.000000           1.000000   \n",
       "\n",
       "       previous_cancellations  previous_bookings_not_canceled  \\\n",
       "count           119390.000000                   119390.000000   \n",
       "mean                 0.087118                        0.137097   \n",
       "std                  0.844336                        1.497437   \n",
       "min                  0.000000                        0.000000   \n",
       "25%                  0.000000                        0.000000   \n",
       "50%                  0.000000                        0.000000   \n",
       "75%                  0.000000                        0.000000   \n",
       "max                 26.000000                       72.000000   \n",
       "\n",
       "       booking_changes          agent      company  days_in_waiting_list  \\\n",
       "count    119390.000000  103050.000000  6797.000000         119390.000000   \n",
       "mean          0.221124      86.693382   189.266735              2.321149   \n",
       "std           0.652306     110.774548   131.655015             17.594721   \n",
       "min           0.000000       1.000000     6.000000              0.000000   \n",
       "25%           0.000000       9.000000    62.000000              0.000000   \n",
       "50%           0.000000      14.000000   179.000000              0.000000   \n",
       "75%           0.000000     229.000000   270.000000              0.000000   \n",
       "max          21.000000     535.000000   543.000000            391.000000   \n",
       "\n",
       "       required_car_parking_spaces  total_of_special_requests  \n",
       "count                119390.000000              119390.000000  \n",
       "mean                      0.062518                   0.571363  \n",
       "std                       0.245291                   0.792798  \n",
       "min                       0.000000                   0.000000  \n",
       "25%                       0.000000                   0.000000  \n",
       "50%                       0.000000                   0.000000  \n",
       "75%                       0.000000                   1.000000  \n",
       "max                       8.000000                   5.000000  "
      ]
     },
     "execution_count": 67,
     "metadata": {},
     "output_type": "execute_result"
    }
   ],
   "source": [
    "df.describe()  # 수치형 변수 요약 통계"
   ]
  },
  {
   "cell_type": "code",
   "execution_count": 68,
   "id": "d5e3407a",
   "metadata": {},
   "outputs": [
    {
     "data": {
      "text/plain": [
       "Index(['hotel', 'is_canceled', 'lead_time', 'arrival_date_year',\n",
       "       'arrival_date_month', 'arrival_date_week_number',\n",
       "       'arrival_date_day_of_month', 'stays_in_weekend_nights',\n",
       "       'stays_in_week_nights', 'adults', 'children', 'babies', 'meal',\n",
       "       'country', 'market_segment', 'distribution_channel',\n",
       "       'is_repeated_guest', 'previous_cancellations',\n",
       "       'previous_bookings_not_canceled', 'reserved_room_type',\n",
       "       'assigned_room_type', 'booking_changes', 'agent', 'company',\n",
       "       'days_in_waiting_list', 'required_car_parking_spaces',\n",
       "       'total_of_special_requests', 'reservation_status',\n",
       "       'reservation_status_date'],\n",
       "      dtype='object')"
      ]
     },
     "execution_count": 68,
     "metadata": {},
     "output_type": "execute_result"
    }
   ],
   "source": [
    "df.columns  # 컬럼 이름 목록"
   ]
  },
  {
   "cell_type": "markdown",
   "id": "29df717e",
   "metadata": {},
   "source": [
    "## 1. Data Preprocessing\n",
    "머신러닝의 가장 기본적이면서도 중요한 데이터 전처리 과정.  \n",
    "(1) 중복값  \n",
    "(2) 결측값  \n",
    "(3) 이상점  "
   ]
  },
  {
   "cell_type": "markdown",
   "id": "9bffbd5c",
   "metadata": {},
   "source": [
    "#### (1)-1. 중복값 처리. \n",
    "전처리 과정 중에서 가장 직관적인 중복값 처리부터 시작했다.\n"
   ]
  },
  {
   "cell_type": "code",
   "execution_count": 69,
   "id": "4af86bdf",
   "metadata": {},
   "outputs": [
    {
     "data": {
      "text/plain": [
       "np.int64(33103)"
      ]
     },
     "execution_count": 69,
     "metadata": {},
     "output_type": "execute_result"
    }
   ],
   "source": [
    "df.duplicated().sum()"
   ]
  },
  {
   "cell_type": "markdown",
   "id": "fc0862c8",
   "metadata": {},
   "source": [
    "이 데이터에서 중복된 row는 없음을 확인할 수 있었다."
   ]
  },
  {
   "cell_type": "markdown",
   "id": "561f37c2",
   "metadata": {},
   "source": [
    "#### (1)-2. 결측치 처리"
   ]
  },
  {
   "cell_type": "code",
   "execution_count": 70,
   "id": "5c6b43f2",
   "metadata": {},
   "outputs": [
    {
     "data": {
      "text/plain": [
       "company                           112593\n",
       "agent                              16340\n",
       "country                              488\n",
       "children                               4\n",
       "is_canceled                            0\n",
       "arrival_date_month                     0\n",
       "arrival_date_week_number               0\n",
       "stays_in_weekend_nights                0\n",
       "arrival_date_day_of_month              0\n",
       "stays_in_week_nights                   0\n",
       "lead_time                              0\n",
       "arrival_date_year                      0\n",
       "hotel                                  0\n",
       "meal                                   0\n",
       "babies                                 0\n",
       "adults                                 0\n",
       "market_segment                         0\n",
       "previous_cancellations                 0\n",
       "previous_bookings_not_canceled         0\n",
       "distribution_channel                   0\n",
       "is_repeated_guest                      0\n",
       "assigned_room_type                     0\n",
       "reserved_room_type                     0\n",
       "booking_changes                        0\n",
       "days_in_waiting_list                   0\n",
       "required_car_parking_spaces            0\n",
       "total_of_special_requests              0\n",
       "reservation_status                     0\n",
       "reservation_status_date                0\n",
       "dtype: int64"
      ]
     },
     "execution_count": 70,
     "metadata": {},
     "output_type": "execute_result"
    }
   ],
   "source": [
    "# 결측치 처리를 위해서 column의 상태를 확인\n",
    "df.isnull().sum().sort_values(ascending=False)"
   ]
  },
  {
   "cell_type": "markdown",
   "id": "b659eb89",
   "metadata": {},
   "source": [
    "company, agent, country는 결측치가 상당히 많이 발견되었고\n",
    "children 값은 4개 밖에 없음을 확인."
   ]
  },
  {
   "cell_type": "code",
   "execution_count": 71,
   "id": "64cdc161",
   "metadata": {},
   "outputs": [],
   "source": [
    "# 먼저 결측치 company 칼럼에 대하여\n",
    "df[\"company\"].dtypes  # float64\n",
    "df[\"company\"].value_counts()  # null 값이 94% 이상\n",
    "df[\"company\"].unique().shape  # 총 353개의 company\n",
    "\n",
    "\n",
    "df = df.drop(\"company\", axis=1)  # company는 대부분의 값이 null이므로 칼럼 삭제"
   ]
  },
  {
   "cell_type": "code",
   "execution_count": 72,
   "id": "7545f26d",
   "metadata": {},
   "outputs": [],
   "source": [
    "# 다음으로 결측치 agent 칼럼에 대하여\n",
    "df[\"agent\"].dtypes  # float64\n",
    "df[\"agent\"].value_counts()  # null 값이 2번째로 많고 13.68퍼센트\n",
    "df[\"agent\"].unique().shape  # 총 334개의 agent\n",
    "\n",
    "\n",
    "df[\"agent\"] = df[\"agent\"].fillna(\n",
    "    \"unknown\"\n",
    ")  # 대체값이 애매하므로 결측치를 None으로 대체"
   ]
  },
  {
   "cell_type": "code",
   "execution_count": 73,
   "id": "c92c33bf",
   "metadata": {},
   "outputs": [],
   "source": [
    "# 다음으로 결측치 country 칼럼에 대하여\n",
    "df[\"country\"].dtypes  # Object 타입입\n",
    "df[\"country\"].value_counts()  # 0.41퍼센트트\n",
    "df[\"country\"].unique().shape  # 178개 국가코드\n",
    "\n",
    "\n",
    "\n",
    "df[\"country\"] = df[\"country\"].fillna(\n",
    "    \"unknown\"\n",
    ")  # 대체값이 애매하므로 결측치를 None으로 대체"
   ]
  },
  {
   "cell_type": "code",
   "execution_count": 74,
   "id": "24898271",
   "metadata": {},
   "outputs": [],
   "source": [
    "df[\"children\"] = df[\"children\"].fillna(0)  # children은 가장 많은 0으로 채움움"
   ]
  },
  {
   "cell_type": "code",
   "execution_count": 75,
   "id": "648081de",
   "metadata": {},
   "outputs": [
    {
     "data": {
      "text/plain": [
       "hotel                             0\n",
       "is_canceled                       0\n",
       "lead_time                         0\n",
       "arrival_date_year                 0\n",
       "arrival_date_month                0\n",
       "arrival_date_week_number          0\n",
       "arrival_date_day_of_month         0\n",
       "stays_in_weekend_nights           0\n",
       "stays_in_week_nights              0\n",
       "adults                            0\n",
       "children                          0\n",
       "babies                            0\n",
       "meal                              0\n",
       "country                           0\n",
       "market_segment                    0\n",
       "distribution_channel              0\n",
       "is_repeated_guest                 0\n",
       "previous_cancellations            0\n",
       "previous_bookings_not_canceled    0\n",
       "reserved_room_type                0\n",
       "assigned_room_type                0\n",
       "booking_changes                   0\n",
       "agent                             0\n",
       "days_in_waiting_list              0\n",
       "required_car_parking_spaces       0\n",
       "total_of_special_requests         0\n",
       "reservation_status                0\n",
       "reservation_status_date           0\n",
       "dtype: int64"
      ]
     },
     "execution_count": 75,
     "metadata": {},
     "output_type": "execute_result"
    }
   ],
   "source": [
    "df.isnull().sum().sort_values(ascending=False)  # 결측치 처리 후 확인"
   ]
  },
  {
   "cell_type": "markdown",
   "id": "03cefe18",
   "metadata": {},
   "source": [
    "#### (1)-3. 이상치 처리\n",
    "이상치 처리의 경우 EDA 과정에서 처리"
   ]
  },
  {
   "cell_type": "markdown",
   "id": "9ed83848",
   "metadata": {},
   "source": [
    "### 2. EDA\n",
    "(1) 호텔 종류(hotel)에 따른 취소율?  \n",
    "  \n",
    "먼저 전체 예약의 취소율을 따져보면"
   ]
  },
  {
   "cell_type": "code",
   "execution_count": 76,
   "id": "e5aa433d",
   "metadata": {},
   "outputs": [],
   "source": [
    "# 시각화 도구 import\n",
    "import matplotlib.pyplot as plt\n",
    "import seaborn as sns\n",
    "\n",
    "# df_cancled 정의: cancel된 데이터 프레임레임\n",
    "df_cancled = df[df[\"is_canceled\"] == 1]"
   ]
  },
  {
   "cell_type": "code",
   "execution_count": 77,
   "id": "e28934cf",
   "metadata": {},
   "outputs": [
    {
     "data": {
      "text/plain": [
       "Text(0.5, 1.0, 'total cancelation rate')"
      ]
     },
     "execution_count": 77,
     "metadata": {},
     "output_type": "execute_result"
    },
    {
     "data": {
      "image/png": "[encoded data removed]",
      "text/plain": [
       "<Figure size 640x480 with 1 Axes>"
      ]
     },
     "metadata": {},
     "output_type": "display_data"
    }
   ],
   "source": [
    "cm = sns.set_palette(\"Set3\")\n",
    "\n",
    "df[\"is_canceled\"].value_counts()\n",
    "fig = plt.pie(\n",
    "    df[\"is_canceled\"].value_counts().values,\n",
    "    labels=[\"X\", \"Canceled\"],\n",
    "    autopct=\"%.1f%%\",\n",
    ")\n",
    "plt.title(\"total cancelation rate\")"
   ]
  },
  {
   "cell_type": "code",
   "execution_count": 78,
   "id": "8a08b6ad",
   "metadata": {},
   "outputs": [
    {
     "data": {
      "text/plain": [
       "Text(0.5, 1.0, 'Cancelation rates of Hotel type')"
      ]
     },
     "execution_count": 78,
     "metadata": {},
     "output_type": "execute_result"
    },
    {
     "data": {
      "image/png": "[encoded data removed]",
      "text/plain": [
       "<Figure size 500x600 with 1 Axes>"
      ]
     },
     "metadata": {},
     "output_type": "display_data"
    }
   ],
   "source": [
    "plt.figure(figsize=(5, 6))\n",
    "sns.set_style(\"darkgrid\")\n",
    "sns.barplot(data=df, x=\"hotel\", y=\"is_canceled\", palette=cm)\n",
    "plt.title(\"Cancelation rates of Hotel type\")"
   ]
  },
  {
   "cell_type": "markdown",
   "id": "2e03f688",
   "metadata": {},
   "source": [
    "대략적으로 City Hotel의 취소율이 높았음. 아무래도 접근성이 더 좋은 도시의 호텔 선택이 더 쉽지 않은가 싶다."
   ]
  },
  {
   "cell_type": "markdown",
   "id": "2fe063de",
   "metadata": {},
   "source": [
    "### (2) leadtime(호텔 도착 시점까지의 기간)에 따른 취소율"
   ]
  },
  {
   "cell_type": "code",
   "execution_count": 79,
   "id": "41d17183",
   "metadata": {},
   "outputs": [
    {
     "data": {
      "text/plain": [
       "count    119390.000000\n",
       "mean        104.011416\n",
       "std         106.863097\n",
       "min           0.000000\n",
       "25%          18.000000\n",
       "50%          69.000000\n",
       "75%         160.000000\n",
       "max         737.000000\n",
       "Name: lead_time, dtype: float64"
      ]
     },
     "execution_count": 79,
     "metadata": {},
     "output_type": "execute_result"
    }
   ],
   "source": [
    "df[\"lead_time\"].describe()"
   ]
  },
  {
   "cell_type": "code",
   "execution_count": 80,
   "id": "c70cb60f",
   "metadata": {},
   "outputs": [
    {
     "data": {
      "image/png": "[encoded data removed]",
      "text/plain": [
       "<Figure size 500x600 with 1 Axes>"
      ]
     },
     "metadata": {},
     "output_type": "display_data"
    }
   ],
   "source": [
    "plt.figure(figsize=(5, 6))\n",
    "df_cancled[\"lead_time\"].describe()\n",
    "sns.boxplot(data=df, y=\"lead_time\", hue=\"is_canceled\", hue_order=[1, 0])\n",
    "plt.title(\"lead time\")\n",
    "plt.show()"
   ]
  },
  {
   "cell_type": "markdown",
   "id": "26e4f0b1",
   "metadata": {},
   "source": [
    "leadtime은 취소가 된 데이터에서 더 큰 경향을 보였다. 따라서 예약 시간이 길수록 취소율은 높다고 할 수 있다."
   ]
  },
  {
   "cell_type": "markdown",
   "id": "64757c49",
   "metadata": {},
   "source": [
    "### (3) arrival_date_year(연도별)취소율\n",
    "혹시 취소율이 어떤 년도별 특징이 있지 않을까? 한번 시각화해서 알아보았다"
   ]
  },
  {
   "cell_type": "code",
   "execution_count": 81,
   "id": "8709a3fc",
   "metadata": {},
   "outputs": [
    {
     "data": {
      "image/png": "[encoded data removed]",
      "text/plain": [
       "<Figure size 400x400 with 1 Axes>"
      ]
     },
     "metadata": {},
     "output_type": "display_data"
    }
   ],
   "source": [
    "year_cancel_rate = (\n",
    "    df_cancled[\"arrival_date_year\"].value_counts().values\n",
    "    / df[\"arrival_date_year\"].value_counts().values\n",
    ")\n",
    "plt.figure(figsize=(4, 4))\n",
    "sns.barplot(x=df_cancled[\"arrival_date_year\"].value_counts().index, y=year_cancel_rate)\n",
    "# sns.barplot(data= df, x=\"arrival_date_year\", y=year_cancel_rate)\n",
    "\n",
    "plt.title(\"rate for year\")\n",
    "plt.show()"
   ]
  },
  {
   "cell_type": "markdown",
   "id": "6422dbcb",
   "metadata": {},
   "source": [
    "연도별로 취소율은 유의미한 차이는 없었다"
   ]
  },
  {
   "cell_type": "markdown",
   "id": "d87002c8",
   "metadata": {},
   "source": [
    "### (4) arrival_date_month(월별) 취소율"
   ]
  },
  {
   "cell_type": "code",
   "execution_count": 82,
   "id": "afa9843e",
   "metadata": {},
   "outputs": [
    {
     "data": {
      "image/png": "[encoded data removed]",
      "text/plain": [
       "<Figure size 1000x500 with 1 Axes>"
      ]
     },
     "metadata": {},
     "output_type": "display_data"
    }
   ],
   "source": [
    "\n",
    "month = df[\"arrival_date_month\"].value_counts().sort_index()\n",
    "month_rate = (\n",
    "    df_cancled[\"arrival_date_month\"].value_counts().sort_index().values\n",
    "    / df[\"arrival_date_month\"].value_counts().sort_index().values\n",
    ")\n",
    "plt.figure(figsize=(10, 5))\n",
    "sns.barplot(\n",
    "    x=month.index, y=month_rate\n",
    ")\n",
    "plt.title(\"Cancel rate for months\")\n",
    "plt.show()"
   ]
  },
  {
   "cell_type": "markdown",
   "id": "e4230edf",
   "metadata": {},
   "source": [
    "취소율은 4,5,6월 9,10월에 높게 나오면서 계절의 영향이 있는듯하다. 따라서 봄여름에 적절한 프로모션이 필요할듯 하다.\n",
    "=> 봄가을 시즌 프로모션 강화"
   ]
  },
  {
   "cell_type": "code",
   "execution_count": 83,
   "id": "db8d121e",
   "metadata": {},
   "outputs": [
    {
     "data": {
      "image/png": "[encoded data removed]",
      "text/plain": [
       "<Figure size 1000x500 with 1 Axes>"
      ]
     },
     "metadata": {},
     "output_type": "display_data"
    }
   ],
   "source": [
    "\n",
    "month = df[\"arrival_date_day_of_month\"].value_counts().sort_index()\n",
    "month_rate = (\n",
    "    df_cancled[\"arrival_date_day_of_month\"].value_counts().sort_index().values\n",
    "    / df[\"arrival_date_day_of_month\"].value_counts().sort_index().values\n",
    ")\n",
    "plt.figure(figsize=(10, 5))\n",
    "sns.barplot(\n",
    "    x=month.index, y=month_rate\n",
    ")\n",
    "plt.title(\"Cancel rate for Dates\")\n",
    "plt.show()"
   ]
  },
  {
   "cell_type": "markdown",
   "id": "a414df57",
   "metadata": {},
   "source": [
    "1일 부터 31일까지 취소율의 변화. 유의미한 정보는 1일에 예약수도도 취소율도 높게 나타났고 31일은 예약은 예약수도 없고 취소율도 낮았다. 즉, 월초의 예약보다는 **월말의 예약**이 더 안정적인 예약일 가능성이 높다는 결론을 낼 수 있다.\n",
    "\n",
    "-> 월초 예약 고객들의 혜택을 강화"
   ]
  },
  {
   "cell_type": "markdown",
   "id": "d8acd7b1",
   "metadata": {},
   "source": [
    "### (5) 주말(stays_in_weekend_nights) vs 주중(stays_in_week_nights)"
   ]
  },
  {
   "cell_type": "markdown",
   "id": "27f1e796",
   "metadata": {},
   "source": [
    "일단 주중(5일)과 주말(2일)을 동등비교하긴 어렵지만 전체 예약수를 비교해보면"
   ]
  },
  {
   "cell_type": "code",
   "execution_count": 84,
   "id": "34bdc560",
   "metadata": {},
   "outputs": [
    {
     "data": {
      "text/plain": [
       "stays_in_week_nights\n",
       "2    33684\n",
       "1    30310\n",
       "3    22258\n",
       "5    11077\n",
       "4     9563\n",
       "Name: count, dtype: int64"
      ]
     },
     "execution_count": 84,
     "metadata": {},
     "output_type": "execute_result"
    }
   ],
   "source": [
    "# 주중 투숙객 \n",
    "df[\"stays_in_week_nights\"].value_counts().head()\n",
    "# df_week[].value_counts()\n",
    "# df_cancled[\"stays_in_week_nights\"].value_counts().sort_index()\n",
    "# sns.boxplot(data=df,y = \"stays_in_week_nights\")"
   ]
  },
  {
   "cell_type": "markdown",
   "id": "61965ab5",
   "metadata": {},
   "source": [
    "주중 제일 예약이 많은 데이터의 취소율을 구해보면면"
   ]
  },
  {
   "cell_type": "code",
   "execution_count": 85,
   "id": "f5a05c85",
   "metadata": {},
   "outputs": [
    {
     "data": {
      "text/plain": [
       "stays_in_week_nights\n",
       "2    0.441575\n",
       "1    0.324348\n",
       "3    0.382110\n",
       "5    0.348560\n",
       "4    0.365471\n",
       "Name: count, dtype: float64"
      ]
     },
     "execution_count": 85,
     "metadata": {},
     "output_type": "execute_result"
    }
   ],
   "source": [
    "# 주중 투숙객 취소율 \n",
    "df_cancled[\"stays_in_week_nights\"].value_counts().head() / df[\"stays_in_week_nights\"].value_counts().head()"
   ]
  },
  {
   "cell_type": "markdown",
   "id": "1ee0e8ea",
   "metadata": {},
   "source": [
    "주중에는 하루(1) 숙박하는 고객의 취소율이 가장 낮았다.  \n",
    "=> 따라서 2일 이상 숙박하는 고객에 대한 프로모션이 필요함"
   ]
  },
  {
   "cell_type": "code",
   "execution_count": 86,
   "id": "314e03c7",
   "metadata": {},
   "outputs": [
    {
     "data": {
      "text/plain": [
       "stays_in_weekend_nights\n",
       "0    51998\n",
       "2    33308\n",
       "1    30626\n",
       "4     1855\n",
       "3     1259\n",
       "Name: count, dtype: int64"
      ]
     },
     "execution_count": 86,
     "metadata": {},
     "output_type": "execute_result"
    }
   ],
   "source": [
    "# 주말 투숙객\n",
    "df[\"stays_in_weekend_nights\"].value_counts().head()\n"
   ]
  },
  {
   "cell_type": "code",
   "execution_count": 87,
   "id": "94e0e395",
   "metadata": {},
   "outputs": [
    {
     "data": {
      "text/plain": [
       "stays_in_weekend_nights\n",
       "0    0.375034\n",
       "2    0.374835\n",
       "1    0.359401\n",
       "4    0.322372\n",
       "3    0.352661\n",
       "Name: count, dtype: float64"
      ]
     },
     "execution_count": 87,
     "metadata": {},
     "output_type": "execute_result"
    }
   ],
   "source": [
    "# 주말 투숙객 취소율 \n",
    "df_cancled[\"stays_in_weekend_nights\"].value_counts().head() / df[\"stays_in_weekend_nights\"].value_counts().head()\n"
   ]
  },
  {
   "cell_type": "markdown",
   "id": "bd21c47a",
   "metadata": {},
   "source": [
    "주말 투숙객은 0,1,2일 고객의 취소율이 가장 높았다. 1주일 이상 숙박하는 고객(4,3)는 취소율이 상대적으로 낮았다.  \n",
    "=> 따라서 주말 0,1,2 투숙에 고객에 대한 프로모션이 필요함"
   ]
  },
  {
   "cell_type": "markdown",
   "id": "23f34a83",
   "metadata": {},
   "source": [
    "### (6) 어린이(children)와 아이(babies)의 유무에 따른 취소율"
   ]
  },
  {
   "cell_type": "code",
   "execution_count": 103,
   "id": "5f3f81f2",
   "metadata": {},
   "outputs": [
    {
     "data": {
      "text/plain": [
       "<Axes: xlabel='children'>"
      ]
     },
     "execution_count": 103,
     "metadata": {},
     "output_type": "execute_result"
    },
    {
     "data": {
      "image/png": "[encoded data removed]",
      "text/plain": [
       "<Figure size 640x480 with 1 Axes>"
      ]
     },
     "metadata": {},
     "output_type": "display_data"
    }
   ],
   "source": [
    "# 어린이 가족 취소 현황 \n",
    "df[\"children\"].value_counts().tail(4).plot(kind='bar')"
   ]
  },
  {
   "cell_type": "markdown",
   "id": "ba651359",
   "metadata": {},
   "source": [
    "어린이가 있는 가족의 예약 현황이다. 어린이(1) 가족과 어린이(2) 가족의 차이는 그렇게 크지 않다."
   ]
  },
  {
   "cell_type": "code",
   "execution_count": 89,
   "id": "bddc74bb",
   "metadata": {},
   "outputs": [
    {
     "data": {
      "text/plain": [
       "children\n",
       "0.0     0.370921\n",
       "1.0     0.322362\n",
       "2.0     0.421961\n",
       "3.0     0.223684\n",
       "10.0    1.000000\n",
       "Name: count, dtype: float64"
      ]
     },
     "execution_count": 89,
     "metadata": {},
     "output_type": "execute_result"
    }
   ],
   "source": [
    "# 어린이가 있을때 취소율\n",
    "df_cancled[\"children\"].value_counts() / df[\"children\"].value_counts()"
   ]
  },
  {
   "cell_type": "markdown",
   "id": "af1acadd",
   "metadata": {},
   "source": [
    "그러나 어린이(1)의 가족의 경우 0.32의 취소율이었지만 어린이(2)의 가족의 경우 0.42로 값이 유의미하게 높은걸 볼 수 있다.  \n",
    "=> 따라서 어린이(2) 가족에 대한 프로모션을 강화해야한다"
   ]
  },
  {
   "cell_type": "code",
   "execution_count": 108,
   "id": "cad8003a",
   "metadata": {},
   "outputs": [
    {
     "data": {
      "text/plain": [
       "<Axes: xlabel='babies'>"
      ]
     },
     "execution_count": 108,
     "metadata": {},
     "output_type": "execute_result"
    },
    {
     "data": {
      "image/png": "[encoded data removed]",
      "text/plain": [
       "<Figure size 640x480 with 1 Axes>"
      ]
     },
     "metadata": {},
     "output_type": "display_data"
    }
   ],
   "source": [
    "# 전체 가족에서 아기 가족이 있는 현황황 \n",
    "df[\"babies\"].value_counts().tail(4).plot(kind='bar')"
   ]
  },
  {
   "cell_type": "markdown",
   "id": "9447fd36",
   "metadata": {},
   "source": [
    "아기가 있는 가족 중에 1명이 있는 가족이 대부분이었다. "
   ]
  },
  {
   "cell_type": "code",
   "execution_count": 91,
   "id": "a00558ed",
   "metadata": {},
   "outputs": [
    {
     "data": {
      "text/plain": [
       "np.float64(0.18333333333333332)"
      ]
     },
     "execution_count": 91,
     "metadata": {},
     "output_type": "execute_result"
    }
   ],
   "source": [
    "# 아기가 있을때 취소율율\n",
    "df_cancled[\"babies\"].value_counts().get(1) / df[\"babies\"].value_counts().get(1)"
   ]
  },
  {
   "cell_type": "markdown",
   "id": "31df2759",
   "metadata": {},
   "source": [
    "그러나 이 가족 유형의 경우 취소율이 높지는 않았다(18%)"
   ]
  },
  {
   "cell_type": "markdown",
   "id": "7cdc9f6d",
   "metadata": {},
   "source": [
    "### (7) 식사 유형(meal)에 따른 취소율"
   ]
  },
  {
   "cell_type": "code",
   "execution_count": 94,
   "id": "326ff5b4",
   "metadata": {},
   "outputs": [
    {
     "data": {
      "text/plain": [
       "<Axes: xlabel='meal'>"
      ]
     },
     "execution_count": 94,
     "metadata": {},
     "output_type": "execute_result"
    },
    {
     "data": {
      "image/png": "[encoded data removed]",
      "text/plain": [
       "<Figure size 640x480 with 1 Axes>"
      ]
     },
     "metadata": {},
     "output_type": "display_data"
    }
   ],
   "source": [
    "df['meal'].value_counts().plot(kind='bar')"
   ]
  },
  {
   "cell_type": "code",
   "execution_count": 113,
   "id": "a94157c3",
   "metadata": {},
   "outputs": [
    {
     "data": {
      "text/plain": [
       "meal\n",
       "BB           0.373849\n",
       "FB           0.598997\n",
       "HB           0.344603\n",
       "SC           0.372394\n",
       "Undefined    0.244654\n",
       "Name: count, dtype: float64"
      ]
     },
     "execution_count": 113,
     "metadata": {},
     "output_type": "execute_result"
    }
   ],
   "source": [
    "df_cancled[\"meal\"].value_counts() / df['meal'].value_counts()"
   ]
  },
  {
   "cell_type": "markdown",
   "id": "fe0f92a8",
   "metadata": {},
   "source": [
    "전체 고객에서 BB의 예약이 많았지만 취소율의 경우 FB가 유의미하게 높았다.  \n",
    "=> BB와 HB의 경우 아침과 저녁식사가 높았으므로 점심에 대한 프로모션 강화가 필요"
   ]
  },
  {
   "cell_type": "markdown",
   "id": "65925efe",
   "metadata": {},
   "source": [
    "### (8) 이전 방문 고객(is_repeated_guest), 취소 여부(previous_cancellations, previous_bookings_not_canceled)에 따른 취소율\n",
    "\n"
   ]
  },
  {
   "cell_type": "code",
   "execution_count": 120,
   "id": "139cd395",
   "metadata": {},
   "outputs": [
    {
     "data": {
      "text/plain": [
       "Text(0.5, 1.0, 'Return rate')"
      ]
     },
     "execution_count": 120,
     "metadata": {},
     "output_type": "execute_result"
    },
    {
     "data": {
      "image/png": "[encoded data removed]",
      "text/plain": [
       "<Figure size 640x480 with 1 Axes>"
      ]
     },
     "metadata": {},
     "output_type": "display_data"
    }
   ],
   "source": [
    "df[\"is_repeated_guest\"].value_counts()\n",
    "fig = plt.pie(\n",
    "    df[\"is_repeated_guest\"].value_counts().values,\n",
    "    labels=[\"No ex\", \"repeated\"],\n",
    "    autopct=\"%.1f%%\",\n",
    ")\n",
    "plt.title(\"Return rate\")"
   ]
  },
  {
   "cell_type": "markdown",
   "id": "6bd43cf5",
   "metadata": {},
   "source": [
    "전체 고객중에 3%를 차지하는 재방문 고객은 그렇게까지 중요한 유형은 아니다.   \n",
    "  \n",
    "이제 취소율에 대한 데이터를 살펴보면 "
   ]
  },
  {
   "cell_type": "code",
   "execution_count": 130,
   "id": "919095fd",
   "metadata": {},
   "outputs": [
    {
     "data": {
      "text/plain": [
       "previous_cancellations\n",
       "0     112906\n",
       "1       6051\n",
       "2        116\n",
       "3         65\n",
       "24        48\n",
       "11        35\n",
       "4         31\n",
       "26        26\n",
       "25        25\n",
       "6         22\n",
       "5         19\n",
       "19        19\n",
       "14        14\n",
       "13        12\n",
       "21         1\n",
       "Name: count, dtype: int64"
      ]
     },
     "execution_count": 130,
     "metadata": {},
     "output_type": "execute_result"
    }
   ],
   "source": [
    "df[\"previous_cancellations\"].value_counts()"
   ]
  },
  {
   "cell_type": "code",
   "execution_count": 129,
   "id": "87c66b3c",
   "metadata": {},
   "outputs": [
    {
     "data": {
      "text/plain": [
       "previous_bookings_not_canceled\n",
       "0     115770\n",
       "1       1542\n",
       "2        580\n",
       "3        333\n",
       "4        229\n",
       "       ...  \n",
       "68         1\n",
       "69         1\n",
       "70         1\n",
       "71         1\n",
       "72         1\n",
       "Name: count, Length: 73, dtype: int64"
      ]
     },
     "execution_count": 129,
     "metadata": {},
     "output_type": "execute_result"
    }
   ],
   "source": [
    "df[\"previous_bookings_not_canceled\"].value_counts()"
   ]
  },
  {
   "cell_type": "markdown",
   "id": "1ac7978b",
   "metadata": {},
   "source": [
    "이전에 취소한적이 없는 사람(previous_bookings_not_canceled)에 비해 취소 이력이 있는 사람의 취소가 4배나 높았다. \n",
    "\n",
    "=> 따라서 취소를 한번 했던 고객에 대한 대응이 필요\n",
    " "
   ]
  },
  {
   "cell_type": "markdown",
   "id": "e5cf5945",
   "metadata": {},
   "source": [
    "### Conclusion\n",
    "\n",
    "이 데이터에 대한 EDA 결과 이번 호텔에서 나온 유의미한 데이터를 살펴보면면\n",
    "\n",
    "(1) 호텔 종류에 따른 취소율이 달랐다. 즉, 호텔 종류에 따라 추가적인 분석이 반드시 필요하다.  \n",
    "(2) lead time이 길수록 취소율은 높았다  \n",
    "(3) 취소율에 대한 연도별, 월별, 일별에 대한 접근을 달리해야한다.  \n",
    "(4) 주말, 주중 고객에 대한 대응을 다르게 접근해야 한다.  \n",
    "(5) 어린이가 포함된 가족, 아기가 포함된 가족에 대한 프로모션이 필요  \n",
    "(6) 식사 유형에서 점심에 대한 프로모션 강화  \n",
    "(7) 이전 방문 여부에 대한 취소율 재고 방법  필요  \n",
    "\n",
    "이 외에도 데이터에서 예약 변경, 대기 일수, 노쇼 등등 여러 변수에 대한 분석도 필요하다. 또한 데이터의 상관관계를 분석하는 과정 또한 필요해보인다"
   ]
  }
 ],
 "metadata": {
  "kernelspec": {
   "display_name": "JSH",
   "language": "python",
   "name": "python3"
  },
  "language_info": {
   "codemirror_mode": {
    "name": "ipython",
    "version": 3
   },
   "file_extension": ".py",
   "mimetype": "text/x-python",
   "name": "python",
   "nbconvert_exporter": "python",
   "pygments_lexer": "ipython3",
   "version": "3.12.8"
  }
 },
 "nbformat": 4,
 "nbformat_minor": 5
}
