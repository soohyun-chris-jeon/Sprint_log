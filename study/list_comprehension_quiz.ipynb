{
 "cells": [
  {
   "cell_type": "markdown",
   "id": "ad21d762",
   "metadata": {},
   "source": [
    "# 🟣 Python List Comprehension Quiz\n",
    "수현아, 아래 퀴즈들을 풀면서 List Comprehension을 연습해보자! 각 셀에는 문제 설명과 TODO 항목이 있어. 직접 코드를 채워 넣고 실행해보면 돼. 🚀"
   ]
  },
  {
   "cell_type": "markdown",
   "id": "ac02ffb8",
   "metadata": {},
   "source": [
    "## ✅ Quiz 1\n",
    "0부터 9까지의 숫자를 리스트로 만들어보자."
   ]
  },
  {
   "cell_type": "code",
   "execution_count": null,
   "id": "f00b3c08",
   "metadata": {},
   "outputs": [],
   "source": [
    "# TODO: 아래 코드를 완성해보자\n",
    "nums = [\n",
    "    # 여기에 코드 작성\n",
    "]\n",
    "print(nums)  # 예상 출력: [0, 1, 2, 3, 4, 5, 6, 7, 8, 9]"
   ]
  },
  {
   "cell_type": "markdown",
   "id": "44904c58",
   "metadata": {},
   "source": [
    "## ✅ Quiz 2\n",
    "1부터 10까지의 숫자들의 제곱을 리스트로 만들어보자."
   ]
  },
  {
   "cell_type": "code",
   "execution_count": null,
   "id": "c6786989",
   "metadata": {},
   "outputs": [],
   "source": [
    "# TODO\n",
    "squares = [\n",
    "    # 여기에 코드 작성\n",
    "]\n",
    "print(squares)  # 예상 출력: [1, 4, 9, ..., 100]"
   ]
  },
  {
   "cell_type": "markdown",
   "id": "d2d7fec2",
   "metadata": {},
   "source": [
    "## ✅ Quiz 3\n",
    "짝수만 골라보자 (0~19)"
   ]
  },
  {
   "cell_type": "code",
   "execution_count": null,
   "id": "b5b0410c",
   "metadata": {},
   "outputs": [],
   "source": [
    "# TODO\n",
    "evens = [\n",
    "    # 여기에 코드 작성\n",
    "]\n",
    "print(evens)  # 예상 출력: [0, 2, 4, ..., 18]"
   ]
  },
  {
   "cell_type": "markdown",
   "id": "e8321730",
   "metadata": {},
   "source": [
    "## ✅ Quiz 4\n",
    "문자열 리스트에서 길이가 5 이상인 단어만 추출해보자."
   ]
  },
  {
   "cell_type": "code",
   "execution_count": null,
   "id": "ddd91c08",
   "metadata": {},
   "outputs": [],
   "source": [
    "words = [\"apple\", \"hi\", \"banana\", \"kiwi\", \"orange\"]\n",
    "\n",
    "# TODO\n",
    "long_words = [\n",
    "    # 여기에 코드 작성\n",
    "]\n",
    "print(long_words)  # 예상 출력: ['apple', 'banana', 'orange']"
   ]
  },
  {
   "cell_type": "markdown",
   "id": "f5b1d627",
   "metadata": {},
   "source": [
    "## ✅ Quiz 5\n",
    "2중 for문으로 구구단 2단~4단, 1~3까지 만들어보자."
   ]
  },
  {
   "cell_type": "code",
   "execution_count": null,
   "id": "5a840021",
   "metadata": {},
   "outputs": [],
   "source": [
    "# TODO\n",
    "gugu = [\n",
    "    # 여기에 코드 작성\n",
    "]\n",
    "print(gugu)  # 예상 출력: ['2x1=2', '2x2=4', ..., '4x3=12']"
   ]
  },
  {
   "cell_type": "markdown",
   "id": "db778550",
   "metadata": {},
   "source": [
    "## ✅ Quiz 6\n",
    "문장에서 모음(aeiou)을 제거한 새 문자열을 만들어보자."
   ]
  },
  {
   "cell_type": "code",
   "execution_count": null,
   "id": "1df2931e",
   "metadata": {},
   "outputs": [],
   "source": [
    "text = \"hello world\"\n",
    "\n",
    "# TODO\n",
    "no_vowels = [\n",
    "    # 여기에 코드 작성\n",
    "]\n",
    "print(\"\".join(no_vowels))  # 예상 출력: 'hll wrld'"
   ]
  },
  {
   "cell_type": "markdown",
   "id": "44c5a43c",
   "metadata": {},
   "source": [
    "## ✅ Quiz 7\n",
    "리스트에 있는 숫자 중 짝수는 'even', 홀수는 'odd'로 바꾸자."
   ]
  },
  {
   "cell_type": "code",
   "execution_count": null,
   "id": "867b98d4",
   "metadata": {},
   "outputs": [],
   "source": [
    "nums = [1, 2, 3, 4, 5]\n",
    "\n",
    "# TODO\n",
    "labels = [\n",
    "    # 여기에 코드 작성\n",
    "]\n",
    "print(labels)  # 예상 출력: ['odd', 'even', 'odd', 'even', 'odd']"
   ]
  },
  {
   "cell_type": "markdown",
   "id": "bccc0f1d",
   "metadata": {},
   "source": [
    "## ✅ Quiz 8\n",
    "2차원 리스트를 1차원으로 펼쳐보자 (flatten)."
   ]
  },
  {
   "cell_type": "code",
   "execution_count": null,
   "id": "8dd4988f",
   "metadata": {},
   "outputs": [],
   "source": [
    "mat = [[1, 2], [3, 4], [5, 6]]\n",
    "\n",
    "# TODO\n",
    "flat = [\n",
    "    # 여기에 코드 작성\n",
    "]\n",
    "print(flat)  # 예상 출력: [1, 2, 3, 4, 5, 6]"
   ]
  },
  {
   "cell_type": "markdown",
   "id": "e857bd34",
   "metadata": {},
   "source": [
    "## ✅ Quiz 9\n",
    "두 리스트를 곱해서 새로운 리스트 만들기 (A[i] * B[i])"
   ]
  },
  {
   "cell_type": "code",
   "execution_count": null,
   "id": "73932cfa",
   "metadata": {},
   "outputs": [],
   "source": [
    "a = [1, 2, 3]\n",
    "b = [10, 20, 30]\n",
    "\n",
    "# TODO\n",
    "product = [\n",
    "    # 여기에 코드 작성\n",
    "]\n",
    "print(product)  # 예상 출력: [10, 40, 90]"
   ]
  },
  {
   "cell_type": "markdown",
   "id": "9b5bf9b0",
   "metadata": {},
   "source": [
    "## ✅ Quiz 10\n",
    "1~100 사이의 숫자 중 3과 5의 공배수만 추출해보자."
   ]
  },
  {
   "cell_type": "code",
   "execution_count": null,
   "id": "e8e1c4e9",
   "metadata": {},
   "outputs": [],
   "source": [
    "# TODO\n",
    "multiples = [\n",
    "    # 여기에 코드 작성\n",
    "]\n",
    "print(multiples)  # 예상 출력: [15, 30, 45, 60, 75, 90]"
   ]
  }
 ],
 "metadata": {
  "language_info": {
   "name": "python"
  }
 },
 "nbformat": 4,
 "nbformat_minor": 5
}
